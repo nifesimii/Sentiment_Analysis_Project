{
 "cells": [
  {
   "cell_type": "markdown",
   "metadata": {},
   "source": [
    "# Sentiment Analysis\n",
    "\n",
    "## Using XGBoost in SageMaker\n",
    "\n",
    "_Deep Learning Nanodegree Program | Deployment_\n",
    "\n",
    "---\n",
    "\n",
    "In this example of using Amazon's SageMaker service we will construct a random tree model to predict the sentiment of a movie review. You may have seen a version of this example in a pervious lesson although it would have been done using the sklearn package. Instead, we will be using the XGBoost package as it is provided to us by Amazon.\n",
    "\n",
    "## Instructions\n",
    "\n",
    "Some template code has already been provided for you, and you will need to implement additional functionality to successfully complete this notebook. You will not need to modify the included code beyond what is requested. Sections that begin with '**TODO**' in the header indicate that you need to complete or implement some portion within them. Instructions will be provided for each section and the specifics of the implementation are marked in the code block with a `# TODO: ...` comment. Please be sure to read the instructions carefully!\n",
    "\n",
    "In addition to implementing code, there will be questions for you to answer which relate to the task and your implementation. Each section where you will answer a question is preceded by a '**Question:**' header. Carefully read each question and provide your answer below the '**Answer:**' header by editing the Markdown cell.\n",
    "\n",
    "> **Note**: Code and Markdown cells can be executed using the **Shift+Enter** keyboard shortcut. In addition, a cell can be edited by typically clicking it (double-click for Markdown cells) or by pressing **Enter** while it is highlighted."
   ]
  },
  {
   "cell_type": "code",
   "execution_count": 2,
   "metadata": {},
   "outputs": [
    {
     "name": "stdout",
     "output_type": "stream",
     "text": [
      "Requirement already satisfied: sagemaker==1.72.0 in /home/ec2-user/anaconda3/envs/python3/lib/python3.6/site-packages (1.72.0)\n",
      "Requirement already satisfied: numpy>=1.9.0 in /home/ec2-user/anaconda3/envs/python3/lib/python3.6/site-packages (from sagemaker==1.72.0) (1.19.5)\n",
      "Requirement already satisfied: boto3>=1.14.12 in /home/ec2-user/anaconda3/envs/python3/lib/python3.6/site-packages (from sagemaker==1.72.0) (1.17.33)\n",
      "Requirement already satisfied: protobuf>=3.1 in /home/ec2-user/anaconda3/envs/python3/lib/python3.6/site-packages (from sagemaker==1.72.0) (3.15.2)\n",
      "Requirement already satisfied: scipy>=0.19.0 in /home/ec2-user/anaconda3/envs/python3/lib/python3.6/site-packages (from sagemaker==1.72.0) (1.5.3)\n",
      "Requirement already satisfied: importlib-metadata>=1.4.0 in /home/ec2-user/anaconda3/envs/python3/lib/python3.6/site-packages (from sagemaker==1.72.0) (3.7.0)\n",
      "Requirement already satisfied: packaging>=20.0 in /home/ec2-user/anaconda3/envs/python3/lib/python3.6/site-packages (from sagemaker==1.72.0) (20.9)\n",
      "Requirement already satisfied: protobuf3-to-dict>=0.1.5 in /home/ec2-user/anaconda3/envs/python3/lib/python3.6/site-packages (from sagemaker==1.72.0) (0.1.5)\n",
      "Requirement already satisfied: smdebug-rulesconfig==0.1.4 in /home/ec2-user/anaconda3/envs/python3/lib/python3.6/site-packages (from sagemaker==1.72.0) (0.1.4)\n",
      "Requirement already satisfied: jmespath<1.0.0,>=0.7.1 in /home/ec2-user/anaconda3/envs/python3/lib/python3.6/site-packages (from boto3>=1.14.12->sagemaker==1.72.0) (0.10.0)\n",
      "Requirement already satisfied: s3transfer<0.4.0,>=0.3.0 in /home/ec2-user/anaconda3/envs/python3/lib/python3.6/site-packages (from boto3>=1.14.12->sagemaker==1.72.0) (0.3.4)\n",
      "Requirement already satisfied: botocore<1.21.0,>=1.20.33 in /home/ec2-user/anaconda3/envs/python3/lib/python3.6/site-packages (from boto3>=1.14.12->sagemaker==1.72.0) (1.20.33)\n",
      "Requirement already satisfied: python-dateutil<3.0.0,>=2.1 in /home/ec2-user/anaconda3/envs/python3/lib/python3.6/site-packages (from botocore<1.21.0,>=1.20.33->boto3>=1.14.12->sagemaker==1.72.0) (2.8.1)\n",
      "Requirement already satisfied: urllib3<1.27,>=1.25.4 in /home/ec2-user/anaconda3/envs/python3/lib/python3.6/site-packages (from botocore<1.21.0,>=1.20.33->boto3>=1.14.12->sagemaker==1.72.0) (1.26.3)\n",
      "Requirement already satisfied: zipp>=0.5 in /home/ec2-user/anaconda3/envs/python3/lib/python3.6/site-packages (from importlib-metadata>=1.4.0->sagemaker==1.72.0) (3.4.0)\n",
      "Requirement already satisfied: typing-extensions>=3.6.4 in /home/ec2-user/anaconda3/envs/python3/lib/python3.6/site-packages (from importlib-metadata>=1.4.0->sagemaker==1.72.0) (3.7.4.3)\n",
      "Requirement already satisfied: pyparsing>=2.0.2 in /home/ec2-user/anaconda3/envs/python3/lib/python3.6/site-packages (from packaging>=20.0->sagemaker==1.72.0) (2.4.7)\n",
      "Requirement already satisfied: six>=1.9 in /home/ec2-user/anaconda3/envs/python3/lib/python3.6/site-packages (from protobuf>=3.1->sagemaker==1.72.0) (1.15.0)\n"
     ]
    }
   ],
   "source": [
    "# Make sure that we use SageMaker 1.x\n",
    "!pip install sagemaker==1.72.0"
   ]
  },
  {
   "cell_type": "markdown",
   "metadata": {},
   "source": [
    "## Step 1: Downloading the data\n",
    "\n",
    "The dataset we are going to use is very popular among researchers in Natural Language Processing, usually referred to as the [IMDb dataset](http://ai.stanford.edu/~amaas/data/sentiment/). It consists of movie reviews from the website [imdb.com](http://www.imdb.com/), each labeled as either '**pos**itive', if the reviewer enjoyed the film, or '**neg**ative' otherwise.\n",
    "\n",
    "> Maas, Andrew L., et al. [Learning Word Vectors for Sentiment Analysis](http://ai.stanford.edu/~amaas/data/sentiment/). In _Proceedings of the 49th Annual Meeting of the Association for Computational Linguistics: Human Language Technologies_. Association for Computational Linguistics, 2011.\n",
    "\n",
    "We begin by using some Jupyter Notebook magic to download and extract the dataset."
   ]
  },
  {
   "cell_type": "code",
   "execution_count": 3,
   "metadata": {},
   "outputs": [
    {
     "name": "stdout",
     "output_type": "stream",
     "text": [
      "mkdir: cannot create directory ‘../data’: File exists\n",
      "--2021-03-26 07:13:55--  http://ai.stanford.edu/~amaas/data/sentiment/aclImdb_v1.tar.gz\n",
      "Resolving ai.stanford.edu (ai.stanford.edu)... 171.64.68.10\n",
      "Connecting to ai.stanford.edu (ai.stanford.edu)|171.64.68.10|:80... connected.\n",
      "HTTP request sent, awaiting response... 200 OK\n",
      "Length: 84125825 (80M) [application/x-gzip]\n",
      "Saving to: ‘../data/aclImdb_v1.tar.gz’\n",
      "\n",
      "../data/aclImdb_v1. 100%[===================>]  80.23M  22.8MB/s    in 6.3s    \n",
      "\n",
      "2021-03-26 07:14:01 (12.8 MB/s) - ‘../data/aclImdb_v1.tar.gz’ saved [84125825/84125825]\n",
      "\n"
     ]
    }
   ],
   "source": [
    "%mkdir ../data\n",
    "!wget -O ../data/aclImdb_v1.tar.gz http://ai.stanford.edu/~amaas/data/sentiment/aclImdb_v1.tar.gz\n",
    "!tar -zxf ../data/aclImdb_v1.tar.gz -C ../data"
   ]
  },
  {
   "cell_type": "markdown",
   "metadata": {},
   "source": [
    "## Step 2: Preparing the data\n",
    "\n",
    "The data we have downloaded is split into various files, each of which contains a single review. It will be much easier going forward if we combine these individual files into two large files, one for training and one for testing."
   ]
  },
  {
   "cell_type": "code",
   "execution_count": 4,
   "metadata": {},
   "outputs": [],
   "source": [
    "import os\n",
    "import glob\n",
    "\n",
    "def read_imdb_data(data_dir='../data/aclImdb'):\n",
    "    data = {}\n",
    "    labels = {}\n",
    "    \n",
    "    for data_type in ['train', 'test']:\n",
    "        data[data_type] = {}\n",
    "        labels[data_type] = {}\n",
    "        \n",
    "        for sentiment in ['pos', 'neg']:\n",
    "            data[data_type][sentiment] = []\n",
    "            labels[data_type][sentiment] = []\n",
    "            \n",
    "            path = os.path.join(data_dir, data_type, sentiment, '*.txt')\n",
    "            files = glob.glob(path)\n",
    "            \n",
    "            for f in files:\n",
    "                with open(f) as review:\n",
    "                    data[data_type][sentiment].append(review.read())\n",
    "                    # Here we represent a positive review by '1' and a negative review by '0'\n",
    "                    labels[data_type][sentiment].append(1 if sentiment == 'pos' else 0)\n",
    "                    \n",
    "            assert len(data[data_type][sentiment]) == len(labels[data_type][sentiment]), \\\n",
    "                    \"{}/{} data size does not match labels size\".format(data_type, sentiment)\n",
    "                \n",
    "    return data, labels"
   ]
  },
  {
   "cell_type": "code",
   "execution_count": 5,
   "metadata": {},
   "outputs": [
    {
     "name": "stdout",
     "output_type": "stream",
     "text": [
      "IMDB reviews: train = 12500 pos / 12500 neg, test = 12500 pos / 12500 neg\n"
     ]
    }
   ],
   "source": [
    "data, labels = read_imdb_data()\n",
    "print(\"IMDB reviews: train = {} pos / {} neg, test = {} pos / {} neg\".format(\n",
    "            len(data['train']['pos']), len(data['train']['neg']),\n",
    "            len(data['test']['pos']), len(data['test']['neg'])))"
   ]
  },
  {
   "cell_type": "code",
   "execution_count": 6,
   "metadata": {},
   "outputs": [],
   "source": [
    "from sklearn.utils import shuffle\n",
    "\n",
    "def prepare_imdb_data(data, labels):\n",
    "    \"\"\"Prepare training and test sets from IMDb movie reviews.\"\"\"\n",
    "    \n",
    "    #Combine positive and negative reviews and labels\n",
    "    data_train = data['train']['pos'] + data['train']['neg']\n",
    "    data_test = data['test']['pos'] + data['test']['neg']\n",
    "    labels_train = labels['train']['pos'] + labels['train']['neg']\n",
    "    labels_test = labels['test']['pos'] + labels['test']['neg']\n",
    "    \n",
    "    #Shuffle reviews and corresponding labels within training and test sets\n",
    "    data_train, labels_train = shuffle(data_train, labels_train)\n",
    "    data_test, labels_test = shuffle(data_test, labels_test)\n",
    "    \n",
    "    # Return a unified training data, test data, training labels, test labets\n",
    "    return data_train, data_test, labels_train, labels_test"
   ]
  },
  {
   "cell_type": "code",
   "execution_count": 7,
   "metadata": {},
   "outputs": [
    {
     "name": "stdout",
     "output_type": "stream",
     "text": [
      "IMDb reviews (combined): train = 25000, test = 25000\n"
     ]
    }
   ],
   "source": [
    "train_X, test_X, train_y, test_y = prepare_imdb_data(data, labels)\n",
    "print(\"IMDb reviews (combined): train = {}, test = {}\".format(len(train_X), len(test_X)))"
   ]
  },
  {
   "cell_type": "code",
   "execution_count": 8,
   "metadata": {},
   "outputs": [
    {
     "data": {
      "text/plain": [
       "'Why did I go to see this film? Honestly, because Jim Carrey was in it and in the past he has made hilarious movies that have made me cry with laughter, so do you really blame me for expecting that again? Additionally, the premise, the funny trailer, his co-star Jennifer Aniston\\'s involvement, and the fact it was a massive hit stateside encouraged me.<br /><br />However, as my \"one line Summary\" suggests, I was Disappointed. For various reasons;<br /><br />Reason 1: It wasn\\'t funny. In a 2hour movie, I laughed for about 5-10minutes...all together, the rest of the time I sat thinking \"I really should have got some ice-cream\". I admit that maybe it is wrong to judge Jim Carrey on his previous films, but what does he really expect when he makes Gem\\'s such as \\'The Truman Show\\' , \\'Liar Liar\\' , \\'Me, Myself and Irene\\' , \\'Dumb and Dumber\\' , \\'The Mask\\', and the \\'Ace Ventura\\' films then produces, in Bruce Nolan\\'s own words, such a mediocre film?<br /><br />Reason 2: Jennifer Aniston\\'s role was criminally underwritten. I mean hello! She\\'s been around in the public eye for about ten years now, and in this film she gets about four lines to say. Wrong.<br /><br />Reason 3: One word - Cliché<br /><br />Reason 4: A casual deployment of specifically American References - Jimmy Hoffa, Walter Cronkite \\'sweeps week\\' - is a clue to the film\\'s specifically home-grown appeal. \"A teenager says no to drugs and yes to an Education - that\\'s a miracle! Want to see a miracle soon? Be the miracle!\" God tells Bruce, a heavy handed sentiment that seems to have gone down a treat in the US, but might face tougher resistance in markets that retain an inkling for subtlety. Additionally, I still go to school, and that statement suggests me and all of my friend\\'s are miracles...or maybe it just means we have brains?<br /><br />In this film there are enough funny Carrey moments to make you chuckle and prevent Bruce Almighty from being a total calamity, but you are advised to start revising your expectations downwards.'"
      ]
     },
     "execution_count": 8,
     "metadata": {},
     "output_type": "execute_result"
    }
   ],
   "source": [
    "train_X[100]"
   ]
  },
  {
   "cell_type": "markdown",
   "metadata": {},
   "source": [
    "## Step 3: Processing the data\n",
    "\n",
    "Now that we have our training and testing datasets merged and ready to use, we need to start processing the raw data into something that will be useable by our machine learning algorithm. To begin with, we remove any html formatting that may appear in the reviews and perform some standard natural language processing in order to homogenize the data."
   ]
  },
  {
   "cell_type": "code",
   "execution_count": 9,
   "metadata": {},
   "outputs": [
    {
     "name": "stderr",
     "output_type": "stream",
     "text": [
      "[nltk_data] Downloading package stopwords to\n",
      "[nltk_data]     /home/ec2-user/nltk_data...\n",
      "[nltk_data]   Package stopwords is already up-to-date!\n"
     ]
    }
   ],
   "source": [
    "import nltk\n",
    "nltk.download(\"stopwords\")\n",
    "from nltk.corpus import stopwords\n",
    "from nltk.stem.porter import *\n",
    "stemmer = PorterStemmer()"
   ]
  },
  {
   "cell_type": "code",
   "execution_count": 10,
   "metadata": {},
   "outputs": [],
   "source": [
    "import re\n",
    "from bs4 import BeautifulSoup\n",
    "\n",
    "def review_to_words(review):\n",
    "    text = BeautifulSoup(review, \"html.parser\").get_text() # Remove HTML tags\n",
    "    text = re.sub(r\"[^a-zA-Z0-9]\", \" \", text.lower()) # Convert to lower case\n",
    "    words = text.split() # Split string into words\n",
    "    words = [w for w in words if w not in stopwords.words(\"english\")] # Remove stopwords\n",
    "    words = [PorterStemmer().stem(w) for w in words] # stem\n",
    "    \n",
    "    return words"
   ]
  },
  {
   "cell_type": "code",
   "execution_count": 11,
   "metadata": {},
   "outputs": [],
   "source": [
    "import pickle\n",
    "\n",
    "cache_dir = os.path.join(\"../cache\", \"sentiment_analysis\")  # where to store cache files\n",
    "os.makedirs(cache_dir, exist_ok=True)  # ensure cache directory exists\n",
    "\n",
    "def preprocess_data(data_train, data_test, labels_train, labels_test,\n",
    "                    cache_dir=cache_dir, cache_file=\"preprocessed_data.pkl\"):\n",
    "    \"\"\"Convert each review to words; read from cache if available.\"\"\"\n",
    "\n",
    "    # If cache_file is not None, try to read from it first\n",
    "    cache_data = None\n",
    "    if cache_file is not None:\n",
    "        try:\n",
    "            with open(os.path.join(cache_dir, cache_file), \"rb\") as f:\n",
    "                cache_data = pickle.load(f)\n",
    "            print(\"Read preprocessed data from cache file:\", cache_file)\n",
    "        except:\n",
    "            pass  # unable to read from cache, but that's okay\n",
    "    \n",
    "    # If cache is missing, then do the heavy lifting\n",
    "    if cache_data is None:\n",
    "        # Preprocess training and test data to obtain words for each review\n",
    "        #words_train = list(map(review_to_words, data_train))\n",
    "        #words_test = list(map(review_to_words, data_test))\n",
    "        words_train = [review_to_words(review) for review in data_train]\n",
    "        words_test = [review_to_words(review) for review in data_test]\n",
    "        \n",
    "        # Write to cache file for future runs\n",
    "        if cache_file is not None:\n",
    "            cache_data = dict(words_train=words_train, words_test=words_test,\n",
    "                              labels_train=labels_train, labels_test=labels_test)\n",
    "            with open(os.path.join(cache_dir, cache_file), \"wb\") as f:\n",
    "                pickle.dump(cache_data, f)\n",
    "            print(\"Wrote preprocessed data to cache file:\", cache_file)\n",
    "    else:\n",
    "        # Unpack data loaded from cache file\n",
    "        words_train, words_test, labels_train, labels_test = (cache_data['words_train'],\n",
    "                cache_data['words_test'], cache_data['labels_train'], cache_data['labels_test'])\n",
    "    \n",
    "    return words_train, words_test, labels_train, labels_test"
   ]
  },
  {
   "cell_type": "code",
   "execution_count": 12,
   "metadata": {},
   "outputs": [
    {
     "name": "stdout",
     "output_type": "stream",
     "text": [
      "Read preprocessed data from cache file: preprocessed_data.pkl\n"
     ]
    }
   ],
   "source": [
    "# Preprocess data\n",
    "train_X, test_X, train_y, test_y = preprocess_data(train_X, test_X, train_y, test_y)"
   ]
  },
  {
   "cell_type": "markdown",
   "metadata": {},
   "source": [
    "### Extract Bag-of-Words features\n",
    "\n",
    "For the model we will be implementing, rather than using the reviews directly, we are going to transform each review into a Bag-of-Words feature representation. Keep in mind that 'in the wild' we will only have access to the training set so our transformer can only use the training set to construct a representation."
   ]
  },
  {
   "cell_type": "code",
   "execution_count": 13,
   "metadata": {},
   "outputs": [],
   "source": [
    "import numpy as np\n",
    "from sklearn.feature_extraction.text import CountVectorizer\n",
    "import joblib\n",
    "# joblib is an enhanced version of pickle that is more efficient for storing NumPy arrays\n",
    "\n",
    "def extract_BoW_features(words_train, words_test, vocabulary_size=5000,\n",
    "                         cache_dir=cache_dir, cache_file=\"bow_features.pkl\"):\n",
    "    \"\"\"Extract Bag-of-Words for a given set of documents, already preprocessed into words.\"\"\"\n",
    "    \n",
    "    # If cache_file is not None, try to read from it first\n",
    "    cache_data = None\n",
    "    if cache_file is not None:\n",
    "        try:\n",
    "            with open(os.path.join(cache_dir, cache_file), \"rb\") as f:\n",
    "                cache_data = joblib.load(f)\n",
    "            print(\"Read features from cache file:\", cache_file)\n",
    "        except:\n",
    "            pass  # unable to read from cache, but that's okay\n",
    "    \n",
    "    # If cache is missing, then do the heavy lifting\n",
    "    if cache_data is None:\n",
    "        # Fit a vectorizer to training documents and use it to transform them\n",
    "        # NOTE: Training documents have already been preprocessed and tokenized into words;\n",
    "        #       pass in dummy functions to skip those steps, e.g. preprocessor=lambda x: x\n",
    "        vectorizer = CountVectorizer(max_features=vocabulary_size,\n",
    "                preprocessor=lambda x: x, tokenizer=lambda x: x)  # already preprocessed\n",
    "        features_train = vectorizer.fit_transform(words_train).toarray()\n",
    "\n",
    "        # Apply the same vectorizer to transform the test documents (ignore unknown words)\n",
    "        features_test = vectorizer.transform(words_test).toarray()\n",
    "        \n",
    "        # NOTE: Remember to convert the features using .toarray() for a compact representation\n",
    "        \n",
    "        # Write to cache file for future runs (store vocabulary as well)\n",
    "        if cache_file is not None:\n",
    "            vocabulary = vectorizer.vocabulary_\n",
    "            cache_data = dict(features_train=features_train, features_test=features_test,\n",
    "                             vocabulary=vocabulary)\n",
    "            with open(os.path.join(cache_dir, cache_file), \"wb\") as f:\n",
    "                joblib.dump(cache_data, f)\n",
    "            print(\"Wrote features to cache file:\", cache_file)\n",
    "    else:\n",
    "        # Unpack data loaded from cache file\n",
    "        features_train, features_test, vocabulary = (cache_data['features_train'],\n",
    "                cache_data['features_test'], cache_data['vocabulary'])\n",
    "    \n",
    "    # Return both the extracted features as well as the vocabulary\n",
    "    return features_train, features_test, vocabulary"
   ]
  },
  {
   "cell_type": "code",
   "execution_count": 14,
   "metadata": {},
   "outputs": [
    {
     "name": "stdout",
     "output_type": "stream",
     "text": [
      "Read features from cache file: bow_features.pkl\n"
     ]
    }
   ],
   "source": [
    "# Extract Bag of Words features for both training and test datasets\n",
    "train_X, test_X, vocabulary = extract_BoW_features(train_X, test_X)"
   ]
  },
  {
   "cell_type": "markdown",
   "metadata": {},
   "source": [
    "## Step 4: Classification using XGBoost\n",
    "\n",
    "Now that we have created the feature representation of our training (and testing) data, it is time to start setting up and using the XGBoost classifier provided by SageMaker.\n",
    "\n",
    "### Writing the dataset\n",
    "\n",
    "The XGBoost classifier that we will be using requires the dataset to be written to a file and stored using Amazon S3. To do this, we will start by splitting the training dataset into two parts, the data we will train the model with and a validation set. Then, we will write those datasets to a file and upload the files to S3. In addition, we will write the test set input to a file and upload the file to S3. This is so that we can use SageMakers Batch Transform functionality to test our model once we've fit it."
   ]
  },
  {
   "cell_type": "code",
   "execution_count": 15,
   "metadata": {},
   "outputs": [],
   "source": [
    "import pandas as pd\n",
    "\n",
    "val_X = pd.DataFrame(train_X[:10000])\n",
    "train_X = pd.DataFrame(train_X[10000:])\n",
    "\n",
    "val_y = pd.DataFrame(train_y[:10000])\n",
    "train_y = pd.DataFrame(train_y[10000:])\n",
    "\n",
    "test_y = pd.DataFrame(test_y)\n",
    "test_X = pd.DataFrame(test_X)"
   ]
  },
  {
   "cell_type": "markdown",
   "metadata": {},
   "source": [
    "The documentation for the XGBoost algorithm in SageMaker requires that the saved datasets should contain no headers or index and that for the training and validation data, the label should occur first for each sample.\n",
    "\n",
    "For more information about this and other algorithms, the SageMaker developer documentation can be found on __[Amazon's website.](https://docs.aws.amazon.com/sagemaker/latest/dg/)__"
   ]
  },
  {
   "cell_type": "code",
   "execution_count": 16,
   "metadata": {},
   "outputs": [],
   "source": [
    "# First we make sure that the local directory in which we'd like to store the training and validation csv files exists.\n",
    "data_dir = '../data/xgboost'\n",
    "if not os.path.exists(data_dir):\n",
    "    os.makedirs(data_dir)"
   ]
  },
  {
   "cell_type": "code",
   "execution_count": 17,
   "metadata": {},
   "outputs": [],
   "source": [
    "# First, save the test data to test.csv in the data_dir directory. Note that we do not save the associated ground truth\n",
    "# labels, instead we will use them later to compare with our model output.\n",
    "\n",
    "# pd.concat([test_y, test_X], axis=1).to_csv(os.path.join(data_dir, 'test.csv'), header=False, index=False)\n",
    "pd.DataFrame(test_X).to_csv(os.path.join(data_dir, 'test.csv'), header=False, index=False)\n",
    "pd.concat([val_y, val_X], axis=1).to_csv(os.path.join(data_dir, 'validation.csv'), header=False, index=False)\n",
    "pd.concat([train_y, train_X], axis=1).to_csv(os.path.join(data_dir, 'train.csv'), header=False, index=False)"
   ]
  },
  {
   "cell_type": "code",
   "execution_count": 18,
   "metadata": {},
   "outputs": [],
   "source": [
    "# To save a bit of memory we can set text_X, train_X, val_X, train_y and val_y to None.\n",
    "\n",
    "train_X = val_X = train_y = val_y = None"
   ]
  },
  {
   "cell_type": "markdown",
   "metadata": {},
   "source": [
    "### Uploading Training / Validation files to S3\n",
    "\n",
    "Amazon's S3 service allows us to store files that can be access by both the built-in training models such as the XGBoost model we will be using as well as custom models such as the one we will see a little later.\n",
    "\n",
    "For this, and most other tasks we will be doing using SageMaker, there are two methods we could use. The first is to use the low level functionality of SageMaker which requires knowing each of the objects involved in the SageMaker environment. The second is to use the high level functionality in which certain choices have been made on the user's behalf. The low level approach benefits from allowing the user a great deal of flexibility while the high level approach makes development much quicker. For our purposes we will opt to use the high level approach although using the low-level approach is certainly an option.\n",
    "\n",
    "Recall the method `upload_data()` which is a member of object representing our current SageMaker session. What this method does is upload the data to the default bucket (which is created if it does not exist) into the path described by the key_prefix variable. To see this for yourself, once you have uploaded the data files, go to the S3 console and look to see where the files have been uploaded.\n",
    "\n",
    "For additional resources, see the __[SageMaker API documentation](http://sagemaker.readthedocs.io/en/latest/)__ and in addition the __[SageMaker Developer Guide.](https://docs.aws.amazon.com/sagemaker/latest/dg/)__"
   ]
  },
  {
   "cell_type": "code",
   "execution_count": 19,
   "metadata": {},
   "outputs": [],
   "source": [
    "import sagemaker\n",
    "\n",
    "session = sagemaker.Session() # Store the current SageMaker session\n",
    "\n",
    "# S3 prefix (which folder will we use)\n",
    "prefix = 'sentiment-xgboost'\n",
    "\n",
    "test_location = session.upload_data(os.path.join(data_dir, 'test.csv'), key_prefix=prefix)\n",
    "val_location = session.upload_data(os.path.join(data_dir, 'validation.csv'), key_prefix=prefix)\n",
    "train_location = session.upload_data(os.path.join(data_dir, 'train.csv'), key_prefix=prefix)"
   ]
  },
  {
   "cell_type": "markdown",
   "metadata": {},
   "source": [
    "### (TODO) Creating a hypertuned XGBoost model\n",
    "\n",
    "Now that the data has been uploaded it is time to create the XGBoost model. As in the Boston Housing notebook, the first step is to create an estimator object which will be used as the *base* of your hyperparameter tuning job."
   ]
  },
  {
   "cell_type": "code",
   "execution_count": 20,
   "metadata": {},
   "outputs": [],
   "source": [
    "from sagemaker import get_execution_role\n",
    "\n",
    "# Our current execution role is require when creating the model as the training\n",
    "# and inference code will need to access the model artifacts.\n",
    "role = get_execution_role()"
   ]
  },
  {
   "cell_type": "code",
   "execution_count": 21,
   "metadata": {},
   "outputs": [
    {
     "name": "stderr",
     "output_type": "stream",
     "text": [
      "'get_image_uri' method will be deprecated in favor of 'ImageURIProvider' class in SageMaker Python SDK v2.\n",
      "There is a more up to date SageMaker XGBoost image. To use the newer image, please set 'repo_version'='1.0-1'. For example:\n",
      "\tget_image_uri(region, 'xgboost', '1.0-1').\n"
     ]
    }
   ],
   "source": [
    "# We need to retrieve the location of the container which is provided by Amazon for using XGBoost.\n",
    "# As a matter of convenience, the training and inference code both use the same container.\n",
    "from sagemaker.amazon.amazon_estimator import get_image_uri\n",
    "\n",
    "container = get_image_uri(session.boto_region_name, 'xgboost')"
   ]
  },
  {
   "cell_type": "code",
   "execution_count": 22,
   "metadata": {},
   "outputs": [
    {
     "name": "stderr",
     "output_type": "stream",
     "text": [
      "Parameter image_name will be renamed to image_uri in SageMaker Python SDK v2.\n"
     ]
    }
   ],
   "source": [
    "\n",
    "# TODO: Create a SageMaker estimator using the container location determined in the previous cell.\n",
    "#       It is recommended that you use a single training instance of type ml.m4.xlarge. It is also\n",
    "#       recommended that you use 's3://{}/{}/output'.format(session.default_bucket(), prefix) as the\n",
    "#       output path.\n",
    "\n",
    "xgb = sagemaker.estimator.Estimator(container, # The name of the training container\n",
    "                                   role, # The IAM role to use(our current role in this case)\n",
    "                                   train_instance_count = 1, # The number of instances to use for training \n",
    "                                    train_instance_type = 'ml.m4.xlarge', #The type of instances to be used for training \n",
    "                                    output_path = 's3://{}/{}/output'.format(session.default_bucket(), prefix), \n",
    "                                    # Where to save the output(the model artifacts)\n",
    "                                    sagemaker_session = session) # The current SageMaker session\n",
    "\n",
    "# TODO: Set the XGBoost hyperparameters in the xgb object. Don't forget that in this case we have a binary\n",
    "#       label so we should be using the 'binary:logistic' objective.\n",
    "\n",
    "xgb.set_hyperparameters(max_depth = 5,\n",
    "                       eta =0.2,\n",
    "                       gamma = 4,\n",
    "                       min_child_weight = 6,\n",
    "                       subsample = 0.8,\n",
    "                       objective = 'binary:logistic',\n",
    "                       early_stopping_rounds = 10,\n",
    "                       num_round = 200)"
   ]
  },
  {
   "cell_type": "markdown",
   "metadata": {},
   "source": [
    "### (TODO) Create the hyperparameter tuner\n",
    "\n",
    "Now that the base estimator has been set up we need to construct a hyperparameter tuner object which we will use to request SageMaker construct a hyperparameter tuning job.\n",
    "\n",
    "**Note:** Training a single sentiment analysis XGBoost model takes longer than training a Boston Housing XGBoost model so if you don't want the hyperparameter tuning job to take too long, make sure to not set the total number of models (jobs) too high."
   ]
  },
  {
   "cell_type": "code",
   "execution_count": 23,
   "metadata": {},
   "outputs": [],
   "source": [
    "# First, make sure to import the relevant objects used to construct the tuner\n",
    "from sagemaker.tuner import IntegerParameter, ContinuousParameter, HyperparameterTuner\n",
    "\n",
    "# TODO: Create the hyperparameter tuner object\n",
    "\n",
    "xgb_hyperparameter_tuner = HyperparameterTuner(estimator = xgb, # The estimator object to use as the basis for the training jobs.\n",
    "                                               objective_metric_name = 'validation:rmse', # The metric used to compare trained models.\n",
    "                                               objective_type = 'Minimize', # Whether we wish to minimize or maximize the metric.\n",
    "                                               max_jobs = 6, # The total number of models to train\n",
    "                                               max_parallel_jobs = 3, # The number of models to train in parallel\n",
    "                                               hyperparameter_ranges = {\n",
    "                                                    'max_depth': IntegerParameter(3, 12),\n",
    "                                                    'eta'      : ContinuousParameter(0.05, 0.5),\n",
    "                                                    'min_child_weight': IntegerParameter(2, 8),\n",
    "                                                    'subsample': ContinuousParameter(0.5, 0.9),\n",
    "                                                    'gamma': ContinuousParameter(0, 10),\n",
    "                                               })"
   ]
  },
  {
   "cell_type": "markdown",
   "metadata": {},
   "source": [
    "### Fit the hyperparameter tuner\n",
    "\n",
    "Now that the hyperparameter tuner object has been constructed, it is time to fit the various models and find the best performing model."
   ]
  },
  {
   "cell_type": "code",
   "execution_count": 24,
   "metadata": {},
   "outputs": [
    {
     "name": "stderr",
     "output_type": "stream",
     "text": [
      "'s3_input' class will be renamed to 'TrainingInput' in SageMaker Python SDK v2.\n",
      "'s3_input' class will be renamed to 'TrainingInput' in SageMaker Python SDK v2.\n"
     ]
    }
   ],
   "source": [
    "s3_input_train = sagemaker.s3_input(s3_data=train_location, content_type='csv')\n",
    "s3_input_validation = sagemaker.s3_input(s3_data=val_location, content_type='csv')"
   ]
  },
  {
   "cell_type": "code",
   "execution_count": 25,
   "metadata": {},
   "outputs": [],
   "source": [
    "xgb_hyperparameter_tuner.fit({'train': s3_input_train, 'validation': s3_input_validation})"
   ]
  },
  {
   "cell_type": "markdown",
   "metadata": {},
   "source": [
    "Remember that the tuning job is constructed and run in the background so if we want to see the progress of our training job we need to call the `wait()` method."
   ]
  },
  {
   "cell_type": "code",
   "execution_count": null,
   "metadata": {},
   "outputs": [
    {
     "name": "stdout",
     "output_type": "stream",
     "text": [
      ".......................................................................................................................................................................................................!\n"
     ]
    }
   ],
   "source": [
    "xgb_hyperparameter_tuner.wait()"
   ]
  },
  {
   "cell_type": "markdown",
   "metadata": {},
   "source": [
    "### (TODO) Testing the model\n",
    "\n",
    "Now that we've run our hyperparameter tuning job, it's time to see how well the best performing model actually performs. To do this we will use SageMaker's Batch Transform functionality. Batch Transform is a convenient way to perform inference on a large dataset in a way that is not realtime. That is, we don't necessarily need to use our model's results immediately and instead we can peform inference on a large number of samples. An example of this in industry might be peforming an end of month report. This method of inference can also be useful to us as it means to can perform inference on our entire test set. \n",
    "\n",
    "Remember that in order to create a transformer object to perform the batch transform job, we need a trained estimator object. We can do that using the `attach()` method, creating an estimator object which is attached to the best trained job."
   ]
  },
  {
   "cell_type": "code",
   "execution_count": null,
   "metadata": {},
   "outputs": [
    {
     "name": "stderr",
     "output_type": "stream",
     "text": [
      "Parameter image_name will be renamed to image_uri in SageMaker Python SDK v2.\n"
     ]
    },
    {
     "name": "stdout",
     "output_type": "stream",
     "text": [
      "2021-03-26 07:26:04 Starting - Preparing the instances for training\n",
      "2021-03-26 07:26:04 Downloading - Downloading input data\n",
      "2021-03-26 07:26:04 Training - Training image download completed. Training in progress.\n",
      "2021-03-26 07:26:04 Uploading - Uploading generated training model\n",
      "2021-03-26 07:26:04 Completed - Training job completed\u001b[34mArguments: train\u001b[0m\n",
      "\u001b[34m[2021-03-26:07:18:49:INFO] Running standalone xgboost training.\u001b[0m\n",
      "\u001b[34m[2021-03-26:07:18:49:INFO] Setting up HPO optimized metric to be : rmse\u001b[0m\n",
      "\u001b[34m[2021-03-26:07:18:49:INFO] File size need to be processed in the node: 238.47mb. Available memory size in the node: 8426.02mb\u001b[0m\n",
      "\u001b[34m[2021-03-26:07:18:49:INFO] Determined delimiter of CSV input is ','\u001b[0m\n",
      "\u001b[34m[07:18:49] S3DistributionType set as FullyReplicated\u001b[0m\n",
      "\u001b[34m[07:18:51] 15000x5000 matrix with 75000000 entries loaded from /opt/ml/input/data/train?format=csv&label_column=0&delimiter=,\u001b[0m\n",
      "\u001b[34m[2021-03-26:07:18:51:INFO] Determined delimiter of CSV input is ','\u001b[0m\n",
      "\u001b[34m[07:18:51] S3DistributionType set as FullyReplicated\u001b[0m\n",
      "\u001b[34m[07:18:52] 10000x5000 matrix with 50000000 entries loaded from /opt/ml/input/data/validation?format=csv&label_column=0&delimiter=,\u001b[0m\n",
      "\u001b[34m[07:18:58] src/tree/updater_prune.cc:74: tree pruning end, 1 roots, 140 extra nodes, 66 pruned nodes, max_depth=9\u001b[0m\n",
      "\u001b[34m[0]#011train-rmse:0.452335#011validation-rmse:0.459549\u001b[0m\n",
      "\u001b[34mMultiple eval metrics have been passed: 'validation-rmse' will be used for early stopping.\n",
      "\u001b[0m\n",
      "\u001b[34mWill train until validation-rmse hasn't improved in 10 rounds.\u001b[0m\n",
      "\u001b[34m[07:19:01] src/tree/updater_prune.cc:74: tree pruning end, 1 roots, 140 extra nodes, 78 pruned nodes, max_depth=9\u001b[0m\n",
      "\u001b[34m[1]#011train-rmse:0.425853#011validation-rmse:0.43864\u001b[0m\n",
      "\u001b[34m[07:19:04] src/tree/updater_prune.cc:74: tree pruning end, 1 roots, 70 extra nodes, 48 pruned nodes, max_depth=9\u001b[0m\n",
      "\u001b[34m[2]#011train-rmse:0.410087#011validation-rmse:0.425325\u001b[0m\n",
      "\u001b[34m[07:19:08] src/tree/updater_prune.cc:74: tree pruning end, 1 roots, 76 extra nodes, 56 pruned nodes, max_depth=9\u001b[0m\n",
      "\u001b[34m[3]#011train-rmse:0.396033#011validation-rmse:0.413665\u001b[0m\n",
      "\u001b[34m[07:19:11] src/tree/updater_prune.cc:74: tree pruning end, 1 roots, 108 extra nodes, 84 pruned nodes, max_depth=9\u001b[0m\n",
      "\u001b[34m[4]#011train-rmse:0.384341#011validation-rmse:0.406132\u001b[0m\n",
      "\u001b[34m[07:19:14] src/tree/updater_prune.cc:74: tree pruning end, 1 roots, 72 extra nodes, 48 pruned nodes, max_depth=9\u001b[0m\n",
      "\u001b[34m[5]#011train-rmse:0.375001#011validation-rmse:0.398901\u001b[0m\n",
      "\u001b[34m[07:19:17] src/tree/updater_prune.cc:74: tree pruning end, 1 roots, 84 extra nodes, 68 pruned nodes, max_depth=9\u001b[0m\n",
      "\u001b[34m[6]#011train-rmse:0.366244#011validation-rmse:0.393997\u001b[0m\n",
      "\u001b[34m[07:19:20] src/tree/updater_prune.cc:74: tree pruning end, 1 roots, 82 extra nodes, 64 pruned nodes, max_depth=9\u001b[0m\n",
      "\u001b[34m[7]#011train-rmse:0.357852#011validation-rmse:0.390162\u001b[0m\n",
      "\u001b[34m[07:19:22] src/tree/updater_prune.cc:74: tree pruning end, 1 roots, 58 extra nodes, 72 pruned nodes, max_depth=9\u001b[0m\n",
      "\u001b[34m[8]#011train-rmse:0.351935#011validation-rmse:0.386554\u001b[0m\n",
      "\u001b[34m[07:19:25] src/tree/updater_prune.cc:74: tree pruning end, 1 roots, 56 extra nodes, 62 pruned nodes, max_depth=9\u001b[0m\n",
      "\u001b[34m[9]#011train-rmse:0.345886#011validation-rmse:0.38152\u001b[0m\n",
      "\u001b[34m[07:19:28] src/tree/updater_prune.cc:74: tree pruning end, 1 roots, 40 extra nodes, 54 pruned nodes, max_depth=9\u001b[0m\n",
      "\u001b[34m[10]#011train-rmse:0.341244#011validation-rmse:0.378201\u001b[0m\n",
      "\u001b[34m[07:19:31] src/tree/updater_prune.cc:74: tree pruning end, 1 roots, 46 extra nodes, 68 pruned nodes, max_depth=9\u001b[0m\n",
      "\u001b[34m[11]#011train-rmse:0.336614#011validation-rmse:0.375508\u001b[0m\n",
      "\u001b[34m[07:19:34] src/tree/updater_prune.cc:74: tree pruning end, 1 roots, 38 extra nodes, 68 pruned nodes, max_depth=9\u001b[0m\n",
      "\u001b[34m[12]#011train-rmse:0.332323#011validation-rmse:0.372336\u001b[0m\n",
      "\u001b[34m[07:19:37] src/tree/updater_prune.cc:74: tree pruning end, 1 roots, 62 extra nodes, 76 pruned nodes, max_depth=9\u001b[0m\n",
      "\u001b[34m[13]#011train-rmse:0.327592#011validation-rmse:0.369965\u001b[0m\n",
      "\u001b[34m[07:19:39] src/tree/updater_prune.cc:74: tree pruning end, 1 roots, 44 extra nodes, 54 pruned nodes, max_depth=9\u001b[0m\n",
      "\u001b[34m[14]#011train-rmse:0.323997#011validation-rmse:0.3676\u001b[0m\n",
      "\u001b[34m[07:19:42] src/tree/updater_prune.cc:74: tree pruning end, 1 roots, 44 extra nodes, 68 pruned nodes, max_depth=9\u001b[0m\n",
      "\u001b[34m[15]#011train-rmse:0.320426#011validation-rmse:0.365255\u001b[0m\n",
      "\u001b[34m[07:19:45] src/tree/updater_prune.cc:74: tree pruning end, 1 roots, 60 extra nodes, 86 pruned nodes, max_depth=9\u001b[0m\n",
      "\u001b[34m[16]#011train-rmse:0.316716#011validation-rmse:0.363073\u001b[0m\n",
      "\u001b[34m[07:19:48] src/tree/updater_prune.cc:74: tree pruning end, 1 roots, 34 extra nodes, 52 pruned nodes, max_depth=9\u001b[0m\n",
      "\u001b[34m[17]#011train-rmse:0.314392#011validation-rmse:0.361508\u001b[0m\n",
      "\u001b[34m[07:19:51] src/tree/updater_prune.cc:74: tree pruning end, 1 roots, 42 extra nodes, 24 pruned nodes, max_depth=9\u001b[0m\n",
      "\u001b[34m[18]#011train-rmse:0.311297#011validation-rmse:0.360529\u001b[0m\n",
      "\u001b[34m[07:19:54] src/tree/updater_prune.cc:74: tree pruning end, 1 roots, 32 extra nodes, 36 pruned nodes, max_depth=9\u001b[0m\n",
      "\u001b[34m[19]#011train-rmse:0.309003#011validation-rmse:0.35964\u001b[0m\n",
      "\u001b[34m[07:19:57] src/tree/updater_prune.cc:74: tree pruning end, 1 roots, 50 extra nodes, 76 pruned nodes, max_depth=9\u001b[0m\n",
      "\u001b[34m[20]#011train-rmse:0.305517#011validation-rmse:0.35845\u001b[0m\n",
      "\u001b[34m[07:20:00] src/tree/updater_prune.cc:74: tree pruning end, 1 roots, 26 extra nodes, 66 pruned nodes, max_depth=9\u001b[0m\n",
      "\u001b[34m[21]#011train-rmse:0.303304#011validation-rmse:0.357323\u001b[0m\n",
      "\u001b[34m[07:20:03] src/tree/updater_prune.cc:74: tree pruning end, 1 roots, 32 extra nodes, 50 pruned nodes, max_depth=9\u001b[0m\n",
      "\u001b[34m[22]#011train-rmse:0.300681#011validation-rmse:0.356076\u001b[0m\n",
      "\u001b[34m[07:20:06] src/tree/updater_prune.cc:74: tree pruning end, 1 roots, 38 extra nodes, 54 pruned nodes, max_depth=9\u001b[0m\n",
      "\u001b[34m[23]#011train-rmse:0.298207#011validation-rmse:0.354717\u001b[0m\n",
      "\u001b[34m[07:20:09] src/tree/updater_prune.cc:74: tree pruning end, 1 roots, 20 extra nodes, 40 pruned nodes, max_depth=9\u001b[0m\n",
      "\u001b[34m[24]#011train-rmse:0.296484#011validation-rmse:0.353726\u001b[0m\n",
      "\u001b[34m[07:20:12] src/tree/updater_prune.cc:74: tree pruning end, 1 roots, 24 extra nodes, 52 pruned nodes, max_depth=9\u001b[0m\n",
      "\u001b[34m[25]#011train-rmse:0.294543#011validation-rmse:0.351931\u001b[0m\n",
      "\u001b[34m[07:20:15] src/tree/updater_prune.cc:74: tree pruning end, 1 roots, 34 extra nodes, 58 pruned nodes, max_depth=9\u001b[0m\n",
      "\u001b[34m[26]#011train-rmse:0.292664#011validation-rmse:0.351518\u001b[0m\n",
      "\u001b[34m[07:20:18] src/tree/updater_prune.cc:74: tree pruning end, 1 roots, 28 extra nodes, 60 pruned nodes, max_depth=9\u001b[0m\n",
      "\u001b[34m[27]#011train-rmse:0.290824#011validation-rmse:0.35074\u001b[0m\n",
      "\u001b[34m[07:20:20] src/tree/updater_prune.cc:74: tree pruning end, 1 roots, 28 extra nodes, 52 pruned nodes, max_depth=9\u001b[0m\n",
      "\u001b[34m[28]#011train-rmse:0.289356#011validation-rmse:0.349979\u001b[0m\n",
      "\u001b[34m[07:20:23] src/tree/updater_prune.cc:74: tree pruning end, 1 roots, 28 extra nodes, 46 pruned nodes, max_depth=9\u001b[0m\n",
      "\u001b[34m[29]#011train-rmse:0.287787#011validation-rmse:0.349334\u001b[0m\n",
      "\u001b[34m[07:20:26] src/tree/updater_prune.cc:74: tree pruning end, 1 roots, 32 extra nodes, 46 pruned nodes, max_depth=9\u001b[0m\n",
      "\u001b[34m[30]#011train-rmse:0.285983#011validation-rmse:0.348737\u001b[0m\n",
      "\u001b[34m[07:20:29] src/tree/updater_prune.cc:74: tree pruning end, 1 roots, 36 extra nodes, 68 pruned nodes, max_depth=9\u001b[0m\n",
      "\u001b[34m[31]#011train-rmse:0.284237#011validation-rmse:0.347708\u001b[0m\n",
      "\u001b[34m[07:20:32] src/tree/updater_prune.cc:74: tree pruning end, 1 roots, 22 extra nodes, 60 pruned nodes, max_depth=9\u001b[0m\n",
      "\u001b[34m[32]#011train-rmse:0.283179#011validation-rmse:0.346619\u001b[0m\n",
      "\u001b[34m[07:20:35] src/tree/updater_prune.cc:74: tree pruning end, 1 roots, 22 extra nodes, 54 pruned nodes, max_depth=9\u001b[0m\n",
      "\u001b[34m[33]#011train-rmse:0.281701#011validation-rmse:0.345274\u001b[0m\n",
      "\u001b[34m[07:20:38] src/tree/updater_prune.cc:74: tree pruning end, 1 roots, 22 extra nodes, 40 pruned nodes, max_depth=9\u001b[0m\n",
      "\u001b[34m[34]#011train-rmse:0.280294#011validation-rmse:0.344088\u001b[0m\n",
      "\u001b[34m[07:20:40] src/tree/updater_prune.cc:74: tree pruning end, 1 roots, 26 extra nodes, 68 pruned nodes, max_depth=9\u001b[0m\n",
      "\u001b[34m[35]#011train-rmse:0.279038#011validation-rmse:0.343857\u001b[0m\n",
      "\u001b[34m[07:20:43] src/tree/updater_prune.cc:74: tree pruning end, 1 roots, 36 extra nodes, 90 pruned nodes, max_depth=9\u001b[0m\n",
      "\u001b[34m[36]#011train-rmse:0.277293#011validation-rmse:0.34288\u001b[0m\n",
      "\u001b[34m[07:20:46] src/tree/updater_prune.cc:74: tree pruning end, 1 roots, 26 extra nodes, 36 pruned nodes, max_depth=9\u001b[0m\n",
      "\u001b[34m[37]#011train-rmse:0.275901#011validation-rmse:0.342048\u001b[0m\n",
      "\u001b[34m[07:20:49] src/tree/updater_prune.cc:74: tree pruning end, 1 roots, 26 extra nodes, 56 pruned nodes, max_depth=9\u001b[0m\n",
      "\u001b[34m[38]#011train-rmse:0.274497#011validation-rmse:0.340954\u001b[0m\n",
      "\u001b[34m[07:20:52] src/tree/updater_prune.cc:74: tree pruning end, 1 roots, 32 extra nodes, 68 pruned nodes, max_depth=9\u001b[0m\n",
      "\u001b[34m[39]#011train-rmse:0.273092#011validation-rmse:0.340516\u001b[0m\n",
      "\u001b[34m[07:20:55] src/tree/updater_prune.cc:74: tree pruning end, 1 roots, 40 extra nodes, 58 pruned nodes, max_depth=9\u001b[0m\n",
      "\u001b[34m[40]#011train-rmse:0.271245#011validation-rmse:0.339844\u001b[0m\n",
      "\u001b[34m[07:20:58] src/tree/updater_prune.cc:74: tree pruning end, 1 roots, 40 extra nodes, 74 pruned nodes, max_depth=9\u001b[0m\n",
      "\u001b[34m[41]#011train-rmse:0.269585#011validation-rmse:0.339451\u001b[0m\n",
      "\u001b[34m[07:21:01] src/tree/updater_prune.cc:74: tree pruning end, 1 roots, 32 extra nodes, 72 pruned nodes, max_depth=9\u001b[0m\n",
      "\u001b[34m[42]#011train-rmse:0.267926#011validation-rmse:0.339031\u001b[0m\n",
      "\u001b[34m[07:21:04] src/tree/updater_prune.cc:74: tree pruning end, 1 roots, 22 extra nodes, 48 pruned nodes, max_depth=9\u001b[0m\n",
      "\u001b[34m[43]#011train-rmse:0.266889#011validation-rmse:0.338387\u001b[0m\n",
      "\u001b[34m[07:21:07] src/tree/updater_prune.cc:74: tree pruning end, 1 roots, 24 extra nodes, 48 pruned nodes, max_depth=9\u001b[0m\n",
      "\u001b[34m[44]#011train-rmse:0.265597#011validation-rmse:0.338129\u001b[0m\n",
      "\u001b[34m[07:21:10] src/tree/updater_prune.cc:74: tree pruning end, 1 roots, 32 extra nodes, 62 pruned nodes, max_depth=9\u001b[0m\n",
      "\u001b[34m[45]#011train-rmse:0.264293#011validation-rmse:0.337824\u001b[0m\n",
      "\u001b[34m[07:21:13] src/tree/updater_prune.cc:74: tree pruning end, 1 roots, 22 extra nodes, 54 pruned nodes, max_depth=9\u001b[0m\n",
      "\u001b[34m[46]#011train-rmse:0.263174#011validation-rmse:0.337297\u001b[0m\n",
      "\u001b[34m[07:21:16] src/tree/updater_prune.cc:74: tree pruning end, 1 roots, 36 extra nodes, 78 pruned nodes, max_depth=9\u001b[0m\n",
      "\u001b[34m[47]#011train-rmse:0.261723#011validation-rmse:0.33652\u001b[0m\n",
      "\u001b[34m[07:21:19] src/tree/updater_prune.cc:74: tree pruning end, 1 roots, 26 extra nodes, 28 pruned nodes, max_depth=9\u001b[0m\n",
      "\u001b[34m[48]#011train-rmse:0.260505#011validation-rmse:0.335914\u001b[0m\n",
      "\u001b[34m[07:21:21] src/tree/updater_prune.cc:74: tree pruning end, 1 roots, 18 extra nodes, 34 pruned nodes, max_depth=9\u001b[0m\n",
      "\u001b[34m[49]#011train-rmse:0.259657#011validation-rmse:0.335621\u001b[0m\n",
      "\u001b[34m[07:21:24] src/tree/updater_prune.cc:74: tree pruning end, 1 roots, 18 extra nodes, 26 pruned nodes, max_depth=9\u001b[0m\n",
      "\u001b[34m[50]#011train-rmse:0.258877#011validation-rmse:0.33508\u001b[0m\n",
      "\u001b[34m[07:21:27] src/tree/updater_prune.cc:74: tree pruning end, 1 roots, 22 extra nodes, 36 pruned nodes, max_depth=9\u001b[0m\n",
      "\u001b[34m[51]#011train-rmse:0.257752#011validation-rmse:0.334636\u001b[0m\n",
      "\u001b[34m[07:21:30] src/tree/updater_prune.cc:74: tree pruning end, 1 roots, 20 extra nodes, 54 pruned nodes, max_depth=9\u001b[0m\n",
      "\u001b[34m[52]#011train-rmse:0.256669#011validation-rmse:0.334199\u001b[0m\n",
      "\u001b[34m[07:21:33] src/tree/updater_prune.cc:74: tree pruning end, 1 roots, 32 extra nodes, 44 pruned nodes, max_depth=9\u001b[0m\n",
      "\u001b[34m[53]#011train-rmse:0.255619#011validation-rmse:0.333918\u001b[0m\n",
      "\u001b[34m[07:21:36] src/tree/updater_prune.cc:74: tree pruning end, 1 roots, 22 extra nodes, 52 pruned nodes, max_depth=9\u001b[0m\n",
      "\u001b[34m[54]#011train-rmse:0.254709#011validation-rmse:0.333379\u001b[0m\n",
      "\u001b[34m[07:21:39] src/tree/updater_prune.cc:74: tree pruning end, 1 roots, 24 extra nodes, 64 pruned nodes, max_depth=9\u001b[0m\n",
      "\u001b[34m[55]#011train-rmse:0.253915#011validation-rmse:0.332938\u001b[0m\n",
      "\u001b[34m[07:21:41] src/tree/updater_prune.cc:74: tree pruning end, 1 roots, 20 extra nodes, 56 pruned nodes, max_depth=9\u001b[0m\n",
      "\u001b[34m[56]#011train-rmse:0.252901#011validation-rmse:0.332166\u001b[0m\n",
      "\u001b[34m[07:21:44] src/tree/updater_prune.cc:74: tree pruning end, 1 roots, 26 extra nodes, 52 pruned nodes, max_depth=9\u001b[0m\n",
      "\u001b[34m[57]#011train-rmse:0.251884#011validation-rmse:0.332184\u001b[0m\n",
      "\u001b[34m[07:21:47] src/tree/updater_prune.cc:74: tree pruning end, 1 roots, 24 extra nodes, 26 pruned nodes, max_depth=9\u001b[0m\n",
      "\u001b[34m[58]#011train-rmse:0.250935#011validation-rmse:0.331516\u001b[0m\n",
      "\u001b[34m[07:21:50] src/tree/updater_prune.cc:74: tree pruning end, 1 roots, 20 extra nodes, 62 pruned nodes, max_depth=9\u001b[0m\n",
      "\u001b[34m[59]#011train-rmse:0.249949#011validation-rmse:0.331162\u001b[0m\n",
      "\u001b[34m[07:21:53] src/tree/updater_prune.cc:74: tree pruning end, 1 roots, 26 extra nodes, 46 pruned nodes, max_depth=9\u001b[0m\n",
      "\u001b[34m[60]#011train-rmse:0.248866#011validation-rmse:0.331414\u001b[0m\n",
      "\u001b[34m[07:21:56] src/tree/updater_prune.cc:74: tree pruning end, 1 roots, 18 extra nodes, 18 pruned nodes, max_depth=9\u001b[0m\n",
      "\u001b[34m[61]#011train-rmse:0.248018#011validation-rmse:0.331362\u001b[0m\n",
      "\u001b[34m[07:21:59] src/tree/updater_prune.cc:74: tree pruning end, 1 roots, 18 extra nodes, 50 pruned nodes, max_depth=9\u001b[0m\n",
      "\u001b[34m[62]#011train-rmse:0.247301#011validation-rmse:0.330623\u001b[0m\n",
      "\u001b[34m[07:22:02] src/tree/updater_prune.cc:74: tree pruning end, 1 roots, 26 extra nodes, 72 pruned nodes, max_depth=9\u001b[0m\n",
      "\u001b[34m[63]#011train-rmse:0.246242#011validation-rmse:0.329996\u001b[0m\n",
      "\u001b[34m[07:22:05] src/tree/updater_prune.cc:74: tree pruning end, 1 roots, 26 extra nodes, 38 pruned nodes, max_depth=9\u001b[0m\n",
      "\u001b[34m[64]#011train-rmse:0.245371#011validation-rmse:0.33004\u001b[0m\n",
      "\u001b[34m[07:22:08] src/tree/updater_prune.cc:74: tree pruning end, 1 roots, 18 extra nodes, 28 pruned nodes, max_depth=9\u001b[0m\n",
      "\u001b[34m[65]#011train-rmse:0.24467#011validation-rmse:0.32991\u001b[0m\n",
      "\u001b[34m[07:22:11] src/tree/updater_prune.cc:74: tree pruning end, 1 roots, 30 extra nodes, 46 pruned nodes, max_depth=9\u001b[0m\n",
      "\u001b[34m[66]#011train-rmse:0.243489#011validation-rmse:0.33038\u001b[0m\n",
      "\u001b[34m[07:22:14] src/tree/updater_prune.cc:74: tree pruning end, 1 roots, 18 extra nodes, 56 pruned nodes, max_depth=9\u001b[0m\n",
      "\u001b[34m[67]#011train-rmse:0.242987#011validation-rmse:0.330186\u001b[0m\n",
      "\u001b[34m[07:22:17] src/tree/updater_prune.cc:74: tree pruning end, 1 roots, 18 extra nodes, 42 pruned nodes, max_depth=9\u001b[0m\n",
      "\u001b[34m[68]#011train-rmse:0.242418#011validation-rmse:0.329806\u001b[0m\n",
      "\u001b[34m[07:22:20] src/tree/updater_prune.cc:74: tree pruning end, 1 roots, 18 extra nodes, 22 pruned nodes, max_depth=9\u001b[0m\n",
      "\u001b[34m[69]#011train-rmse:0.241928#011validation-rmse:0.329474\u001b[0m\n",
      "\u001b[34m[07:22:22] src/tree/updater_prune.cc:74: tree pruning end, 1 roots, 20 extra nodes, 14 pruned nodes, max_depth=9\u001b[0m\n",
      "\u001b[34m[70]#011train-rmse:0.241265#011validation-rmse:0.329342\u001b[0m\n",
      "\u001b[34m[07:22:25] src/tree/updater_prune.cc:74: tree pruning end, 1 roots, 18 extra nodes, 40 pruned nodes, max_depth=9\u001b[0m\n",
      "\u001b[34m[71]#011train-rmse:0.240659#011validation-rmse:0.328889\u001b[0m\n",
      "\u001b[34m[07:22:28] src/tree/updater_prune.cc:74: tree pruning end, 1 roots, 16 extra nodes, 24 pruned nodes, max_depth=7\u001b[0m\n",
      "\u001b[34m[72]#011train-rmse:0.240163#011validation-rmse:0.328907\u001b[0m\n",
      "\u001b[34m[07:22:31] src/tree/updater_prune.cc:74: tree pruning end, 1 roots, 20 extra nodes, 16 pruned nodes, max_depth=9\u001b[0m\n",
      "\u001b[34m[73]#011train-rmse:0.239439#011validation-rmse:0.328759\u001b[0m\n",
      "\u001b[34m[07:22:34] src/tree/updater_prune.cc:74: tree pruning end, 1 roots, 18 extra nodes, 52 pruned nodes, max_depth=9\u001b[0m\n",
      "\u001b[34m[74]#011train-rmse:0.239063#011validation-rmse:0.328501\u001b[0m\n",
      "\u001b[34m[07:22:37] src/tree/updater_prune.cc:74: tree pruning end, 1 roots, 14 extra nodes, 58 pruned nodes, max_depth=7\u001b[0m\n",
      "\u001b[34m[75]#011train-rmse:0.23859#011validation-rmse:0.328218\u001b[0m\n",
      "\u001b[34m[07:22:40] src/tree/updater_prune.cc:74: tree pruning end, 1 roots, 22 extra nodes, 48 pruned nodes, max_depth=9\u001b[0m\n",
      "\u001b[34m[76]#011train-rmse:0.238094#011validation-rmse:0.328104\u001b[0m\n",
      "\u001b[34m[07:22:42] src/tree/updater_prune.cc:74: tree pruning end, 1 roots, 22 extra nodes, 68 pruned nodes, max_depth=9\u001b[0m\n",
      "\u001b[34m[77]#011train-rmse:0.23718#011validation-rmse:0.328074\u001b[0m\n",
      "\u001b[34m[07:22:45] src/tree/updater_prune.cc:74: tree pruning end, 1 roots, 20 extra nodes, 64 pruned nodes, max_depth=9\u001b[0m\n",
      "\u001b[34m[78]#011train-rmse:0.236356#011validation-rmse:0.327726\u001b[0m\n",
      "\u001b[34m[07:22:48] src/tree/updater_prune.cc:74: tree pruning end, 1 roots, 12 extra nodes, 76 pruned nodes, max_depth=5\u001b[0m\n",
      "\u001b[34m[79]#011train-rmse:0.235881#011validation-rmse:0.327544\u001b[0m\n",
      "\u001b[34m[07:22:51] src/tree/updater_prune.cc:74: tree pruning end, 1 roots, 24 extra nodes, 28 pruned nodes, max_depth=9\u001b[0m\n",
      "\u001b[34m[80]#011train-rmse:0.235179#011validation-rmse:0.327491\u001b[0m\n",
      "\u001b[34m[07:22:54] src/tree/updater_prune.cc:74: tree pruning end, 1 roots, 22 extra nodes, 38 pruned nodes, max_depth=9\u001b[0m\n",
      "\u001b[34m[81]#011train-rmse:0.234669#011validation-rmse:0.327532\u001b[0m\n",
      "\u001b[34m[07:22:57] src/tree/updater_prune.cc:74: tree pruning end, 1 roots, 18 extra nodes, 24 pruned nodes, max_depth=9\u001b[0m\n",
      "\u001b[34m[82]#011train-rmse:0.234046#011validation-rmse:0.327625\u001b[0m\n",
      "\u001b[34m[07:23:00] src/tree/updater_prune.cc:74: tree pruning end, 1 roots, 16 extra nodes, 44 pruned nodes, max_depth=8\u001b[0m\n",
      "\u001b[34m[83]#011train-rmse:0.233632#011validation-rmse:0.327568\u001b[0m\n",
      "\u001b[34m[07:23:03] src/tree/updater_prune.cc:74: tree pruning end, 1 roots, 12 extra nodes, 62 pruned nodes, max_depth=6\u001b[0m\n",
      "\u001b[34m[84]#011train-rmse:0.233255#011validation-rmse:0.327295\u001b[0m\n",
      "\u001b[34m[07:23:06] src/tree/updater_prune.cc:74: tree pruning end, 1 roots, 24 extra nodes, 24 pruned nodes, max_depth=9\u001b[0m\n",
      "\u001b[34m[85]#011train-rmse:0.232455#011validation-rmse:0.327087\u001b[0m\n",
      "\u001b[34m[07:23:09] src/tree/updater_prune.cc:74: tree pruning end, 1 roots, 10 extra nodes, 74 pruned nodes, max_depth=5\u001b[0m\n",
      "\u001b[34m[86]#011train-rmse:0.23209#011validation-rmse:0.327056\u001b[0m\n",
      "\u001b[34m[07:23:12] src/tree/updater_prune.cc:74: tree pruning end, 1 roots, 22 extra nodes, 44 pruned nodes, max_depth=9\u001b[0m\n",
      "\u001b[34m[87]#011train-rmse:0.231486#011validation-rmse:0.326711\u001b[0m\n",
      "\u001b[34m[07:23:15] src/tree/updater_prune.cc:74: tree pruning end, 1 roots, 20 extra nodes, 30 pruned nodes, max_depth=9\u001b[0m\n",
      "\u001b[34m[88]#011train-rmse:0.230916#011validation-rmse:0.326419\u001b[0m\n",
      "\u001b[34m[07:23:17] src/tree/updater_prune.cc:74: tree pruning end, 1 roots, 18 extra nodes, 12 pruned nodes, max_depth=9\u001b[0m\n",
      "\u001b[34m[89]#011train-rmse:0.230254#011validation-rmse:0.326513\u001b[0m\n",
      "\u001b[34m[07:23:20] src/tree/updater_prune.cc:74: tree pruning end, 1 roots, 14 extra nodes, 24 pruned nodes, max_depth=7\u001b[0m\n",
      "\u001b[34m[90]#011train-rmse:0.229788#011validation-rmse:0.326018\u001b[0m\n",
      "\u001b[34m[07:23:23] src/tree/updater_prune.cc:74: tree pruning end, 1 roots, 8 extra nodes, 62 pruned nodes, max_depth=4\u001b[0m\n",
      "\u001b[34m[91]#011train-rmse:0.229572#011validation-rmse:0.325912\u001b[0m\n",
      "\u001b[34m[07:23:26] src/tree/updater_prune.cc:74: tree pruning end, 1 roots, 16 extra nodes, 58 pruned nodes, max_depth=8\u001b[0m\n",
      "\u001b[34m[92]#011train-rmse:0.22905#011validation-rmse:0.326019\u001b[0m\n",
      "\u001b[34m[07:23:29] src/tree/updater_prune.cc:74: tree pruning end, 1 roots, 22 extra nodes, 62 pruned nodes, max_depth=9\u001b[0m\n",
      "\u001b[34m[93]#011train-rmse:0.228474#011validation-rmse:0.325842\u001b[0m\n",
      "\u001b[34m[07:23:32] src/tree/updater_prune.cc:74: tree pruning end, 1 roots, 8 extra nodes, 42 pruned nodes, max_depth=4\u001b[0m\n",
      "\u001b[34m[94]#011train-rmse:0.228217#011validation-rmse:0.32578\u001b[0m\n",
      "\u001b[34m[07:23:34] src/tree/updater_prune.cc:74: tree pruning end, 1 roots, 20 extra nodes, 18 pruned nodes, max_depth=9\u001b[0m\n",
      "\u001b[34m[95]#011train-rmse:0.227625#011validation-rmse:0.325754\u001b[0m\n",
      "\u001b[34m[07:23:37] src/tree/updater_prune.cc:74: tree pruning end, 1 roots, 28 extra nodes, 36 pruned nodes, max_depth=9\u001b[0m\n",
      "\u001b[34m[96]#011train-rmse:0.226221#011validation-rmse:0.325634\u001b[0m\n",
      "\u001b[34m[07:23:40] src/tree/updater_prune.cc:74: tree pruning end, 1 roots, 10 extra nodes, 36 pruned nodes, max_depth=5\u001b[0m\n",
      "\u001b[34m[97]#011train-rmse:0.225925#011validation-rmse:0.325425\u001b[0m\n",
      "\u001b[34m[07:23:43] src/tree/updater_prune.cc:74: tree pruning end, 1 roots, 16 extra nodes, 56 pruned nodes, max_depth=7\u001b[0m\n",
      "\u001b[34m[98]#011train-rmse:0.225307#011validation-rmse:0.325413\u001b[0m\n",
      "\u001b[34m[07:23:46] src/tree/updater_prune.cc:74: tree pruning end, 1 roots, 4 extra nodes, 48 pruned nodes, max_depth=2\u001b[0m\n",
      "\u001b[34m[99]#011train-rmse:0.225113#011validation-rmse:0.325315\u001b[0m\n",
      "\u001b[34m[07:23:49] src/tree/updater_prune.cc:74: tree pruning end, 1 roots, 22 extra nodes, 66 pruned nodes, max_depth=8\u001b[0m\n",
      "\u001b[34m[100]#011train-rmse:0.224443#011validation-rmse:0.32555\u001b[0m\n",
      "\u001b[34m[07:23:52] src/tree/updater_prune.cc:74: tree pruning end, 1 roots, 16 extra nodes, 58 pruned nodes, max_depth=8\u001b[0m\n",
      "\u001b[34m[101]#011train-rmse:0.224084#011validation-rmse:0.32556\u001b[0m\n",
      "\u001b[34m[07:23:54] src/tree/updater_prune.cc:74: tree pruning end, 1 roots, 18 extra nodes, 32 pruned nodes, max_depth=8\u001b[0m\n",
      "\u001b[34m[102]#011train-rmse:0.223567#011validation-rmse:0.325701\u001b[0m\n",
      "\u001b[34m[07:23:57] src/tree/updater_prune.cc:74: tree pruning end, 1 roots, 12 extra nodes, 58 pruned nodes, max_depth=6\u001b[0m\n",
      "\u001b[34m[103]#011train-rmse:0.223176#011validation-rmse:0.325576\u001b[0m\n",
      "\u001b[34m[07:24:00] src/tree/updater_prune.cc:74: tree pruning end, 1 roots, 22 extra nodes, 50 pruned nodes, max_depth=9\u001b[0m\n",
      "\u001b[34m[104]#011train-rmse:0.222365#011validation-rmse:0.325621\u001b[0m\n",
      "\u001b[34m[07:24:03] src/tree/updater_prune.cc:74: tree pruning end, 1 roots, 24 extra nodes, 64 pruned nodes, max_depth=9\u001b[0m\n",
      "\u001b[34m[105]#011train-rmse:0.221647#011validation-rmse:0.325646\u001b[0m\n",
      "\u001b[34m[07:24:07] src/tree/updater_prune.cc:74: tree pruning end, 1 roots, 18 extra nodes, 8 pruned nodes, max_depth=9\u001b[0m\n",
      "\u001b[34m[106]#011train-rmse:0.221114#011validation-rmse:0.325615\u001b[0m\n",
      "\u001b[34m[07:24:09] src/tree/updater_prune.cc:74: tree pruning end, 1 roots, 4 extra nodes, 86 pruned nodes, max_depth=2\u001b[0m\n",
      "\u001b[34m[107]#011train-rmse:0.220983#011validation-rmse:0.325403\u001b[0m\n",
      "\u001b[34m[07:24:12] src/tree/updater_prune.cc:74: tree pruning end, 1 roots, 16 extra nodes, 38 pruned nodes, max_depth=8\u001b[0m\n",
      "\u001b[34m[108]#011train-rmse:0.220473#011validation-rmse:0.325188\u001b[0m\n",
      "\u001b[34m[07:24:15] src/tree/updater_prune.cc:74: tree pruning end, 1 roots, 12 extra nodes, 42 pruned nodes, max_depth=6\u001b[0m\n",
      "\u001b[34m[109]#011train-rmse:0.22008#011validation-rmse:0.325057\u001b[0m\n"
     ]
    },
    {
     "name": "stdout",
     "output_type": "stream",
     "text": [
      "\u001b[34m[07:24:18] src/tree/updater_prune.cc:74: tree pruning end, 1 roots, 14 extra nodes, 42 pruned nodes, max_depth=6\u001b[0m\n",
      "\u001b[34m[110]#011train-rmse:0.219764#011validation-rmse:0.32489\u001b[0m\n",
      "\u001b[34m[07:24:21] src/tree/updater_prune.cc:74: tree pruning end, 1 roots, 6 extra nodes, 46 pruned nodes, max_depth=3\u001b[0m\n",
      "\u001b[34m[111]#011train-rmse:0.219551#011validation-rmse:0.324794\u001b[0m\n",
      "\u001b[34m[07:24:24] src/tree/updater_prune.cc:74: tree pruning end, 1 roots, 18 extra nodes, 68 pruned nodes, max_depth=8\u001b[0m\n",
      "\u001b[34m[112]#011train-rmse:0.218958#011validation-rmse:0.324506\u001b[0m\n",
      "\u001b[34m[07:24:27] src/tree/updater_prune.cc:74: tree pruning end, 1 roots, 4 extra nodes, 40 pruned nodes, max_depth=2\u001b[0m\n",
      "\u001b[34m[113]#011train-rmse:0.218861#011validation-rmse:0.324495\u001b[0m\n",
      "\u001b[34m[07:24:30] src/tree/updater_prune.cc:74: tree pruning end, 1 roots, 0 extra nodes, 40 pruned nodes, max_depth=0\u001b[0m\n",
      "\u001b[34m[114]#011train-rmse:0.218863#011validation-rmse:0.324502\u001b[0m\n",
      "\u001b[34m[07:24:32] src/tree/updater_prune.cc:74: tree pruning end, 1 roots, 16 extra nodes, 32 pruned nodes, max_depth=8\u001b[0m\n",
      "\u001b[34m[115]#011train-rmse:0.218493#011validation-rmse:0.32413\u001b[0m\n",
      "\u001b[34m[07:24:35] src/tree/updater_prune.cc:74: tree pruning end, 1 roots, 0 extra nodes, 42 pruned nodes, max_depth=0\u001b[0m\n",
      "\u001b[34m[116]#011train-rmse:0.218479#011validation-rmse:0.324101\u001b[0m\n",
      "\u001b[34m[07:24:38] src/tree/updater_prune.cc:74: tree pruning end, 1 roots, 10 extra nodes, 50 pruned nodes, max_depth=5\u001b[0m\n",
      "\u001b[34m[117]#011train-rmse:0.218216#011validation-rmse:0.324011\u001b[0m\n",
      "\u001b[34m[07:24:41] src/tree/updater_prune.cc:74: tree pruning end, 1 roots, 6 extra nodes, 62 pruned nodes, max_depth=3\u001b[0m\n",
      "\u001b[34m[118]#011train-rmse:0.21805#011validation-rmse:0.323921\u001b[0m\n",
      "\u001b[34m[07:24:44] src/tree/updater_prune.cc:74: tree pruning end, 1 roots, 16 extra nodes, 76 pruned nodes, max_depth=8\u001b[0m\n",
      "\u001b[34m[119]#011train-rmse:0.21754#011validation-rmse:0.324101\u001b[0m\n",
      "\u001b[34m[07:24:47] src/tree/updater_prune.cc:74: tree pruning end, 1 roots, 2 extra nodes, 56 pruned nodes, max_depth=1\u001b[0m\n",
      "\u001b[34m[120]#011train-rmse:0.217486#011validation-rmse:0.324217\u001b[0m\n",
      "\u001b[34m[07:24:49] src/tree/updater_prune.cc:74: tree pruning end, 1 roots, 14 extra nodes, 34 pruned nodes, max_depth=7\u001b[0m\n",
      "\u001b[34m[121]#011train-rmse:0.21718#011validation-rmse:0.324167\u001b[0m\n",
      "\u001b[34m[07:24:52] src/tree/updater_prune.cc:74: tree pruning end, 1 roots, 4 extra nodes, 34 pruned nodes, max_depth=2\u001b[0m\n",
      "\u001b[34m[122]#011train-rmse:0.217086#011validation-rmse:0.324148\u001b[0m\n",
      "\u001b[34m[07:24:55] src/tree/updater_prune.cc:74: tree pruning end, 1 roots, 0 extra nodes, 52 pruned nodes, max_depth=0\u001b[0m\n",
      "\u001b[34m[123]#011train-rmse:0.217056#011validation-rmse:0.324098\u001b[0m\n",
      "\u001b[34m[07:24:58] src/tree/updater_prune.cc:74: tree pruning end, 1 roots, 10 extra nodes, 54 pruned nodes, max_depth=5\u001b[0m\n",
      "\u001b[34m[124]#011train-rmse:0.216919#011validation-rmse:0.323992\u001b[0m\n",
      "\u001b[34m[07:25:01] src/tree/updater_prune.cc:74: tree pruning end, 1 roots, 20 extra nodes, 82 pruned nodes, max_depth=7\u001b[0m\n",
      "\u001b[34m[125]#011train-rmse:0.216347#011validation-rmse:0.324063\u001b[0m\n",
      "\u001b[34m[07:25:04] src/tree/updater_prune.cc:74: tree pruning end, 1 roots, 16 extra nodes, 60 pruned nodes, max_depth=8\u001b[0m\n",
      "\u001b[34m[126]#011train-rmse:0.215872#011validation-rmse:0.32391\u001b[0m\n",
      "\u001b[34m[07:25:08] src/tree/updater_prune.cc:74: tree pruning end, 1 roots, 0 extra nodes, 48 pruned nodes, max_depth=0\u001b[0m\n",
      "\u001b[34m[127]#011train-rmse:0.215861#011validation-rmse:0.323892\u001b[0m\n",
      "\u001b[34m[07:25:10] src/tree/updater_prune.cc:74: tree pruning end, 1 roots, 14 extra nodes, 74 pruned nodes, max_depth=6\u001b[0m\n",
      "\u001b[34m[128]#011train-rmse:0.215375#011validation-rmse:0.323754\u001b[0m\n",
      "\u001b[34m[07:25:13] src/tree/updater_prune.cc:74: tree pruning end, 1 roots, 14 extra nodes, 68 pruned nodes, max_depth=6\u001b[0m\n",
      "\u001b[34m[129]#011train-rmse:0.215069#011validation-rmse:0.32333\u001b[0m\n",
      "\u001b[34m[07:25:16] src/tree/updater_prune.cc:74: tree pruning end, 1 roots, 0 extra nodes, 66 pruned nodes, max_depth=0\u001b[0m\n",
      "\u001b[34m[130]#011train-rmse:0.215046#011validation-rmse:0.323276\u001b[0m\n",
      "\u001b[34m[07:25:19] src/tree/updater_prune.cc:74: tree pruning end, 1 roots, 16 extra nodes, 18 pruned nodes, max_depth=8\u001b[0m\n",
      "\u001b[34m[131]#011train-rmse:0.214644#011validation-rmse:0.323198\u001b[0m\n",
      "\u001b[34m[07:25:22] src/tree/updater_prune.cc:74: tree pruning end, 1 roots, 0 extra nodes, 44 pruned nodes, max_depth=0\u001b[0m\n",
      "\u001b[34m[132]#011train-rmse:0.214643#011validation-rmse:0.323196\u001b[0m\n",
      "\u001b[34m[07:25:25] src/tree/updater_prune.cc:74: tree pruning end, 1 roots, 8 extra nodes, 52 pruned nodes, max_depth=4\u001b[0m\n",
      "\u001b[34m[133]#011train-rmse:0.214537#011validation-rmse:0.323105\u001b[0m\n",
      "\u001b[34m[07:25:28] src/tree/updater_prune.cc:74: tree pruning end, 1 roots, 0 extra nodes, 42 pruned nodes, max_depth=0\u001b[0m\n",
      "\u001b[34m[134]#011train-rmse:0.214565#011validation-rmse:0.323164\u001b[0m\n",
      "\u001b[34m[07:25:30] src/tree/updater_prune.cc:74: tree pruning end, 1 roots, 16 extra nodes, 34 pruned nodes, max_depth=8\u001b[0m\n",
      "\u001b[34m[135]#011train-rmse:0.214155#011validation-rmse:0.323255\u001b[0m\n",
      "\u001b[34m[07:25:33] src/tree/updater_prune.cc:74: tree pruning end, 1 roots, 16 extra nodes, 18 pruned nodes, max_depth=8\u001b[0m\n",
      "\u001b[34m[136]#011train-rmse:0.213826#011validation-rmse:0.323204\u001b[0m\n",
      "\u001b[34m[07:25:36] src/tree/updater_prune.cc:74: tree pruning end, 1 roots, 0 extra nodes, 100 pruned nodes, max_depth=0\u001b[0m\n",
      "\u001b[34m[137]#011train-rmse:0.213837#011validation-rmse:0.32323\u001b[0m\n",
      "\u001b[34m[07:25:39] src/tree/updater_prune.cc:74: tree pruning end, 1 roots, 0 extra nodes, 28 pruned nodes, max_depth=0\u001b[0m\n",
      "\u001b[34m[138]#011train-rmse:0.213845#011validation-rmse:0.323246\u001b[0m\n",
      "\u001b[34m[07:25:42] src/tree/updater_prune.cc:74: tree pruning end, 1 roots, 0 extra nodes, 50 pruned nodes, max_depth=0\u001b[0m\n",
      "\u001b[34m[139]#011train-rmse:0.213832#011validation-rmse:0.32322\u001b[0m\n",
      "\u001b[34m[07:25:45] src/tree/updater_prune.cc:74: tree pruning end, 1 roots, 14 extra nodes, 38 pruned nodes, max_depth=7\u001b[0m\n",
      "\u001b[34m[140]#011train-rmse:0.213542#011validation-rmse:0.323292\u001b[0m\n",
      "\u001b[34m[07:25:48] src/tree/updater_prune.cc:74: tree pruning end, 1 roots, 18 extra nodes, 40 pruned nodes, max_depth=9\u001b[0m\n",
      "\u001b[34m[141]#011train-rmse:0.212756#011validation-rmse:0.32331\u001b[0m\n",
      "\u001b[34m[07:25:50] src/tree/updater_prune.cc:74: tree pruning end, 1 roots, 18 extra nodes, 62 pruned nodes, max_depth=9\u001b[0m\n",
      "\u001b[34m[142]#011train-rmse:0.212245#011validation-rmse:0.323708\u001b[0m\n",
      "\u001b[34m[07:25:53] src/tree/updater_prune.cc:74: tree pruning end, 1 roots, 4 extra nodes, 38 pruned nodes, max_depth=2\u001b[0m\n",
      "\u001b[34m[143]#011train-rmse:0.212135#011validation-rmse:0.323734\u001b[0m\n",
      "\u001b[34mStopping. Best iteration:\u001b[0m\n",
      "\u001b[34m[133]#011train-rmse:0.214537#011validation-rmse:0.323105\n",
      "\u001b[0m\n",
      "Training seconds: 500\n",
      "Billable seconds: 500\n"
     ]
    }
   ],
   "source": [
    "# TODO: Create a new estimator object attached to the best training job found during hyperparameter tuning\n",
    "xgb_attached = sagemaker.estimator.Estimator.attach(xgb_hyperparameter_tuner.best_training_job())\n",
    "\n"
   ]
  },
  {
   "cell_type": "markdown",
   "metadata": {},
   "source": [
    "Now that we have an estimator object attached to the correct training job, we can proceed as we normally would and create a transformer object."
   ]
  },
  {
   "cell_type": "code",
   "execution_count": null,
   "metadata": {},
   "outputs": [
    {
     "name": "stderr",
     "output_type": "stream",
     "text": [
      "Parameter image will be renamed to image_uri in SageMaker Python SDK v2.\n"
     ]
    }
   ],
   "source": [
    "# TODO: Create a transformer object from the attached estimator. Using an instance count of 1 and an instance type of ml.m4.xlarge\n",
    "#       should be more than enough.\n",
    "\n",
    "xgb_transformer = xgb_attached.transformer(instance_count = 1, instance_type = 'ml.m4.xlarge')\n"
   ]
  },
  {
   "cell_type": "markdown",
   "metadata": {},
   "source": [
    "Next we actually perform the transform job. When doing so we need to make sure to specify the type of data we are sending so that it is serialized correctly in the background. In our case we are providing our model with csv data so we specify `text/csv`. Also, if the test data that we have provided is too large to process all at once then we need to specify how the data file should be split up. Since each line is a single entry in our data set we tell SageMaker that it can split the input on each line."
   ]
  },
  {
   "cell_type": "code",
   "execution_count": null,
   "metadata": {},
   "outputs": [],
   "source": [
    "# TODO: Start the transform job. Make sure to specify the content type and the split type of the test data.\n",
    "xgb_transformer.transform(test_location, content_type='text/csv', split_type='Line')\n"
   ]
  },
  {
   "cell_type": "markdown",
   "metadata": {},
   "source": [
    "Currently the transform job is running but it is doing so in the background. Since we wish to wait until the transform job is done and we would like a bit of feedback we can run the `wait()` method."
   ]
  },
  {
   "cell_type": "code",
   "execution_count": null,
   "metadata": {},
   "outputs": [
    {
     "name": "stdout",
     "output_type": "stream",
     "text": [
      "..............................\u001b[34mArguments: serve\u001b[0m\n",
      "\u001b[34m[2021-03-26 07:39:51 +0000] [1] [INFO] Starting gunicorn 19.9.0\u001b[0m\n",
      "\u001b[34m[2021-03-26 07:39:51 +0000] [1] [INFO] Listening at: http://0.0.0.0:8080 (1)\u001b[0m\n",
      "\u001b[34m[2021-03-26 07:39:51 +0000] [1] [INFO] Using worker: gevent\u001b[0m\n",
      "\u001b[34m[2021-03-26 07:39:51 +0000] [20] [INFO] Booting worker with pid: 20\u001b[0m\n",
      "\u001b[34m/opt/amazon/lib/python3.7/site-packages/gunicorn/workers/ggevent.py:65: MonkeyPatchWarning: Monkey-patching ssl after ssl has already been imported may lead to errors, including RecursionError on Python 3.6. It may also silently lead to incorrect behaviour on Python 3.7. Please monkey-patch earlier. See https://github.com/gevent/gevent/issues/1016. Modules that had direct imports (NOT patched): ['requests.packages.urllib3.util.ssl_ (/opt/amazon/lib/python3.7/site-packages/requests/packages/urllib3/util/ssl_.py)', 'requests.packages.urllib3.util (/opt/amazon/lib/python3.7/site-packages/requests/packages/urllib3/util/__init__.py)']. \n",
      "  monkey.patch_all(subprocess=True)\u001b[0m\n",
      "\u001b[34m[2021-03-26 07:39:51 +0000] [21] [INFO] Booting worker with pid: 21\u001b[0m\n",
      "\u001b[34m[2021-03-26:07:39:51:INFO] Model loaded successfully for worker : 20\u001b[0m\n",
      "\u001b[34m/opt/amazon/lib/python3.7/site-packages/gunicorn/workers/ggevent.py:65: MonkeyPatchWarning: Monkey-patching ssl after ssl has already been imported may lead to errors, including RecursionError on Python 3.6. It may also silently lead to incorrect behaviour on Python 3.7. Please monkey-patch earlier. See https://github.com/gevent/gevent/issues/1016. Modules that had direct imports (NOT patched): ['requests.packages.urllib3.util.ssl_ (/opt/amazon/lib/python3.7/site-packages/requests/packages/urllib3/util/ssl_.py)', 'requests.packages.urllib3.util (/opt/amazon/lib/python3.7/site-packages/requests/packages/urllib3/util/__init__.py)']. \n",
      "  monkey.patch_all(subprocess=True)\u001b[0m\n",
      "\u001b[35mArguments: serve\u001b[0m\n",
      "\u001b[35m[2021-03-26 07:39:51 +0000] [1] [INFO] Starting gunicorn 19.9.0\u001b[0m\n",
      "\u001b[35m[2021-03-26 07:39:51 +0000] [1] [INFO] Listening at: http://0.0.0.0:8080 (1)\u001b[0m\n",
      "\u001b[35m[2021-03-26 07:39:51 +0000] [1] [INFO] Using worker: gevent\u001b[0m\n",
      "\u001b[35m[2021-03-26 07:39:51 +0000] [20] [INFO] Booting worker with pid: 20\u001b[0m\n",
      "\u001b[35m/opt/amazon/lib/python3.7/site-packages/gunicorn/workers/ggevent.py:65: MonkeyPatchWarning: Monkey-patching ssl after ssl has already been imported may lead to errors, including RecursionError on Python 3.6. It may also silently lead to incorrect behaviour on Python 3.7. Please monkey-patch earlier. See https://github.com/gevent/gevent/issues/1016. Modules that had direct imports (NOT patched): ['requests.packages.urllib3.util.ssl_ (/opt/amazon/lib/python3.7/site-packages/requests/packages/urllib3/util/ssl_.py)', 'requests.packages.urllib3.util (/opt/amazon/lib/python3.7/site-packages/requests/packages/urllib3/util/__init__.py)']. \n",
      "  monkey.patch_all(subprocess=True)\u001b[0m\n",
      "\u001b[35m[2021-03-26 07:39:51 +0000] [21] [INFO] Booting worker with pid: 21\u001b[0m\n",
      "\u001b[35m[2021-03-26:07:39:51:INFO] Model loaded successfully for worker : 20\u001b[0m\n",
      "\u001b[35m/opt/amazon/lib/python3.7/site-packages/gunicorn/workers/ggevent.py:65: MonkeyPatchWarning: Monkey-patching ssl after ssl has already been imported may lead to errors, including RecursionError on Python 3.6. It may also silently lead to incorrect behaviour on Python 3.7. Please monkey-patch earlier. See https://github.com/gevent/gevent/issues/1016. Modules that had direct imports (NOT patched): ['requests.packages.urllib3.util.ssl_ (/opt/amazon/lib/python3.7/site-packages/requests/packages/urllib3/util/ssl_.py)', 'requests.packages.urllib3.util (/opt/amazon/lib/python3.7/site-packages/requests/packages/urllib3/util/__init__.py)']. \n",
      "  monkey.patch_all(subprocess=True)\u001b[0m\n",
      "\u001b[34m[2021-03-26:07:39:51:INFO] Model loaded successfully for worker : 21\u001b[0m\n",
      "\u001b[34m[2021-03-26 07:39:51 +0000] [22] [INFO] Booting worker with pid: 22\u001b[0m\n",
      "\u001b[34m[2021-03-26 07:39:52 +0000] [23] [INFO] Booting worker with pid: 23\u001b[0m\n",
      "\u001b[34m/opt/amazon/lib/python3.7/site-packages/gunicorn/workers/ggevent.py:65: MonkeyPatchWarning: Monkey-patching ssl after ssl has already been imported may lead to errors, including RecursionError on Python 3.6. It may also silently lead to incorrect behaviour on Python 3.7. Please monkey-patch earlier. See https://github.com/gevent/gevent/issues/1016. Modules that had direct imports (NOT patched): ['requests.packages.urllib3.util.ssl_ (/opt/amazon/lib/python3.7/site-packages/requests/packages/urllib3/util/ssl_.py)', 'requests.packages.urllib3.util (/opt/amazon/lib/python3.7/site-packages/requests/packages/urllib3/util/__init__.py)']. \n",
      "  monkey.patch_all(subprocess=True)\u001b[0m\n",
      "\u001b[34m[2021-03-26:07:39:52:INFO] Model loaded successfully for worker : 22\u001b[0m\n",
      "\u001b[34m/opt/amazon/lib/python3.7/site-packages/gunicorn/workers/ggevent.py:65: MonkeyPatchWarning: Monkey-patching ssl after ssl has already been imported may lead to errors, including RecursionError on Python 3.6. It may also silently lead to incorrect behaviour on Python 3.7. Please monkey-patch earlier. See https://github.com/gevent/gevent/issues/1016. Modules that had direct imports (NOT patched): ['requests.packages.urllib3.util.ssl_ (/opt/amazon/lib/python3.7/site-packages/requests/packages/urllib3/util/ssl_.py)', 'requests.packages.urllib3.util (/opt/amazon/lib/python3.7/site-packages/requests/packages/urllib3/util/__init__.py)']. \n",
      "  monkey.patch_all(subprocess=True)\u001b[0m\n",
      "\u001b[34m[2021-03-26:07:39:52:INFO] Model loaded successfully for worker : 23\u001b[0m\n",
      "\u001b[35m[2021-03-26:07:39:51:INFO] Model loaded successfully for worker : 21\u001b[0m\n",
      "\u001b[35m[2021-03-26 07:39:51 +0000] [22] [INFO] Booting worker with pid: 22\u001b[0m\n",
      "\u001b[35m[2021-03-26 07:39:52 +0000] [23] [INFO] Booting worker with pid: 23\u001b[0m\n",
      "\u001b[35m/opt/amazon/lib/python3.7/site-packages/gunicorn/workers/ggevent.py:65: MonkeyPatchWarning: Monkey-patching ssl after ssl has already been imported may lead to errors, including RecursionError on Python 3.6. It may also silently lead to incorrect behaviour on Python 3.7. Please monkey-patch earlier. See https://github.com/gevent/gevent/issues/1016. Modules that had direct imports (NOT patched): ['requests.packages.urllib3.util.ssl_ (/opt/amazon/lib/python3.7/site-packages/requests/packages/urllib3/util/ssl_.py)', 'requests.packages.urllib3.util (/opt/amazon/lib/python3.7/site-packages/requests/packages/urllib3/util/__init__.py)']. \n",
      "  monkey.patch_all(subprocess=True)\u001b[0m\n",
      "\u001b[35m[2021-03-26:07:39:52:INFO] Model loaded successfully for worker : 22\u001b[0m\n",
      "\u001b[35m/opt/amazon/lib/python3.7/site-packages/gunicorn/workers/ggevent.py:65: MonkeyPatchWarning: Monkey-patching ssl after ssl has already been imported may lead to errors, including RecursionError on Python 3.6. It may also silently lead to incorrect behaviour on Python 3.7. Please monkey-patch earlier. See https://github.com/gevent/gevent/issues/1016. Modules that had direct imports (NOT patched): ['requests.packages.urllib3.util.ssl_ (/opt/amazon/lib/python3.7/site-packages/requests/packages/urllib3/util/ssl_.py)', 'requests.packages.urllib3.util (/opt/amazon/lib/python3.7/site-packages/requests/packages/urllib3/util/__init__.py)']. \n",
      "  monkey.patch_all(subprocess=True)\u001b[0m\n",
      "\u001b[35m[2021-03-26:07:39:52:INFO] Model loaded successfully for worker : 23\u001b[0m\n",
      "\u001b[34m[2021-03-26:07:39:59:INFO] Sniff delimiter as ','\u001b[0m\n",
      "\u001b[34m[2021-03-26:07:39:59:INFO] Determined delimiter of CSV input is ','\u001b[0m\n",
      "\u001b[34m[2021-03-26:07:39:59:INFO] Sniff delimiter as ','\u001b[0m\n",
      "\u001b[34m[2021-03-26:07:39:59:INFO] Determined delimiter of CSV input is ','\u001b[0m\n",
      "\u001b[34m[2021-03-26:07:39:59:INFO] Sniff delimiter as ','\u001b[0m\n",
      "\u001b[34m[2021-03-26:07:39:59:INFO] Determined delimiter of CSV input is ','\u001b[0m\n",
      "\u001b[35m[2021-03-26:07:39:59:INFO] Sniff delimiter as ','\u001b[0m\n",
      "\u001b[35m[2021-03-26:07:39:59:INFO] Determined delimiter of CSV input is ','\u001b[0m\n",
      "\u001b[35m[2021-03-26:07:39:59:INFO] Sniff delimiter as ','\u001b[0m\n",
      "\u001b[35m[2021-03-26:07:39:59:INFO] Determined delimiter of CSV input is ','\u001b[0m\n",
      "\u001b[35m[2021-03-26:07:39:59:INFO] Sniff delimiter as ','\u001b[0m\n",
      "\u001b[35m[2021-03-26:07:39:59:INFO] Determined delimiter of CSV input is ','\u001b[0m\n",
      "\u001b[32m2021-03-26T07:39:56.351:[sagemaker logs]: MaxConcurrentTransforms=4, MaxPayloadInMB=6, BatchStrategy=MULTI_RECORD\u001b[0m\n",
      "\u001b[34m[2021-03-26:07:40:01:INFO] Sniff delimiter as ','\u001b[0m\n",
      "\u001b[34m[2021-03-26:07:40:01:INFO] Determined delimiter of CSV input is ','\u001b[0m\n",
      "\u001b[35m[2021-03-26:07:40:01:INFO] Sniff delimiter as ','\u001b[0m\n",
      "\u001b[35m[2021-03-26:07:40:01:INFO] Determined delimiter of CSV input is ','\u001b[0m\n",
      "\u001b[34m[2021-03-26:07:40:02:INFO] Sniff delimiter as ','\u001b[0m\n",
      "\u001b[34m[2021-03-26:07:40:02:INFO] Determined delimiter of CSV input is ','\u001b[0m\n",
      "\u001b[34m[2021-03-26:07:40:02:INFO] Sniff delimiter as ','\u001b[0m\n",
      "\u001b[34m[2021-03-26:07:40:02:INFO] Determined delimiter of CSV input is ','\u001b[0m\n",
      "\u001b[35m[2021-03-26:07:40:02:INFO] Sniff delimiter as ','\u001b[0m\n",
      "\u001b[35m[2021-03-26:07:40:02:INFO] Determined delimiter of CSV input is ','\u001b[0m\n",
      "\u001b[35m[2021-03-26:07:40:02:INFO] Sniff delimiter as ','\u001b[0m\n",
      "\u001b[35m[2021-03-26:07:40:02:INFO] Determined delimiter of CSV input is ','\u001b[0m\n"
     ]
    },
    {
     "name": "stdout",
     "output_type": "stream",
     "text": [
      "\u001b[34m[2021-03-26:07:40:05:INFO] Sniff delimiter as ','\u001b[0m\n",
      "\u001b[34m[2021-03-26:07:40:05:INFO] Determined delimiter of CSV input is ','\u001b[0m\n",
      "\u001b[35m[2021-03-26:07:40:05:INFO] Sniff delimiter as ','\u001b[0m\n",
      "\u001b[35m[2021-03-26:07:40:05:INFO] Determined delimiter of CSV input is ','\u001b[0m\n",
      "\u001b[34m[2021-03-26:07:40:06:INFO] Sniff delimiter as ','\u001b[0m\n",
      "\u001b[34m[2021-03-26:07:40:06:INFO] Determined delimiter of CSV input is ','\u001b[0m\n",
      "\u001b[35m[2021-03-26:07:40:06:INFO] Sniff delimiter as ','\u001b[0m\n",
      "\u001b[35m[2021-03-26:07:40:06:INFO] Determined delimiter of CSV input is ','\u001b[0m\n",
      "\u001b[34m[2021-03-26:07:40:08:INFO] Sniff delimiter as ','\u001b[0m\n",
      "\u001b[34m[2021-03-26:07:40:08:INFO] Determined delimiter of CSV input is ','\u001b[0m\n",
      "\u001b[35m[2021-03-26:07:40:08:INFO] Sniff delimiter as ','\u001b[0m\n",
      "\u001b[35m[2021-03-26:07:40:08:INFO] Determined delimiter of CSV input is ','\u001b[0m\n",
      "\u001b[34m[2021-03-26:07:40:09:INFO] Sniff delimiter as ','\u001b[0m\n",
      "\u001b[35m[2021-03-26:07:40:09:INFO] Sniff delimiter as ','\u001b[0m\n",
      "\u001b[34m[2021-03-26:07:40:09:INFO] Determined delimiter of CSV input is ','\u001b[0m\n",
      "\u001b[34m[2021-03-26:07:40:09:INFO] Sniff delimiter as ','\u001b[0m\n",
      "\u001b[34m[2021-03-26:07:40:09:INFO] Determined delimiter of CSV input is ','\u001b[0m\n",
      "\u001b[35m[2021-03-26:07:40:09:INFO] Determined delimiter of CSV input is ','\u001b[0m\n",
      "\u001b[35m[2021-03-26:07:40:09:INFO] Sniff delimiter as ','\u001b[0m\n",
      "\u001b[35m[2021-03-26:07:40:09:INFO] Determined delimiter of CSV input is ','\u001b[0m\n",
      "\u001b[34m[2021-03-26:07:40:11:INFO] Sniff delimiter as ','\u001b[0m\n",
      "\u001b[35m[2021-03-26:07:40:11:INFO] Sniff delimiter as ','\u001b[0m\n",
      "\u001b[34m[2021-03-26:07:40:11:INFO] Determined delimiter of CSV input is ','\u001b[0m\n",
      "\u001b[35m[2021-03-26:07:40:11:INFO] Determined delimiter of CSV input is ','\u001b[0m\n",
      "\u001b[34m[2021-03-26:07:40:13:INFO] Sniff delimiter as ','\u001b[0m\n",
      "\u001b[34m[2021-03-26:07:40:13:INFO] Determined delimiter of CSV input is ','\u001b[0m\n",
      "\u001b[34m[2021-03-26:07:40:13:INFO] Sniff delimiter as ','\u001b[0m\n",
      "\u001b[35m[2021-03-26:07:40:13:INFO] Sniff delimiter as ','\u001b[0m\n",
      "\u001b[35m[2021-03-26:07:40:13:INFO] Determined delimiter of CSV input is ','\u001b[0m\n",
      "\u001b[35m[2021-03-26:07:40:13:INFO] Sniff delimiter as ','\u001b[0m\n",
      "\u001b[34m[2021-03-26:07:40:13:INFO] Determined delimiter of CSV input is ','\u001b[0m\n",
      "\u001b[34m[2021-03-26:07:40:13:INFO] Sniff delimiter as ','\u001b[0m\n",
      "\u001b[34m[2021-03-26:07:40:13:INFO] Determined delimiter of CSV input is ','\u001b[0m\n",
      "\u001b[35m[2021-03-26:07:40:13:INFO] Determined delimiter of CSV input is ','\u001b[0m\n",
      "\u001b[35m[2021-03-26:07:40:13:INFO] Sniff delimiter as ','\u001b[0m\n",
      "\u001b[35m[2021-03-26:07:40:13:INFO] Determined delimiter of CSV input is ','\u001b[0m\n",
      "\u001b[34m[2021-03-26:07:40:16:INFO] Determined delimiter of CSV input is ','\u001b[0m\n",
      "\u001b[34m[2021-03-26:07:40:17:INFO] Sniff delimiter as ','\u001b[0m\n",
      "\u001b[34m[2021-03-26:07:40:17:INFO] Determined delimiter of CSV input is ','\u001b[0m\n",
      "\u001b[34m[2021-03-26:07:40:17:INFO] Sniff delimiter as ','\u001b[0m\n",
      "\u001b[34m[2021-03-26:07:40:17:INFO] Determined delimiter of CSV input is ','\u001b[0m\n",
      "\u001b[35m[2021-03-26:07:40:16:INFO] Determined delimiter of CSV input is ','\u001b[0m\n",
      "\u001b[35m[2021-03-26:07:40:17:INFO] Sniff delimiter as ','\u001b[0m\n",
      "\u001b[35m[2021-03-26:07:40:17:INFO] Determined delimiter of CSV input is ','\u001b[0m\n",
      "\u001b[35m[2021-03-26:07:40:17:INFO] Sniff delimiter as ','\u001b[0m\n",
      "\u001b[35m[2021-03-26:07:40:17:INFO] Determined delimiter of CSV input is ','\u001b[0m\n",
      "\u001b[34m[2021-03-26:07:40:18:INFO] Sniff delimiter as ','\u001b[0m\n",
      "\u001b[34m[2021-03-26:07:40:18:INFO] Determined delimiter of CSV input is ','\u001b[0m\n",
      "\u001b[35m[2021-03-26:07:40:18:INFO] Sniff delimiter as ','\u001b[0m\n",
      "\u001b[35m[2021-03-26:07:40:18:INFO] Determined delimiter of CSV input is ','\u001b[0m\n",
      "\u001b[34m[2021-03-26:07:40:20:INFO] Sniff delimiter as ','\u001b[0m\n",
      "\u001b[34m[2021-03-26:07:40:20:INFO] Determined delimiter of CSV input is ','\u001b[0m\n",
      "\u001b[35m[2021-03-26:07:40:20:INFO] Sniff delimiter as ','\u001b[0m\n",
      "\u001b[35m[2021-03-26:07:40:20:INFO] Determined delimiter of CSV input is ','\u001b[0m\n",
      "\u001b[34m[2021-03-26:07:40:21:INFO] Sniff delimiter as ','\u001b[0m\n",
      "\u001b[34m[2021-03-26:07:40:21:INFO] Determined delimiter of CSV input is ','\u001b[0m\n",
      "\u001b[35m[2021-03-26:07:40:21:INFO] Sniff delimiter as ','\u001b[0m\n",
      "\u001b[35m[2021-03-26:07:40:21:INFO] Determined delimiter of CSV input is ','\u001b[0m\n",
      "\u001b[34m[2021-03-26:07:40:23:INFO] Sniff delimiter as ','\u001b[0m\n",
      "\u001b[35m[2021-03-26:07:40:23:INFO] Sniff delimiter as ','\u001b[0m\n",
      "\u001b[34m[2021-03-26:07:40:23:INFO] Determined delimiter of CSV input is ','\u001b[0m\n",
      "\u001b[34m[2021-03-26:07:40:23:INFO] Sniff delimiter as ','\u001b[0m\n",
      "\u001b[34m[2021-03-26:07:40:23:INFO] Determined delimiter of CSV input is ','\u001b[0m\n",
      "\u001b[34m[2021-03-26:07:40:23:INFO] Sniff delimiter as ','\u001b[0m\n",
      "\u001b[34m[2021-03-26:07:40:23:INFO] Determined delimiter of CSV input is ','\u001b[0m\n",
      "\u001b[35m[2021-03-26:07:40:23:INFO] Determined delimiter of CSV input is ','\u001b[0m\n",
      "\u001b[35m[2021-03-26:07:40:23:INFO] Sniff delimiter as ','\u001b[0m\n",
      "\u001b[35m[2021-03-26:07:40:23:INFO] Determined delimiter of CSV input is ','\u001b[0m\n",
      "\u001b[35m[2021-03-26:07:40:23:INFO] Sniff delimiter as ','\u001b[0m\n",
      "\u001b[35m[2021-03-26:07:40:23:INFO] Determined delimiter of CSV input is ','\u001b[0m\n",
      "\n",
      "\u001b[34m[2021-03-26:07:40:26:INFO] Determined delimiter of CSV input is ','\u001b[0m\n",
      "\u001b[35m[2021-03-26:07:40:26:INFO] Determined delimiter of CSV input is ','\u001b[0m\n",
      "\u001b[34m[2021-03-26:07:40:28:INFO] Sniff delimiter as ','\u001b[0m\n",
      "\u001b[35m[2021-03-26:07:40:28:INFO] Sniff delimiter as ','\u001b[0m\n",
      "\u001b[34m[2021-03-26:07:40:28:INFO] Determined delimiter of CSV input is ','\u001b[0m\n",
      "\u001b[34m[2021-03-26:07:40:28:INFO] Sniff delimiter as ','\u001b[0m\n",
      "\u001b[34m[2021-03-26:07:40:28:INFO] Determined delimiter of CSV input is ','\u001b[0m\n",
      "\u001b[35m[2021-03-26:07:40:28:INFO] Determined delimiter of CSV input is ','\u001b[0m\n",
      "\u001b[35m[2021-03-26:07:40:28:INFO] Sniff delimiter as ','\u001b[0m\n",
      "\u001b[35m[2021-03-26:07:40:28:INFO] Determined delimiter of CSV input is ','\u001b[0m\n",
      "\u001b[34m[2021-03-26:07:40:29:INFO] Sniff delimiter as ','\u001b[0m\n",
      "\u001b[34m[2021-03-26:07:40:29:INFO] Determined delimiter of CSV input is ','\u001b[0m\n",
      "\u001b[35m[2021-03-26:07:40:29:INFO] Sniff delimiter as ','\u001b[0m\n",
      "\u001b[35m[2021-03-26:07:40:29:INFO] Determined delimiter of CSV input is ','\u001b[0m\n",
      "\u001b[34m[2021-03-26:07:40:30:INFO] Sniff delimiter as ','\u001b[0m\n",
      "\u001b[34m[2021-03-26:07:40:30:INFO] Determined delimiter of CSV input is ','\u001b[0m\n",
      "\u001b[35m[2021-03-26:07:40:30:INFO] Sniff delimiter as ','\u001b[0m\n",
      "\u001b[35m[2021-03-26:07:40:30:INFO] Determined delimiter of CSV input is ','\u001b[0m\n",
      "\u001b[34m[2021-03-26:07:40:32:INFO] Sniff delimiter as ','\u001b[0m\n",
      "\u001b[35m[2021-03-26:07:40:32:INFO] Sniff delimiter as ','\u001b[0m\n",
      "\u001b[34m[2021-03-26:07:40:32:INFO] Determined delimiter of CSV input is ','\u001b[0m\n",
      "\u001b[34m[2021-03-26:07:40:32:INFO] Sniff delimiter as ','\u001b[0m\n",
      "\u001b[34m[2021-03-26:07:40:32:INFO] Determined delimiter of CSV input is ','\u001b[0m\n",
      "\u001b[34m[2021-03-26:07:40:32:INFO] Sniff delimiter as ','\u001b[0m\n",
      "\u001b[34m[2021-03-26:07:40:32:INFO] Determined delimiter of CSV input is ','\u001b[0m\n",
      "\u001b[35m[2021-03-26:07:40:32:INFO] Determined delimiter of CSV input is ','\u001b[0m\n",
      "\u001b[35m[2021-03-26:07:40:32:INFO] Sniff delimiter as ','\u001b[0m\n",
      "\u001b[35m[2021-03-26:07:40:32:INFO] Determined delimiter of CSV input is ','\u001b[0m\n",
      "\u001b[35m[2021-03-26:07:40:32:INFO] Sniff delimiter as ','\u001b[0m\n",
      "\u001b[35m[2021-03-26:07:40:32:INFO] Determined delimiter of CSV input is ','\u001b[0m\n",
      "\u001b[34m[2021-03-26:07:40:32:INFO] Sniff delimiter as ','\u001b[0m\n",
      "\u001b[34m[2021-03-26:07:40:32:INFO] Determined delimiter of CSV input is ','\u001b[0m\n",
      "\u001b[35m[2021-03-26:07:40:32:INFO] Sniff delimiter as ','\u001b[0m\n",
      "\u001b[35m[2021-03-26:07:40:32:INFO] Determined delimiter of CSV input is ','\u001b[0m\n",
      "\u001b[34m[2021-03-26:07:40:36:INFO] Sniff delimiter as ','\u001b[0m\n",
      "\u001b[34m[2021-03-26:07:40:36:INFO] Determined delimiter of CSV input is ','\u001b[0m\n",
      "\u001b[35m[2021-03-26:07:40:36:INFO] Sniff delimiter as ','\u001b[0m\n",
      "\u001b[35m[2021-03-26:07:40:36:INFO] Determined delimiter of CSV input is ','\u001b[0m\n"
     ]
    }
   ],
   "source": [
    "xgb_transformer.wait()"
   ]
  },
  {
   "cell_type": "markdown",
   "metadata": {},
   "source": [
    "Now the transform job has executed and the result, the estimated sentiment of each review, has been saved on S3. Since we would rather work on this file locally we can perform a bit of notebook magic to copy the file to the `data_dir`."
   ]
  },
  {
   "cell_type": "code",
   "execution_count": null,
   "metadata": {},
   "outputs": [
    {
     "name": "stdout",
     "output_type": "stream",
     "text": [
      "Completed 256.0 KiB/478.1 KiB (3.1 MiB/s) with 1 file(s) remaining\r",
      "Completed 478.1 KiB/478.1 KiB (5.6 MiB/s) with 1 file(s) remaining\r",
      "download: s3://sagemaker-us-east-1-032517660248/xgboost-210326-0715-002-c139143c-2021-03-26-07-35-05-803/test.csv.out to ../data/xgboost/test.csv.out\r\n"
     ]
    }
   ],
   "source": [
    "!aws s3 cp --recursive $xgb_transformer.output_path $data_dir"
   ]
  },
  {
   "cell_type": "markdown",
   "metadata": {},
   "source": [
    "The last step is now to read in the output from our model, convert the output to something a little more usable, in this case we want the sentiment to be either `1` (positive) or `0` (negative), and then compare to the ground truth labels."
   ]
  },
  {
   "cell_type": "code",
   "execution_count": null,
   "metadata": {},
   "outputs": [],
   "source": [
    "predictions = pd.read_csv(os.path.join(data_dir, 'test.csv.out'), header=None)\n",
    "predictions = [round(num) for num in predictions.squeeze().values]"
   ]
  },
  {
   "cell_type": "code",
   "execution_count": null,
   "metadata": {},
   "outputs": [
    {
     "data": {
      "text/plain": [
       "0.86032"
      ]
     },
     "execution_count": 33,
     "metadata": {},
     "output_type": "execute_result"
    }
   ],
   "source": [
    "from sklearn.metrics import accuracy_score\n",
    "accuracy_score(test_y, predictions)"
   ]
  },
  {
   "cell_type": "markdown",
   "metadata": {},
   "source": [
    "## Optional: Clean up\n",
    "\n",
    "The default notebook instance on SageMaker doesn't have a lot of excess disk space available. As you continue to complete and execute notebooks you will eventually fill up this disk space, leading to errors which can be difficult to diagnose. Once you are completely finished using a notebook it is a good idea to remove the files that you created along the way. Of course, you can do this from the terminal or from the notebook hub if you would like. The cell below contains some commands to clean up the created files from within the notebook."
   ]
  },
  {
   "cell_type": "code",
   "execution_count": null,
   "metadata": {},
   "outputs": [],
   "source": [
    "# First we will remove all of the files contained in the data_dir directory\n",
    "!rm $data_dir/*\n",
    "\n",
    "# And then we delete the directory itself\n",
    "!rmdir $data_dir\n",
    "\n",
    "# Similarly we will remove the files in the cache_dir directory and the directory itself\n",
    "!rm $cache_dir/*\n",
    "!rmdir $cache_dir"
   ]
  },
  {
   "cell_type": "code",
   "execution_count": null,
   "metadata": {},
   "outputs": [],
   "source": []
  }
 ],
 "metadata": {
  "kernelspec": {
   "display_name": "conda_python3",
   "language": "python",
   "name": "conda_python3"
  },
  "language_info": {
   "codemirror_mode": {
    "name": "ipython",
    "version": 3
   },
   "file_extension": ".py",
   "mimetype": "text/x-python",
   "name": "python",
   "nbconvert_exporter": "python",
   "pygments_lexer": "ipython3",
   "version": "3.6.13"
  }
 },
 "nbformat": 4,
 "nbformat_minor": 2
}
