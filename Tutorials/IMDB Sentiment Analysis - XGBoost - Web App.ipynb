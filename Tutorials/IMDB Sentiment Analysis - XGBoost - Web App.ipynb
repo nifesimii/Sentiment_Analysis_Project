{
 "cells": [
  {
   "cell_type": "markdown",
   "metadata": {},
   "source": [
    "# Sentiment Analysis Web App\n",
    "\n",
    "_Deep Learning Nanodegree Program | Deployment_\n",
    "\n",
    "---\n",
    "\n",
    "In this notebook we will use Amazon's SageMaker service to construct a random tree model to predict the sentiment of a movie review. In addition, we will deploy this model to an endpoint and construct a very simple web app which will interact with our model's deployed endpoint.\n",
    "\n",
    "## General Outline\n",
    "\n",
    "Typically, when using a notebook instance with SageMaker, you will proceed through the following steps. Of course, not every step will need to be done with each project. Also, there is quite a lot of room for variation in many of the steps, as you will see throughout these lessons.\n",
    "\n",
    "1. Download or otherwise retrieve the data.\n",
    "2. Process / Prepare the data.\n",
    "3. Upload the processed data to S3.\n",
    "4. Train a chosen model.\n",
    "5. Test the trained model (typically using a batch transform job).\n",
    "6. Deploy the trained model.\n",
    "7. Use the deployed model.\n",
    "\n",
    "In this notebook we will progress through each of the steps above. We will also see that the final step, using the deployed model, can be quite challenging."
   ]
  },
  {
   "cell_type": "code",
   "execution_count": 1,
   "metadata": {},
   "outputs": [
    {
     "name": "stdout",
     "output_type": "stream",
     "text": [
      "Collecting sagemaker==1.72.0\n",
      "  Downloading sagemaker-1.72.0.tar.gz (297 kB)\n",
      "\u001b[K     |████████████████████████████████| 297 kB 13.5 MB/s eta 0:00:01\n",
      "\u001b[?25hRequirement already satisfied: boto3>=1.14.12 in /home/ec2-user/anaconda3/envs/python3/lib/python3.6/site-packages (from sagemaker==1.72.0) (1.17.32)\n",
      "Requirement already satisfied: numpy>=1.9.0 in /home/ec2-user/anaconda3/envs/python3/lib/python3.6/site-packages (from sagemaker==1.72.0) (1.19.5)\n",
      "Requirement already satisfied: protobuf>=3.1 in /home/ec2-user/anaconda3/envs/python3/lib/python3.6/site-packages (from sagemaker==1.72.0) (3.15.2)\n",
      "Requirement already satisfied: scipy>=0.19.0 in /home/ec2-user/anaconda3/envs/python3/lib/python3.6/site-packages (from sagemaker==1.72.0) (1.5.3)\n",
      "Requirement already satisfied: protobuf3-to-dict>=0.1.5 in /home/ec2-user/anaconda3/envs/python3/lib/python3.6/site-packages (from sagemaker==1.72.0) (0.1.5)\n",
      "Collecting smdebug-rulesconfig==0.1.4\n",
      "  Downloading smdebug_rulesconfig-0.1.4-py2.py3-none-any.whl (10 kB)\n",
      "Requirement already satisfied: importlib-metadata>=1.4.0 in /home/ec2-user/anaconda3/envs/python3/lib/python3.6/site-packages (from sagemaker==1.72.0) (3.7.0)\n",
      "Requirement already satisfied: packaging>=20.0 in /home/ec2-user/anaconda3/envs/python3/lib/python3.6/site-packages (from sagemaker==1.72.0) (20.9)\n",
      "Requirement already satisfied: jmespath<1.0.0,>=0.7.1 in /home/ec2-user/anaconda3/envs/python3/lib/python3.6/site-packages (from boto3>=1.14.12->sagemaker==1.72.0) (0.10.0)\n",
      "Requirement already satisfied: botocore<1.21.0,>=1.20.32 in /home/ec2-user/anaconda3/envs/python3/lib/python3.6/site-packages (from boto3>=1.14.12->sagemaker==1.72.0) (1.20.32)\n",
      "Requirement already satisfied: s3transfer<0.4.0,>=0.3.0 in /home/ec2-user/anaconda3/envs/python3/lib/python3.6/site-packages (from boto3>=1.14.12->sagemaker==1.72.0) (0.3.4)\n",
      "Requirement already satisfied: python-dateutil<3.0.0,>=2.1 in /home/ec2-user/anaconda3/envs/python3/lib/python3.6/site-packages (from botocore<1.21.0,>=1.20.32->boto3>=1.14.12->sagemaker==1.72.0) (2.8.1)\n",
      "Requirement already satisfied: urllib3<1.27,>=1.25.4 in /home/ec2-user/anaconda3/envs/python3/lib/python3.6/site-packages (from botocore<1.21.0,>=1.20.32->boto3>=1.14.12->sagemaker==1.72.0) (1.26.3)\n",
      "Requirement already satisfied: zipp>=0.5 in /home/ec2-user/anaconda3/envs/python3/lib/python3.6/site-packages (from importlib-metadata>=1.4.0->sagemaker==1.72.0) (3.4.0)\n",
      "Requirement already satisfied: typing-extensions>=3.6.4 in /home/ec2-user/anaconda3/envs/python3/lib/python3.6/site-packages (from importlib-metadata>=1.4.0->sagemaker==1.72.0) (3.7.4.3)\n",
      "Requirement already satisfied: pyparsing>=2.0.2 in /home/ec2-user/anaconda3/envs/python3/lib/python3.6/site-packages (from packaging>=20.0->sagemaker==1.72.0) (2.4.7)\n",
      "Requirement already satisfied: six>=1.9 in /home/ec2-user/anaconda3/envs/python3/lib/python3.6/site-packages (from protobuf>=3.1->sagemaker==1.72.0) (1.15.0)\n",
      "Building wheels for collected packages: sagemaker\n",
      "  Building wheel for sagemaker (setup.py) ... \u001b[?25ldone\n",
      "\u001b[?25h  Created wheel for sagemaker: filename=sagemaker-1.72.0-py2.py3-none-any.whl size=386358 sha256=7402c3a62c606660038c749cfb24ef3a72ef7b3b61a2d5e76150618a11fccf2b\n",
      "  Stored in directory: /home/ec2-user/.cache/pip/wheels/c3/58/70/85faf4437568bfaa4c419937569ba1fe54d44c5db42406bbd7\n",
      "Successfully built sagemaker\n",
      "Installing collected packages: smdebug-rulesconfig, sagemaker\n",
      "  Attempting uninstall: smdebug-rulesconfig\n",
      "    Found existing installation: smdebug-rulesconfig 1.0.1\n",
      "    Uninstalling smdebug-rulesconfig-1.0.1:\n",
      "      Successfully uninstalled smdebug-rulesconfig-1.0.1\n",
      "  Attempting uninstall: sagemaker\n",
      "    Found existing installation: sagemaker 2.30.0\n",
      "    Uninstalling sagemaker-2.30.0:\n",
      "      Successfully uninstalled sagemaker-2.30.0\n",
      "Successfully installed sagemaker-1.72.0 smdebug-rulesconfig-0.1.4\n"
     ]
    }
   ],
   "source": [
    "# Make sure that we use SageMaker 1.x\n",
    "!pip install sagemaker==1.72.0"
   ]
  },
  {
   "cell_type": "markdown",
   "metadata": {},
   "source": [
    "## Step 1: Downloading the data\n",
    "\n",
    "The dataset we are going to use is very popular among researchers in Natural Language Processing, usually referred to as the [IMDb dataset](http://ai.stanford.edu/~amaas/data/sentiment/). It consists of movie reviews from the website [imdb.com](http://www.imdb.com/), each labeled as either '**pos**itive', if the reviewer enjoyed the film, or '**neg**ative' otherwise.\n",
    "\n",
    "> Maas, Andrew L., et al. [Learning Word Vectors for Sentiment Analysis](http://ai.stanford.edu/~amaas/data/sentiment/). In _Proceedings of the 49th Annual Meeting of the Association for Computational Linguistics: Human Language Technologies_. Association for Computational Linguistics, 2011.\n",
    "\n",
    "We begin by using some Jupyter Notebook magic to download and extract the dataset."
   ]
  },
  {
   "cell_type": "code",
   "execution_count": 2,
   "metadata": {},
   "outputs": [
    {
     "name": "stdout",
     "output_type": "stream",
     "text": [
      "mkdir: cannot create directory ‘../data’: File exists\n",
      "--2021-03-25 14:56:01--  http://ai.stanford.edu/~amaas/data/sentiment/aclImdb_v1.tar.gz\n",
      "Resolving ai.stanford.edu (ai.stanford.edu)... 171.64.68.10\n",
      "Connecting to ai.stanford.edu (ai.stanford.edu)|171.64.68.10|:80... connected.\n",
      "HTTP request sent, awaiting response... 200 OK\n",
      "Length: 84125825 (80M) [application/x-gzip]\n",
      "Saving to: ‘../data/aclImdb_v1.tar.gz’\n",
      "\n",
      "../data/aclImdb_v1. 100%[===================>]  80.23M  24.1MB/s    in 4.9s    \n",
      "\n",
      "2021-03-25 14:56:06 (16.4 MB/s) - ‘../data/aclImdb_v1.tar.gz’ saved [84125825/84125825]\n",
      "\n"
     ]
    }
   ],
   "source": [
    "%mkdir ../data\n",
    "!wget -O ../data/aclImdb_v1.tar.gz http://ai.stanford.edu/~amaas/data/sentiment/aclImdb_v1.tar.gz\n",
    "!tar -zxf ../data/aclImdb_v1.tar.gz -C ../data"
   ]
  },
  {
   "cell_type": "markdown",
   "metadata": {},
   "source": [
    "## Step 2: Preparing and Processing the data\n",
    "\n",
    "The data we have downloaded is split into various files, each of which contains a single review. It will be much easier going forward if we combine these individual files into two large files, one for training and one for testing."
   ]
  },
  {
   "cell_type": "code",
   "execution_count": 3,
   "metadata": {},
   "outputs": [],
   "source": [
    "import os\n",
    "import glob\n",
    "\n",
    "def read_imdb_data(data_dir='../data/aclImdb'):\n",
    "    data = {}\n",
    "    labels = {}\n",
    "    \n",
    "    for data_type in ['train', 'test']:\n",
    "        data[data_type] = {}\n",
    "        labels[data_type] = {}\n",
    "        \n",
    "        for sentiment in ['pos', 'neg']:\n",
    "            data[data_type][sentiment] = []\n",
    "            labels[data_type][sentiment] = []\n",
    "            \n",
    "            path = os.path.join(data_dir, data_type, sentiment, '*.txt')\n",
    "            files = glob.glob(path)\n",
    "            \n",
    "            for f in files:\n",
    "                with open(f) as review:\n",
    "                    data[data_type][sentiment].append(review.read())\n",
    "                    # Here we represent a positive review by '1' and a negative review by '0'\n",
    "                    labels[data_type][sentiment].append(1 if sentiment == 'pos' else 0)\n",
    "                    \n",
    "            assert len(data[data_type][sentiment]) == len(labels[data_type][sentiment]), \\\n",
    "                    \"{}/{} data size does not match labels size\".format(data_type, sentiment)\n",
    "                \n",
    "    return data, labels"
   ]
  },
  {
   "cell_type": "code",
   "execution_count": 4,
   "metadata": {},
   "outputs": [
    {
     "name": "stdout",
     "output_type": "stream",
     "text": [
      "IMDB reviews: train = 12500 pos / 12500 neg, test = 12500 pos / 12500 neg\n"
     ]
    }
   ],
   "source": [
    "data, labels = read_imdb_data()\n",
    "print(\"IMDB reviews: train = {} pos / {} neg, test = {} pos / {} neg\".format(\n",
    "            len(data['train']['pos']), len(data['train']['neg']),\n",
    "            len(data['test']['pos']), len(data['test']['neg'])))"
   ]
  },
  {
   "cell_type": "code",
   "execution_count": 5,
   "metadata": {},
   "outputs": [],
   "source": [
    "from sklearn.utils import shuffle\n",
    "\n",
    "def prepare_imdb_data(data, labels):\n",
    "    \"\"\"Prepare training and test sets from IMDb movie reviews.\"\"\"\n",
    "    \n",
    "    #Combine positive and negative reviews and labels\n",
    "    data_train = data['train']['pos'] + data['train']['neg']\n",
    "    data_test = data['test']['pos'] + data['test']['neg']\n",
    "    labels_train = labels['train']['pos'] + labels['train']['neg']\n",
    "    labels_test = labels['test']['pos'] + labels['test']['neg']\n",
    "    \n",
    "    #Shuffle reviews and corresponding labels within training and test sets\n",
    "    data_train, labels_train = shuffle(data_train, labels_train)\n",
    "    data_test, labels_test = shuffle(data_test, labels_test)\n",
    "    \n",
    "    # Return a unified training data, test data, training labels, test labets\n",
    "    return data_train, data_test, labels_train, labels_test"
   ]
  },
  {
   "cell_type": "code",
   "execution_count": 6,
   "metadata": {},
   "outputs": [
    {
     "name": "stdout",
     "output_type": "stream",
     "text": [
      "IMDb reviews (combined): train = 25000, test = 25000\n"
     ]
    }
   ],
   "source": [
    "train_X, test_X, train_y, test_y = prepare_imdb_data(data, labels)\n",
    "print(\"IMDb reviews (combined): train = {}, test = {}\".format(len(train_X), len(test_X)))"
   ]
  },
  {
   "cell_type": "code",
   "execution_count": 7,
   "metadata": {},
   "outputs": [
    {
     "data": {
      "text/plain": [
       "'You think you\\'ve had it tough? You should check out this film. Carl Brashear is the epitome of courage and determination. What this man had to go through to become a navy diver, should be an inspiration to us all. And significantly, after seeing this film, I learned that what is shown is not even the half of it! Cuba Gooding, Jr. does some of his best work to date as Brashear. De Niro, as usual is good as the southern redneck who trains him. George Tillman in only his second major feature (after \"Soul Food\"), has made a quantum leap as a filmmaker. If you want to be moved and inspired, you definitely need to check out this one.'"
      ]
     },
     "execution_count": 7,
     "metadata": {},
     "output_type": "execute_result"
    }
   ],
   "source": [
    "train_X[100]"
   ]
  },
  {
   "cell_type": "markdown",
   "metadata": {},
   "source": [
    "## Processing the data\n",
    "\n",
    "Now that we have our training and testing datasets merged and ready to use, we need to start processing the raw data into something that will be useable by our machine learning algorithm. To begin with, we remove any html formatting and any non-alpha numeric characters that may appear in the reviews. We will do this in a very simplistic way using Python's regular expression module. We will discuss the reason for this rather simplistic pre-processing later on."
   ]
  },
  {
   "cell_type": "code",
   "execution_count": 8,
   "metadata": {},
   "outputs": [],
   "source": [
    "import re\n",
    "\n",
    "REPLACE_NO_SPACE = re.compile(\"(\\.)|(\\;)|(\\:)|(\\!)|(\\')|(\\?)|(\\,)|(\\\")|(\\()|(\\))|(\\[)|(\\])\")\n",
    "REPLACE_WITH_SPACE = re.compile(\"(<br\\s*/><br\\s*/>)|(\\-)|(\\/)\")\n",
    "\n",
    "def review_to_words(review):\n",
    "    words = REPLACE_NO_SPACE.sub(\"\", review.lower())\n",
    "    words = REPLACE_WITH_SPACE.sub(\" \", words)\n",
    "    return words"
   ]
  },
  {
   "cell_type": "code",
   "execution_count": 9,
   "metadata": {},
   "outputs": [
    {
     "data": {
      "text/plain": [
       "'you think youve had it tough you should check out this film carl brashear is the epitome of courage and determination what this man had to go through to become a navy diver should be an inspiration to us all and significantly after seeing this film i learned that what is shown is not even the half of it cuba gooding jr does some of his best work to date as brashear de niro as usual is good as the southern redneck who trains him george tillman in only his second major feature after soul food has made a quantum leap as a filmmaker if you want to be moved and inspired you definitely need to check out this one'"
      ]
     },
     "execution_count": 9,
     "metadata": {},
     "output_type": "execute_result"
    }
   ],
   "source": [
    "review_to_words(train_X[100])"
   ]
  },
  {
   "cell_type": "code",
   "execution_count": 10,
   "metadata": {},
   "outputs": [],
   "source": [
    "import pickle\n",
    "\n",
    "cache_dir = os.path.join(\"../cache\", \"sentiment_web_app\")  # where to store cache files\n",
    "os.makedirs(cache_dir, exist_ok=True)  # ensure cache directory exists\n",
    "\n",
    "def preprocess_data(data_train, data_test, labels_train, labels_test,\n",
    "                    cache_dir=cache_dir, cache_file=\"preprocessed_data.pkl\"):\n",
    "    \"\"\"Convert each review to words; read from cache if available.\"\"\"\n",
    "\n",
    "    # If cache_file is not None, try to read from it first\n",
    "    cache_data = None\n",
    "    if cache_file is not None:\n",
    "        try:\n",
    "            with open(os.path.join(cache_dir, cache_file), \"rb\") as f:\n",
    "                cache_data = pickle.load(f)\n",
    "            print(\"Read preprocessed data from cache file:\", cache_file)\n",
    "        except:\n",
    "            pass  # unable to read from cache, but that's okay\n",
    "    \n",
    "    # If cache is missing, then do the heavy lifting\n",
    "    if cache_data is None:\n",
    "        # Preprocess training and test data to obtain words for each review\n",
    "        #words_train = list(map(review_to_words, data_train))\n",
    "        #words_test = list(map(review_to_words, data_test))\n",
    "        words_train = [review_to_words(review) for review in data_train]\n",
    "        words_test = [review_to_words(review) for review in data_test]\n",
    "        \n",
    "        # Write to cache file for future runs\n",
    "        if cache_file is not None:\n",
    "            cache_data = dict(words_train=words_train, words_test=words_test,\n",
    "                              labels_train=labels_train, labels_test=labels_test)\n",
    "            with open(os.path.join(cache_dir, cache_file), \"wb\") as f:\n",
    "                pickle.dump(cache_data, f)\n",
    "            print(\"Wrote preprocessed data to cache file:\", cache_file)\n",
    "    else:\n",
    "        # Unpack data loaded from cache file\n",
    "        words_train, words_test, labels_train, labels_test = (cache_data['words_train'],\n",
    "                cache_data['words_test'], cache_data['labels_train'], cache_data['labels_test'])\n",
    "    \n",
    "    return words_train, words_test, labels_train, labels_test"
   ]
  },
  {
   "cell_type": "code",
   "execution_count": 11,
   "metadata": {},
   "outputs": [
    {
     "name": "stdout",
     "output_type": "stream",
     "text": [
      "Wrote preprocessed data to cache file: preprocessed_data.pkl\n"
     ]
    }
   ],
   "source": [
    "# Preprocess data\n",
    "train_X, test_X, train_y, test_y = preprocess_data(train_X, test_X, train_y, test_y)"
   ]
  },
  {
   "cell_type": "markdown",
   "metadata": {},
   "source": [
    "### Extract Bag-of-Words features\n",
    "\n",
    "For the model we will be implementing, rather than using the reviews directly, we are going to transform each review into a Bag-of-Words feature representation. Keep in mind that 'in the wild' we will only have access to the training set so our transformer can only use the training set to construct a representation."
   ]
  },
  {
   "cell_type": "code",
   "execution_count": 12,
   "metadata": {},
   "outputs": [],
   "source": [
    "import numpy as np\n",
    "from sklearn.feature_extraction.text import CountVectorizer\n",
    "\n",
    "# sklearn.externals.joblib is deprecated in 0.21 and will be removed in 0.23. \n",
    "# from sklearn.externals import joblib\n",
    "\n",
    "# Import joblib package directly\n",
    "import joblib\n",
    "# joblib is an enhanced version of pickle that is more efficient for storing NumPy arrays\n",
    "\n",
    "def extract_BoW_features(words_train, words_test, vocabulary_size=5000,\n",
    "                         cache_dir=cache_dir, cache_file=\"bow_features.pkl\"):\n",
    "    \"\"\"Extract Bag-of-Words for a given set of documents, already preprocessed into words.\"\"\"\n",
    "    \n",
    "    # If cache_file is not None, try to read from it first\n",
    "    cache_data = None\n",
    "    if cache_file is not None:\n",
    "        try:\n",
    "            with open(os.path.join(cache_dir, cache_file), \"rb\") as f:\n",
    "                cache_data = joblib.load(f)\n",
    "            print(\"Read features from cache file:\", cache_file)\n",
    "        except:\n",
    "            pass  # unable to read from cache, but that's okay\n",
    "    \n",
    "    # If cache is missing, then do the heavy lifting\n",
    "    if cache_data is None:\n",
    "        # Fit a vectorizer to training documents and use it to transform them\n",
    "        # NOTE: Training documents have already been preprocessed and tokenized into words;\n",
    "        #       pass in dummy functions to skip those steps, e.g. preprocessor=lambda x: x\n",
    "        vectorizer = CountVectorizer(max_features=vocabulary_size)\n",
    "        features_train = vectorizer.fit_transform(words_train).toarray()\n",
    "\n",
    "        # Apply the same vectorizer to transform the test documents (ignore unknown words)\n",
    "        features_test = vectorizer.transform(words_test).toarray()\n",
    "        \n",
    "        # NOTE: Remember to convert the features using .toarray() for a compact representation\n",
    "        \n",
    "        # Write to cache file for future runs (store vocabulary as well)\n",
    "        if cache_file is not None:\n",
    "            vocabulary = vectorizer.vocabulary_\n",
    "            cache_data = dict(features_train=features_train, features_test=features_test,\n",
    "                             vocabulary=vocabulary)\n",
    "            with open(os.path.join(cache_dir, cache_file), \"wb\") as f:\n",
    "                joblib.dump(cache_data, f)\n",
    "            print(\"Wrote features to cache file:\", cache_file)\n",
    "    else:\n",
    "        # Unpack data loaded from cache file\n",
    "        features_train, features_test, vocabulary = (cache_data['features_train'],\n",
    "                cache_data['features_test'], cache_data['vocabulary'])\n",
    "    \n",
    "    # Return both the extracted features as well as the vocabulary\n",
    "    return features_train, features_test, vocabulary"
   ]
  },
  {
   "cell_type": "code",
   "execution_count": 13,
   "metadata": {},
   "outputs": [
    {
     "name": "stdout",
     "output_type": "stream",
     "text": [
      "Wrote features to cache file: bow_features.pkl\n"
     ]
    }
   ],
   "source": [
    "# Extract Bag of Words features for both training and test datasets\n",
    "train_X, test_X, vocabulary = extract_BoW_features(train_X, test_X)"
   ]
  },
  {
   "cell_type": "code",
   "execution_count": 14,
   "metadata": {},
   "outputs": [
    {
     "data": {
      "text/plain": [
       "5000"
      ]
     },
     "execution_count": 14,
     "metadata": {},
     "output_type": "execute_result"
    }
   ],
   "source": [
    "len(train_X[100])"
   ]
  },
  {
   "cell_type": "markdown",
   "metadata": {},
   "source": [
    "## Step 3: Upload data to S3\n",
    "\n",
    "Now that we have created the feature representation of our training (and testing) data, it is time to start setting up and using the XGBoost classifier provided by SageMaker.\n",
    "\n",
    "### Writing the datasets\n",
    "\n",
    "The XGBoost classifier that we will be using requires the dataset to be written to a file and stored using Amazon S3. To do this, we will start by splitting the training dataset into two parts, the data we will train the model with and a validation set. Then, we will write those datasets to a file locally and then upload the files to S3. In addition, we will write the test set to a file and upload that file to S3. This is so that we can use SageMakers Batch Transform functionality to test our model once we've fit it."
   ]
  },
  {
   "cell_type": "code",
   "execution_count": 15,
   "metadata": {},
   "outputs": [],
   "source": [
    "import pandas as pd\n",
    "\n",
    "# Earlier we shuffled the training dataset so to make things simple we can just assign\n",
    "# the first 10 000 reviews to the validation set and use the remaining reviews for training.\n",
    "val_X = pd.DataFrame(train_X[:10000])\n",
    "train_X = pd.DataFrame(train_X[10000:])\n",
    "\n",
    "val_y = pd.DataFrame(train_y[:10000])\n",
    "train_y = pd.DataFrame(train_y[10000:])"
   ]
  },
  {
   "cell_type": "markdown",
   "metadata": {},
   "source": [
    "The documentation for the XGBoost algorithm in SageMaker requires that the training and validation datasets should contain no headers or index and that the label should occur first for each sample.\n",
    "\n",
    "For more information about this and other algorithms, the SageMaker developer documentation can be found on __[Amazon's website.](https://docs.aws.amazon.com/sagemaker/latest/dg/)__"
   ]
  },
  {
   "cell_type": "code",
   "execution_count": 16,
   "metadata": {},
   "outputs": [],
   "source": [
    "# First we make sure that the local directory in which we'd like to store the training and validation csv files exists.\n",
    "data_dir = '../data/sentiment_web_app'\n",
    "if not os.path.exists(data_dir):\n",
    "    os.makedirs(data_dir)"
   ]
  },
  {
   "cell_type": "code",
   "execution_count": 17,
   "metadata": {},
   "outputs": [],
   "source": [
    "pd.DataFrame(test_X).to_csv(os.path.join(data_dir, 'test.csv'), header=False, index=False)\n",
    "\n",
    "pd.concat([val_y, val_X], axis=1).to_csv(os.path.join(data_dir, 'validation.csv'), header=False, index=False)\n",
    "pd.concat([train_y, train_X], axis=1).to_csv(os.path.join(data_dir, 'train.csv'), header=False, index=False)"
   ]
  },
  {
   "cell_type": "code",
   "execution_count": 18,
   "metadata": {},
   "outputs": [],
   "source": [
    "# To save a bit of memory we can set text_X, train_X, val_X, train_y and val_y to None.\n",
    "\n",
    "test_X = train_X = val_X = train_y = val_y = None"
   ]
  },
  {
   "cell_type": "markdown",
   "metadata": {},
   "source": [
    "### Uploading Training / Validation files to S3\n",
    "\n",
    "Amazon's S3 service allows us to store files that can be accessed by both the built-in training models such as the XGBoost model we will be using as well as custom models such as the one we will see a little later.\n",
    "\n",
    "For this and most other tasks we will be doing using SageMaker, there are two methods we could use. The first is to use the low level functionality of SageMaker which requires knowing each of the objects involved in the SageMaker environment. The second is to use the high level functionality in which certain choices have been made on the user's behalf. The low level approach benefits from allowing the user a great deal of flexibility while the high level approach makes development much quicker. For our purposes we will opt to use the high level approach although using the low-level approach is certainly an option.\n",
    "\n",
    "Recall the method `upload_data()` which is a member of the object representing our current SageMaker session. What this method does is upload the data to the default bucket (which is created if it does not exist) into the path described by the key_prefix variable. To see this for yourself, once you have uploaded the data files, go to the S3 console and look to see where the files have been uploaded.\n",
    "\n",
    "For additional resources, see the __[SageMaker API documentation](http://sagemaker.readthedocs.io/en/latest/)__ and in addition the __[SageMaker Developer Guide.](https://docs.aws.amazon.com/sagemaker/latest/dg/)__"
   ]
  },
  {
   "cell_type": "code",
   "execution_count": 19,
   "metadata": {},
   "outputs": [],
   "source": [
    "import sagemaker\n",
    "\n",
    "session = sagemaker.Session() # Store the current SageMaker session\n",
    "\n",
    "# S3 prefix (which folder will we use)\n",
    "prefix = 'sentiment-web-app'\n",
    "\n",
    "test_location = session.upload_data(os.path.join(data_dir, 'test.csv'), key_prefix=prefix)\n",
    "val_location = session.upload_data(os.path.join(data_dir, 'validation.csv'), key_prefix=prefix)\n",
    "train_location = session.upload_data(os.path.join(data_dir, 'train.csv'), key_prefix=prefix)"
   ]
  },
  {
   "cell_type": "markdown",
   "metadata": {},
   "source": [
    "## Step 4: Creating the XGBoost model\n",
    "\n",
    "Now that the data has been uploaded it is time to create the XGBoost model. To begin with, we need to do some setup. At this point it is worth discussing what a model is in SageMaker. It is easiest to think of a model of comprising three different objects in the SageMaker ecosystem, which interact with one another.\n",
    "\n",
    "- Model Artifacts\n",
    "- Training Code (Container)\n",
    "- Inference Code (Container)\n",
    "\n",
    "The Model Artifacts are what you might think of as the actual model itself. For example, if you were building a neural network, the model artifacts would be the weights of the various layers. In our case, for an XGBoost model, the artifacts are the actual trees that are created during training.\n",
    "\n",
    "The other two objects, the training code and the inference code are then used to manipulate the training artifacts. More precisely, the training code uses the training data that is provided and creates the model artifacts, while the inference code uses the model artifacts to make predictions on new data.\n",
    "\n",
    "The way that SageMaker runs the training and inference code is by making use of Docker containers. For now, think of a container as being a way of packaging code up so that dependencies aren't an issue."
   ]
  },
  {
   "cell_type": "code",
   "execution_count": 20,
   "metadata": {},
   "outputs": [],
   "source": [
    "from sagemaker import get_execution_role\n",
    "\n",
    "# Our current execution role is required when creating the model as the training\n",
    "# and inference code will need to access the model artifacts.\n",
    "role = get_execution_role()"
   ]
  },
  {
   "cell_type": "code",
   "execution_count": 21,
   "metadata": {},
   "outputs": [
    {
     "name": "stderr",
     "output_type": "stream",
     "text": [
      "'get_image_uri' method will be deprecated in favor of 'ImageURIProvider' class in SageMaker Python SDK v2.\n",
      "There is a more up to date SageMaker XGBoost image. To use the newer image, please set 'repo_version'='1.0-1'. For example:\n",
      "\tget_image_uri(region, 'xgboost', '1.0-1').\n"
     ]
    }
   ],
   "source": [
    "# We need to retrieve the location of the container which is provided by Amazon for using XGBoost.\n",
    "# As a matter of convenience, the training and inference code both use the same container.\n",
    "from sagemaker.amazon.amazon_estimator import get_image_uri\n",
    "\n",
    "container = get_image_uri(session.boto_region_name, 'xgboost')"
   ]
  },
  {
   "cell_type": "code",
   "execution_count": 22,
   "metadata": {},
   "outputs": [
    {
     "name": "stderr",
     "output_type": "stream",
     "text": [
      "Parameter image_name will be renamed to image_uri in SageMaker Python SDK v2.\n"
     ]
    }
   ],
   "source": [
    "# First we create a SageMaker estimator object for our model.\n",
    "xgb = sagemaker.estimator.Estimator(container, # The location of the container we wish to use\n",
    "                                    role,                                    # What is our current IAM Role\n",
    "                                    train_instance_count=1,                  # How many compute instances\n",
    "                                    train_instance_type='ml.m4.xlarge',      # What kind of compute instances\n",
    "                                    output_path='s3://{}/{}/output'.format(session.default_bucket(), prefix),\n",
    "                                    sagemaker_session=session)\n",
    "\n",
    "# And then set the algorithm specific parameters.\n",
    "xgb.set_hyperparameters(max_depth=5,\n",
    "                        eta=0.2,\n",
    "                        gamma=4,\n",
    "                        min_child_weight=6,\n",
    "                        subsample=0.8,\n",
    "                        silent=0,\n",
    "                        objective='binary:logistic',\n",
    "                        early_stopping_rounds=10,\n",
    "                        num_round=500)"
   ]
  },
  {
   "cell_type": "markdown",
   "metadata": {},
   "source": [
    "### Fit the XGBoost model\n",
    "\n",
    "Now that our model has been set up we simply need to attach the training and validation datasets and then ask SageMaker to set up the computation."
   ]
  },
  {
   "cell_type": "code",
   "execution_count": 23,
   "metadata": {},
   "outputs": [
    {
     "name": "stderr",
     "output_type": "stream",
     "text": [
      "'s3_input' class will be renamed to 'TrainingInput' in SageMaker Python SDK v2.\n",
      "'s3_input' class will be renamed to 'TrainingInput' in SageMaker Python SDK v2.\n"
     ]
    }
   ],
   "source": [
    "s3_input_train = sagemaker.s3_input(s3_data=train_location, content_type='csv')\n",
    "s3_input_validation = sagemaker.s3_input(s3_data=val_location, content_type='csv')"
   ]
  },
  {
   "cell_type": "code",
   "execution_count": 24,
   "metadata": {},
   "outputs": [
    {
     "name": "stdout",
     "output_type": "stream",
     "text": [
      "2021-03-25 14:57:51 Starting - Starting the training job...\n",
      "2021-03-25 14:57:54 Starting - Launching requested ML instances......\n",
      "2021-03-25 14:59:10 Starting - Preparing the instances for training......\n",
      "2021-03-25 15:00:19 Downloading - Downloading input data...\n",
      "2021-03-25 15:00:50 Training - Downloading the training image...\n",
      "2021-03-25 15:01:16 Training - Training image download completed. Training in progress..\u001b[34mArguments: train\u001b[0m\n",
      "\u001b[34m[2021-03-25:15:01:17:INFO] Running standalone xgboost training.\u001b[0m\n",
      "\u001b[34m[2021-03-25:15:01:17:INFO] File size need to be processed in the node: 238.5mb. Available memory size in the node: 8435.32mb\u001b[0m\n",
      "\u001b[34m[2021-03-25:15:01:17:INFO] Determined delimiter of CSV input is ','\u001b[0m\n",
      "\u001b[34m[15:01:17] S3DistributionType set as FullyReplicated\u001b[0m\n",
      "\u001b[34m[15:01:19] 15000x5000 matrix with 75000000 entries loaded from /opt/ml/input/data/train?format=csv&label_column=0&delimiter=,\u001b[0m\n",
      "\u001b[34m[2021-03-25:15:01:19:INFO] Determined delimiter of CSV input is ','\u001b[0m\n",
      "\u001b[34m[15:01:19] S3DistributionType set as FullyReplicated\u001b[0m\n",
      "\u001b[34m[15:01:21] 10000x5000 matrix with 50000000 entries loaded from /opt/ml/input/data/validation?format=csv&label_column=0&delimiter=,\u001b[0m\n",
      "\u001b[34m[15:01:24] src/tree/updater_prune.cc:74: tree pruning end, 1 roots, 40 extra nodes, 8 pruned nodes, max_depth=5\u001b[0m\n",
      "\u001b[34m[0]#011train-error:0.3096#011validation-error:0.3021\u001b[0m\n",
      "\u001b[34mMultiple eval metrics have been passed: 'validation-error' will be used for early stopping.\n",
      "\u001b[0m\n",
      "\u001b[34mWill train until validation-error hasn't improved in 10 rounds.\u001b[0m\n",
      "\u001b[34m[15:01:26] src/tree/updater_prune.cc:74: tree pruning end, 1 roots, 40 extra nodes, 6 pruned nodes, max_depth=5\u001b[0m\n",
      "\u001b[34m[1]#011train-error:0.296#011validation-error:0.2882\u001b[0m\n",
      "\u001b[34m[15:01:27] src/tree/updater_prune.cc:74: tree pruning end, 1 roots, 40 extra nodes, 6 pruned nodes, max_depth=5\u001b[0m\n",
      "\u001b[34m[2]#011train-error:0.290267#011validation-error:0.2831\u001b[0m\n",
      "\u001b[34m[15:01:29] src/tree/updater_prune.cc:74: tree pruning end, 1 roots, 32 extra nodes, 12 pruned nodes, max_depth=5\u001b[0m\n",
      "\u001b[34m[3]#011train-error:0.288467#011validation-error:0.281\u001b[0m\n",
      "\u001b[34m[15:01:30] src/tree/updater_prune.cc:74: tree pruning end, 1 roots, 36 extra nodes, 8 pruned nodes, max_depth=5\u001b[0m\n",
      "\u001b[34m[4]#011train-error:0.274733#011validation-error:0.2685\u001b[0m\n",
      "\u001b[34m[15:01:32] src/tree/updater_prune.cc:74: tree pruning end, 1 roots, 38 extra nodes, 4 pruned nodes, max_depth=5\u001b[0m\n",
      "\u001b[34m[5]#011train-error:0.263133#011validation-error:0.2609\u001b[0m\n",
      "\u001b[34m[15:01:33] src/tree/updater_prune.cc:74: tree pruning end, 1 roots, 28 extra nodes, 12 pruned nodes, max_depth=5\u001b[0m\n",
      "\u001b[34m[6]#011train-error:0.250533#011validation-error:0.2503\u001b[0m\n",
      "\u001b[34m[15:01:34] src/tree/updater_prune.cc:74: tree pruning end, 1 roots, 34 extra nodes, 4 pruned nodes, max_depth=5\u001b[0m\n",
      "\u001b[34m[7]#011train-error:0.2484#011validation-error:0.2484\u001b[0m\n",
      "\u001b[34m[15:01:36] src/tree/updater_prune.cc:74: tree pruning end, 1 roots, 30 extra nodes, 4 pruned nodes, max_depth=5\u001b[0m\n",
      "\u001b[34m[8]#011train-error:0.240667#011validation-error:0.241\u001b[0m\n",
      "\u001b[34m[15:01:37] src/tree/updater_prune.cc:74: tree pruning end, 1 roots, 48 extra nodes, 6 pruned nodes, max_depth=5\u001b[0m\n",
      "\u001b[34m[9]#011train-error:0.228067#011validation-error:0.2305\u001b[0m\n",
      "\u001b[34m[15:01:38] src/tree/updater_prune.cc:74: tree pruning end, 1 roots, 18 extra nodes, 14 pruned nodes, max_depth=5\u001b[0m\n",
      "\u001b[34m[10]#011train-error:0.226733#011validation-error:0.2302\u001b[0m\n",
      "\u001b[34m[15:01:40] src/tree/updater_prune.cc:74: tree pruning end, 1 roots, 36 extra nodes, 2 pruned nodes, max_depth=5\u001b[0m\n",
      "\u001b[34m[11]#011train-error:0.218067#011validation-error:0.2237\u001b[0m\n",
      "\u001b[34m[15:01:41] src/tree/updater_prune.cc:74: tree pruning end, 1 roots, 30 extra nodes, 6 pruned nodes, max_depth=5\u001b[0m\n",
      "\u001b[34m[12]#011train-error:0.215#011validation-error:0.219\u001b[0m\n",
      "\u001b[34m[15:01:43] src/tree/updater_prune.cc:74: tree pruning end, 1 roots, 26 extra nodes, 6 pruned nodes, max_depth=5\u001b[0m\n",
      "\u001b[34m[13]#011train-error:0.211867#011validation-error:0.2151\u001b[0m\n",
      "\u001b[34m[15:01:44] src/tree/updater_prune.cc:74: tree pruning end, 1 roots, 28 extra nodes, 6 pruned nodes, max_depth=5\u001b[0m\n",
      "\u001b[34m[14]#011train-error:0.208#011validation-error:0.2126\u001b[0m\n",
      "\u001b[34m[15:01:45] src/tree/updater_prune.cc:74: tree pruning end, 1 roots, 40 extra nodes, 8 pruned nodes, max_depth=5\u001b[0m\n",
      "\u001b[34m[15]#011train-error:0.202667#011validation-error:0.2098\u001b[0m\n",
      "\u001b[34m[15:01:47] src/tree/updater_prune.cc:74: tree pruning end, 1 roots, 26 extra nodes, 10 pruned nodes, max_depth=5\u001b[0m\n",
      "\u001b[34m[16]#011train-error:0.198133#011validation-error:0.2093\u001b[0m\n",
      "\u001b[34m[15:01:48] src/tree/updater_prune.cc:74: tree pruning end, 1 roots, 28 extra nodes, 4 pruned nodes, max_depth=5\u001b[0m\n",
      "\u001b[34m[17]#011train-error:0.1976#011validation-error:0.2079\u001b[0m\n",
      "\u001b[34m[15:01:50] src/tree/updater_prune.cc:74: tree pruning end, 1 roots, 20 extra nodes, 14 pruned nodes, max_depth=5\u001b[0m\n",
      "\u001b[34m[18]#011train-error:0.196333#011validation-error:0.2079\u001b[0m\n",
      "\u001b[34m[15:01:51] src/tree/updater_prune.cc:74: tree pruning end, 1 roots, 36 extra nodes, 8 pruned nodes, max_depth=5\u001b[0m\n",
      "\u001b[34m[19]#011train-error:0.191067#011validation-error:0.2063\u001b[0m\n",
      "\u001b[34m[15:01:52] src/tree/updater_prune.cc:74: tree pruning end, 1 roots, 28 extra nodes, 10 pruned nodes, max_depth=5\u001b[0m\n",
      "\u001b[34m[20]#011train-error:0.187733#011validation-error:0.2031\u001b[0m\n",
      "\u001b[34m[15:01:54] src/tree/updater_prune.cc:74: tree pruning end, 1 roots, 32 extra nodes, 10 pruned nodes, max_depth=5\u001b[0m\n",
      "\u001b[34m[21]#011train-error:0.1884#011validation-error:0.202\u001b[0m\n",
      "\u001b[34m[15:01:55] src/tree/updater_prune.cc:74: tree pruning end, 1 roots, 28 extra nodes, 8 pruned nodes, max_depth=5\u001b[0m\n",
      "\u001b[34m[22]#011train-error:0.185867#011validation-error:0.2007\u001b[0m\n",
      "\u001b[34m[15:01:56] src/tree/updater_prune.cc:74: tree pruning end, 1 roots, 28 extra nodes, 6 pruned nodes, max_depth=5\u001b[0m\n",
      "\u001b[34m[23]#011train-error:0.183067#011validation-error:0.2\u001b[0m\n",
      "\u001b[34m[15:01:58] src/tree/updater_prune.cc:74: tree pruning end, 1 roots, 30 extra nodes, 6 pruned nodes, max_depth=5\u001b[0m\n",
      "\u001b[34m[24]#011train-error:0.1788#011validation-error:0.1965\u001b[0m\n",
      "\u001b[34m[15:01:59] src/tree/updater_prune.cc:74: tree pruning end, 1 roots, 28 extra nodes, 8 pruned nodes, max_depth=5\u001b[0m\n",
      "\u001b[34m[25]#011train-error:0.176133#011validation-error:0.1954\u001b[0m\n",
      "\u001b[34m[15:02:00] src/tree/updater_prune.cc:74: tree pruning end, 1 roots, 38 extra nodes, 6 pruned nodes, max_depth=5\u001b[0m\n",
      "\u001b[34m[26]#011train-error:0.175067#011validation-error:0.1949\u001b[0m\n",
      "\u001b[34m[15:02:02] src/tree/updater_prune.cc:74: tree pruning end, 1 roots, 30 extra nodes, 4 pruned nodes, max_depth=5\u001b[0m\n",
      "\u001b[34m[27]#011train-error:0.173867#011validation-error:0.1935\u001b[0m\n",
      "\u001b[34m[15:02:03] src/tree/updater_prune.cc:74: tree pruning end, 1 roots, 20 extra nodes, 14 pruned nodes, max_depth=5\u001b[0m\n",
      "\u001b[34m[28]#011train-error:0.170933#011validation-error:0.1914\u001b[0m\n",
      "\u001b[34m[15:02:05] src/tree/updater_prune.cc:74: tree pruning end, 1 roots, 22 extra nodes, 6 pruned nodes, max_depth=5\u001b[0m\n",
      "\u001b[34m[29]#011train-error:0.1684#011validation-error:0.189\u001b[0m\n",
      "\u001b[34m[15:02:07] src/tree/updater_prune.cc:74: tree pruning end, 1 roots, 18 extra nodes, 4 pruned nodes, max_depth=5\u001b[0m\n",
      "\u001b[34m[30]#011train-error:0.167733#011validation-error:0.1893\u001b[0m\n",
      "\u001b[34m[15:02:08] src/tree/updater_prune.cc:74: tree pruning end, 1 roots, 20 extra nodes, 6 pruned nodes, max_depth=5\u001b[0m\n",
      "\u001b[34m[31]#011train-error:0.1668#011validation-error:0.1873\u001b[0m\n",
      "\u001b[34m[15:02:09] src/tree/updater_prune.cc:74: tree pruning end, 1 roots, 22 extra nodes, 4 pruned nodes, max_depth=5\u001b[0m\n",
      "\u001b[34m[32]#011train-error:0.1654#011validation-error:0.1843\u001b[0m\n",
      "\u001b[34m[15:02:11] src/tree/updater_prune.cc:74: tree pruning end, 1 roots, 22 extra nodes, 6 pruned nodes, max_depth=5\u001b[0m\n",
      "\u001b[34m[33]#011train-error:0.1634#011validation-error:0.1824\u001b[0m\n",
      "\u001b[34m[15:02:12] src/tree/updater_prune.cc:74: tree pruning end, 1 roots, 20 extra nodes, 16 pruned nodes, max_depth=5\u001b[0m\n",
      "\u001b[34m[34]#011train-error:0.161467#011validation-error:0.181\u001b[0m\n",
      "\u001b[34m[15:02:14] src/tree/updater_prune.cc:74: tree pruning end, 1 roots, 30 extra nodes, 8 pruned nodes, max_depth=5\u001b[0m\n",
      "\u001b[34m[35]#011train-error:0.1598#011validation-error:0.1788\u001b[0m\n",
      "\u001b[34m[15:02:15] src/tree/updater_prune.cc:74: tree pruning end, 1 roots, 30 extra nodes, 8 pruned nodes, max_depth=5\u001b[0m\n",
      "\u001b[34m[36]#011train-error:0.157933#011validation-error:0.1774\u001b[0m\n",
      "\u001b[34m[15:02:16] src/tree/updater_prune.cc:74: tree pruning end, 1 roots, 24 extra nodes, 6 pruned nodes, max_depth=5\u001b[0m\n",
      "\u001b[34m[37]#011train-error:0.1566#011validation-error:0.1749\u001b[0m\n",
      "\u001b[34m[15:02:18] src/tree/updater_prune.cc:74: tree pruning end, 1 roots, 18 extra nodes, 6 pruned nodes, max_depth=5\u001b[0m\n",
      "\u001b[34m[38]#011train-error:0.1552#011validation-error:0.174\u001b[0m\n",
      "\u001b[34m[15:02:19] src/tree/updater_prune.cc:74: tree pruning end, 1 roots, 24 extra nodes, 12 pruned nodes, max_depth=5\u001b[0m\n",
      "\u001b[34m[39]#011train-error:0.1536#011validation-error:0.1739\u001b[0m\n",
      "\u001b[34m[15:02:20] src/tree/updater_prune.cc:74: tree pruning end, 1 roots, 12 extra nodes, 10 pruned nodes, max_depth=5\u001b[0m\n",
      "\u001b[34m[40]#011train-error:0.1526#011validation-error:0.174\u001b[0m\n"
     ]
    },
    {
     "name": "stdout",
     "output_type": "stream",
     "text": [
      "\u001b[34m[15:02:22] src/tree/updater_prune.cc:74: tree pruning end, 1 roots, 30 extra nodes, 14 pruned nodes, max_depth=5\u001b[0m\n",
      "\u001b[34m[41]#011train-error:0.150733#011validation-error:0.1719\u001b[0m\n",
      "\u001b[34m[15:02:23] src/tree/updater_prune.cc:74: tree pruning end, 1 roots, 24 extra nodes, 6 pruned nodes, max_depth=5\u001b[0m\n",
      "\u001b[34m[42]#011train-error:0.1492#011validation-error:0.1718\u001b[0m\n",
      "\u001b[34m[15:02:25] src/tree/updater_prune.cc:74: tree pruning end, 1 roots, 20 extra nodes, 6 pruned nodes, max_depth=5\u001b[0m\n",
      "\u001b[34m[43]#011train-error:0.146867#011validation-error:0.1705\u001b[0m\n",
      "\u001b[34m[15:02:26] src/tree/updater_prune.cc:74: tree pruning end, 1 roots, 28 extra nodes, 10 pruned nodes, max_depth=5\u001b[0m\n",
      "\u001b[34m[44]#011train-error:0.146667#011validation-error:0.1707\u001b[0m\n",
      "\u001b[34m[15:02:27] src/tree/updater_prune.cc:74: tree pruning end, 1 roots, 20 extra nodes, 8 pruned nodes, max_depth=5\u001b[0m\n",
      "\u001b[34m[45]#011train-error:0.144933#011validation-error:0.1704\u001b[0m\n",
      "\u001b[34m[15:02:29] src/tree/updater_prune.cc:74: tree pruning end, 1 roots, 24 extra nodes, 8 pruned nodes, max_depth=5\u001b[0m\n",
      "\u001b[34m[46]#011train-error:0.1448#011validation-error:0.1694\u001b[0m\n",
      "\u001b[34m[15:02:30] src/tree/updater_prune.cc:74: tree pruning end, 1 roots, 22 extra nodes, 4 pruned nodes, max_depth=5\u001b[0m\n",
      "\u001b[34m[47]#011train-error:0.143733#011validation-error:0.1683\u001b[0m\n",
      "\u001b[34m[15:02:31] src/tree/updater_prune.cc:74: tree pruning end, 1 roots, 18 extra nodes, 6 pruned nodes, max_depth=5\u001b[0m\n",
      "\u001b[34m[48]#011train-error:0.143533#011validation-error:0.168\u001b[0m\n",
      "\u001b[34m[15:02:33] src/tree/updater_prune.cc:74: tree pruning end, 1 roots, 28 extra nodes, 8 pruned nodes, max_depth=5\u001b[0m\n",
      "\u001b[34m[49]#011train-error:0.142133#011validation-error:0.1681\u001b[0m\n",
      "\u001b[34m[15:02:34] src/tree/updater_prune.cc:74: tree pruning end, 1 roots, 26 extra nodes, 6 pruned nodes, max_depth=5\u001b[0m\n",
      "\u001b[34m[50]#011train-error:0.139533#011validation-error:0.1664\u001b[0m\n",
      "\u001b[34m[15:02:35] src/tree/updater_prune.cc:74: tree pruning end, 1 roots, 16 extra nodes, 10 pruned nodes, max_depth=5\u001b[0m\n",
      "\u001b[34m[51]#011train-error:0.140067#011validation-error:0.1663\u001b[0m\n",
      "\u001b[34m[15:02:37] src/tree/updater_prune.cc:74: tree pruning end, 1 roots, 20 extra nodes, 14 pruned nodes, max_depth=5\u001b[0m\n",
      "\u001b[34m[52]#011train-error:0.140067#011validation-error:0.1648\u001b[0m\n",
      "\u001b[34m[15:02:38] src/tree/updater_prune.cc:74: tree pruning end, 1 roots, 24 extra nodes, 8 pruned nodes, max_depth=5\u001b[0m\n",
      "\u001b[34m[53]#011train-error:0.1384#011validation-error:0.1634\u001b[0m\n",
      "\u001b[34m[15:02:39] src/tree/updater_prune.cc:74: tree pruning end, 1 roots, 26 extra nodes, 2 pruned nodes, max_depth=5\u001b[0m\n",
      "\u001b[34m[54]#011train-error:0.1372#011validation-error:0.1628\u001b[0m\n",
      "\u001b[34m[15:02:41] src/tree/updater_prune.cc:74: tree pruning end, 1 roots, 22 extra nodes, 12 pruned nodes, max_depth=5\u001b[0m\n",
      "\u001b[34m[55]#011train-error:0.136533#011validation-error:0.1624\u001b[0m\n",
      "\u001b[34m[15:02:42] src/tree/updater_prune.cc:74: tree pruning end, 1 roots, 16 extra nodes, 16 pruned nodes, max_depth=5\u001b[0m\n",
      "\u001b[34m[56]#011train-error:0.134933#011validation-error:0.1629\u001b[0m\n",
      "\u001b[34m[15:02:43] src/tree/updater_prune.cc:74: tree pruning end, 1 roots, 18 extra nodes, 8 pruned nodes, max_depth=5\u001b[0m\n",
      "\u001b[34m[57]#011train-error:0.133733#011validation-error:0.1623\u001b[0m\n",
      "\u001b[34m[15:02:45] src/tree/updater_prune.cc:74: tree pruning end, 1 roots, 26 extra nodes, 6 pruned nodes, max_depth=5\u001b[0m\n",
      "\u001b[34m[58]#011train-error:0.132933#011validation-error:0.1622\u001b[0m\n",
      "\u001b[34m[15:02:46] src/tree/updater_prune.cc:74: tree pruning end, 1 roots, 20 extra nodes, 14 pruned nodes, max_depth=5\u001b[0m\n",
      "\u001b[34m[59]#011train-error:0.131133#011validation-error:0.1623\u001b[0m\n",
      "\u001b[34m[15:02:48] src/tree/updater_prune.cc:74: tree pruning end, 1 roots, 26 extra nodes, 10 pruned nodes, max_depth=5\u001b[0m\n",
      "\u001b[34m[60]#011train-error:0.130733#011validation-error:0.1611\u001b[0m\n",
      "\u001b[34m[15:02:49] src/tree/updater_prune.cc:74: tree pruning end, 1 roots, 14 extra nodes, 8 pruned nodes, max_depth=5\u001b[0m\n",
      "\u001b[34m[61]#011train-error:0.1294#011validation-error:0.1604\u001b[0m\n",
      "\u001b[34m[15:02:50] src/tree/updater_prune.cc:74: tree pruning end, 1 roots, 22 extra nodes, 6 pruned nodes, max_depth=5\u001b[0m\n",
      "\u001b[34m[62]#011train-error:0.128267#011validation-error:0.1592\u001b[0m\n",
      "\u001b[34m[15:02:52] src/tree/updater_prune.cc:74: tree pruning end, 1 roots, 26 extra nodes, 6 pruned nodes, max_depth=5\u001b[0m\n",
      "\u001b[34m[63]#011train-error:0.127267#011validation-error:0.1588\u001b[0m\n",
      "\u001b[34m[15:02:53] src/tree/updater_prune.cc:74: tree pruning end, 1 roots, 34 extra nodes, 12 pruned nodes, max_depth=5\u001b[0m\n",
      "\u001b[34m[64]#011train-error:0.1264#011validation-error:0.1585\u001b[0m\n",
      "\u001b[34m[15:02:55] src/tree/updater_prune.cc:74: tree pruning end, 1 roots, 18 extra nodes, 8 pruned nodes, max_depth=5\u001b[0m\n",
      "\u001b[34m[65]#011train-error:0.126067#011validation-error:0.1594\u001b[0m\n",
      "\u001b[34m[15:02:56] src/tree/updater_prune.cc:74: tree pruning end, 1 roots, 22 extra nodes, 6 pruned nodes, max_depth=5\u001b[0m\n",
      "\u001b[34m[66]#011train-error:0.125067#011validation-error:0.1587\u001b[0m\n",
      "\u001b[34m[15:02:57] src/tree/updater_prune.cc:74: tree pruning end, 1 roots, 24 extra nodes, 10 pruned nodes, max_depth=5\u001b[0m\n",
      "\u001b[34m[67]#011train-error:0.1248#011validation-error:0.1577\u001b[0m\n",
      "\u001b[34m[15:02:59] src/tree/updater_prune.cc:74: tree pruning end, 1 roots, 22 extra nodes, 10 pruned nodes, max_depth=5\u001b[0m\n",
      "\u001b[34m[68]#011train-error:0.124533#011validation-error:0.1572\u001b[0m\n",
      "\u001b[34m[15:03:00] src/tree/updater_prune.cc:74: tree pruning end, 1 roots, 18 extra nodes, 6 pruned nodes, max_depth=5\u001b[0m\n",
      "\u001b[34m[69]#011train-error:0.123333#011validation-error:0.1568\u001b[0m\n",
      "\u001b[34m[15:03:01] src/tree/updater_prune.cc:74: tree pruning end, 1 roots, 28 extra nodes, 12 pruned nodes, max_depth=5\u001b[0m\n",
      "\u001b[34m[70]#011train-error:0.121933#011validation-error:0.1573\u001b[0m\n",
      "\u001b[34m[15:03:03] src/tree/updater_prune.cc:74: tree pruning end, 1 roots, 16 extra nodes, 4 pruned nodes, max_depth=5\u001b[0m\n",
      "\u001b[34m[71]#011train-error:0.121267#011validation-error:0.1561\u001b[0m\n",
      "\u001b[34m[15:03:04] src/tree/updater_prune.cc:74: tree pruning end, 1 roots, 22 extra nodes, 10 pruned nodes, max_depth=5\u001b[0m\n",
      "\u001b[34m[72]#011train-error:0.120333#011validation-error:0.1554\u001b[0m\n",
      "\u001b[34m[15:03:06] src/tree/updater_prune.cc:74: tree pruning end, 1 roots, 30 extra nodes, 12 pruned nodes, max_depth=5\u001b[0m\n",
      "\u001b[34m[73]#011train-error:0.118933#011validation-error:0.1555\u001b[0m\n",
      "\u001b[34m[15:03:08] src/tree/updater_prune.cc:74: tree pruning end, 1 roots, 18 extra nodes, 2 pruned nodes, max_depth=5\u001b[0m\n",
      "\u001b[34m[74]#011train-error:0.1188#011validation-error:0.1553\u001b[0m\n",
      "\u001b[34m[15:03:09] src/tree/updater_prune.cc:74: tree pruning end, 1 roots, 32 extra nodes, 6 pruned nodes, max_depth=5\u001b[0m\n",
      "\u001b[34m[75]#011train-error:0.1176#011validation-error:0.1559\u001b[0m\n",
      "\u001b[34m[15:03:10] src/tree/updater_prune.cc:74: tree pruning end, 1 roots, 16 extra nodes, 8 pruned nodes, max_depth=5\u001b[0m\n",
      "\u001b[34m[76]#011train-error:0.1172#011validation-error:0.1549\u001b[0m\n",
      "\u001b[34m[15:03:12] src/tree/updater_prune.cc:74: tree pruning end, 1 roots, 16 extra nodes, 10 pruned nodes, max_depth=5\u001b[0m\n",
      "\u001b[34m[77]#011train-error:0.116067#011validation-error:0.154\u001b[0m\n",
      "\u001b[34m[15:03:13] src/tree/updater_prune.cc:74: tree pruning end, 1 roots, 20 extra nodes, 12 pruned nodes, max_depth=5\u001b[0m\n",
      "\u001b[34m[78]#011train-error:0.115933#011validation-error:0.1536\u001b[0m\n",
      "\u001b[34m[15:03:14] src/tree/updater_prune.cc:74: tree pruning end, 1 roots, 24 extra nodes, 2 pruned nodes, max_depth=5\u001b[0m\n",
      "\u001b[34m[79]#011train-error:0.1158#011validation-error:0.1531\u001b[0m\n",
      "\u001b[34m[15:03:16] src/tree/updater_prune.cc:74: tree pruning end, 1 roots, 14 extra nodes, 18 pruned nodes, max_depth=5\u001b[0m\n",
      "\u001b[34m[80]#011train-error:0.115667#011validation-error:0.1524\u001b[0m\n",
      "\u001b[34m[15:03:17] src/tree/updater_prune.cc:74: tree pruning end, 1 roots, 10 extra nodes, 8 pruned nodes, max_depth=5\u001b[0m\n",
      "\u001b[34m[81]#011train-error:0.114467#011validation-error:0.1518\u001b[0m\n",
      "\u001b[34m[15:03:19] src/tree/updater_prune.cc:74: tree pruning end, 1 roots, 20 extra nodes, 4 pruned nodes, max_depth=5\u001b[0m\n",
      "\u001b[34m[82]#011train-error:0.113933#011validation-error:0.1513\u001b[0m\n",
      "\u001b[34m[15:03:20] src/tree/updater_prune.cc:74: tree pruning end, 1 roots, 18 extra nodes, 6 pruned nodes, max_depth=5\u001b[0m\n",
      "\u001b[34m[83]#011train-error:0.1134#011validation-error:0.1514\u001b[0m\n",
      "\u001b[34m[15:03:21] src/tree/updater_prune.cc:74: tree pruning end, 1 roots, 12 extra nodes, 6 pruned nodes, max_depth=5\u001b[0m\n",
      "\u001b[34m[84]#011train-error:0.112133#011validation-error:0.1512\u001b[0m\n",
      "\u001b[34m[15:03:23] src/tree/updater_prune.cc:74: tree pruning end, 1 roots, 30 extra nodes, 10 pruned nodes, max_depth=5\u001b[0m\n",
      "\u001b[34m[85]#011train-error:0.110667#011validation-error:0.1504\u001b[0m\n",
      "\u001b[34m[15:03:24] src/tree/updater_prune.cc:74: tree pruning end, 1 roots, 30 extra nodes, 16 pruned nodes, max_depth=5\u001b[0m\n",
      "\u001b[34m[86]#011train-error:0.111467#011validation-error:0.15\u001b[0m\n",
      "\u001b[34m[15:03:25] src/tree/updater_prune.cc:74: tree pruning end, 1 roots, 16 extra nodes, 16 pruned nodes, max_depth=5\u001b[0m\n",
      "\u001b[34m[87]#011train-error:0.1106#011validation-error:0.15\u001b[0m\n",
      "\u001b[34m[15:03:27] src/tree/updater_prune.cc:74: tree pruning end, 1 roots, 42 extra nodes, 10 pruned nodes, max_depth=5\u001b[0m\n",
      "\u001b[34m[88]#011train-error:0.1096#011validation-error:0.1498\u001b[0m\n",
      "\u001b[34m[15:03:28] src/tree/updater_prune.cc:74: tree pruning end, 1 roots, 18 extra nodes, 4 pruned nodes, max_depth=5\u001b[0m\n",
      "\u001b[34m[89]#011train-error:0.1086#011validation-error:0.1499\u001b[0m\n"
     ]
    },
    {
     "name": "stdout",
     "output_type": "stream",
     "text": [
      "\u001b[34m[15:03:29] src/tree/updater_prune.cc:74: tree pruning end, 1 roots, 12 extra nodes, 4 pruned nodes, max_depth=5\u001b[0m\n",
      "\u001b[34m[90]#011train-error:0.1086#011validation-error:0.1494\u001b[0m\n",
      "\u001b[34m[15:03:31] src/tree/updater_prune.cc:74: tree pruning end, 1 roots, 18 extra nodes, 16 pruned nodes, max_depth=5\u001b[0m\n",
      "\u001b[34m[91]#011train-error:0.1088#011validation-error:0.15\u001b[0m\n",
      "\u001b[34m[15:03:32] src/tree/updater_prune.cc:74: tree pruning end, 1 roots, 18 extra nodes, 14 pruned nodes, max_depth=5\u001b[0m\n",
      "\u001b[34m[92]#011train-error:0.108333#011validation-error:0.149\u001b[0m\n",
      "\u001b[34m[15:03:34] src/tree/updater_prune.cc:74: tree pruning end, 1 roots, 16 extra nodes, 8 pruned nodes, max_depth=5\u001b[0m\n",
      "\u001b[34m[93]#011train-error:0.106733#011validation-error:0.1484\u001b[0m\n",
      "\u001b[34m[15:03:35] src/tree/updater_prune.cc:74: tree pruning end, 1 roots, 12 extra nodes, 4 pruned nodes, max_depth=5\u001b[0m\n",
      "\u001b[34m[94]#011train-error:0.106333#011validation-error:0.1482\u001b[0m\n",
      "\u001b[34m[15:03:36] src/tree/updater_prune.cc:74: tree pruning end, 1 roots, 18 extra nodes, 6 pruned nodes, max_depth=5\u001b[0m\n",
      "\u001b[34m[95]#011train-error:0.105933#011validation-error:0.1484\u001b[0m\n",
      "\u001b[34m[15:03:38] src/tree/updater_prune.cc:74: tree pruning end, 1 roots, 24 extra nodes, 4 pruned nodes, max_depth=5\u001b[0m\n",
      "\u001b[34m[96]#011train-error:0.1052#011validation-error:0.1477\u001b[0m\n",
      "\u001b[34m[15:03:39] src/tree/updater_prune.cc:74: tree pruning end, 1 roots, 32 extra nodes, 0 pruned nodes, max_depth=5\u001b[0m\n",
      "\u001b[34m[97]#011train-error:0.104067#011validation-error:0.1481\u001b[0m\n",
      "\u001b[34m[15:03:40] src/tree/updater_prune.cc:74: tree pruning end, 1 roots, 26 extra nodes, 4 pruned nodes, max_depth=5\u001b[0m\n",
      "\u001b[34m[98]#011train-error:0.103333#011validation-error:0.1491\u001b[0m\n",
      "\u001b[34m[15:03:42] src/tree/updater_prune.cc:74: tree pruning end, 1 roots, 16 extra nodes, 16 pruned nodes, max_depth=5\u001b[0m\n",
      "\u001b[34m[99]#011train-error:0.1032#011validation-error:0.1479\u001b[0m\n",
      "\u001b[34m[15:03:43] src/tree/updater_prune.cc:74: tree pruning end, 1 roots, 14 extra nodes, 12 pruned nodes, max_depth=5\u001b[0m\n",
      "\u001b[34m[100]#011train-error:0.102867#011validation-error:0.1486\u001b[0m\n",
      "\u001b[34m[15:03:44] src/tree/updater_prune.cc:74: tree pruning end, 1 roots, 18 extra nodes, 10 pruned nodes, max_depth=5\u001b[0m\n",
      "\u001b[34m[101]#011train-error:0.102#011validation-error:0.1481\u001b[0m\n",
      "\u001b[34m[15:03:46] src/tree/updater_prune.cc:74: tree pruning end, 1 roots, 18 extra nodes, 6 pruned nodes, max_depth=5\u001b[0m\n",
      "\u001b[34m[102]#011train-error:0.1012#011validation-error:0.148\u001b[0m\n",
      "\u001b[34m[15:03:47] src/tree/updater_prune.cc:74: tree pruning end, 1 roots, 14 extra nodes, 10 pruned nodes, max_depth=5\u001b[0m\n",
      "\u001b[34m[103]#011train-error:0.101267#011validation-error:0.1478\u001b[0m\n",
      "\u001b[34m[15:03:49] src/tree/updater_prune.cc:74: tree pruning end, 1 roots, 28 extra nodes, 6 pruned nodes, max_depth=5\u001b[0m\n",
      "\u001b[34m[104]#011train-error:0.100267#011validation-error:0.1478\u001b[0m\n",
      "\u001b[34m[15:03:50] src/tree/updater_prune.cc:74: tree pruning end, 1 roots, 20 extra nodes, 8 pruned nodes, max_depth=5\u001b[0m\n",
      "\u001b[34m[105]#011train-error:0.0998#011validation-error:0.148\u001b[0m\n",
      "\u001b[34m[15:03:51] src/tree/updater_prune.cc:74: tree pruning end, 1 roots, 20 extra nodes, 8 pruned nodes, max_depth=5\u001b[0m\n",
      "\u001b[34m[106]#011train-error:0.0992#011validation-error:0.1469\u001b[0m\n",
      "\u001b[34m[15:03:53] src/tree/updater_prune.cc:74: tree pruning end, 1 roots, 18 extra nodes, 2 pruned nodes, max_depth=5\u001b[0m\n",
      "\u001b[34m[107]#011train-error:0.098667#011validation-error:0.1458\u001b[0m\n",
      "\u001b[34m[15:03:54] src/tree/updater_prune.cc:74: tree pruning end, 1 roots, 20 extra nodes, 6 pruned nodes, max_depth=5\u001b[0m\n",
      "\u001b[34m[108]#011train-error:0.098467#011validation-error:0.1459\u001b[0m\n",
      "\u001b[34m[15:03:55] src/tree/updater_prune.cc:74: tree pruning end, 1 roots, 14 extra nodes, 10 pruned nodes, max_depth=5\u001b[0m\n",
      "\u001b[34m[109]#011train-error:0.097667#011validation-error:0.1463\u001b[0m\n",
      "\u001b[34m[15:03:57] src/tree/updater_prune.cc:74: tree pruning end, 1 roots, 18 extra nodes, 4 pruned nodes, max_depth=5\u001b[0m\n",
      "\u001b[34m[110]#011train-error:0.098333#011validation-error:0.1472\u001b[0m\n",
      "\u001b[34m[15:03:58] src/tree/updater_prune.cc:74: tree pruning end, 1 roots, 30 extra nodes, 10 pruned nodes, max_depth=5\u001b[0m\n",
      "\u001b[34m[111]#011train-error:0.096667#011validation-error:0.1458\u001b[0m\n",
      "\u001b[34m[15:03:59] src/tree/updater_prune.cc:74: tree pruning end, 1 roots, 12 extra nodes, 6 pruned nodes, max_depth=5\u001b[0m\n",
      "\u001b[34m[112]#011train-error:0.096267#011validation-error:0.1458\u001b[0m\n",
      "\u001b[34m[15:04:01] src/tree/updater_prune.cc:74: tree pruning end, 1 roots, 28 extra nodes, 12 pruned nodes, max_depth=5\u001b[0m\n",
      "\u001b[34m[113]#011train-error:0.096133#011validation-error:0.1448\u001b[0m\n",
      "\u001b[34m[15:04:02] src/tree/updater_prune.cc:74: tree pruning end, 1 roots, 30 extra nodes, 16 pruned nodes, max_depth=5\u001b[0m\n",
      "\u001b[34m[114]#011train-error:0.0946#011validation-error:0.1455\u001b[0m\n",
      "\u001b[34m[15:04:04] src/tree/updater_prune.cc:74: tree pruning end, 1 roots, 32 extra nodes, 8 pruned nodes, max_depth=5\u001b[0m\n",
      "\u001b[34m[115]#011train-error:0.0948#011validation-error:0.1443\u001b[0m\n",
      "\u001b[34m[15:04:05] src/tree/updater_prune.cc:74: tree pruning end, 1 roots, 26 extra nodes, 4 pruned nodes, max_depth=5\u001b[0m\n",
      "\u001b[34m[116]#011train-error:0.093733#011validation-error:0.1444\u001b[0m\n",
      "\u001b[34m[15:04:07] src/tree/updater_prune.cc:74: tree pruning end, 1 roots, 16 extra nodes, 10 pruned nodes, max_depth=5\u001b[0m\n",
      "\u001b[34m[117]#011train-error:0.0936#011validation-error:0.1451\u001b[0m\n",
      "\u001b[34m[15:04:08] src/tree/updater_prune.cc:74: tree pruning end, 1 roots, 24 extra nodes, 10 pruned nodes, max_depth=5\u001b[0m\n",
      "\u001b[34m[118]#011train-error:0.0924#011validation-error:0.1448\u001b[0m\n",
      "\u001b[34m[15:04:10] src/tree/updater_prune.cc:74: tree pruning end, 1 roots, 12 extra nodes, 10 pruned nodes, max_depth=5\u001b[0m\n",
      "\u001b[34m[119]#011train-error:0.092667#011validation-error:0.1445\u001b[0m\n",
      "\u001b[34m[15:04:11] src/tree/updater_prune.cc:74: tree pruning end, 1 roots, 14 extra nodes, 14 pruned nodes, max_depth=5\u001b[0m\n",
      "\u001b[34m[120]#011train-error:0.092533#011validation-error:0.1437\u001b[0m\n",
      "\u001b[34m[15:04:13] src/tree/updater_prune.cc:74: tree pruning end, 1 roots, 16 extra nodes, 4 pruned nodes, max_depth=5\u001b[0m\n",
      "\u001b[34m[121]#011train-error:0.091467#011validation-error:0.1438\u001b[0m\n",
      "\u001b[34m[15:04:14] src/tree/updater_prune.cc:74: tree pruning end, 1 roots, 16 extra nodes, 8 pruned nodes, max_depth=5\u001b[0m\n",
      "\u001b[34m[122]#011train-error:0.091#011validation-error:0.1437\u001b[0m\n",
      "\u001b[34m[15:04:15] src/tree/updater_prune.cc:74: tree pruning end, 1 roots, 16 extra nodes, 16 pruned nodes, max_depth=5\u001b[0m\n",
      "\u001b[34m[123]#011train-error:0.091333#011validation-error:0.1444\u001b[0m\n",
      "\u001b[34m[15:04:17] src/tree/updater_prune.cc:74: tree pruning end, 1 roots, 24 extra nodes, 12 pruned nodes, max_depth=5\u001b[0m\n",
      "\u001b[34m[124]#011train-error:0.090867#011validation-error:0.1443\u001b[0m\n",
      "\u001b[34m[15:04:18] src/tree/updater_prune.cc:74: tree pruning end, 1 roots, 12 extra nodes, 2 pruned nodes, max_depth=5\u001b[0m\n",
      "\u001b[34m[125]#011train-error:0.090733#011validation-error:0.1445\u001b[0m\n",
      "\u001b[34m[15:04:20] src/tree/updater_prune.cc:74: tree pruning end, 1 roots, 10 extra nodes, 0 pruned nodes, max_depth=5\u001b[0m\n",
      "\u001b[34m[126]#011train-error:0.0906#011validation-error:0.1442\u001b[0m\n",
      "\u001b[34m[15:04:21] src/tree/updater_prune.cc:74: tree pruning end, 1 roots, 16 extra nodes, 4 pruned nodes, max_depth=5\u001b[0m\n",
      "\u001b[34m[127]#011train-error:0.090133#011validation-error:0.1437\u001b[0m\n",
      "\u001b[34m[15:04:22] src/tree/updater_prune.cc:74: tree pruning end, 1 roots, 14 extra nodes, 2 pruned nodes, max_depth=5\u001b[0m\n",
      "\u001b[34m[128]#011train-error:0.0904#011validation-error:0.1432\u001b[0m\n",
      "\u001b[34m[15:04:24] src/tree/updater_prune.cc:74: tree pruning end, 1 roots, 12 extra nodes, 2 pruned nodes, max_depth=5\u001b[0m\n",
      "\u001b[34m[129]#011train-error:0.089933#011validation-error:0.1432\u001b[0m\n",
      "\u001b[34m[15:04:25] src/tree/updater_prune.cc:74: tree pruning end, 1 roots, 10 extra nodes, 6 pruned nodes, max_depth=5\u001b[0m\n",
      "\u001b[34m[130]#011train-error:0.0894#011validation-error:0.1429\u001b[0m\n",
      "\u001b[34m[15:04:27] src/tree/updater_prune.cc:74: tree pruning end, 1 roots, 12 extra nodes, 4 pruned nodes, max_depth=5\u001b[0m\n",
      "\u001b[34m[131]#011train-error:0.089067#011validation-error:0.1427\u001b[0m\n",
      "\u001b[34m[15:04:28] src/tree/updater_prune.cc:74: tree pruning end, 1 roots, 28 extra nodes, 12 pruned nodes, max_depth=5\u001b[0m\n",
      "\u001b[34m[132]#011train-error:0.0888#011validation-error:0.1418\u001b[0m\n",
      "\u001b[34m[15:04:29] src/tree/updater_prune.cc:74: tree pruning end, 1 roots, 10 extra nodes, 8 pruned nodes, max_depth=5\u001b[0m\n",
      "\u001b[34m[133]#011train-error:0.088467#011validation-error:0.1413\u001b[0m\n"
     ]
    },
    {
     "name": "stdout",
     "output_type": "stream",
     "text": [
      "\u001b[34m[15:04:31] src/tree/updater_prune.cc:74: tree pruning end, 1 roots, 12 extra nodes, 6 pruned nodes, max_depth=5\u001b[0m\n",
      "\u001b[34m[134]#011train-error:0.088133#011validation-error:0.1417\u001b[0m\n",
      "\u001b[34m[15:04:32] src/tree/updater_prune.cc:74: tree pruning end, 1 roots, 10 extra nodes, 4 pruned nodes, max_depth=5\u001b[0m\n",
      "\u001b[34m[135]#011train-error:0.087933#011validation-error:0.1424\u001b[0m\n",
      "\u001b[34m[15:04:33] src/tree/updater_prune.cc:74: tree pruning end, 1 roots, 12 extra nodes, 2 pruned nodes, max_depth=5\u001b[0m\n",
      "\u001b[34m[136]#011train-error:0.0878#011validation-error:0.1428\u001b[0m\n",
      "\u001b[34m[15:04:35] src/tree/updater_prune.cc:74: tree pruning end, 1 roots, 16 extra nodes, 12 pruned nodes, max_depth=5\u001b[0m\n",
      "\u001b[34m[137]#011train-error:0.0878#011validation-error:0.1417\u001b[0m\n",
      "\u001b[34m[15:04:36] src/tree/updater_prune.cc:74: tree pruning end, 1 roots, 22 extra nodes, 18 pruned nodes, max_depth=5\u001b[0m\n",
      "\u001b[34m[138]#011train-error:0.0866#011validation-error:0.1415\u001b[0m\n",
      "\u001b[34m[15:04:37] src/tree/updater_prune.cc:74: tree pruning end, 1 roots, 16 extra nodes, 20 pruned nodes, max_depth=5\u001b[0m\n",
      "\u001b[34m[139]#011train-error:0.086533#011validation-error:0.1415\u001b[0m\n",
      "\u001b[34m[15:04:39] src/tree/updater_prune.cc:74: tree pruning end, 1 roots, 18 extra nodes, 8 pruned nodes, max_depth=5\u001b[0m\n",
      "\u001b[34m[140]#011train-error:0.0856#011validation-error:0.1418\u001b[0m\n",
      "\u001b[34m[15:04:40] src/tree/updater_prune.cc:74: tree pruning end, 1 roots, 40 extra nodes, 8 pruned nodes, max_depth=5\u001b[0m\n",
      "\u001b[34m[141]#011train-error:0.084933#011validation-error:0.1421\u001b[0m\n",
      "\n",
      "2021-03-25 15:04:54 Uploading - Uploading generated training model\n",
      "2021-03-25 15:04:54 Completed - Training job completed\n",
      "\u001b[34m[15:04:41] src/tree/updater_prune.cc:74: tree pruning end, 1 roots, 14 extra nodes, 18 pruned nodes, max_depth=5\u001b[0m\n",
      "\u001b[34m[142]#011train-error:0.083933#011validation-error:0.1419\u001b[0m\n",
      "\u001b[34m[15:04:43] src/tree/updater_prune.cc:74: tree pruning end, 1 roots, 12 extra nodes, 16 pruned nodes, max_depth=5\u001b[0m\n",
      "\u001b[34m[143]#011train-error:0.083933#011validation-error:0.1413\u001b[0m\n",
      "\u001b[34mStopping. Best iteration:\u001b[0m\n",
      "\u001b[34m[133]#011train-error:0.088467#011validation-error:0.1413\n",
      "\u001b[0m\n",
      "Training seconds: 275\n",
      "Billable seconds: 275\n"
     ]
    }
   ],
   "source": [
    "xgb.fit({'train': s3_input_train, 'validation': s3_input_validation})"
   ]
  },
  {
   "cell_type": "markdown",
   "metadata": {},
   "source": [
    "## Step 5: Testing the model\n",
    "\n",
    "Now that we've fit our XGBoost model, it's time to see how well it performs. To do this we will use SageMakers Batch Transform functionality. Batch Transform is a convenient way to perform inference on a large dataset in a way that is not realtime. That is, we don't necessarily need to use our model's results immediately and instead we can perform inference on a large number of samples. An example of this in industry might be performing an end of month report. This method of inference can also be useful to us as it means that we can perform inference on our entire test set. \n",
    "\n",
    "To perform a Batch Transformation we need to first create a transformer objects from our trained estimator object."
   ]
  },
  {
   "cell_type": "code",
   "execution_count": 25,
   "metadata": {},
   "outputs": [
    {
     "name": "stderr",
     "output_type": "stream",
     "text": [
      "Parameter image will be renamed to image_uri in SageMaker Python SDK v2.\n"
     ]
    }
   ],
   "source": [
    "xgb_transformer = xgb.transformer(instance_count = 1, instance_type = 'ml.m4.xlarge')"
   ]
  },
  {
   "cell_type": "markdown",
   "metadata": {},
   "source": [
    "Next we actually perform the transform job. When doing so we need to make sure to specify the type of data we are sending so that it is serialized correctly in the background. In our case we are providing our model with csv data so we specify `text/csv`. Also, if the test data that we have provided is too large to process all at once then we need to specify how the data file should be split up. Since each line is a single entry in our data set we tell SageMaker that it can split the input on each line."
   ]
  },
  {
   "cell_type": "code",
   "execution_count": 26,
   "metadata": {},
   "outputs": [],
   "source": [
    "xgb_transformer.transform(test_location, content_type='text/csv', split_type='Line')"
   ]
  },
  {
   "cell_type": "markdown",
   "metadata": {},
   "source": [
    "Currently the transform job is running but it is doing so in the background. Since we wish to wait until the transform job is done and we would like a bit of feedback we can run the `wait()` method."
   ]
  },
  {
   "cell_type": "code",
   "execution_count": 27,
   "metadata": {},
   "outputs": [
    {
     "name": "stdout",
     "output_type": "stream",
     "text": [
      ".............................\u001b[34mArguments: serve\u001b[0m\n",
      "\u001b[35mArguments: serve\u001b[0m\n",
      "\u001b[34m[2021-03-25 15:09:48 +0000] [1] [INFO] Starting gunicorn 19.9.0\u001b[0m\n",
      "\u001b[35m[2021-03-25 15:09:48 +0000] [1] [INFO] Starting gunicorn 19.9.0\u001b[0m\n",
      "\u001b[34m[2021-03-25 15:09:48 +0000] [1] [INFO] Listening at: http://0.0.0.0:8080 (1)\u001b[0m\n",
      "\u001b[34m[2021-03-25 15:09:48 +0000] [1] [INFO] Using worker: gevent\u001b[0m\n",
      "\u001b[34m[2021-03-25 15:09:48 +0000] [20] [INFO] Booting worker with pid: 20\u001b[0m\n",
      "\u001b[34m[2021-03-25 15:09:48 +0000] [21] [INFO] Booting worker with pid: 21\u001b[0m\n",
      "\u001b[34m[2021-03-25 15:09:48 +0000] [22] [INFO] Booting worker with pid: 22\u001b[0m\n",
      "\u001b[34m/opt/amazon/lib/python3.7/site-packages/gunicorn/workers/ggevent.py:65: MonkeyPatchWarning: Monkey-patching ssl after ssl has already been imported may lead to errors, including RecursionError on Python 3.6. It may also silently lead to incorrect behaviour on Python 3.7. Please monkey-patch earlier. See https://github.com/gevent/gevent/issues/1016. Modules that had direct imports (NOT patched): ['requests.packages.urllib3.util (/opt/amazon/lib/python3.7/site-packages/requests/packages/urllib3/util/__init__.py)', 'requests.packages.urllib3.util.ssl_ (/opt/amazon/lib/python3.7/site-packages/requests/packages/urllib3/util/ssl_.py)']. \n",
      "  monkey.patch_all(subprocess=True)\u001b[0m\n",
      "\u001b[34m/opt/amazon/lib/python3.7/site-packages/gunicorn/workers/ggevent.py:65: MonkeyPatchWarning: Monkey-patching ssl after ssl has already been imported may lead to errors, including RecursionError on Python 3.6. It may also silently lead to incorrect behaviour on Python 3.7. Please monkey-patch earlier. See https://github.com/gevent/gevent/issues/1016. Modules that had direct imports (NOT patched): ['requests.packages.urllib3.util (/opt/amazon/lib/python3.7/site-packages/requests/packages/urllib3/util/__init__.py)', 'requests.packages.urllib3.util.ssl_ (/opt/amazon/lib/python3.7/site-packages/requests/packages/urllib3/util/ssl_.py)']. \n",
      "  monkey.patch_all(subprocess=True)\u001b[0m\n",
      "\u001b[34m[2021-03-25:15:09:48:INFO] Model loaded successfully for worker : 21\u001b[0m\n",
      "\u001b[34m[2021-03-25:15:09:48:INFO] Model loaded successfully for worker : 20\u001b[0m\n",
      "\u001b[34m[2021-03-25 15:09:48 +0000] [23] [INFO] Booting worker with pid: 23\u001b[0m\n",
      "\u001b[34m/opt/amazon/lib/python3.7/site-packages/gunicorn/workers/ggevent.py:65: MonkeyPatchWarning: Monkey-patching ssl after ssl has already been imported may lead to errors, including RecursionError on Python 3.6. It may also silently lead to incorrect behaviour on Python 3.7. Please monkey-patch earlier. See https://github.com/gevent/gevent/issues/1016. Modules that had direct imports (NOT patched): ['requests.packages.urllib3.util (/opt/amazon/lib/python3.7/site-packages/requests/packages/urllib3/util/__init__.py)', 'requests.packages.urllib3.util.ssl_ (/opt/amazon/lib/python3.7/site-packages/requests/packages/urllib3/util/ssl_.py)']. \n",
      "  monkey.patch_all(subprocess=True)\u001b[0m\n",
      "\u001b[34m[2021-03-25:15:09:48:INFO] Model loaded successfully for worker : 22\u001b[0m\n",
      "\u001b[35m[2021-03-25 15:09:48 +0000] [1] [INFO] Listening at: http://0.0.0.0:8080 (1)\u001b[0m\n",
      "\u001b[35m[2021-03-25 15:09:48 +0000] [1] [INFO] Using worker: gevent\u001b[0m\n",
      "\u001b[35m[2021-03-25 15:09:48 +0000] [20] [INFO] Booting worker with pid: 20\u001b[0m\n",
      "\u001b[35m[2021-03-25 15:09:48 +0000] [21] [INFO] Booting worker with pid: 21\u001b[0m\n",
      "\u001b[35m[2021-03-25 15:09:48 +0000] [22] [INFO] Booting worker with pid: 22\u001b[0m\n",
      "\u001b[35m/opt/amazon/lib/python3.7/site-packages/gunicorn/workers/ggevent.py:65: MonkeyPatchWarning: Monkey-patching ssl after ssl has already been imported may lead to errors, including RecursionError on Python 3.6. It may also silently lead to incorrect behaviour on Python 3.7. Please monkey-patch earlier. See https://github.com/gevent/gevent/issues/1016. Modules that had direct imports (NOT patched): ['requests.packages.urllib3.util (/opt/amazon/lib/python3.7/site-packages/requests/packages/urllib3/util/__init__.py)', 'requests.packages.urllib3.util.ssl_ (/opt/amazon/lib/python3.7/site-packages/requests/packages/urllib3/util/ssl_.py)']. \n",
      "  monkey.patch_all(subprocess=True)\u001b[0m\n",
      "\u001b[35m/opt/amazon/lib/python3.7/site-packages/gunicorn/workers/ggevent.py:65: MonkeyPatchWarning: Monkey-patching ssl after ssl has already been imported may lead to errors, including RecursionError on Python 3.6. It may also silently lead to incorrect behaviour on Python 3.7. Please monkey-patch earlier. See https://github.com/gevent/gevent/issues/1016. Modules that had direct imports (NOT patched): ['requests.packages.urllib3.util (/opt/amazon/lib/python3.7/site-packages/requests/packages/urllib3/util/__init__.py)', 'requests.packages.urllib3.util.ssl_ (/opt/amazon/lib/python3.7/site-packages/requests/packages/urllib3/util/ssl_.py)']. \n",
      "  monkey.patch_all(subprocess=True)\u001b[0m\n",
      "\u001b[35m[2021-03-25:15:09:48:INFO] Model loaded successfully for worker : 21\u001b[0m\n",
      "\u001b[35m[2021-03-25:15:09:48:INFO] Model loaded successfully for worker : 20\u001b[0m\n",
      "\u001b[35m[2021-03-25 15:09:48 +0000] [23] [INFO] Booting worker with pid: 23\u001b[0m\n",
      "\u001b[35m/opt/amazon/lib/python3.7/site-packages/gunicorn/workers/ggevent.py:65: MonkeyPatchWarning: Monkey-patching ssl after ssl has already been imported may lead to errors, including RecursionError on Python 3.6. It may also silently lead to incorrect behaviour on Python 3.7. Please monkey-patch earlier. See https://github.com/gevent/gevent/issues/1016. Modules that had direct imports (NOT patched): ['requests.packages.urllib3.util (/opt/amazon/lib/python3.7/site-packages/requests/packages/urllib3/util/__init__.py)', 'requests.packages.urllib3.util.ssl_ (/opt/amazon/lib/python3.7/site-packages/requests/packages/urllib3/util/ssl_.py)']. \n",
      "  monkey.patch_all(subprocess=True)\u001b[0m\n",
      "\u001b[35m[2021-03-25:15:09:48:INFO] Model loaded successfully for worker : 22\u001b[0m\n",
      "\u001b[34m/opt/amazon/lib/python3.7/site-packages/gunicorn/workers/ggevent.py:65: MonkeyPatchWarning: Monkey-patching ssl after ssl has already been imported may lead to errors, including RecursionError on Python 3.6. It may also silently lead to incorrect behaviour on Python 3.7. Please monkey-patch earlier. See https://github.com/gevent/gevent/issues/1016. Modules that had direct imports (NOT patched): ['requests.packages.urllib3.util (/opt/amazon/lib/python3.7/site-packages/requests/packages/urllib3/util/__init__.py)', 'requests.packages.urllib3.util.ssl_ (/opt/amazon/lib/python3.7/site-packages/requests/packages/urllib3/util/ssl_.py)']. \n",
      "  monkey.patch_all(subprocess=True)\u001b[0m\n",
      "\u001b[34m[2021-03-25:15:09:48:INFO] Model loaded successfully for worker : 23\u001b[0m\n",
      "\u001b[35m/opt/amazon/lib/python3.7/site-packages/gunicorn/workers/ggevent.py:65: MonkeyPatchWarning: Monkey-patching ssl after ssl has already been imported may lead to errors, including RecursionError on Python 3.6. It may also silently lead to incorrect behaviour on Python 3.7. Please monkey-patch earlier. See https://github.com/gevent/gevent/issues/1016. Modules that had direct imports (NOT patched): ['requests.packages.urllib3.util (/opt/amazon/lib/python3.7/site-packages/requests/packages/urllib3/util/__init__.py)', 'requests.packages.urllib3.util.ssl_ (/opt/amazon/lib/python3.7/site-packages/requests/packages/urllib3/util/ssl_.py)']. \n",
      "  monkey.patch_all(subprocess=True)\u001b[0m\n",
      "\u001b[35m[2021-03-25:15:09:48:INFO] Model loaded successfully for worker : 23\u001b[0m\n",
      "\u001b[32m2021-03-25T15:09:52.370:[sagemaker logs]: MaxConcurrentTransforms=4, MaxPayloadInMB=6, BatchStrategy=MULTI_RECORD\u001b[0m\n",
      "\u001b[34m[2021-03-25:15:09:55:INFO] Sniff delimiter as ','\u001b[0m\n",
      "\u001b[34m[2021-03-25:15:09:55:INFO] Determined delimiter of CSV input is ','\u001b[0m\n",
      "\u001b[34m[2021-03-25:15:09:56:INFO] Sniff delimiter as ','\u001b[0m\n",
      "\u001b[34m[2021-03-25:15:09:56:INFO] Determined delimiter of CSV input is ','\u001b[0m\n",
      "\u001b[34m[2021-03-25:15:09:56:INFO] Sniff delimiter as ','\u001b[0m\n",
      "\u001b[34m[2021-03-25:15:09:56:INFO] Determined delimiter of CSV input is ','\u001b[0m\n",
      "\u001b[35m[2021-03-25:15:09:55:INFO] Sniff delimiter as ','\u001b[0m\n",
      "\u001b[35m[2021-03-25:15:09:55:INFO] Determined delimiter of CSV input is ','\u001b[0m\n",
      "\u001b[35m[2021-03-25:15:09:56:INFO] Sniff delimiter as ','\u001b[0m\n",
      "\u001b[35m[2021-03-25:15:09:56:INFO] Determined delimiter of CSV input is ','\u001b[0m\n",
      "\u001b[35m[2021-03-25:15:09:56:INFO] Sniff delimiter as ','\u001b[0m\n",
      "\u001b[35m[2021-03-25:15:09:56:INFO] Determined delimiter of CSV input is ','\u001b[0m\n",
      "\u001b[34m[2021-03-25:15:09:59:INFO] Sniff delimiter as ','\u001b[0m\n",
      "\u001b[34m[2021-03-25:15:09:59:INFO] Determined delimiter of CSV input is ','\u001b[0m\n",
      "\u001b[34m[2021-03-25:15:09:59:INFO] Sniff delimiter as ','\u001b[0m\n",
      "\u001b[34m[2021-03-25:15:09:59:INFO] Determined delimiter of CSV input is ','\u001b[0m\n",
      "\u001b[35m[2021-03-25:15:09:59:INFO] Sniff delimiter as ','\u001b[0m\n",
      "\u001b[35m[2021-03-25:15:09:59:INFO] Determined delimiter of CSV input is ','\u001b[0m\n",
      "\u001b[35m[2021-03-25:15:09:59:INFO] Sniff delimiter as ','\u001b[0m\n",
      "\u001b[35m[2021-03-25:15:09:59:INFO] Determined delimiter of CSV input is ','\u001b[0m\n",
      "\u001b[34m[2021-03-25:15:09:59:INFO] Sniff delimiter as ','\u001b[0m\n",
      "\u001b[34m[2021-03-25:15:09:59:INFO] Determined delimiter of CSV input is ','\u001b[0m\n",
      "\u001b[34m[2021-03-25:15:09:59:INFO] Sniff delimiter as ','\u001b[0m\n",
      "\u001b[34m[2021-03-25:15:09:59:INFO] Determined delimiter of CSV input is ','\u001b[0m\n",
      "\u001b[35m[2021-03-25:15:09:59:INFO] Sniff delimiter as ','\u001b[0m\n",
      "\u001b[35m[2021-03-25:15:09:59:INFO] Determined delimiter of CSV input is ','\u001b[0m\n",
      "\u001b[35m[2021-03-25:15:09:59:INFO] Sniff delimiter as ','\u001b[0m\n",
      "\u001b[35m[2021-03-25:15:09:59:INFO] Determined delimiter of CSV input is ','\u001b[0m\n",
      "\u001b[34m[2021-03-25:15:10:03:INFO] Sniff delimiter as ','\u001b[0m\n",
      "\u001b[34m[2021-03-25:15:10:03:INFO] Determined delimiter of CSV input is ','\u001b[0m\n",
      "\u001b[34m[2021-03-25:15:10:03:INFO] Sniff delimiter as ','\u001b[0m\n",
      "\u001b[34m[2021-03-25:15:10:03:INFO] Determined delimiter of CSV input is ','\u001b[0m\n",
      "\u001b[34m[2021-03-25:15:10:03:INFO] Sniff delimiter as ','\u001b[0m\n",
      "\u001b[35m[2021-03-25:15:10:03:INFO] Sniff delimiter as ','\u001b[0m\n",
      "\u001b[35m[2021-03-25:15:10:03:INFO] Determined delimiter of CSV input is ','\u001b[0m\n",
      "\u001b[35m[2021-03-25:15:10:03:INFO] Sniff delimiter as ','\u001b[0m\n",
      "\u001b[35m[2021-03-25:15:10:03:INFO] Determined delimiter of CSV input is ','\u001b[0m\n",
      "\u001b[35m[2021-03-25:15:10:03:INFO] Sniff delimiter as ','\u001b[0m\n",
      "\u001b[34m[2021-03-25:15:10:03:INFO] Determined delimiter of CSV input is ','\u001b[0m\n",
      "\u001b[35m[2021-03-25:15:10:03:INFO] Determined delimiter of CSV input is ','\u001b[0m\n",
      "\u001b[34m[2021-03-25:15:10:03:INFO] Sniff delimiter as ','\u001b[0m\n",
      "\u001b[34m[2021-03-25:15:10:03:INFO] Determined delimiter of CSV input is ','\u001b[0m\n",
      "\u001b[35m[2021-03-25:15:10:03:INFO] Sniff delimiter as ','\u001b[0m\n",
      "\u001b[35m[2021-03-25:15:10:03:INFO] Determined delimiter of CSV input is ','\u001b[0m\n"
     ]
    },
    {
     "name": "stdout",
     "output_type": "stream",
     "text": [
      "\u001b[34m[2021-03-25:15:10:07:INFO] Sniff delimiter as ','\u001b[0m\n",
      "\u001b[34m[2021-03-25:15:10:07:INFO] Determined delimiter of CSV input is ','\u001b[0m\n",
      "\u001b[34m[2021-03-25:15:10:07:INFO] Sniff delimiter as ','\u001b[0m\n",
      "\u001b[34m[2021-03-25:15:10:07:INFO] Determined delimiter of CSV input is ','\u001b[0m\n",
      "\u001b[35m[2021-03-25:15:10:07:INFO] Sniff delimiter as ','\u001b[0m\n",
      "\u001b[35m[2021-03-25:15:10:07:INFO] Determined delimiter of CSV input is ','\u001b[0m\n",
      "\u001b[35m[2021-03-25:15:10:07:INFO] Sniff delimiter as ','\u001b[0m\n",
      "\u001b[35m[2021-03-25:15:10:07:INFO] Determined delimiter of CSV input is ','\u001b[0m\n",
      "\u001b[34m[2021-03-25:15:10:07:INFO] Sniff delimiter as ','\u001b[0m\n",
      "\u001b[34m[2021-03-25:15:10:07:INFO] Determined delimiter of CSV input is ','\u001b[0m\n",
      "\u001b[35m[2021-03-25:15:10:07:INFO] Sniff delimiter as ','\u001b[0m\n",
      "\u001b[35m[2021-03-25:15:10:07:INFO] Determined delimiter of CSV input is ','\u001b[0m\n",
      "\u001b[34m[2021-03-25:15:10:10:INFO] Sniff delimiter as ','\u001b[0m\n",
      "\u001b[34m[2021-03-25:15:10:10:INFO] Determined delimiter of CSV input is ','\u001b[0m\n",
      "\u001b[35m[2021-03-25:15:10:10:INFO] Sniff delimiter as ','\u001b[0m\n",
      "\u001b[35m[2021-03-25:15:10:10:INFO] Determined delimiter of CSV input is ','\u001b[0m\n",
      "\u001b[34m[2021-03-25:15:10:11:INFO] Sniff delimiter as ','\u001b[0m\n",
      "\u001b[34m[2021-03-25:15:10:11:INFO] Determined delimiter of CSV input is ','\u001b[0m\n",
      "\u001b[34m[2021-03-25:15:10:11:INFO] Sniff delimiter as ','\u001b[0m\n",
      "\u001b[34m[2021-03-25:15:10:11:INFO] Determined delimiter of CSV input is ','\u001b[0m\n",
      "\u001b[34m[2021-03-25:15:10:11:INFO] Sniff delimiter as ','\u001b[0m\n",
      "\u001b[34m[2021-03-25:15:10:11:INFO] Determined delimiter of CSV input is ','\u001b[0m\n",
      "\u001b[35m[2021-03-25:15:10:11:INFO] Sniff delimiter as ','\u001b[0m\n",
      "\u001b[35m[2021-03-25:15:10:11:INFO] Determined delimiter of CSV input is ','\u001b[0m\n",
      "\u001b[35m[2021-03-25:15:10:11:INFO] Sniff delimiter as ','\u001b[0m\n",
      "\u001b[35m[2021-03-25:15:10:11:INFO] Determined delimiter of CSV input is ','\u001b[0m\n",
      "\u001b[35m[2021-03-25:15:10:11:INFO] Sniff delimiter as ','\u001b[0m\n",
      "\u001b[35m[2021-03-25:15:10:11:INFO] Determined delimiter of CSV input is ','\u001b[0m\n",
      "\u001b[34m[2021-03-25:15:10:15:INFO] Sniff delimiter as ','\u001b[0m\n",
      "\u001b[35m[2021-03-25:15:10:15:INFO] Sniff delimiter as ','\u001b[0m\n",
      "\u001b[34m[2021-03-25:15:10:15:INFO] Determined delimiter of CSV input is ','\u001b[0m\n",
      "\u001b[35m[2021-03-25:15:10:15:INFO] Determined delimiter of CSV input is ','\u001b[0m\n",
      "\u001b[34m[2021-03-25:15:10:18:INFO] Sniff delimiter as ','\u001b[0m\n",
      "\u001b[34m[2021-03-25:15:10:18:INFO] Determined delimiter of CSV input is ','\u001b[0m\n",
      "\u001b[34m[2021-03-25:15:10:18:INFO] Sniff delimiter as ','\u001b[0m\n",
      "\u001b[34m[2021-03-25:15:10:18:INFO] Determined delimiter of CSV input is ','\u001b[0m\n",
      "\u001b[35m[2021-03-25:15:10:18:INFO] Sniff delimiter as ','\u001b[0m\n",
      "\u001b[35m[2021-03-25:15:10:18:INFO] Determined delimiter of CSV input is ','\u001b[0m\n",
      "\u001b[35m[2021-03-25:15:10:18:INFO] Sniff delimiter as ','\u001b[0m\n",
      "\u001b[35m[2021-03-25:15:10:18:INFO] Determined delimiter of CSV input is ','\u001b[0m\n",
      "\u001b[34m[2021-03-25:15:10:19:INFO] Sniff delimiter as ','\u001b[0m\n",
      "\u001b[34m[2021-03-25:15:10:19:INFO] Determined delimiter of CSV input is ','\u001b[0m\n",
      "\u001b[34m[2021-03-25:15:10:19:INFO] Sniff delimiter as ','\u001b[0m\n",
      "\u001b[35m[2021-03-25:15:10:19:INFO] Sniff delimiter as ','\u001b[0m\n",
      "\u001b[35m[2021-03-25:15:10:19:INFO] Determined delimiter of CSV input is ','\u001b[0m\n",
      "\u001b[35m[2021-03-25:15:10:19:INFO] Sniff delimiter as ','\u001b[0m\n",
      "\u001b[34m[2021-03-25:15:10:19:INFO] Determined delimiter of CSV input is ','\u001b[0m\n",
      "\u001b[35m[2021-03-25:15:10:19:INFO] Determined delimiter of CSV input is ','\u001b[0m\n",
      "\u001b[34m[2021-03-25:15:10:22:INFO] Sniff delimiter as ','\u001b[0m\n",
      "\u001b[34m[2021-03-25:15:10:22:INFO] Determined delimiter of CSV input is ','\u001b[0m\n",
      "\u001b[34m[2021-03-25:15:10:22:INFO] Sniff delimiter as ','\u001b[0m\n",
      "\u001b[34m[2021-03-25:15:10:22:INFO] Determined delimiter of CSV input is ','\u001b[0m\n",
      "\u001b[35m[2021-03-25:15:10:22:INFO] Sniff delimiter as ','\u001b[0m\n",
      "\u001b[35m[2021-03-25:15:10:22:INFO] Determined delimiter of CSV input is ','\u001b[0m\n",
      "\u001b[35m[2021-03-25:15:10:22:INFO] Sniff delimiter as ','\u001b[0m\n",
      "\u001b[35m[2021-03-25:15:10:22:INFO] Determined delimiter of CSV input is ','\u001b[0m\n",
      "\u001b[34m[2021-03-25:15:10:22:INFO] Sniff delimiter as ','\u001b[0m\n",
      "\u001b[34m[2021-03-25:15:10:22:INFO] Determined delimiter of CSV input is ','\u001b[0m\n",
      "\u001b[34m[2021-03-25:15:10:23:INFO] Sniff delimiter as ','\u001b[0m\n",
      "\u001b[34m[2021-03-25:15:10:23:INFO] Determined delimiter of CSV input is ','\u001b[0m\n",
      "\u001b[35m[2021-03-25:15:10:22:INFO] Sniff delimiter as ','\u001b[0m\n",
      "\u001b[35m[2021-03-25:15:10:22:INFO] Determined delimiter of CSV input is ','\u001b[0m\n",
      "\u001b[35m[2021-03-25:15:10:23:INFO] Sniff delimiter as ','\u001b[0m\n",
      "\u001b[35m[2021-03-25:15:10:23:INFO] Determined delimiter of CSV input is ','\u001b[0m\n",
      "\u001b[34m[2021-03-25:15:10:26:INFO] Sniff delimiter as ','\u001b[0m\n",
      "\u001b[34m[2021-03-25:15:10:26:INFO] Determined delimiter of CSV input is ','\u001b[0m\n",
      "\u001b[34m[2021-03-25:15:10:26:INFO] Sniff delimiter as ','\u001b[0m\n",
      "\u001b[34m[2021-03-25:15:10:26:INFO] Determined delimiter of CSV input is ','\u001b[0m\n",
      "\u001b[35m[2021-03-25:15:10:26:INFO] Sniff delimiter as ','\u001b[0m\n",
      "\u001b[35m[2021-03-25:15:10:26:INFO] Determined delimiter of CSV input is ','\u001b[0m\n",
      "\u001b[35m[2021-03-25:15:10:26:INFO] Sniff delimiter as ','\u001b[0m\n",
      "\u001b[35m[2021-03-25:15:10:26:INFO] Determined delimiter of CSV input is ','\u001b[0m\n",
      "\n",
      "\u001b[34m[2021-03-25:15:10:30:INFO] Sniff delimiter as ','\u001b[0m\n",
      "\u001b[34m[2021-03-25:15:10:30:INFO] Determined delimiter of CSV input is ','\u001b[0m\n",
      "\u001b[35m[2021-03-25:15:10:30:INFO] Sniff delimiter as ','\u001b[0m\n",
      "\u001b[35m[2021-03-25:15:10:30:INFO] Determined delimiter of CSV input is ','\u001b[0m\n",
      "\u001b[34m[2021-03-25:15:10:30:INFO] Sniff delimiter as ','\u001b[0m\n",
      "\u001b[34m[2021-03-25:15:10:30:INFO] Determined delimiter of CSV input is ','\u001b[0m\n",
      "\u001b[34m[2021-03-25:15:10:30:INFO] Sniff delimiter as ','\u001b[0m\n",
      "\u001b[34m[2021-03-25:15:10:30:INFO] Determined delimiter of CSV input is ','\u001b[0m\n",
      "\u001b[34m[2021-03-25:15:10:30:INFO] Sniff delimiter as ','\u001b[0m\n",
      "\u001b[34m[2021-03-25:15:10:30:INFO] Determined delimiter of CSV input is ','\u001b[0m\n",
      "\u001b[35m[2021-03-25:15:10:30:INFO] Sniff delimiter as ','\u001b[0m\n",
      "\u001b[35m[2021-03-25:15:10:30:INFO] Determined delimiter of CSV input is ','\u001b[0m\n",
      "\u001b[35m[2021-03-25:15:10:30:INFO] Sniff delimiter as ','\u001b[0m\n",
      "\u001b[35m[2021-03-25:15:10:30:INFO] Determined delimiter of CSV input is ','\u001b[0m\n",
      "\u001b[35m[2021-03-25:15:10:30:INFO] Sniff delimiter as ','\u001b[0m\n",
      "\u001b[35m[2021-03-25:15:10:30:INFO] Determined delimiter of CSV input is ','\u001b[0m\n"
     ]
    }
   ],
   "source": [
    "xgb_transformer.wait()"
   ]
  },
  {
   "cell_type": "markdown",
   "metadata": {},
   "source": [
    "Now the transform job has executed and the result, the estimated sentiment of each review, has been saved on S3. Since we would rather work on this file locally we can perform a bit of notebook magic to copy the file to the `data_dir`."
   ]
  },
  {
   "cell_type": "code",
   "execution_count": 28,
   "metadata": {},
   "outputs": [
    {
     "name": "stdout",
     "output_type": "stream",
     "text": [
      "download: s3://sagemaker-us-east-1-032517660248/xgboost-2021-03-25-15-05-06-765/test.csv.out to ../data/sentiment_web_app/test.csv.out\n"
     ]
    }
   ],
   "source": [
    "!aws s3 cp --recursive $xgb_transformer.output_path $data_dir"
   ]
  },
  {
   "cell_type": "markdown",
   "metadata": {},
   "source": [
    "The last step is now to read in the output from our model, convert the output to something a little more usable, in this case we want the sentiment to be either `1` (positive) or `0` (negative), and then compare to the ground truth labels."
   ]
  },
  {
   "cell_type": "code",
   "execution_count": 29,
   "metadata": {},
   "outputs": [],
   "source": [
    "predictions = pd.read_csv(os.path.join(data_dir, 'test.csv.out'), header=None)\n",
    "predictions = [round(num) for num in predictions.squeeze().values]"
   ]
  },
  {
   "cell_type": "code",
   "execution_count": 30,
   "metadata": {},
   "outputs": [
    {
     "data": {
      "text/plain": [
       "0.85584"
      ]
     },
     "execution_count": 30,
     "metadata": {},
     "output_type": "execute_result"
    }
   ],
   "source": [
    "from sklearn.metrics import accuracy_score\n",
    "accuracy_score(test_y, predictions)"
   ]
  },
  {
   "cell_type": "markdown",
   "metadata": {},
   "source": [
    "## Step 6: Deploying the model\n",
    "\n",
    "Once we construct and fit our model, SageMaker stores the resulting model artifacts and we can use those to deploy an endpoint (inference code). To see this, look in the SageMaker console and you should see that a model has been created along with a link to the S3 location where the model artifacts have been stored.\n",
    "\n",
    "Deploying an endpoint is a lot like training the model with a few important differences. The first is that a deployed model doesn't change the model artifacts, so as you send it various testing instances the model won't change. Another difference is that since we aren't performing a fixed computation, as we were in the training step or while performing a batch transform, the compute instance that gets started stays running until we tell it to stop. This is important to note as if we forget and leave it running we will be charged the entire time.\n",
    "\n",
    "In other words **If you are no longer using a deployed endpoint, shut it down!**"
   ]
  },
  {
   "cell_type": "code",
   "execution_count": 31,
   "metadata": {},
   "outputs": [
    {
     "name": "stderr",
     "output_type": "stream",
     "text": [
      "Parameter image will be renamed to image_uri in SageMaker Python SDK v2.\n",
      "Using already existing model: xgboost-2021-03-25-14-57-51-272\n"
     ]
    },
    {
     "name": "stdout",
     "output_type": "stream",
     "text": [
      "-------------!"
     ]
    }
   ],
   "source": [
    "xgb_predictor = xgb.deploy(initial_instance_count = 1, instance_type = 'ml.m4.xlarge')"
   ]
  },
  {
   "cell_type": "markdown",
   "metadata": {},
   "source": [
    "### Testing the model (again)\n",
    "\n",
    "Now that we have deployed our endpoint, we can send the testing data to it and get back the inference results. We already did this earlier using the batch transform functionality of SageMaker, however, we will test our model again using the newly deployed endpoint so that we can make sure that it works properly and to get a bit of a feel for how the endpoint works.\n",
    "\n",
    "When using the created endpoint it is important to know that we are limited in the amount of information we can send in each call so we need to break the testing data up into chunks and then send each chunk. Also, we need to serialize our data before we send it to the endpoint to ensure that our data is transmitted properly. Fortunately, SageMaker can do the serialization part for us provided we tell it the format of our data."
   ]
  },
  {
   "cell_type": "code",
   "execution_count": 32,
   "metadata": {},
   "outputs": [],
   "source": [
    "from sagemaker.predictor import csv_serializer\n",
    "\n",
    "# We need to tell the endpoint what format the data we are sending is in so that SageMaker can perform the serialization.\n",
    "xgb_predictor.content_type = 'text/csv'\n",
    "xgb_predictor.serializer = csv_serializer"
   ]
  },
  {
   "cell_type": "code",
   "execution_count": 33,
   "metadata": {},
   "outputs": [],
   "source": [
    "# We split the data into chunks and send each chunk seperately, accumulating the results.\n",
    "\n",
    "def predict(data, rows=512):\n",
    "    split_array = np.array_split(data, int(data.shape[0] / float(rows) + 1))\n",
    "    predictions = ''\n",
    "    for array in split_array:\n",
    "        predictions = ','.join([predictions, xgb_predictor.predict(array).decode('utf-8')])\n",
    "    \n",
    "    return np.fromstring(predictions[1:], sep=',')"
   ]
  },
  {
   "cell_type": "code",
   "execution_count": 34,
   "metadata": {},
   "outputs": [],
   "source": [
    "test_X = pd.read_csv(os.path.join(data_dir, 'test.csv'), header=None).values\n",
    "\n",
    "predictions = predict(test_X)\n",
    "predictions = [round(num) for num in predictions]"
   ]
  },
  {
   "cell_type": "markdown",
   "metadata": {},
   "source": [
    "Lastly, we check to see what the accuracy of our model is."
   ]
  },
  {
   "cell_type": "code",
   "execution_count": 35,
   "metadata": {},
   "outputs": [
    {
     "data": {
      "text/plain": [
       "0.85584"
      ]
     },
     "execution_count": 35,
     "metadata": {},
     "output_type": "execute_result"
    }
   ],
   "source": [
    "from sklearn.metrics import accuracy_score\n",
    "accuracy_score(test_y, predictions)"
   ]
  },
  {
   "cell_type": "markdown",
   "metadata": {},
   "source": [
    "And the results here should agree with the model testing that we did earlier using the batch transform job.\n",
    "\n",
    "### Cleaning up\n",
    "\n",
    "Now that we've determined that deploying our model works as expected, we are going to shut it down. Remember that the longer the endpoint is left running, the greater the cost and since we have a bit more work to do before we are able to use our endpoint with our simple web app, we should shut everything down."
   ]
  },
  {
   "cell_type": "code",
   "execution_count": 36,
   "metadata": {},
   "outputs": [],
   "source": [
    "xgb_predictor.delete_endpoint()"
   ]
  },
  {
   "cell_type": "markdown",
   "metadata": {},
   "source": [
    "## Step 7: Putting our model to work\n",
    "\n",
    "As we've mentioned a few times now, our goal is to have our model deployed and then access it using a very simple web app. The intent is for this web app to take some user submitted data (a review), send it off to our endpoint (the model) and then display the result.\n",
    "\n",
    "However, there is a small catch. Currently the only way we can access the endpoint to send it data is using the SageMaker API. We can, if we wish, expose the actual URL that our model's endpoint is receiving data from, however, if we just send it data ourselves we will not get anything in return. This is because the endpoint created by SageMaker requires the entity accessing it have the correct permissions. So, we would need to somehow authenticate our web app with AWS.\n",
    "\n",
    "Having a website that authenticates to AWS seems a bit beyond the scope of this lesson so we will opt for an alternative approach. Namely, we will create a new endpoint which does not require authentication and which acts as a proxy for the SageMaker endpoint.\n",
    "\n",
    "As an additional constraint, we will try to avoid doing any data processing in the web app itself. Remember that when we constructed and tested our model we started with a movie review, then we simplified it by removing any html formatting and punctuation, then we constructed a bag of words embedding and the resulting vector is what we sent to our model. All of this needs to be done to our user input as well.\n",
    "\n",
    "Fortunately we can do all of this data processing in the backend, using Amazon's Lambda service.\n",
    "\n",
    "<img src=\"Web App Diagram.svg\">\n",
    "\n",
    "The diagram above gives an overview of how the various services will work together. On the far right is the model which we trained above and which will be deployed using SageMaker. On the far left is our web app that collects a user's movie review, sends it off and expects a positive or negative sentiment in return.\n",
    "\n",
    "In the middle is where some of the magic happens. We will construct a Lambda function, which you can think of as a straightforward Python function that can be executed whenever a specified event occurs. This Python function will do the data processing we need to perform on a user submitted review. In addition, we will give this function permission to send and recieve data from a SageMaker endpoint.\n",
    "\n",
    "Lastly, the method we will use to execute the Lambda function is a new endpoint that we will create using API Gateway. This endpoint will be a url that listens for data to be sent to it. Once it gets some data it will pass that data on to the Lambda function and then return whatever the Lambda function returns. Essentially it will act as an interface that lets our web app communicate with the Lambda function.\n",
    "\n",
    "### Processing a single review\n",
    "\n",
    "For now, suppose we are given a movie review by our user in the form of a string, like so:"
   ]
  },
  {
   "cell_type": "code",
   "execution_count": 37,
   "metadata": {},
   "outputs": [],
   "source": [
    "test_review = \"Nothing but a disgusting materialistic pageant of glistening abed remote control greed zombies, totally devoid of any heart or heat. A romantic comedy that has zero romantic chemestry and zero laughs!\""
   ]
  },
  {
   "cell_type": "markdown",
   "metadata": {},
   "source": [
    "How do we go from this string to the bag of words feature vector that is expected by our model?\n",
    "\n",
    "If we recall at the beginning of this notebook, the first step is to remove any unnecessary characters using the `review_to_words` method. Remember that we intentionally did this in a very simplistic way. This is because we are going to have to copy this method to our (eventual) Lambda function (we will go into more detail later) and this means it needs to be rather simplistic."
   ]
  },
  {
   "cell_type": "code",
   "execution_count": 38,
   "metadata": {},
   "outputs": [
    {
     "name": "stdout",
     "output_type": "stream",
     "text": [
      "nothing but a disgusting materialistic pageant of glistening abed remote control greed zombies totally devoid of any heart or heat a romantic comedy that has zero romantic chemestry and zero laughs\n"
     ]
    }
   ],
   "source": [
    "test_words = review_to_words(test_review)\n",
    "print(test_words)"
   ]
  },
  {
   "cell_type": "markdown",
   "metadata": {},
   "source": [
    "Next, we need to construct a bag of words embedding of the `test_words` string. To do this, remember that a bag of words embedding uses a `vocabulary` consisting of the most frequently appearing words in a set of documents. Then, for each word in the vocabulary we record the number of times that word appears in `test_words`. We constructed the `vocabulary` earlier using the training set for our problem so encoding `test_words` is relatively straightforward."
   ]
  },
  {
   "cell_type": "code",
   "execution_count": 39,
   "metadata": {},
   "outputs": [],
   "source": [
    "def bow_encoding(words, vocabulary):\n",
    "    bow = [0] * len(vocabulary) # Start by setting the count for each word in the vocabulary to zero.\n",
    "    for word in words.split():  # For each word in the string\n",
    "        if word in vocabulary:  # If the word is one that occurs in the vocabulary, increase its count.\n",
    "            bow[vocabulary[word]] += 1\n",
    "    return bow"
   ]
  },
  {
   "cell_type": "code",
   "execution_count": 40,
   "metadata": {},
   "outputs": [
    {
     "name": "stdout",
     "output_type": "stream",
     "text": [
      "[0, 0, 0, 0, 0, 0, 0, 0, 0, 0, 0, 0, 0, 0, 0, 0, 0, 0, 0, 0, 0, 0, 0, 0, 0, 0, 0, 0, 0, 0, 0, 0, 0, 0, 0, 0, 0, 0, 0, 0, 0, 0, 0, 0, 0, 0, 0, 0, 0, 0, 0, 0, 0, 0, 0, 0, 0, 0, 0, 0, 0, 0, 0, 0, 0, 0, 0, 0, 0, 0, 0, 0, 0, 0, 0, 0, 0, 0, 0, 0, 0, 0, 0, 0, 0, 0, 0, 0, 0, 0, 0, 0, 0, 0, 0, 0, 0, 0, 0, 0, 0, 0, 0, 0, 0, 0, 0, 0, 0, 0, 0, 0, 0, 0, 0, 0, 0, 0, 0, 0, 0, 0, 0, 0, 0, 0, 0, 0, 0, 0, 0, 0, 0, 0, 0, 0, 0, 0, 0, 0, 0, 0, 0, 0, 0, 0, 0, 0, 0, 0, 0, 0, 0, 0, 0, 0, 0, 0, 0, 0, 0, 0, 0, 0, 0, 0, 0, 0, 0, 0, 0, 0, 0, 0, 0, 0, 0, 0, 0, 0, 0, 0, 0, 0, 0, 0, 0, 0, 0, 0, 0, 0, 0, 0, 0, 0, 0, 0, 0, 0, 0, 0, 0, 0, 0, 0, 0, 0, 0, 0, 0, 0, 0, 0, 0, 0, 0, 0, 0, 0, 0, 0, 0, 0, 0, 0, 1, 0, 0, 0, 0, 0, 0, 0, 0, 0, 0, 0, 0, 0, 0, 0, 0, 0, 0, 0, 0, 0, 0, 0, 0, 0, 0, 0, 0, 0, 1, 0, 0, 0, 0, 0, 0, 0, 0, 0, 0, 0, 0, 0, 0, 0, 0, 0, 0, 0, 0, 0, 0, 0, 0, 0, 0, 0, 0, 0, 0, 0, 0, 0, 0, 0, 0, 0, 0, 0, 0, 0, 0, 0, 0, 0, 0, 0, 0, 0, 0, 0, 0, 0, 0, 0, 0, 0, 0, 0, 0, 0, 0, 0, 0, 0, 0, 0, 0, 0, 0, 0, 0, 0, 0, 0, 0, 0, 0, 0, 0, 0, 0, 0, 0, 0, 0, 0, 0, 0, 0, 0, 0, 0, 0, 0, 0, 0, 0, 0, 0, 0, 0, 0, 0, 0, 0, 0, 0, 0, 0, 0, 0, 0, 0, 0, 0, 0, 0, 0, 0, 0, 0, 0, 0, 0, 0, 0, 0, 0, 0, 0, 0, 0, 0, 0, 0, 0, 0, 0, 0, 0, 0, 0, 0, 0, 0, 0, 0, 0, 0, 0, 0, 0, 0, 0, 0, 0, 0, 0, 0, 0, 0, 0, 0, 0, 0, 0, 0, 0, 0, 0, 0, 0, 0, 0, 0, 0, 0, 0, 0, 0, 0, 0, 0, 0, 0, 0, 0, 0, 0, 0, 0, 0, 0, 0, 0, 0, 0, 0, 0, 0, 0, 0, 0, 0, 0, 0, 0, 0, 0, 0, 0, 0, 0, 0, 0, 0, 0, 0, 0, 0, 0, 0, 0, 0, 0, 0, 0, 0, 0, 0, 0, 0, 0, 0, 0, 0, 0, 0, 0, 0, 0, 0, 0, 0, 0, 0, 0, 0, 0, 0, 0, 0, 0, 0, 0, 0, 0, 0, 0, 0, 0, 0, 0, 0, 0, 0, 0, 0, 0, 0, 0, 0, 0, 0, 0, 0, 0, 0, 0, 0, 0, 0, 0, 0, 0, 0, 0, 0, 0, 0, 0, 0, 0, 0, 0, 0, 0, 0, 0, 0, 0, 0, 0, 0, 0, 0, 0, 0, 0, 0, 0, 0, 0, 0, 0, 0, 0, 0, 0, 0, 0, 0, 0, 0, 0, 0, 0, 0, 0, 0, 0, 0, 0, 0, 0, 0, 0, 0, 0, 0, 0, 0, 0, 0, 0, 0, 0, 0, 0, 0, 0, 0, 0, 0, 0, 0, 0, 0, 0, 0, 0, 0, 0, 0, 0, 0, 0, 0, 0, 0, 0, 0, 0, 0, 0, 0, 0, 0, 1, 0, 0, 0, 0, 0, 0, 0, 0, 0, 0, 0, 0, 0, 0, 0, 0, 0, 0, 0, 0, 0, 0, 0, 0, 0, 0, 0, 0, 0, 0, 0, 0, 0, 0, 0, 0, 0, 0, 0, 0, 0, 0, 0, 0, 0, 0, 0, 0, 0, 0, 0, 0, 0, 0, 0, 0, 0, 0, 0, 0, 0, 0, 0, 0, 0, 0, 0, 0, 0, 0, 0, 0, 0, 0, 0, 0, 0, 0, 0, 0, 0, 0, 0, 0, 0, 0, 0, 0, 0, 0, 0, 0, 0, 0, 0, 0, 0, 0, 0, 0, 0, 0, 0, 0, 0, 0, 0, 0, 0, 0, 0, 0, 0, 0, 0, 0, 0, 0, 0, 0, 0, 0, 0, 0, 0, 0, 0, 0, 0, 0, 0, 0, 0, 0, 0, 0, 0, 0, 0, 0, 0, 0, 0, 0, 0, 0, 0, 0, 0, 0, 0, 0, 0, 0, 0, 0, 0, 0, 0, 0, 0, 0, 0, 0, 0, 0, 0, 0, 0, 0, 0, 0, 0, 0, 0, 0, 0, 0, 0, 0, 0, 0, 0, 0, 0, 0, 0, 0, 0, 0, 0, 0, 0, 0, 0, 0, 0, 0, 0, 0, 0, 0, 0, 0, 0, 0, 0, 0, 0, 0, 0, 0, 0, 0, 0, 0, 0, 0, 0, 0, 0, 0, 0, 0, 0, 0, 0, 0, 0, 0, 0, 0, 0, 0, 0, 0, 0, 0, 0, 0, 0, 0, 0, 0, 0, 0, 0, 0, 0, 0, 0, 0, 0, 1, 0, 0, 0, 0, 0, 0, 0, 0, 0, 0, 0, 0, 0, 0, 0, 0, 0, 0, 0, 0, 0, 0, 0, 0, 0, 0, 0, 0, 0, 0, 0, 0, 0, 0, 0, 0, 0, 0, 0, 0, 0, 0, 0, 0, 0, 0, 0, 0, 0, 0, 0, 0, 0, 0, 0, 0, 0, 0, 0, 0, 0, 0, 0, 0, 0, 0, 0, 0, 0, 0, 0, 0, 0, 0, 0, 0, 0, 0, 0, 0, 0, 0, 0, 0, 0, 0, 1, 0, 0, 0, 0, 0, 0, 0, 0, 0, 0, 0, 0, 0, 0, 0, 0, 0, 0, 0, 0, 0, 0, 0, 0, 0, 0, 0, 0, 0, 0, 0, 0, 0, 0, 0, 0, 0, 0, 0, 0, 0, 0, 0, 0, 0, 0, 0, 0, 0, 0, 0, 0, 0, 0, 0, 0, 0, 0, 0, 0, 0, 0, 0, 0, 0, 0, 0, 0, 0, 0, 0, 0, 0, 0, 0, 0, 0, 0, 0, 0, 0, 0, 0, 0, 0, 0, 0, 0, 0, 0, 0, 0, 0, 0, 0, 0, 0, 0, 0, 0, 0, 0, 0, 0, 0, 0, 0, 0, 0, 0, 0, 0, 0, 0, 0, 0, 0, 0, 0, 0, 0, 0, 0, 0, 0, 0, 0, 0, 0, 0, 0, 0, 0, 0, 0, 0, 0, 0, 0, 0, 0, 0, 0, 0, 0, 0, 0, 0, 0, 0, 0, 0, 0, 0, 0, 0, 0, 0, 0, 0, 0, 0, 0, 0, 0, 0, 0, 0, 0, 0, 0, 0, 0, 0, 0, 0, 0, 0, 0, 0, 0, 0, 0, 0, 0, 0, 0, 0, 0, 0, 0, 0, 0, 0, 0, 0, 0, 0, 0, 0, 0, 0, 0, 0, 0, 0, 0, 0, 0, 0, 0, 0, 0, 0, 0, 0, 0, 0, 0, 0, 0, 0, 0, 0, 0, 0, 0, 0, 0, 0, 0, 0, 0, 0, 0, 0, 0, 0, 0, 0, 0, 0, 0, 0, 0, 0, 0, 0, 0, 0, 0, 0, 1, 0, 0, 0, 0, 0, 0, 0, 0, 0, 0, 0, 0, 0, 0, 0, 0, 0, 0, 0, 0, 0, 0, 0, 0, 0, 0, 0, 0, 0, 0, 0, 0, 0, 0, 0, 0, 0, 0, 0, 0, 0, 0, 0, 0, 0, 0, 0, 0, 0, 0, 0, 0, 0, 0, 0, 1, 0, 0, 0, 0, 0, 0, 0, 0, 0, 0, 0, 0, 0, 0, 0, 0, 0, 0, 0, 0, 0, 0, 0, 0, 0, 0, 0, 0, 0, 0, 0, 0, 0, 0, 0, 0, 0, 0, 0, 0, 0, 0, 0, 0, 0, 0, 0, 0, 0, 0, 0, 0, 0, 0, 0, 0, 0, 0, 0, 0, 0, 0, 0, 0, 0, 0, 0, 0, 0, 0, 0, 0, 0, 0, 0, 0, 0, 0, 0, 0, 0, 0, 0, 0, 0, 0, 0, 0, 0, 0, 0, 0, 0, 0, 0, 0, 0, 0, 0, 0, 0, 0, 0, 0, 0, 0, 0, 0, 0, 0, 0, 0, 0, 0, 0, 0, 0, 0, 0, 0, 0, 0, 0, 0, 0, 0, 0, 0, 0, 0, 0, 0, 0, 0, 0, 0, 0, 0, 0, 0, 0, 0, 0, 0, 0, 0, 0, 0, 0, 0, 0, 0, 0, 0, 0, 0, 0, 0, 0, 0, 0, 0, 0, 0, 0, 0, 0, 0, 0, 0, 0, 0, 0, 0, 0, 0, 0, 0, 0, 0, 0, 0, 0, 0, 0, 0, 0, 0, 0, 0, 0, 0, 0, 0, 0, 0, 0, 0, 0, 0, 0, 0, 0, 0, 0, 0, 0, 0, 0, 0, 0, 0, 0, 0, 0, 0, 0, 0, 0, 0, 0, 0, 0, 0, 0, 0, 0, 0, 0, 0, 0, 0, 0, 0, 0, 0, 0, 0, 0, 0, 0, 0, 0, 0, 0, 0, 0, 0, 0, 0, 0, 0, 0, 0, 0, 0, 0, 0, 0, 0, 0, 0, 0, 0, 0, 0, 0, 0, 0, 0, 0, 0, 0, 0, 0, 0, 0, 0, 0, 0, 0, 0, 0, 0, 0, 0, 0, 0, 0, 0, 0, 0, 0, 0, 0, 0, 0, 0, 0, 0, 0, 0, 0, 0, 0, 0, 0, 0, 0, 0, 0, 0, 0, 0, 0, 0, 0, 0, 0, 0, 0, 0, 0, 0, 0, 0, 0, 0, 0, 0, 0, 0, 0, 0, 0, 0, 0, 0, 0, 0, 0, 0, 0, 0, 0, 0, 0, 0, 0, 0, 0, 0, 0, 0, 0, 0, 0, 0, 0, 0, 0, 0, 0, 0, 0, 0, 0, 0, 0, 0, 0, 0, 0, 0, 0, 0, 0, 0, 0, 0, 0, 0, 0, 0, 0, 0, 0, 0, 0, 0, 0, 0, 0, 0, 0, 0, 0, 0, 0, 0, 0, 0, 0, 0, 0, 0, 0, 0, 0, 0, 0, 0, 0, 0, 0, 0, 0, 0, 0, 0, 0, 0, 0, 0, 0, 0, 0, 0, 0, 0, 0, 0, 0, 0, 0, 0, 0, 0, 0, 0, 0, 0, 0, 0, 0, 0, 0, 0, 0, 0, 0, 0, 0, 0, 0, 0, 0, 0, 0, 0, 0, 0, 0, 0, 0, 0, 0, 0, 0, 0, 0, 0, 0, 0, 0, 0, 0, 0, 0, 0, 0, 0, 0, 0, 0, 0, 0, 0, 0, 0, 0, 0, 0, 0, 0, 0, 0, 0, 0, 0, 0, 0, 0, 0, 0, 0, 0, 0, 0, 0, 0, 0, 0, 0, 0, 0, 0, 0, 0, 0, 0, 0, 0, 0, 0, 0, 0, 0, 0, 0, 0, 0, 0, 0, 0, 0, 0, 0, 0, 0, 0, 0, 0, 0, 0, 0, 0, 0, 0, 0, 0, 0, 0, 0, 0, 0, 0, 0, 0, 0, 0, 0, 0, 0, 0, 0, 0, 0, 0, 0, 0, 0, 0, 0, 0, 0, 0, 0, 0, 0, 0, 0, 0, 0, 0, 0, 0, 0, 0, 0, 0, 0, 0, 0, 0, 0, 0, 0, 0, 0, 0, 0, 0, 0, 0, 0, 0, 0, 0, 0, 0, 0, 0, 0, 0, 0, 0, 0, 0, 0, 0, 0, 0, 0, 0, 0, 0, 0, 0, 0, 0, 0, 0, 0, 0, 0, 0, 0, 0, 0, 0, 0, 0, 0, 0, 0, 0, 0, 0, 0, 0, 0, 0, 0, 0, 0, 0, 0, 0, 0, 0, 0, 0, 0, 0, 0, 0, 0, 0, 0, 0, 0, 0, 0, 0, 0, 0, 0, 0, 0, 0, 1, 0, 0, 0, 0, 0, 0, 0, 0, 0, 0, 0, 0, 0, 0, 0, 0, 0, 0, 0, 0, 0, 0, 0, 0, 0, 0, 0, 0, 0, 0, 0, 0, 0, 0, 0, 0, 0, 0, 0, 0, 0, 0, 0, 0, 0, 0, 0, 0, 0, 0, 0, 0, 0, 0, 0, 0, 0, 0, 0, 0, 0, 0, 0, 0, 0, 0, 0, 0, 0, 0, 0, 0, 0, 0, 1, 0, 0, 0, 0, 0, 0, 0, 0, 0, 0, 0, 0, 0, 0, 0, 0, 0, 0, 0, 0, 1, 0, 0, 1, 0, 0, 0, 0, 0, 0, 0, 0, 0, 0, 0, 0, 0, 0, 0, 0, 0, 0, 0, 0, 0, 0, 0, 0, 0, 0, 0, 0, 0, 0, 0, 0, 0, 0, 0, 0, 0, 0, 0, 0, 0, 0, 0, 0, 0, 0, 0, 0, 0, 0, 0, 0, 0, 0, 0, 0, 0, 0, 0, 0, 0, 0, 0, 0, 0, 0, 0, 0, 0, 0, 0, 0, 0, 0, 0, 0, 0, 0, 0, 0, 0, 0, 0, 0, 0, 0, 0, 0, 0, 0, 0, 0, 0, 0, 0, 0, 0, 0, 0, 0, 0, 0, 0, 0, 0, 0, 0, 0, 0, 0, 0, 0, 0, 0, 0, 0, 0, 0, 0, 0, 0, 0, 0, 0, 0, 0, 0, 0, 0, 0, 0, 0, 0, 0, 0, 0, 0, 0, 0, 0, 0, 0, 0, 0, 0, 0, 0, 0, 0, 0, 0, 0, 0, 0, 0, 0, 0, 0, 0, 0, 0, 0, 0, 0, 0, 0, 0, 0, 0, 0, 0, 0, 0, 0, 0, 0, 0, 0, 0, 0, 0, 0, 0, 0, 0, 0, 0, 0, 0, 0, 0, 0, 0, 0, 0, 0, 0, 0, 0, 0, 0, 0, 0, 0, 0, 0, 0, 0, 0, 0, 0, 0, 0, 0, 0, 0, 0, 0, 0, 0, 0, 0, 0, 0, 0, 0, 0, 0, 0, 0, 0, 0, 0, 0, 0, 0, 0, 0, 0, 0, 0, 0, 0, 0, 0, 0, 0, 0, 0, 0, 0, 0, 0, 0, 0, 0, 0, 0, 0, 0, 0, 0, 0, 0, 0, 0, 0, 0, 0, 0, 0, 0, 0, 0, 0, 0, 0, 0, 0, 0, 0, 0, 0, 0, 0, 0, 0, 0, 0, 0, 0, 0, 0, 0, 0, 0, 0, 0, 0, 0, 0, 0, 0, 0, 0, 0, 0, 0, 0, 0, 0, 0, 0, 0, 0, 0, 0, 0, 0, 0, 0, 0, 0, 0, 0, 0, 0, 0, 0, 0, 0, 0, 0, 0, 0, 0, 0, 0, 0, 0, 0, 0, 0, 0, 0, 0, 0, 0, 0, 0, 0, 0, 0, 0, 0, 0, 0, 0, 0, 0, 0, 0, 0, 0, 0, 0, 0, 0, 0, 0, 0, 0, 0, 0, 0, 0, 0, 0, 0, 0, 0, 0, 0, 0, 0, 0, 0, 0, 0, 0, 0, 0, 0, 0, 0, 0, 0, 0, 0, 0, 0, 0, 0, 0, 0, 0, 0, 0, 0, 0, 0, 0, 0, 0, 0, 0, 0, 0, 0, 0, 0, 0, 0, 0, 0, 0, 0, 0, 0, 0, 0, 0, 0, 0, 0, 0, 0, 0, 0, 0, 0, 0, 0, 0, 0, 0, 0, 0, 0, 0, 0, 0, 0, 0, 0, 0, 0, 0, 0, 0, 0, 0, 0, 0, 0, 0, 1, 0, 0, 0, 0, 0, 0, 0, 0, 0, 0, 0, 0, 0, 0, 0, 0, 0, 0, 0, 0, 0, 0, 0, 0, 0, 0, 0, 0, 0, 0, 0, 0, 0, 0, 0, 0, 0, 0, 0, 0, 0, 0, 0, 0, 0, 0, 0, 0, 0, 0, 0, 0, 0, 0, 0, 0, 0, 0, 0, 0, 0, 0, 0, 0, 0, 0, 0, 0, 0, 0, 0, 0, 0, 0, 0, 0, 0, 0, 0, 0, 0, 0, 0, 0, 0, 0, 0, 0, 0, 0, 0, 0, 0, 0, 0, 0, 0, 0, 0, 0, 0, 0, 0, 0, 0, 0, 0, 0, 0, 0, 0, 0, 0, 0, 0, 0, 0, 0, 0, 0, 0, 0, 0, 0, 0, 0, 0, 0, 0, 0, 0, 0, 0, 0, 0, 0, 0, 0, 0, 0, 0, 0, 0, 0, 0, 0, 0, 0, 0, 0, 0, 0, 0, 0, 0, 0, 0, 0, 0, 0, 0, 0, 0, 0, 0, 0, 0, 0, 0, 0, 0, 0, 0, 0, 0, 0, 0, 0, 0, 0, 0, 0, 0, 0, 0, 0, 0, 0, 0, 0, 0, 0, 0, 0, 0, 0, 0, 0, 0, 0, 0, 0, 0, 0, 0, 0, 0, 0, 0, 0, 0, 0, 0, 0, 0, 0, 0, 0, 0, 0, 0, 0, 0, 0, 0, 0, 0, 0, 0, 0, 0, 0, 0, 0, 0, 0, 0, 0, 0, 0, 0, 0, 0, 0, 0, 0, 0, 0, 0, 0, 0, 0, 0, 0, 0, 0, 0, 0, 0, 0, 0, 0, 0, 0, 0, 0, 0, 0, 0, 0, 0, 0, 0, 0, 0, 0, 0, 0, 0, 0, 0, 0, 0, 0, 0, 0, 0, 0, 0, 0, 0, 0, 0, 0, 0, 0, 0, 0, 0, 0, 0, 0, 0, 0, 0, 0, 0, 0, 0, 0, 0, 0, 0, 0, 0, 0, 0, 0, 0, 0, 0, 0, 0, 0, 0, 0, 0, 0, 0, 0, 0, 0, 0, 0, 0, 0, 0, 0, 0, 0, 0, 0, 0, 0, 0, 0, 0, 0, 0, 0, 0, 0, 0, 0, 0, 0, 0, 0, 0, 0, 0, 0, 0, 0, 0, 0, 0, 0, 0, 0, 0, 0, 0, 0, 0, 0, 0, 0, 0, 0, 0, 0, 0, 0, 0, 0, 0, 0, 0, 0, 0, 0, 0, 0, 0, 0, 0, 0, 0, 0, 0, 0, 0, 0, 0, 0, 0, 0, 0, 0, 0, 0, 0, 0, 0, 0, 0, 0, 0, 0, 0, 0, 0, 0, 0, 0, 0, 0, 0, 0, 0, 0, 0, 0, 0, 0, 0, 0, 0, 0, 0, 0, 0, 0, 0, 0, 0, 0, 0, 0, 0, 0, 0, 0, 0, 0, 0, 0, 0, 0, 0, 0, 0, 0, 0, 0, 0, 0, 0, 0, 0, 0, 0, 0, 0, 0, 0, 0, 0, 0, 0, 0, 0, 0, 0, 0, 0, 0, 0, 0, 0, 0, 0, 0, 0, 0, 0, 0, 0, 0, 0, 0, 0, 0, 0, 0, 0, 0, 0, 0, 0, 0, 1, 0, 0, 0, 0, 0, 0, 0, 0, 0, 0, 0, 0, 0, 0, 0, 0, 0, 0, 0, 0, 0, 0, 0, 0, 0, 0, 0, 0, 0, 0, 0, 0, 0, 0, 0, 2, 0, 0, 0, 0, 0, 0, 0, 0, 0, 0, 0, 0, 0, 0, 0, 0, 0, 0, 0, 0, 0, 0, 0, 0, 0, 0, 0, 0, 0, 0, 0, 0, 0, 0, 0, 0, 0, 0, 0, 0, 1, 0, 0, 0, 0, 0, 0, 0, 0, 0, 0, 0, 0, 0, 0, 0, 0, 0, 0, 0, 0, 0, 0, 0, 0, 0, 0, 0, 0, 0, 0, 0, 0, 0, 0, 0, 0, 0, 0, 0, 0, 0, 0, 0, 0, 0, 0, 0, 0, 0, 0, 0, 0, 0, 0, 0, 0, 0, 0, 0, 0, 0, 0, 0, 0, 0, 0, 0, 0, 0, 0, 0, 0, 0, 0, 0, 0, 0, 0, 0, 0, 0, 0, 0, 0, 0, 0, 0, 0, 0, 0, 0, 0, 0, 0, 0, 0, 0, 0, 0, 0, 0, 0, 0, 0, 0, 0, 0, 0, 0, 0, 0, 0, 0, 0, 0, 0, 0, 0, 0, 0, 0, 0, 0, 0, 0, 0, 0, 0, 0, 0, 0, 0, 0, 0, 0, 0, 0, 0, 0, 0, 0, 0, 0, 0, 0, 0, 0, 0, 0, 0, 0, 0, 0, 0, 0, 0, 0, 0, 0, 0, 0, 0, 0, 0, 0, 0, 0, 0, 0, 0, 0, 0, 0, 0, 0, 0, 0, 0, 0, 0, 0, 0, 0, 0, 0, 0, 0, 0, 0, 0, 0, 0, 0, 0, 0, 0, 0, 0, 0, 0, 0, 0, 0, 0, 0, 0, 0, 0, 0, 0, 0, 0, 0, 0, 0, 0, 0, 0, 0, 0, 0, 0, 0, 0, 0, 0, 0, 0, 0, 0, 0, 0, 0, 0, 0, 0, 0, 0, 0, 0, 0, 0, 0, 0, 0, 0, 0, 0, 0, 0, 0, 0, 0, 0, 0, 0, 0, 0, 0, 0, 0, 0, 0, 0, 0, 0, 0, 0, 0, 0, 0, 0, 0, 0, 0, 0, 0, 0, 0, 0, 0, 0, 0, 0, 0, 0, 0, 0, 0, 0, 0, 0, 0, 0, 0, 0, 0, 0, 0, 0, 0, 0, 0, 0, 0, 0, 0, 0, 0, 0, 0, 0, 0, 0, 0, 0, 0, 0, 0, 0, 0, 0, 0, 0, 0, 0, 0, 0, 0, 0, 0, 0, 0, 0, 0, 0, 0, 0, 0, 0, 0, 0, 0, 0, 0, 0, 0, 0, 0, 0, 0, 0, 0, 0, 0, 0, 0, 0, 0, 0, 0, 0, 0, 0, 0, 0, 0, 0, 0, 0, 0, 0, 0, 0, 0, 0, 0, 0, 0, 0, 0, 0, 0, 0, 0, 0, 0, 0, 0, 0, 0, 0, 0, 0, 0, 0, 0, 0, 0, 0, 0, 0, 0, 0, 0, 0, 0, 0, 0, 0, 0, 0, 0, 0, 0, 0, 0, 0, 0, 0, 0, 0, 0, 0, 0, 0, 0, 0, 0, 0, 0, 0, 0, 0, 0, 0, 0, 0, 0, 0, 0, 0, 0, 0, 0, 0, 0, 0, 0, 0, 0, 0, 0, 0, 0, 0, 0, 0, 0, 0, 0, 0, 0, 0, 0, 0, 0, 0, 0, 0, 0, 0, 0, 0, 0, 0, 0, 0, 0, 0, 0, 0, 0, 0, 0, 0, 0, 0, 0, 0, 0, 0, 0, 0, 0, 0, 0, 1, 0, 0, 0, 0, 0, 0, 0, 0, 0, 0, 0, 0, 0, 0, 0, 0, 0, 0, 0, 0, 0, 0, 0, 0, 0, 0, 0, 0, 0, 0, 0, 0, 0, 0, 0, 0, 0, 0, 0, 0, 0, 0, 0, 0, 0, 0, 0, 0, 0, 0, 0, 0, 0, 0, 0, 0, 0, 0, 0, 0, 0, 0, 0, 0, 0, 0, 0, 0, 0, 0, 0, 0, 0, 0, 0, 0, 0, 0, 0, 0, 0, 0, 0, 0, 0, 0, 0, 0, 0, 0, 0, 0, 0, 0, 0, 0, 0, 0, 0, 0, 0, 0, 0, 0, 0, 0, 0, 0, 0, 0, 2, 0, 0, 0, 0, 0, 0, 0, 0, 0, 0, 0, 0, 0, 0, 0, 0, 0, 0, 0, 0, 0, 0, 0, 0, 0, 0, 0, 0, 0, 0, 0, 0, 0, 0, 0, 0, 0, 0, 0, 0, 0, 0, 0, 0, 0, 0, 0, 0, 0, 0, 0, 0, 0, 0, 0, 0, 0, 0, 0, 0, 0, 0, 0, 0, 0, 0, 0, 0, 0, 0, 0, 0, 0, 0, 0, 0, 0, 0, 0, 0, 0, 0, 0, 0, 0, 0, 0, 0, 0, 0, 0, 0, 0, 0, 0, 0, 0, 0, 0, 0, 0, 0, 0, 0, 0, 0, 0, 0, 0, 0, 0, 0, 0, 0, 0, 0, 0, 0, 0, 0, 0, 0, 0, 0, 0, 0, 0, 0, 0, 0, 0, 0, 0, 0, 0, 0, 0, 0, 0, 0, 0, 0, 0, 0, 0, 0, 0, 0, 0, 0, 0, 0, 0, 0, 0, 0, 0, 0, 0, 0, 0, 0, 0, 0, 0, 0, 0, 0, 0, 0, 0, 0, 0, 0, 0, 0, 0, 0, 0, 0, 0, 0, 0, 0, 0, 0, 0, 0, 0, 0, 0, 0, 0, 0, 0, 0, 0, 0, 0, 0, 0, 0, 0, 0, 0, 0, 0, 0, 0, 0, 0, 0, 0, 0, 0, 0, 0, 0, 0, 0, 0, 0, 0, 0, 0, 0, 0, 0, 0, 0, 0, 0, 0, 0, 0, 0, 0, 0, 0, 0, 0, 0, 0, 0, 0, 0, 0, 0, 0, 0, 0, 0, 0, 0, 0, 0, 0, 0, 0, 0, 0, 0, 0, 0, 0, 0, 0, 0, 0, 0, 0, 0, 0, 0, 0, 0, 0, 0, 0, 0, 0, 0, 0, 0, 0, 0, 0, 0, 0, 0, 0, 0, 0, 0, 0, 0, 0, 0, 0, 0, 0, 0, 0, 0, 0, 0, 0, 0, 0, 0, 0, 0, 0, 0, 0, 0, 0, 0, 0, 0, 0, 0, 0, 0, 0, 0, 0, 0, 0, 0, 0, 0, 0, 0, 0, 0, 0, 0, 0, 0, 0, 0, 0, 0, 0, 0, 0, 0, 0, 0, 0, 0, 0, 0, 0, 0, 0, 0, 0, 0, 0, 0, 0, 0, 0, 0, 0, 0, 0, 0, 0, 0, 0, 0, 0, 0, 0, 0, 0, 0, 0, 0, 0, 0, 0, 0, 0, 0, 0, 0, 0, 0, 0, 0, 0, 0, 0, 0, 0, 0, 0, 0, 0, 0, 0, 0, 0, 0, 0, 0, 0, 0, 0, 0, 0, 0, 0, 0, 0, 0, 0, 0, 0, 0, 0, 0, 0, 0, 0, 0, 0, 0, 0, 0, 0, 0, 0, 0, 0, 0, 0, 0, 0, 0, 0, 0, 0, 0, 0, 0, 0, 0, 0, 0, 0, 0, 0, 0, 0, 0, 0, 0, 0, 0, 0, 0, 0, 0, 0, 0, 0, 0, 0, 0, 0, 0, 0, 0, 0, 0, 0, 0, 0, 0, 0, 0, 0, 0, 0, 0, 0, 0, 0, 0, 0, 0, 0, 0, 0, 0, 0, 0, 0, 0, 0, 0, 0, 0, 0, 0, 0, 0, 0, 0, 0, 0, 0, 0, 0, 0, 0, 0, 0, 0, 0, 0, 0, 0, 0, 0, 0, 0, 0, 0, 0, 0, 0, 0, 0, 0, 0, 0, 0, 0, 0, 0, 0, 0, 0, 0, 0, 0, 0, 0, 0, 0, 0, 0, 0, 0, 0, 0, 0, 0, 0, 0, 0, 0, 0, 0, 0, 0, 0, 0, 0, 0, 0, 0, 0, 0, 0, 0, 0, 0, 0, 0, 0, 0, 0, 0, 0, 0, 0, 0, 0, 0, 0, 0, 0, 0, 0, 0, 0, 0, 0, 0, 0, 0, 0, 0, 0, 0, 0, 0, 0, 0, 0, 0, 0, 0, 0, 0, 0, 0, 0, 0, 0, 0, 0, 0, 0, 0, 0, 0, 0, 0, 0, 0, 0, 0, 0, 0, 0, 0, 0, 0, 0, 0, 0, 0, 0, 0, 0, 0, 0, 0, 0, 0, 0, 0, 0, 0, 0, 0, 0, 0, 0, 0, 0, 0, 0, 0, 0, 0, 0, 0, 0, 0, 0, 0, 0, 0, 0, 0, 0, 0, 0, 0, 0, 0, 1, 0, 0, 0, 0, 0, 0, 0, 0, 0, 0, 0, 0, 0, 0, 0, 0, 0, 0, 0, 0, 0, 0, 0, 0, 0, 0, 0, 0, 0, 0, 0, 0, 0, 0, 0, 0, 0, 0, 0, 0, 0, 0, 0, 0, 0, 0, 0, 0, 0, 0, 0, 0, 0, 0, 0, 0, 0, 0, 0, 0, 0, 0, 0, 0, 0, 0, 0, 0, 0, 0, 0, 0, 0, 0, 0, 0, 0, 0, 0, 0, 0, 0, 0, 0, 0, 0, 0, 0, 0, 0, 0, 0, 0, 0, 0, 0, 0, 0, 0, 0, 0, 0, 0, 0, 0, 0, 0, 1, 0, 0, 0, 0, 0, 0, 0, 0, 0, 0, 0, 0, 0, 0, 0, 0, 0, 0, 0, 0, 0, 0, 0, 0, 0, 0, 0, 0, 0, 0, 0, 0, 0, 0, 0, 0, 0, 0, 0, 0, 0, 0, 0, 0, 0, 0, 0, 0, 0, 0, 0, 0, 0, 0, 0, 0, 0, 0, 0, 0, 0, 0, 0, 0, 0, 0, 0, 0, 0, 0, 0, 0, 0, 0, 0, 0, 0, 0, 0, 0, 0, 0, 0, 0, 0, 0, 0, 0, 0, 0, 0, 0, 0, 0, 0, 0, 0, 0, 0, 0, 0, 0, 0, 0, 0, 0, 0, 0, 0, 0, 0, 0, 0, 0, 0, 0, 0, 0, 0, 0, 0, 0, 0, 0, 0, 0, 0, 0, 0, 0, 0, 0, 0, 0, 0, 0, 0, 0, 0, 0, 0, 0, 0, 0, 0, 0, 0, 0, 0, 0, 0, 0, 0, 0, 0, 0, 0, 0, 0, 0, 0, 0, 0, 0, 0, 0, 0, 0, 0, 0, 0, 0, 0, 0, 0, 0, 0, 0, 0, 0, 0, 0, 0, 0, 0, 0, 0, 0, 0, 0, 0, 0, 0, 0, 0, 0, 0, 0, 0, 0, 0, 0, 0, 0, 0, 0, 0, 0, 0, 0, 0, 0, 0, 0, 0, 0, 0, 0, 0, 0, 0, 0, 0, 0, 0, 0, 0, 0, 0, 0, 0, 0, 0, 0, 0, 0, 0, 0, 0, 0, 0, 0, 0, 0, 0, 0, 0, 0, 0, 0, 0, 0, 0, 0, 0, 0, 0, 0, 0, 0, 0, 0, 0, 0, 0, 0, 0, 0, 0, 0, 0, 0, 0, 0, 0, 0, 0, 0, 0, 0, 0, 0, 0, 0, 0, 0, 0, 0, 0, 0, 0, 0, 0, 0, 0, 0, 0, 0, 0, 0, 0, 0, 0, 0, 0, 0, 0, 0, 0, 0, 0, 0, 0, 0, 0, 0, 0, 0, 0, 0, 0, 0, 0, 0, 0, 0, 0, 0, 0, 0, 0, 0, 0, 0, 0, 0, 0, 0, 0, 0, 0, 0, 0, 0, 0, 0, 0, 0, 0, 0, 0, 0, 0, 0, 0, 0, 0, 0, 0, 0, 0, 0, 0, 0, 0, 0, 0, 0, 0, 0, 0, 0, 0, 0, 0, 0, 0, 0, 0, 0, 0, 0, 0, 0, 0, 0, 0, 0, 0, 0, 0, 0, 0, 0, 0, 0, 0, 0, 0, 0, 0, 0, 0, 0, 0, 0, 0, 0, 0, 0, 0, 0, 0, 0, 0, 0, 0, 0, 0, 0, 0, 0, 0, 0, 0, 0, 0, 0, 0, 0, 0, 0, 0, 0, 0, 0, 0, 0, 0, 0, 0, 0, 0, 0, 0, 0, 0, 0, 0, 0, 0, 0, 0, 0, 0, 0, 0, 0, 0, 0, 0, 0, 0, 2, 0, 1, 0]\n"
     ]
    }
   ],
   "source": [
    "test_bow = bow_encoding(test_words, vocabulary)\n",
    "print(test_bow)"
   ]
  },
  {
   "cell_type": "code",
   "execution_count": 41,
   "metadata": {},
   "outputs": [
    {
     "data": {
      "text/plain": [
       "5000"
      ]
     },
     "execution_count": 41,
     "metadata": {},
     "output_type": "execute_result"
    }
   ],
   "source": [
    "len(test_bow)"
   ]
  },
  {
   "cell_type": "markdown",
   "metadata": {},
   "source": [
    "So now we know how to construct a bag of words encoding of a user provided review, how to we send it to our endpoint? First, we need to start the endpoint back up."
   ]
  },
  {
   "cell_type": "code",
   "execution_count": 42,
   "metadata": {},
   "outputs": [
    {
     "name": "stderr",
     "output_type": "stream",
     "text": [
      "Parameter image will be renamed to image_uri in SageMaker Python SDK v2.\n",
      "Using already existing model: xgboost-2021-03-25-14-57-51-272\n"
     ]
    },
    {
     "name": "stdout",
     "output_type": "stream",
     "text": [
      "---------------!"
     ]
    }
   ],
   "source": [
    "xgb_predictor = xgb.deploy(initial_instance_count = 1, instance_type = 'ml.m4.xlarge')"
   ]
  },
  {
   "cell_type": "markdown",
   "metadata": {},
   "source": [
    "At this point we could just do the same thing that we did earlier when we tested our deployed model and send `test_bow` to our endpoint using the `xgb_predictor` object. However, when we eventually construct our Lambda function we won't have access to this object, so how do we call a SageMaker endpoint?\n",
    "\n",
    "It turns out that Python functions that are used in Lambda have access to another Amazon library called `boto3`. This library provides an API for working with Amazon services, including SageMaker. To start with, we need to get a handle to the SageMaker runtime."
   ]
  },
  {
   "cell_type": "code",
   "execution_count": 43,
   "metadata": {},
   "outputs": [],
   "source": [
    "import boto3\n",
    "\n",
    "runtime = boto3.Session().client('sagemaker-runtime')"
   ]
  },
  {
   "cell_type": "markdown",
   "metadata": {},
   "source": [
    "And now that we have access to the SageMaker runtime, we can ask it to make use of (invoke) an endpoint that has already been created. However, we need to provide SageMaker with the name of the deployed endpoint. To find this out we can print it out using the `xgb_predictor` object."
   ]
  },
  {
   "cell_type": "code",
   "execution_count": 44,
   "metadata": {},
   "outputs": [
    {
     "data": {
      "text/plain": [
       "'xgboost-2021-03-25-14-57-51-272'"
      ]
     },
     "execution_count": 44,
     "metadata": {},
     "output_type": "execute_result"
    }
   ],
   "source": [
    "xgb_predictor.endpoint"
   ]
  },
  {
   "cell_type": "markdown",
   "metadata": {},
   "source": [
    "Using the SageMaker runtime and the name of our endpoint, we can invoke the endpoint and send it the `test_bow` data."
   ]
  },
  {
   "cell_type": "code",
   "execution_count": 45,
   "metadata": {},
   "outputs": [
    {
     "ename": "ParamValidationError",
     "evalue": "Parameter validation failed:\nInvalid type for parameter Body, value: [0, 0, 0, 0, 0, 0, 0, 0, 0, 0, 0, 0, 0, 0, 0, 0, 0, 0, 0, 0, 0, 0, 0, 0, 0, 0, 0, 0, 0, 0, 0, 0, 0, 0, 0, 0, 0, 0, 0, 0, 0, 0, 0, 0, 0, 0, 0, 0, 0, 0, 0, 0, 0, 0, 0, 0, 0, 0, 0, 0, 0, 0, 0, 0, 0, 0, 0, 0, 0, 0, 0, 0, 0, 0, 0, 0, 0, 0, 0, 0, 0, 0, 0, 0, 0, 0, 0, 0, 0, 0, 0, 0, 0, 0, 0, 0, 0, 0, 0, 0, 0, 0, 0, 0, 0, 0, 0, 0, 0, 0, 0, 0, 0, 0, 0, 0, 0, 0, 0, 0, 0, 0, 0, 0, 0, 0, 0, 0, 0, 0, 0, 0, 0, 0, 0, 0, 0, 0, 0, 0, 0, 0, 0, 0, 0, 0, 0, 0, 0, 0, 0, 0, 0, 0, 0, 0, 0, 0, 0, 0, 0, 0, 0, 0, 0, 0, 0, 0, 0, 0, 0, 0, 0, 0, 0, 0, 0, 0, 0, 0, 0, 0, 0, 0, 0, 0, 0, 0, 0, 0, 0, 0, 0, 0, 0, 0, 0, 0, 0, 0, 0, 0, 0, 0, 0, 0, 0, 0, 0, 0, 0, 0, 0, 0, 0, 0, 0, 0, 0, 0, 0, 0, 0, 0, 0, 0, 1, 0, 0, 0, 0, 0, 0, 0, 0, 0, 0, 0, 0, 0, 0, 0, 0, 0, 0, 0, 0, 0, 0, 0, 0, 0, 0, 0, 0, 0, 1, 0, 0, 0, 0, 0, 0, 0, 0, 0, 0, 0, 0, 0, 0, 0, 0, 0, 0, 0, 0, 0, 0, 0, 0, 0, 0, 0, 0, 0, 0, 0, 0, 0, 0, 0, 0, 0, 0, 0, 0, 0, 0, 0, 0, 0, 0, 0, 0, 0, 0, 0, 0, 0, 0, 0, 0, 0, 0, 0, 0, 0, 0, 0, 0, 0, 0, 0, 0, 0, 0, 0, 0, 0, 0, 0, 0, 0, 0, 0, 0, 0, 0, 0, 0, 0, 0, 0, 0, 0, 0, 0, 0, 0, 0, 0, 0, 0, 0, 0, 0, 0, 0, 0, 0, 0, 0, 0, 0, 0, 0, 0, 0, 0, 0, 0, 0, 0, 0, 0, 0, 0, 0, 0, 0, 0, 0, 0, 0, 0, 0, 0, 0, 0, 0, 0, 0, 0, 0, 0, 0, 0, 0, 0, 0, 0, 0, 0, 0, 0, 0, 0, 0, 0, 0, 0, 0, 0, 0, 0, 0, 0, 0, 0, 0, 0, 0, 0, 0, 0, 0, 0, 0, 0, 0, 0, 0, 0, 0, 0, 0, 0, 0, 0, 0, 0, 0, 0, 0, 0, 0, 0, 0, 0, 0, 0, 0, 0, 0, 0, 0, 0, 0, 0, 0, 0, 0, 0, 0, 0, 0, 0, 0, 0, 0, 0, 0, 0, 0, 0, 0, 0, 0, 0, 0, 0, 0, 0, 0, 0, 0, 0, 0, 0, 0, 0, 0, 0, 0, 0, 0, 0, 0, 0, 0, 0, 0, 0, 0, 0, 0, 0, 0, 0, 0, 0, 0, 0, 0, 0, 0, 0, 0, 0, 0, 0, 0, 0, 0, 0, 0, 0, 0, 0, 0, 0, 0, 0, 0, 0, 0, 0, 0, 0, 0, 0, 0, 0, 0, 0, 0, 0, 0, 0, 0, 0, 0, 0, 0, 0, 0, 0, 0, 0, 0, 0, 0, 0, 0, 0, 0, 0, 0, 0, 0, 0, 0, 0, 0, 0, 0, 0, 0, 0, 0, 0, 0, 0, 0, 0, 0, 0, 0, 0, 0, 0, 0, 0, 0, 0, 0, 0, 0, 0, 0, 0, 0, 0, 0, 0, 0, 0, 0, 0, 0, 0, 0, 0, 0, 0, 0, 0, 0, 0, 0, 0, 0, 0, 0, 0, 0, 0, 0, 0, 0, 0, 0, 0, 0, 0, 1, 0, 0, 0, 0, 0, 0, 0, 0, 0, 0, 0, 0, 0, 0, 0, 0, 0, 0, 0, 0, 0, 0, 0, 0, 0, 0, 0, 0, 0, 0, 0, 0, 0, 0, 0, 0, 0, 0, 0, 0, 0, 0, 0, 0, 0, 0, 0, 0, 0, 0, 0, 0, 0, 0, 0, 0, 0, 0, 0, 0, 0, 0, 0, 0, 0, 0, 0, 0, 0, 0, 0, 0, 0, 0, 0, 0, 0, 0, 0, 0, 0, 0, 0, 0, 0, 0, 0, 0, 0, 0, 0, 0, 0, 0, 0, 0, 0, 0, 0, 0, 0, 0, 0, 0, 0, 0, 0, 0, 0, 0, 0, 0, 0, 0, 0, 0, 0, 0, 0, 0, 0, 0, 0, 0, 0, 0, 0, 0, 0, 0, 0, 0, 0, 0, 0, 0, 0, 0, 0, 0, 0, 0, 0, 0, 0, 0, 0, 0, 0, 0, 0, 0, 0, 0, 0, 0, 0, 0, 0, 0, 0, 0, 0, 0, 0, 0, 0, 0, 0, 0, 0, 0, 0, 0, 0, 0, 0, 0, 0, 0, 0, 0, 0, 0, 0, 0, 0, 0, 0, 0, 0, 0, 0, 0, 0, 0, 0, 0, 0, 0, 0, 0, 0, 0, 0, 0, 0, 0, 0, 0, 0, 0, 0, 0, 0, 0, 0, 0, 0, 0, 0, 0, 0, 0, 0, 0, 0, 0, 0, 0, 0, 0, 0, 0, 0, 0, 0, 0, 0, 0, 0, 0, 0, 0, 0, 0, 0, 0, 0, 0, 0, 0, 0, 1, 0, 0, 0, 0, 0, 0, 0, 0, 0, 0, 0, 0, 0, 0, 0, 0, 0, 0, 0, 0, 0, 0, 0, 0, 0, 0, 0, 0, 0, 0, 0, 0, 0, 0, 0, 0, 0, 0, 0, 0, 0, 0, 0, 0, 0, 0, 0, 0, 0, 0, 0, 0, 0, 0, 0, 0, 0, 0, 0, 0, 0, 0, 0, 0, 0, 0, 0, 0, 0, 0, 0, 0, 0, 0, 0, 0, 0, 0, 0, 0, 0, 0, 0, 0, 0, 0, 1, 0, 0, 0, 0, 0, 0, 0, 0, 0, 0, 0, 0, 0, 0, 0, 0, 0, 0, 0, 0, 0, 0, 0, 0, 0, 0, 0, 0, 0, 0, 0, 0, 0, 0, 0, 0, 0, 0, 0, 0, 0, 0, 0, 0, 0, 0, 0, 0, 0, 0, 0, 0, 0, 0, 0, 0, 0, 0, 0, 0, 0, 0, 0, 0, 0, 0, 0, 0, 0, 0, 0, 0, 0, 0, 0, 0, 0, 0, 0, 0, 0, 0, 0, 0, 0, 0, 0, 0, 0, 0, 0, 0, 0, 0, 0, 0, 0, 0, 0, 0, 0, 0, 0, 0, 0, 0, 0, 0, 0, 0, 0, 0, 0, 0, 0, 0, 0, 0, 0, 0, 0, 0, 0, 0, 0, 0, 0, 0, 0, 0, 0, 0, 0, 0, 0, 0, 0, 0, 0, 0, 0, 0, 0, 0, 0, 0, 0, 0, 0, 0, 0, 0, 0, 0, 0, 0, 0, 0, 0, 0, 0, 0, 0, 0, 0, 0, 0, 0, 0, 0, 0, 0, 0, 0, 0, 0, 0, 0, 0, 0, 0, 0, 0, 0, 0, 0, 0, 0, 0, 0, 0, 0, 0, 0, 0, 0, 0, 0, 0, 0, 0, 0, 0, 0, 0, 0, 0, 0, 0, 0, 0, 0, 0, 0, 0, 0, 0, 0, 0, 0, 0, 0, 0, 0, 0, 0, 0, 0, 0, 0, 0, 0, 0, 0, 0, 0, 0, 0, 0, 0, 0, 0, 0, 0, 0, 0, 0, 0, 0, 0, 0, 0, 1, 0, 0, 0, 0, 0, 0, 0, 0, 0, 0, 0, 0, 0, 0, 0, 0, 0, 0, 0, 0, 0, 0, 0, 0, 0, 0, 0, 0, 0, 0, 0, 0, 0, 0, 0, 0, 0, 0, 0, 0, 0, 0, 0, 0, 0, 0, 0, 0, 0, 0, 0, 0, 0, 0, 0, 1, 0, 0, 0, 0, 0, 0, 0, 0, 0, 0, 0, 0, 0, 0, 0, 0, 0, 0, 0, 0, 0, 0, 0, 0, 0, 0, 0, 0, 0, 0, 0, 0, 0, 0, 0, 0, 0, 0, 0, 0, 0, 0, 0, 0, 0, 0, 0, 0, 0, 0, 0, 0, 0, 0, 0, 0, 0, 0, 0, 0, 0, 0, 0, 0, 0, 0, 0, 0, 0, 0, 0, 0, 0, 0, 0, 0, 0, 0, 0, 0, 0, 0, 0, 0, 0, 0, 0, 0, 0, 0, 0, 0, 0, 0, 0, 0, 0, 0, 0, 0, 0, 0, 0, 0, 0, 0, 0, 0, 0, 0, 0, 0, 0, 0, 0, 0, 0, 0, 0, 0, 0, 0, 0, 0, 0, 0, 0, 0, 0, 0, 0, 0, 0, 0, 0, 0, 0, 0, 0, 0, 0, 0, 0, 0, 0, 0, 0, 0, 0, 0, 0, 0, 0, 0, 0, 0, 0, 0, 0, 0, 0, 0, 0, 0, 0, 0, 0, 0, 0, 0, 0, 0, 0, 0, 0, 0, 0, 0, 0, 0, 0, 0, 0, 0, 0, 0, 0, 0, 0, 0, 0, 0, 0, 0, 0, 0, 0, 0, 0, 0, 0, 0, 0, 0, 0, 0, 0, 0, 0, 0, 0, 0, 0, 0, 0, 0, 0, 0, 0, 0, 0, 0, 0, 0, 0, 0, 0, 0, 0, 0, 0, 0, 0, 0, 0, 0, 0, 0, 0, 0, 0, 0, 0, 0, 0, 0, 0, 0, 0, 0, 0, 0, 0, 0, 0, 0, 0, 0, 0, 0, 0, 0, 0, 0, 0, 0, 0, 0, 0, 0, 0, 0, 0, 0, 0, 0, 0, 0, 0, 0, 0, 0, 0, 0, 0, 0, 0, 0, 0, 0, 0, 0, 0, 0, 0, 0, 0, 0, 0, 0, 0, 0, 0, 0, 0, 0, 0, 0, 0, 0, 0, 0, 0, 0, 0, 0, 0, 0, 0, 0, 0, 0, 0, 0, 0, 0, 0, 0, 0, 0, 0, 0, 0, 0, 0, 0, 0, 0, 0, 0, 0, 0, 0, 0, 0, 0, 0, 0, 0, 0, 0, 0, 0, 0, 0, 0, 0, 0, 0, 0, 0, 0, 0, 0, 0, 0, 0, 0, 0, 0, 0, 0, 0, 0, 0, 0, 0, 0, 0, 0, 0, 0, 0, 0, 0, 0, 0, 0, 0, 0, 0, 0, 0, 0, 0, 0, 0, 0, 0, 0, 0, 0, 0, 0, 0, 0, 0, 0, 0, 0, 0, 0, 0, 0, 0, 0, 0, 0, 0, 0, 0, 0, 0, 0, 0, 0, 0, 0, 0, 0, 0, 0, 0, 0, 0, 0, 0, 0, 0, 0, 0, 0, 0, 0, 0, 0, 0, 0, 0, 0, 0, 0, 0, 0, 0, 0, 0, 0, 0, 0, 0, 0, 0, 0, 0, 0, 0, 0, 0, 0, 0, 0, 0, 0, 0, 0, 0, 0, 0, 0, 0, 0, 0, 0, 0, 0, 0, 0, 0, 0, 0, 0, 0, 0, 0, 0, 0, 0, 0, 0, 0, 0, 0, 0, 0, 0, 0, 0, 0, 0, 0, 0, 0, 0, 0, 0, 0, 0, 0, 0, 0, 0, 0, 0, 0, 0, 0, 0, 0, 0, 0, 0, 0, 0, 0, 0, 0, 0, 0, 0, 0, 0, 0, 0, 0, 0, 0, 0, 0, 0, 0, 0, 0, 0, 0, 0, 0, 0, 0, 0, 0, 0, 0, 0, 0, 0, 0, 0, 0, 0, 0, 0, 0, 0, 0, 0, 0, 0, 0, 0, 0, 0, 0, 0, 0, 0, 0, 0, 0, 0, 0, 0, 0, 0, 0, 0, 0, 0, 0, 0, 0, 0, 0, 0, 0, 0, 0, 0, 0, 0, 0, 0, 0, 0, 0, 0, 0, 0, 0, 0, 0, 0, 0, 0, 0, 0, 0, 0, 0, 0, 0, 0, 0, 0, 0, 0, 0, 0, 0, 0, 0, 0, 0, 0, 0, 0, 0, 0, 0, 0, 0, 0, 0, 0, 0, 0, 0, 0, 0, 0, 0, 0, 0, 0, 0, 0, 0, 0, 0, 0, 0, 0, 0, 0, 0, 0, 0, 0, 0, 0, 0, 1, 0, 0, 0, 0, 0, 0, 0, 0, 0, 0, 0, 0, 0, 0, 0, 0, 0, 0, 0, 0, 0, 0, 0, 0, 0, 0, 0, 0, 0, 0, 0, 0, 0, 0, 0, 0, 0, 0, 0, 0, 0, 0, 0, 0, 0, 0, 0, 0, 0, 0, 0, 0, 0, 0, 0, 0, 0, 0, 0, 0, 0, 0, 0, 0, 0, 0, 0, 0, 0, 0, 0, 0, 0, 0, 1, 0, 0, 0, 0, 0, 0, 0, 0, 0, 0, 0, 0, 0, 0, 0, 0, 0, 0, 0, 0, 1, 0, 0, 1, 0, 0, 0, 0, 0, 0, 0, 0, 0, 0, 0, 0, 0, 0, 0, 0, 0, 0, 0, 0, 0, 0, 0, 0, 0, 0, 0, 0, 0, 0, 0, 0, 0, 0, 0, 0, 0, 0, 0, 0, 0, 0, 0, 0, 0, 0, 0, 0, 0, 0, 0, 0, 0, 0, 0, 0, 0, 0, 0, 0, 0, 0, 0, 0, 0, 0, 0, 0, 0, 0, 0, 0, 0, 0, 0, 0, 0, 0, 0, 0, 0, 0, 0, 0, 0, 0, 0, 0, 0, 0, 0, 0, 0, 0, 0, 0, 0, 0, 0, 0, 0, 0, 0, 0, 0, 0, 0, 0, 0, 0, 0, 0, 0, 0, 0, 0, 0, 0, 0, 0, 0, 0, 0, 0, 0, 0, 0, 0, 0, 0, 0, 0, 0, 0, 0, 0, 0, 0, 0, 0, 0, 0, 0, 0, 0, 0, 0, 0, 0, 0, 0, 0, 0, 0, 0, 0, 0, 0, 0, 0, 0, 0, 0, 0, 0, 0, 0, 0, 0, 0, 0, 0, 0, 0, 0, 0, 0, 0, 0, 0, 0, 0, 0, 0, 0, 0, 0, 0, 0, 0, 0, 0, 0, 0, 0, 0, 0, 0, 0, 0, 0, 0, 0, 0, 0, 0, 0, 0, 0, 0, 0, 0, 0, 0, 0, 0, 0, 0, 0, 0, 0, 0, 0, 0, 0, 0, 0, 0, 0, 0, 0, 0, 0, 0, 0, 0, 0, 0, 0, 0, 0, 0, 0, 0, 0, 0, 0, 0, 0, 0, 0, 0, 0, 0, 0, 0, 0, 0, 0, 0, 0, 0, 0, 0, 0, 0, 0, 0, 0, 0, 0, 0, 0, 0, 0, 0, 0, 0, 0, 0, 0, 0, 0, 0, 0, 0, 0, 0, 0, 0, 0, 0, 0, 0, 0, 0, 0, 0, 0, 0, 0, 0, 0, 0, 0, 0, 0, 0, 0, 0, 0, 0, 0, 0, 0, 0, 0, 0, 0, 0, 0, 0, 0, 0, 0, 0, 0, 0, 0, 0, 0, 0, 0, 0, 0, 0, 0, 0, 0, 0, 0, 0, 0, 0, 0, 0, 0, 0, 0, 0, 0, 0, 0, 0, 0, 0, 0, 0, 0, 0, 0, 0, 0, 0, 0, 0, 0, 0, 0, 0, 0, 0, 0, 0, 0, 0, 0, 0, 0, 0, 0, 0, 0, 0, 0, 0, 0, 0, 0, 0, 0, 0, 0, 0, 0, 0, 0, 0, 0, 0, 0, 0, 0, 0, 0, 0, 0, 0, 0, 0, 0, 0, 0, 0, 0, 0, 0, 0, 0, 0, 0, 0, 0, 0, 0, 0, 0, 0, 0, 0, 0, 0, 0, 0, 0, 0, 0, 0, 0, 0, 0, 0, 0, 0, 0, 0, 0, 0, 0, 0, 0, 0, 0, 0, 0, 0, 0, 0, 0, 0, 0, 0, 0, 0, 0, 0, 1, 0, 0, 0, 0, 0, 0, 0, 0, 0, 0, 0, 0, 0, 0, 0, 0, 0, 0, 0, 0, 0, 0, 0, 0, 0, 0, 0, 0, 0, 0, 0, 0, 0, 0, 0, 0, 0, 0, 0, 0, 0, 0, 0, 0, 0, 0, 0, 0, 0, 0, 0, 0, 0, 0, 0, 0, 0, 0, 0, 0, 0, 0, 0, 0, 0, 0, 0, 0, 0, 0, 0, 0, 0, 0, 0, 0, 0, 0, 0, 0, 0, 0, 0, 0, 0, 0, 0, 0, 0, 0, 0, 0, 0, 0, 0, 0, 0, 0, 0, 0, 0, 0, 0, 0, 0, 0, 0, 0, 0, 0, 0, 0, 0, 0, 0, 0, 0, 0, 0, 0, 0, 0, 0, 0, 0, 0, 0, 0, 0, 0, 0, 0, 0, 0, 0, 0, 0, 0, 0, 0, 0, 0, 0, 0, 0, 0, 0, 0, 0, 0, 0, 0, 0, 0, 0, 0, 0, 0, 0, 0, 0, 0, 0, 0, 0, 0, 0, 0, 0, 0, 0, 0, 0, 0, 0, 0, 0, 0, 0, 0, 0, 0, 0, 0, 0, 0, 0, 0, 0, 0, 0, 0, 0, 0, 0, 0, 0, 0, 0, 0, 0, 0, 0, 0, 0, 0, 0, 0, 0, 0, 0, 0, 0, 0, 0, 0, 0, 0, 0, 0, 0, 0, 0, 0, 0, 0, 0, 0, 0, 0, 0, 0, 0, 0, 0, 0, 0, 0, 0, 0, 0, 0, 0, 0, 0, 0, 0, 0, 0, 0, 0, 0, 0, 0, 0, 0, 0, 0, 0, 0, 0, 0, 0, 0, 0, 0, 0, 0, 0, 0, 0, 0, 0, 0, 0, 0, 0, 0, 0, 0, 0, 0, 0, 0, 0, 0, 0, 0, 0, 0, 0, 0, 0, 0, 0, 0, 0, 0, 0, 0, 0, 0, 0, 0, 0, 0, 0, 0, 0, 0, 0, 0, 0, 0, 0, 0, 0, 0, 0, 0, 0, 0, 0, 0, 0, 0, 0, 0, 0, 0, 0, 0, 0, 0, 0, 0, 0, 0, 0, 0, 0, 0, 0, 0, 0, 0, 0, 0, 0, 0, 0, 0, 0, 0, 0, 0, 0, 0, 0, 0, 0, 0, 0, 0, 0, 0, 0, 0, 0, 0, 0, 0, 0, 0, 0, 0, 0, 0, 0, 0, 0, 0, 0, 0, 0, 0, 0, 0, 0, 0, 0, 0, 0, 0, 0, 0, 0, 0, 0, 0, 0, 0, 0, 0, 0, 0, 0, 0, 0, 0, 0, 0, 0, 0, 0, 0, 0, 0, 0, 0, 0, 0, 0, 0, 0, 0, 0, 0, 0, 0, 0, 0, 0, 0, 0, 0, 0, 0, 0, 0, 0, 0, 0, 0, 0, 0, 0, 0, 0, 0, 0, 0, 0, 0, 0, 0, 0, 0, 0, 0, 0, 0, 0, 0, 0, 0, 0, 0, 0, 0, 0, 0, 0, 0, 0, 0, 0, 0, 0, 0, 0, 0, 0, 0, 0, 0, 0, 0, 0, 0, 0, 0, 0, 0, 0, 0, 0, 0, 0, 0, 0, 0, 0, 0, 0, 0, 0, 0, 0, 0, 0, 0, 1, 0, 0, 0, 0, 0, 0, 0, 0, 0, 0, 0, 0, 0, 0, 0, 0, 0, 0, 0, 0, 0, 0, 0, 0, 0, 0, 0, 0, 0, 0, 0, 0, 0, 0, 0, 2, 0, 0, 0, 0, 0, 0, 0, 0, 0, 0, 0, 0, 0, 0, 0, 0, 0, 0, 0, 0, 0, 0, 0, 0, 0, 0, 0, 0, 0, 0, 0, 0, 0, 0, 0, 0, 0, 0, 0, 0, 1, 0, 0, 0, 0, 0, 0, 0, 0, 0, 0, 0, 0, 0, 0, 0, 0, 0, 0, 0, 0, 0, 0, 0, 0, 0, 0, 0, 0, 0, 0, 0, 0, 0, 0, 0, 0, 0, 0, 0, 0, 0, 0, 0, 0, 0, 0, 0, 0, 0, 0, 0, 0, 0, 0, 0, 0, 0, 0, 0, 0, 0, 0, 0, 0, 0, 0, 0, 0, 0, 0, 0, 0, 0, 0, 0, 0, 0, 0, 0, 0, 0, 0, 0, 0, 0, 0, 0, 0, 0, 0, 0, 0, 0, 0, 0, 0, 0, 0, 0, 0, 0, 0, 0, 0, 0, 0, 0, 0, 0, 0, 0, 0, 0, 0, 0, 0, 0, 0, 0, 0, 0, 0, 0, 0, 0, 0, 0, 0, 0, 0, 0, 0, 0, 0, 0, 0, 0, 0, 0, 0, 0, 0, 0, 0, 0, 0, 0, 0, 0, 0, 0, 0, 0, 0, 0, 0, 0, 0, 0, 0, 0, 0, 0, 0, 0, 0, 0, 0, 0, 0, 0, 0, 0, 0, 0, 0, 0, 0, 0, 0, 0, 0, 0, 0, 0, 0, 0, 0, 0, 0, 0, 0, 0, 0, 0, 0, 0, 0, 0, 0, 0, 0, 0, 0, 0, 0, 0, 0, 0, 0, 0, 0, 0, 0, 0, 0, 0, 0, 0, 0, 0, 0, 0, 0, 0, 0, 0, 0, 0, 0, 0, 0, 0, 0, 0, 0, 0, 0, 0, 0, 0, 0, 0, 0, 0, 0, 0, 0, 0, 0, 0, 0, 0, 0, 0, 0, 0, 0, 0, 0, 0, 0, 0, 0, 0, 0, 0, 0, 0, 0, 0, 0, 0, 0, 0, 0, 0, 0, 0, 0, 0, 0, 0, 0, 0, 0, 0, 0, 0, 0, 0, 0, 0, 0, 0, 0, 0, 0, 0, 0, 0, 0, 0, 0, 0, 0, 0, 0, 0, 0, 0, 0, 0, 0, 0, 0, 0, 0, 0, 0, 0, 0, 0, 0, 0, 0, 0, 0, 0, 0, 0, 0, 0, 0, 0, 0, 0, 0, 0, 0, 0, 0, 0, 0, 0, 0, 0, 0, 0, 0, 0, 0, 0, 0, 0, 0, 0, 0, 0, 0, 0, 0, 0, 0, 0, 0, 0, 0, 0, 0, 0, 0, 0, 0, 0, 0, 0, 0, 0, 0, 0, 0, 0, 0, 0, 0, 0, 0, 0, 0, 0, 0, 0, 0, 0, 0, 0, 0, 0, 0, 0, 0, 0, 0, 0, 0, 0, 0, 0, 0, 0, 0, 0, 0, 0, 0, 0, 0, 0, 0, 0, 0, 0, 0, 0, 0, 0, 0, 0, 0, 0, 0, 0, 0, 0, 0, 0, 0, 0, 0, 0, 0, 0, 0, 0, 0, 0, 0, 0, 0, 0, 0, 0, 0, 0, 0, 0, 0, 0, 0, 0, 0, 0, 0, 0, 0, 0, 0, 0, 0, 0, 0, 0, 0, 0, 0, 0, 0, 0, 0, 0, 0, 0, 0, 0, 0, 0, 0, 0, 0, 0, 0, 0, 0, 0, 0, 0, 1, 0, 0, 0, 0, 0, 0, 0, 0, 0, 0, 0, 0, 0, 0, 0, 0, 0, 0, 0, 0, 0, 0, 0, 0, 0, 0, 0, 0, 0, 0, 0, 0, 0, 0, 0, 0, 0, 0, 0, 0, 0, 0, 0, 0, 0, 0, 0, 0, 0, 0, 0, 0, 0, 0, 0, 0, 0, 0, 0, 0, 0, 0, 0, 0, 0, 0, 0, 0, 0, 0, 0, 0, 0, 0, 0, 0, 0, 0, 0, 0, 0, 0, 0, 0, 0, 0, 0, 0, 0, 0, 0, 0, 0, 0, 0, 0, 0, 0, 0, 0, 0, 0, 0, 0, 0, 0, 0, 0, 0, 0, 2, 0, 0, 0, 0, 0, 0, 0, 0, 0, 0, 0, 0, 0, 0, 0, 0, 0, 0, 0, 0, 0, 0, 0, 0, 0, 0, 0, 0, 0, 0, 0, 0, 0, 0, 0, 0, 0, 0, 0, 0, 0, 0, 0, 0, 0, 0, 0, 0, 0, 0, 0, 0, 0, 0, 0, 0, 0, 0, 0, 0, 0, 0, 0, 0, 0, 0, 0, 0, 0, 0, 0, 0, 0, 0, 0, 0, 0, 0, 0, 0, 0, 0, 0, 0, 0, 0, 0, 0, 0, 0, 0, 0, 0, 0, 0, 0, 0, 0, 0, 0, 0, 0, 0, 0, 0, 0, 0, 0, 0, 0, 0, 0, 0, 0, 0, 0, 0, 0, 0, 0, 0, 0, 0, 0, 0, 0, 0, 0, 0, 0, 0, 0, 0, 0, 0, 0, 0, 0, 0, 0, 0, 0, 0, 0, 0, 0, 0, 0, 0, 0, 0, 0, 0, 0, 0, 0, 0, 0, 0, 0, 0, 0, 0, 0, 0, 0, 0, 0, 0, 0, 0, 0, 0, 0, 0, 0, 0, 0, 0, 0, 0, 0, 0, 0, 0, 0, 0, 0, 0, 0, 0, 0, 0, 0, 0, 0, 0, 0, 0, 0, 0, 0, 0, 0, 0, 0, 0, 0, 0, 0, 0, 0, 0, 0, 0, 0, 0, 0, 0, 0, 0, 0, 0, 0, 0, 0, 0, 0, 0, 0, 0, 0, 0, 0, 0, 0, 0, 0, 0, 0, 0, 0, 0, 0, 0, 0, 0, 0, 0, 0, 0, 0, 0, 0, 0, 0, 0, 0, 0, 0, 0, 0, 0, 0, 0, 0, 0, 0, 0, 0, 0, 0, 0, 0, 0, 0, 0, 0, 0, 0, 0, 0, 0, 0, 0, 0, 0, 0, 0, 0, 0, 0, 0, 0, 0, 0, 0, 0, 0, 0, 0, 0, 0, 0, 0, 0, 0, 0, 0, 0, 0, 0, 0, 0, 0, 0, 0, 0, 0, 0, 0, 0, 0, 0, 0, 0, 0, 0, 0, 0, 0, 0, 0, 0, 0, 0, 0, 0, 0, 0, 0, 0, 0, 0, 0, 0, 0, 0, 0, 0, 0, 0, 0, 0, 0, 0, 0, 0, 0, 0, 0, 0, 0, 0, 0, 0, 0, 0, 0, 0, 0, 0, 0, 0, 0, 0, 0, 0, 0, 0, 0, 0, 0, 0, 0, 0, 0, 0, 0, 0, 0, 0, 0, 0, 0, 0, 0, 0, 0, 0, 0, 0, 0, 0, 0, 0, 0, 0, 0, 0, 0, 0, 0, 0, 0, 0, 0, 0, 0, 0, 0, 0, 0, 0, 0, 0, 0, 0, 0, 0, 0, 0, 0, 0, 0, 0, 0, 0, 0, 0, 0, 0, 0, 0, 0, 0, 0, 0, 0, 0, 0, 0, 0, 0, 0, 0, 0, 0, 0, 0, 0, 0, 0, 0, 0, 0, 0, 0, 0, 0, 0, 0, 0, 0, 0, 0, 0, 0, 0, 0, 0, 0, 0, 0, 0, 0, 0, 0, 0, 0, 0, 0, 0, 0, 0, 0, 0, 0, 0, 0, 0, 0, 0, 0, 0, 0, 0, 0, 0, 0, 0, 0, 0, 0, 0, 0, 0, 0, 0, 0, 0, 0, 0, 0, 0, 0, 0, 0, 0, 0, 0, 0, 0, 0, 0, 0, 0, 0, 0, 0, 0, 0, 0, 0, 0, 0, 0, 0, 0, 0, 0, 0, 0, 0, 0, 0, 0, 0, 0, 0, 0, 0, 0, 0, 0, 0, 0, 0, 0, 0, 0, 0, 0, 0, 0, 0, 0, 0, 0, 0, 0, 0, 0, 0, 0, 0, 0, 0, 0, 0, 0, 0, 0, 0, 0, 0, 0, 0, 0, 0, 0, 0, 0, 0, 0, 0, 0, 0, 0, 0, 0, 0, 0, 0, 0, 0, 0, 0, 0, 0, 0, 0, 0, 0, 0, 0, 0, 0, 0, 0, 0, 0, 0, 0, 0, 0, 0, 0, 0, 0, 0, 0, 0, 0, 0, 0, 0, 0, 0, 0, 0, 0, 0, 0, 0, 0, 0, 0, 0, 0, 0, 0, 0, 0, 0, 0, 0, 0, 0, 0, 0, 0, 0, 0, 0, 0, 0, 0, 0, 0, 0, 0, 0, 0, 0, 0, 0, 0, 0, 0, 1, 0, 0, 0, 0, 0, 0, 0, 0, 0, 0, 0, 0, 0, 0, 0, 0, 0, 0, 0, 0, 0, 0, 0, 0, 0, 0, 0, 0, 0, 0, 0, 0, 0, 0, 0, 0, 0, 0, 0, 0, 0, 0, 0, 0, 0, 0, 0, 0, 0, 0, 0, 0, 0, 0, 0, 0, 0, 0, 0, 0, 0, 0, 0, 0, 0, 0, 0, 0, 0, 0, 0, 0, 0, 0, 0, 0, 0, 0, 0, 0, 0, 0, 0, 0, 0, 0, 0, 0, 0, 0, 0, 0, 0, 0, 0, 0, 0, 0, 0, 0, 0, 0, 0, 0, 0, 0, 0, 1, 0, 0, 0, 0, 0, 0, 0, 0, 0, 0, 0, 0, 0, 0, 0, 0, 0, 0, 0, 0, 0, 0, 0, 0, 0, 0, 0, 0, 0, 0, 0, 0, 0, 0, 0, 0, 0, 0, 0, 0, 0, 0, 0, 0, 0, 0, 0, 0, 0, 0, 0, 0, 0, 0, 0, 0, 0, 0, 0, 0, 0, 0, 0, 0, 0, 0, 0, 0, 0, 0, 0, 0, 0, 0, 0, 0, 0, 0, 0, 0, 0, 0, 0, 0, 0, 0, 0, 0, 0, 0, 0, 0, 0, 0, 0, 0, 0, 0, 0, 0, 0, 0, 0, 0, 0, 0, 0, 0, 0, 0, 0, 0, 0, 0, 0, 0, 0, 0, 0, 0, 0, 0, 0, 0, 0, 0, 0, 0, 0, 0, 0, 0, 0, 0, 0, 0, 0, 0, 0, 0, 0, 0, 0, 0, 0, 0, 0, 0, 0, 0, 0, 0, 0, 0, 0, 0, 0, 0, 0, 0, 0, 0, 0, 0, 0, 0, 0, 0, 0, 0, 0, 0, 0, 0, 0, 0, 0, 0, 0, 0, 0, 0, 0, 0, 0, 0, 0, 0, 0, 0, 0, 0, 0, 0, 0, 0, 0, 0, 0, 0, 0, 0, 0, 0, 0, 0, 0, 0, 0, 0, 0, 0, 0, 0, 0, 0, 0, 0, 0, 0, 0, 0, 0, 0, 0, 0, 0, 0, 0, 0, 0, 0, 0, 0, 0, 0, 0, 0, 0, 0, 0, 0, 0, 0, 0, 0, 0, 0, 0, 0, 0, 0, 0, 0, 0, 0, 0, 0, 0, 0, 0, 0, 0, 0, 0, 0, 0, 0, 0, 0, 0, 0, 0, 0, 0, 0, 0, 0, 0, 0, 0, 0, 0, 0, 0, 0, 0, 0, 0, 0, 0, 0, 0, 0, 0, 0, 0, 0, 0, 0, 0, 0, 0, 0, 0, 0, 0, 0, 0, 0, 0, 0, 0, 0, 0, 0, 0, 0, 0, 0, 0, 0, 0, 0, 0, 0, 0, 0, 0, 0, 0, 0, 0, 0, 0, 0, 0, 0, 0, 0, 0, 0, 0, 0, 0, 0, 0, 0, 0, 0, 0, 0, 0, 0, 0, 0, 0, 0, 0, 0, 0, 0, 0, 0, 0, 0, 0, 0, 0, 0, 0, 0, 0, 0, 0, 0, 0, 0, 0, 0, 0, 0, 0, 0, 0, 0, 0, 0, 0, 0, 0, 0, 0, 0, 0, 0, 0, 0, 0, 0, 0, 0, 0, 0, 0, 0, 0, 0, 0, 0, 0, 0, 0, 0, 0, 0, 0, 0, 0, 0, 0, 0, 0, 0, 0, 0, 0, 0, 0, 0, 0, 0, 0, 0, 0, 0, 0, 0, 0, 0, 0, 0, 0, 0, 0, 0, 0, 0, 0, 0, 0, 0, 0, 0, 0, 0, 0, 0, 0, 0, 0, 0, 0, 2, 0, 1, 0], type: <class 'list'>, valid types: <class 'bytes'>, <class 'bytearray'>, file-like object",
     "output_type": "error",
     "traceback": [
      "\u001b[0;31m---------------------------------------------------------------------------\u001b[0m",
      "\u001b[0;31mParamValidationError\u001b[0m                      Traceback (most recent call last)",
      "\u001b[0;32m<ipython-input-45-c9ab54ae3a48>\u001b[0m in \u001b[0;36m<module>\u001b[0;34m\u001b[0m\n\u001b[1;32m      1\u001b[0m response = runtime.invoke_endpoint(EndpointName = xgb_predictor.endpoint, # The name of the endpoint we created\n\u001b[1;32m      2\u001b[0m                                        \u001b[0mContentType\u001b[0m \u001b[0;34m=\u001b[0m \u001b[0;34m'text/csv'\u001b[0m\u001b[0;34m,\u001b[0m                     \u001b[0;31m# The data format that is expected\u001b[0m\u001b[0;34m\u001b[0m\u001b[0;34m\u001b[0m\u001b[0m\n\u001b[0;32m----> 3\u001b[0;31m                                        Body = test_bow)\n\u001b[0m",
      "\u001b[0;32m~/anaconda3/envs/python3/lib/python3.6/site-packages/botocore/client.py\u001b[0m in \u001b[0;36m_api_call\u001b[0;34m(self, *args, **kwargs)\u001b[0m\n\u001b[1;32m    355\u001b[0m                     \"%s() only accepts keyword arguments.\" % py_operation_name)\n\u001b[1;32m    356\u001b[0m             \u001b[0;31m# The \"self\" in this scope is referring to the BaseClient.\u001b[0m\u001b[0;34m\u001b[0m\u001b[0;34m\u001b[0m\u001b[0;34m\u001b[0m\u001b[0m\n\u001b[0;32m--> 357\u001b[0;31m             \u001b[0;32mreturn\u001b[0m \u001b[0mself\u001b[0m\u001b[0;34m.\u001b[0m\u001b[0m_make_api_call\u001b[0m\u001b[0;34m(\u001b[0m\u001b[0moperation_name\u001b[0m\u001b[0;34m,\u001b[0m \u001b[0mkwargs\u001b[0m\u001b[0;34m)\u001b[0m\u001b[0;34m\u001b[0m\u001b[0;34m\u001b[0m\u001b[0m\n\u001b[0m\u001b[1;32m    358\u001b[0m \u001b[0;34m\u001b[0m\u001b[0m\n\u001b[1;32m    359\u001b[0m         \u001b[0m_api_call\u001b[0m\u001b[0;34m.\u001b[0m\u001b[0m__name__\u001b[0m \u001b[0;34m=\u001b[0m \u001b[0mstr\u001b[0m\u001b[0;34m(\u001b[0m\u001b[0mpy_operation_name\u001b[0m\u001b[0;34m)\u001b[0m\u001b[0;34m\u001b[0m\u001b[0;34m\u001b[0m\u001b[0m\n",
      "\u001b[0;32m~/anaconda3/envs/python3/lib/python3.6/site-packages/botocore/client.py\u001b[0m in \u001b[0;36m_make_api_call\u001b[0;34m(self, operation_name, api_params)\u001b[0m\n\u001b[1;32m    647\u001b[0m         }\n\u001b[1;32m    648\u001b[0m         request_dict = self._convert_to_request_dict(\n\u001b[0;32m--> 649\u001b[0;31m             api_params, operation_model, context=request_context)\n\u001b[0m\u001b[1;32m    650\u001b[0m \u001b[0;34m\u001b[0m\u001b[0m\n\u001b[1;32m    651\u001b[0m         \u001b[0mservice_id\u001b[0m \u001b[0;34m=\u001b[0m \u001b[0mself\u001b[0m\u001b[0;34m.\u001b[0m\u001b[0m_service_model\u001b[0m\u001b[0;34m.\u001b[0m\u001b[0mservice_id\u001b[0m\u001b[0;34m.\u001b[0m\u001b[0mhyphenize\u001b[0m\u001b[0;34m(\u001b[0m\u001b[0;34m)\u001b[0m\u001b[0;34m\u001b[0m\u001b[0;34m\u001b[0m\u001b[0m\n",
      "\u001b[0;32m~/anaconda3/envs/python3/lib/python3.6/site-packages/botocore/client.py\u001b[0m in \u001b[0;36m_convert_to_request_dict\u001b[0;34m(self, api_params, operation_model, context)\u001b[0m\n\u001b[1;32m    695\u001b[0m             api_params, operation_model, context)\n\u001b[1;32m    696\u001b[0m         request_dict = self._serializer.serialize_to_request(\n\u001b[0;32m--> 697\u001b[0;31m             api_params, operation_model)\n\u001b[0m\u001b[1;32m    698\u001b[0m         \u001b[0;32mif\u001b[0m \u001b[0;32mnot\u001b[0m \u001b[0mself\u001b[0m\u001b[0;34m.\u001b[0m\u001b[0m_client_config\u001b[0m\u001b[0;34m.\u001b[0m\u001b[0minject_host_prefix\u001b[0m\u001b[0;34m:\u001b[0m\u001b[0;34m\u001b[0m\u001b[0;34m\u001b[0m\u001b[0m\n\u001b[1;32m    699\u001b[0m             \u001b[0mrequest_dict\u001b[0m\u001b[0;34m.\u001b[0m\u001b[0mpop\u001b[0m\u001b[0;34m(\u001b[0m\u001b[0;34m'host_prefix'\u001b[0m\u001b[0;34m,\u001b[0m \u001b[0;32mNone\u001b[0m\u001b[0;34m)\u001b[0m\u001b[0;34m\u001b[0m\u001b[0;34m\u001b[0m\u001b[0m\n",
      "\u001b[0;32m~/anaconda3/envs/python3/lib/python3.6/site-packages/botocore/validate.py\u001b[0m in \u001b[0;36mserialize_to_request\u001b[0;34m(self, parameters, operation_model)\u001b[0m\n\u001b[1;32m    291\u001b[0m                                                     operation_model.input_shape)\n\u001b[1;32m    292\u001b[0m             \u001b[0;32mif\u001b[0m \u001b[0mreport\u001b[0m\u001b[0;34m.\u001b[0m\u001b[0mhas_errors\u001b[0m\u001b[0;34m(\u001b[0m\u001b[0;34m)\u001b[0m\u001b[0;34m:\u001b[0m\u001b[0;34m\u001b[0m\u001b[0;34m\u001b[0m\u001b[0m\n\u001b[0;32m--> 293\u001b[0;31m                 \u001b[0;32mraise\u001b[0m \u001b[0mParamValidationError\u001b[0m\u001b[0;34m(\u001b[0m\u001b[0mreport\u001b[0m\u001b[0;34m=\u001b[0m\u001b[0mreport\u001b[0m\u001b[0;34m.\u001b[0m\u001b[0mgenerate_report\u001b[0m\u001b[0;34m(\u001b[0m\u001b[0;34m)\u001b[0m\u001b[0;34m)\u001b[0m\u001b[0;34m\u001b[0m\u001b[0;34m\u001b[0m\u001b[0m\n\u001b[0m\u001b[1;32m    294\u001b[0m         return self._serializer.serialize_to_request(parameters,\n\u001b[1;32m    295\u001b[0m                                                      operation_model)\n",
      "\u001b[0;31mParamValidationError\u001b[0m: Parameter validation failed:\nInvalid type for parameter Body, value: [0, 0, 0, 0, 0, 0, 0, 0, 0, 0, 0, 0, 0, 0, 0, 0, 0, 0, 0, 0, 0, 0, 0, 0, 0, 0, 0, 0, 0, 0, 0, 0, 0, 0, 0, 0, 0, 0, 0, 0, 0, 0, 0, 0, 0, 0, 0, 0, 0, 0, 0, 0, 0, 0, 0, 0, 0, 0, 0, 0, 0, 0, 0, 0, 0, 0, 0, 0, 0, 0, 0, 0, 0, 0, 0, 0, 0, 0, 0, 0, 0, 0, 0, 0, 0, 0, 0, 0, 0, 0, 0, 0, 0, 0, 0, 0, 0, 0, 0, 0, 0, 0, 0, 0, 0, 0, 0, 0, 0, 0, 0, 0, 0, 0, 0, 0, 0, 0, 0, 0, 0, 0, 0, 0, 0, 0, 0, 0, 0, 0, 0, 0, 0, 0, 0, 0, 0, 0, 0, 0, 0, 0, 0, 0, 0, 0, 0, 0, 0, 0, 0, 0, 0, 0, 0, 0, 0, 0, 0, 0, 0, 0, 0, 0, 0, 0, 0, 0, 0, 0, 0, 0, 0, 0, 0, 0, 0, 0, 0, 0, 0, 0, 0, 0, 0, 0, 0, 0, 0, 0, 0, 0, 0, 0, 0, 0, 0, 0, 0, 0, 0, 0, 0, 0, 0, 0, 0, 0, 0, 0, 0, 0, 0, 0, 0, 0, 0, 0, 0, 0, 0, 0, 0, 0, 0, 0, 1, 0, 0, 0, 0, 0, 0, 0, 0, 0, 0, 0, 0, 0, 0, 0, 0, 0, 0, 0, 0, 0, 0, 0, 0, 0, 0, 0, 0, 0, 1, 0, 0, 0, 0, 0, 0, 0, 0, 0, 0, 0, 0, 0, 0, 0, 0, 0, 0, 0, 0, 0, 0, 0, 0, 0, 0, 0, 0, 0, 0, 0, 0, 0, 0, 0, 0, 0, 0, 0, 0, 0, 0, 0, 0, 0, 0, 0, 0, 0, 0, 0, 0, 0, 0, 0, 0, 0, 0, 0, 0, 0, 0, 0, 0, 0, 0, 0, 0, 0, 0, 0, 0, 0, 0, 0, 0, 0, 0, 0, 0, 0, 0, 0, 0, 0, 0, 0, 0, 0, 0, 0, 0, 0, 0, 0, 0, 0, 0, 0, 0, 0, 0, 0, 0, 0, 0, 0, 0, 0, 0, 0, 0, 0, 0, 0, 0, 0, 0, 0, 0, 0, 0, 0, 0, 0, 0, 0, 0, 0, 0, 0, 0, 0, 0, 0, 0, 0, 0, 0, 0, 0, 0, 0, 0, 0, 0, 0, 0, 0, 0, 0, 0, 0, 0, 0, 0, 0, 0, 0, 0, 0, 0, 0, 0, 0, 0, 0, 0, 0, 0, 0, 0, 0, 0, 0, 0, 0, 0, 0, 0, 0, 0, 0, 0, 0, 0, 0, 0, 0, 0, 0, 0, 0, 0, 0, 0, 0, 0, 0, 0, 0, 0, 0, 0, 0, 0, 0, 0, 0, 0, 0, 0, 0, 0, 0, 0, 0, 0, 0, 0, 0, 0, 0, 0, 0, 0, 0, 0, 0, 0, 0, 0, 0, 0, 0, 0, 0, 0, 0, 0, 0, 0, 0, 0, 0, 0, 0, 0, 0, 0, 0, 0, 0, 0, 0, 0, 0, 0, 0, 0, 0, 0, 0, 0, 0, 0, 0, 0, 0, 0, 0, 0, 0, 0, 0, 0, 0, 0, 0, 0, 0, 0, 0, 0, 0, 0, 0, 0, 0, 0, 0, 0, 0, 0, 0, 0, 0, 0, 0, 0, 0, 0, 0, 0, 0, 0, 0, 0, 0, 0, 0, 0, 0, 0, 0, 0, 0, 0, 0, 0, 0, 0, 0, 0, 0, 0, 0, 0, 0, 0, 0, 0, 0, 0, 0, 0, 0, 0, 0, 0, 0, 0, 0, 0, 0, 0, 0, 0, 0, 0, 0, 0, 0, 0, 0, 0, 0, 0, 0, 0, 0, 0, 0, 0, 0, 0, 0, 0, 0, 0, 0, 0, 0, 0, 0, 0, 0, 0, 0, 1, 0, 0, 0, 0, 0, 0, 0, 0, 0, 0, 0, 0, 0, 0, 0, 0, 0, 0, 0, 0, 0, 0, 0, 0, 0, 0, 0, 0, 0, 0, 0, 0, 0, 0, 0, 0, 0, 0, 0, 0, 0, 0, 0, 0, 0, 0, 0, 0, 0, 0, 0, 0, 0, 0, 0, 0, 0, 0, 0, 0, 0, 0, 0, 0, 0, 0, 0, 0, 0, 0, 0, 0, 0, 0, 0, 0, 0, 0, 0, 0, 0, 0, 0, 0, 0, 0, 0, 0, 0, 0, 0, 0, 0, 0, 0, 0, 0, 0, 0, 0, 0, 0, 0, 0, 0, 0, 0, 0, 0, 0, 0, 0, 0, 0, 0, 0, 0, 0, 0, 0, 0, 0, 0, 0, 0, 0, 0, 0, 0, 0, 0, 0, 0, 0, 0, 0, 0, 0, 0, 0, 0, 0, 0, 0, 0, 0, 0, 0, 0, 0, 0, 0, 0, 0, 0, 0, 0, 0, 0, 0, 0, 0, 0, 0, 0, 0, 0, 0, 0, 0, 0, 0, 0, 0, 0, 0, 0, 0, 0, 0, 0, 0, 0, 0, 0, 0, 0, 0, 0, 0, 0, 0, 0, 0, 0, 0, 0, 0, 0, 0, 0, 0, 0, 0, 0, 0, 0, 0, 0, 0, 0, 0, 0, 0, 0, 0, 0, 0, 0, 0, 0, 0, 0, 0, 0, 0, 0, 0, 0, 0, 0, 0, 0, 0, 0, 0, 0, 0, 0, 0, 0, 0, 0, 0, 0, 0, 0, 0, 0, 0, 0, 0, 0, 1, 0, 0, 0, 0, 0, 0, 0, 0, 0, 0, 0, 0, 0, 0, 0, 0, 0, 0, 0, 0, 0, 0, 0, 0, 0, 0, 0, 0, 0, 0, 0, 0, 0, 0, 0, 0, 0, 0, 0, 0, 0, 0, 0, 0, 0, 0, 0, 0, 0, 0, 0, 0, 0, 0, 0, 0, 0, 0, 0, 0, 0, 0, 0, 0, 0, 0, 0, 0, 0, 0, 0, 0, 0, 0, 0, 0, 0, 0, 0, 0, 0, 0, 0, 0, 0, 0, 1, 0, 0, 0, 0, 0, 0, 0, 0, 0, 0, 0, 0, 0, 0, 0, 0, 0, 0, 0, 0, 0, 0, 0, 0, 0, 0, 0, 0, 0, 0, 0, 0, 0, 0, 0, 0, 0, 0, 0, 0, 0, 0, 0, 0, 0, 0, 0, 0, 0, 0, 0, 0, 0, 0, 0, 0, 0, 0, 0, 0, 0, 0, 0, 0, 0, 0, 0, 0, 0, 0, 0, 0, 0, 0, 0, 0, 0, 0, 0, 0, 0, 0, 0, 0, 0, 0, 0, 0, 0, 0, 0, 0, 0, 0, 0, 0, 0, 0, 0, 0, 0, 0, 0, 0, 0, 0, 0, 0, 0, 0, 0, 0, 0, 0, 0, 0, 0, 0, 0, 0, 0, 0, 0, 0, 0, 0, 0, 0, 0, 0, 0, 0, 0, 0, 0, 0, 0, 0, 0, 0, 0, 0, 0, 0, 0, 0, 0, 0, 0, 0, 0, 0, 0, 0, 0, 0, 0, 0, 0, 0, 0, 0, 0, 0, 0, 0, 0, 0, 0, 0, 0, 0, 0, 0, 0, 0, 0, 0, 0, 0, 0, 0, 0, 0, 0, 0, 0, 0, 0, 0, 0, 0, 0, 0, 0, 0, 0, 0, 0, 0, 0, 0, 0, 0, 0, 0, 0, 0, 0, 0, 0, 0, 0, 0, 0, 0, 0, 0, 0, 0, 0, 0, 0, 0, 0, 0, 0, 0, 0, 0, 0, 0, 0, 0, 0, 0, 0, 0, 0, 0, 0, 0, 0, 0, 0, 0, 0, 0, 0, 0, 0, 0, 1, 0, 0, 0, 0, 0, 0, 0, 0, 0, 0, 0, 0, 0, 0, 0, 0, 0, 0, 0, 0, 0, 0, 0, 0, 0, 0, 0, 0, 0, 0, 0, 0, 0, 0, 0, 0, 0, 0, 0, 0, 0, 0, 0, 0, 0, 0, 0, 0, 0, 0, 0, 0, 0, 0, 0, 1, 0, 0, 0, 0, 0, 0, 0, 0, 0, 0, 0, 0, 0, 0, 0, 0, 0, 0, 0, 0, 0, 0, 0, 0, 0, 0, 0, 0, 0, 0, 0, 0, 0, 0, 0, 0, 0, 0, 0, 0, 0, 0, 0, 0, 0, 0, 0, 0, 0, 0, 0, 0, 0, 0, 0, 0, 0, 0, 0, 0, 0, 0, 0, 0, 0, 0, 0, 0, 0, 0, 0, 0, 0, 0, 0, 0, 0, 0, 0, 0, 0, 0, 0, 0, 0, 0, 0, 0, 0, 0, 0, 0, 0, 0, 0, 0, 0, 0, 0, 0, 0, 0, 0, 0, 0, 0, 0, 0, 0, 0, 0, 0, 0, 0, 0, 0, 0, 0, 0, 0, 0, 0, 0, 0, 0, 0, 0, 0, 0, 0, 0, 0, 0, 0, 0, 0, 0, 0, 0, 0, 0, 0, 0, 0, 0, 0, 0, 0, 0, 0, 0, 0, 0, 0, 0, 0, 0, 0, 0, 0, 0, 0, 0, 0, 0, 0, 0, 0, 0, 0, 0, 0, 0, 0, 0, 0, 0, 0, 0, 0, 0, 0, 0, 0, 0, 0, 0, 0, 0, 0, 0, 0, 0, 0, 0, 0, 0, 0, 0, 0, 0, 0, 0, 0, 0, 0, 0, 0, 0, 0, 0, 0, 0, 0, 0, 0, 0, 0, 0, 0, 0, 0, 0, 0, 0, 0, 0, 0, 0, 0, 0, 0, 0, 0, 0, 0, 0, 0, 0, 0, 0, 0, 0, 0, 0, 0, 0, 0, 0, 0, 0, 0, 0, 0, 0, 0, 0, 0, 0, 0, 0, 0, 0, 0, 0, 0, 0, 0, 0, 0, 0, 0, 0, 0, 0, 0, 0, 0, 0, 0, 0, 0, 0, 0, 0, 0, 0, 0, 0, 0, 0, 0, 0, 0, 0, 0, 0, 0, 0, 0, 0, 0, 0, 0, 0, 0, 0, 0, 0, 0, 0, 0, 0, 0, 0, 0, 0, 0, 0, 0, 0, 0, 0, 0, 0, 0, 0, 0, 0, 0, 0, 0, 0, 0, 0, 0, 0, 0, 0, 0, 0, 0, 0, 0, 0, 0, 0, 0, 0, 0, 0, 0, 0, 0, 0, 0, 0, 0, 0, 0, 0, 0, 0, 0, 0, 0, 0, 0, 0, 0, 0, 0, 0, 0, 0, 0, 0, 0, 0, 0, 0, 0, 0, 0, 0, 0, 0, 0, 0, 0, 0, 0, 0, 0, 0, 0, 0, 0, 0, 0, 0, 0, 0, 0, 0, 0, 0, 0, 0, 0, 0, 0, 0, 0, 0, 0, 0, 0, 0, 0, 0, 0, 0, 0, 0, 0, 0, 0, 0, 0, 0, 0, 0, 0, 0, 0, 0, 0, 0, 0, 0, 0, 0, 0, 0, 0, 0, 0, 0, 0, 0, 0, 0, 0, 0, 0, 0, 0, 0, 0, 0, 0, 0, 0, 0, 0, 0, 0, 0, 0, 0, 0, 0, 0, 0, 0, 0, 0, 0, 0, 0, 0, 0, 0, 0, 0, 0, 0, 0, 0, 0, 0, 0, 0, 0, 0, 0, 0, 0, 0, 0, 0, 0, 0, 0, 0, 0, 0, 0, 0, 0, 0, 0, 0, 0, 0, 0, 0, 0, 0, 0, 0, 0, 0, 0, 0, 0, 0, 0, 0, 0, 0, 0, 0, 0, 0, 0, 0, 0, 0, 0, 0, 0, 0, 0, 0, 0, 0, 0, 0, 0, 0, 0, 0, 0, 0, 0, 0, 0, 0, 0, 0, 0, 0, 0, 0, 0, 0, 0, 0, 0, 0, 0, 0, 0, 0, 0, 0, 0, 0, 0, 0, 0, 0, 0, 0, 0, 0, 0, 0, 0, 0, 0, 0, 0, 0, 0, 0, 0, 0, 0, 0, 0, 0, 0, 0, 0, 0, 0, 0, 0, 0, 0, 0, 0, 0, 0, 0, 0, 0, 0, 0, 0, 0, 0, 0, 0, 0, 0, 0, 0, 0, 0, 0, 0, 0, 0, 0, 0, 0, 0, 0, 0, 0, 0, 0, 0, 0, 0, 0, 0, 0, 0, 0, 0, 0, 0, 0, 0, 0, 0, 0, 0, 0, 0, 0, 0, 0, 0, 0, 0, 0, 0, 0, 0, 0, 0, 0, 0, 0, 0, 1, 0, 0, 0, 0, 0, 0, 0, 0, 0, 0, 0, 0, 0, 0, 0, 0, 0, 0, 0, 0, 0, 0, 0, 0, 0, 0, 0, 0, 0, 0, 0, 0, 0, 0, 0, 0, 0, 0, 0, 0, 0, 0, 0, 0, 0, 0, 0, 0, 0, 0, 0, 0, 0, 0, 0, 0, 0, 0, 0, 0, 0, 0, 0, 0, 0, 0, 0, 0, 0, 0, 0, 0, 0, 0, 1, 0, 0, 0, 0, 0, 0, 0, 0, 0, 0, 0, 0, 0, 0, 0, 0, 0, 0, 0, 0, 1, 0, 0, 1, 0, 0, 0, 0, 0, 0, 0, 0, 0, 0, 0, 0, 0, 0, 0, 0, 0, 0, 0, 0, 0, 0, 0, 0, 0, 0, 0, 0, 0, 0, 0, 0, 0, 0, 0, 0, 0, 0, 0, 0, 0, 0, 0, 0, 0, 0, 0, 0, 0, 0, 0, 0, 0, 0, 0, 0, 0, 0, 0, 0, 0, 0, 0, 0, 0, 0, 0, 0, 0, 0, 0, 0, 0, 0, 0, 0, 0, 0, 0, 0, 0, 0, 0, 0, 0, 0, 0, 0, 0, 0, 0, 0, 0, 0, 0, 0, 0, 0, 0, 0, 0, 0, 0, 0, 0, 0, 0, 0, 0, 0, 0, 0, 0, 0, 0, 0, 0, 0, 0, 0, 0, 0, 0, 0, 0, 0, 0, 0, 0, 0, 0, 0, 0, 0, 0, 0, 0, 0, 0, 0, 0, 0, 0, 0, 0, 0, 0, 0, 0, 0, 0, 0, 0, 0, 0, 0, 0, 0, 0, 0, 0, 0, 0, 0, 0, 0, 0, 0, 0, 0, 0, 0, 0, 0, 0, 0, 0, 0, 0, 0, 0, 0, 0, 0, 0, 0, 0, 0, 0, 0, 0, 0, 0, 0, 0, 0, 0, 0, 0, 0, 0, 0, 0, 0, 0, 0, 0, 0, 0, 0, 0, 0, 0, 0, 0, 0, 0, 0, 0, 0, 0, 0, 0, 0, 0, 0, 0, 0, 0, 0, 0, 0, 0, 0, 0, 0, 0, 0, 0, 0, 0, 0, 0, 0, 0, 0, 0, 0, 0, 0, 0, 0, 0, 0, 0, 0, 0, 0, 0, 0, 0, 0, 0, 0, 0, 0, 0, 0, 0, 0, 0, 0, 0, 0, 0, 0, 0, 0, 0, 0, 0, 0, 0, 0, 0, 0, 0, 0, 0, 0, 0, 0, 0, 0, 0, 0, 0, 0, 0, 0, 0, 0, 0, 0, 0, 0, 0, 0, 0, 0, 0, 0, 0, 0, 0, 0, 0, 0, 0, 0, 0, 0, 0, 0, 0, 0, 0, 0, 0, 0, 0, 0, 0, 0, 0, 0, 0, 0, 0, 0, 0, 0, 0, 0, 0, 0, 0, 0, 0, 0, 0, 0, 0, 0, 0, 0, 0, 0, 0, 0, 0, 0, 0, 0, 0, 0, 0, 0, 0, 0, 0, 0, 0, 0, 0, 0, 0, 0, 0, 0, 0, 0, 0, 0, 0, 0, 0, 0, 0, 0, 0, 0, 0, 0, 0, 0, 0, 0, 0, 0, 0, 0, 0, 0, 0, 0, 0, 0, 0, 0, 0, 0, 0, 0, 0, 0, 0, 0, 0, 0, 0, 0, 0, 0, 0, 0, 0, 0, 0, 0, 0, 0, 0, 0, 0, 0, 0, 0, 0, 0, 0, 0, 0, 0, 0, 0, 0, 0, 0, 0, 0, 0, 0, 0, 0, 0, 0, 0, 0, 0, 0, 0, 0, 0, 0, 0, 1, 0, 0, 0, 0, 0, 0, 0, 0, 0, 0, 0, 0, 0, 0, 0, 0, 0, 0, 0, 0, 0, 0, 0, 0, 0, 0, 0, 0, 0, 0, 0, 0, 0, 0, 0, 0, 0, 0, 0, 0, 0, 0, 0, 0, 0, 0, 0, 0, 0, 0, 0, 0, 0, 0, 0, 0, 0, 0, 0, 0, 0, 0, 0, 0, 0, 0, 0, 0, 0, 0, 0, 0, 0, 0, 0, 0, 0, 0, 0, 0, 0, 0, 0, 0, 0, 0, 0, 0, 0, 0, 0, 0, 0, 0, 0, 0, 0, 0, 0, 0, 0, 0, 0, 0, 0, 0, 0, 0, 0, 0, 0, 0, 0, 0, 0, 0, 0, 0, 0, 0, 0, 0, 0, 0, 0, 0, 0, 0, 0, 0, 0, 0, 0, 0, 0, 0, 0, 0, 0, 0, 0, 0, 0, 0, 0, 0, 0, 0, 0, 0, 0, 0, 0, 0, 0, 0, 0, 0, 0, 0, 0, 0, 0, 0, 0, 0, 0, 0, 0, 0, 0, 0, 0, 0, 0, 0, 0, 0, 0, 0, 0, 0, 0, 0, 0, 0, 0, 0, 0, 0, 0, 0, 0, 0, 0, 0, 0, 0, 0, 0, 0, 0, 0, 0, 0, 0, 0, 0, 0, 0, 0, 0, 0, 0, 0, 0, 0, 0, 0, 0, 0, 0, 0, 0, 0, 0, 0, 0, 0, 0, 0, 0, 0, 0, 0, 0, 0, 0, 0, 0, 0, 0, 0, 0, 0, 0, 0, 0, 0, 0, 0, 0, 0, 0, 0, 0, 0, 0, 0, 0, 0, 0, 0, 0, 0, 0, 0, 0, 0, 0, 0, 0, 0, 0, 0, 0, 0, 0, 0, 0, 0, 0, 0, 0, 0, 0, 0, 0, 0, 0, 0, 0, 0, 0, 0, 0, 0, 0, 0, 0, 0, 0, 0, 0, 0, 0, 0, 0, 0, 0, 0, 0, 0, 0, 0, 0, 0, 0, 0, 0, 0, 0, 0, 0, 0, 0, 0, 0, 0, 0, 0, 0, 0, 0, 0, 0, 0, 0, 0, 0, 0, 0, 0, 0, 0, 0, 0, 0, 0, 0, 0, 0, 0, 0, 0, 0, 0, 0, 0, 0, 0, 0, 0, 0, 0, 0, 0, 0, 0, 0, 0, 0, 0, 0, 0, 0, 0, 0, 0, 0, 0, 0, 0, 0, 0, 0, 0, 0, 0, 0, 0, 0, 0, 0, 0, 0, 0, 0, 0, 0, 0, 0, 0, 0, 0, 0, 0, 0, 0, 0, 0, 0, 0, 0, 0, 0, 0, 0, 0, 0, 0, 0, 0, 0, 0, 0, 0, 0, 0, 0, 0, 0, 0, 0, 0, 0, 0, 0, 0, 0, 0, 0, 0, 0, 0, 0, 0, 0, 0, 0, 0, 0, 0, 0, 0, 0, 0, 0, 0, 0, 0, 0, 0, 0, 0, 0, 0, 0, 0, 0, 0, 0, 0, 0, 0, 0, 0, 0, 0, 0, 0, 0, 0, 0, 0, 0, 0, 0, 0, 0, 0, 0, 0, 0, 0, 0, 0, 0, 0, 0, 0, 0, 0, 0, 0, 0, 0, 0, 0, 0, 0, 0, 1, 0, 0, 0, 0, 0, 0, 0, 0, 0, 0, 0, 0, 0, 0, 0, 0, 0, 0, 0, 0, 0, 0, 0, 0, 0, 0, 0, 0, 0, 0, 0, 0, 0, 0, 0, 2, 0, 0, 0, 0, 0, 0, 0, 0, 0, 0, 0, 0, 0, 0, 0, 0, 0, 0, 0, 0, 0, 0, 0, 0, 0, 0, 0, 0, 0, 0, 0, 0, 0, 0, 0, 0, 0, 0, 0, 0, 1, 0, 0, 0, 0, 0, 0, 0, 0, 0, 0, 0, 0, 0, 0, 0, 0, 0, 0, 0, 0, 0, 0, 0, 0, 0, 0, 0, 0, 0, 0, 0, 0, 0, 0, 0, 0, 0, 0, 0, 0, 0, 0, 0, 0, 0, 0, 0, 0, 0, 0, 0, 0, 0, 0, 0, 0, 0, 0, 0, 0, 0, 0, 0, 0, 0, 0, 0, 0, 0, 0, 0, 0, 0, 0, 0, 0, 0, 0, 0, 0, 0, 0, 0, 0, 0, 0, 0, 0, 0, 0, 0, 0, 0, 0, 0, 0, 0, 0, 0, 0, 0, 0, 0, 0, 0, 0, 0, 0, 0, 0, 0, 0, 0, 0, 0, 0, 0, 0, 0, 0, 0, 0, 0, 0, 0, 0, 0, 0, 0, 0, 0, 0, 0, 0, 0, 0, 0, 0, 0, 0, 0, 0, 0, 0, 0, 0, 0, 0, 0, 0, 0, 0, 0, 0, 0, 0, 0, 0, 0, 0, 0, 0, 0, 0, 0, 0, 0, 0, 0, 0, 0, 0, 0, 0, 0, 0, 0, 0, 0, 0, 0, 0, 0, 0, 0, 0, 0, 0, 0, 0, 0, 0, 0, 0, 0, 0, 0, 0, 0, 0, 0, 0, 0, 0, 0, 0, 0, 0, 0, 0, 0, 0, 0, 0, 0, 0, 0, 0, 0, 0, 0, 0, 0, 0, 0, 0, 0, 0, 0, 0, 0, 0, 0, 0, 0, 0, 0, 0, 0, 0, 0, 0, 0, 0, 0, 0, 0, 0, 0, 0, 0, 0, 0, 0, 0, 0, 0, 0, 0, 0, 0, 0, 0, 0, 0, 0, 0, 0, 0, 0, 0, 0, 0, 0, 0, 0, 0, 0, 0, 0, 0, 0, 0, 0, 0, 0, 0, 0, 0, 0, 0, 0, 0, 0, 0, 0, 0, 0, 0, 0, 0, 0, 0, 0, 0, 0, 0, 0, 0, 0, 0, 0, 0, 0, 0, 0, 0, 0, 0, 0, 0, 0, 0, 0, 0, 0, 0, 0, 0, 0, 0, 0, 0, 0, 0, 0, 0, 0, 0, 0, 0, 0, 0, 0, 0, 0, 0, 0, 0, 0, 0, 0, 0, 0, 0, 0, 0, 0, 0, 0, 0, 0, 0, 0, 0, 0, 0, 0, 0, 0, 0, 0, 0, 0, 0, 0, 0, 0, 0, 0, 0, 0, 0, 0, 0, 0, 0, 0, 0, 0, 0, 0, 0, 0, 0, 0, 0, 0, 0, 0, 0, 0, 0, 0, 0, 0, 0, 0, 0, 0, 0, 0, 0, 0, 0, 0, 0, 0, 0, 0, 0, 0, 0, 0, 0, 0, 0, 0, 0, 0, 0, 0, 0, 0, 0, 0, 0, 0, 0, 0, 0, 0, 0, 0, 0, 0, 0, 0, 0, 0, 0, 0, 0, 0, 0, 0, 0, 0, 0, 0, 0, 0, 0, 0, 0, 0, 0, 0, 0, 0, 0, 0, 0, 0, 0, 0, 0, 0, 0, 0, 0, 0, 0, 0, 0, 0, 0, 0, 0, 0, 0, 0, 0, 0, 0, 0, 0, 1, 0, 0, 0, 0, 0, 0, 0, 0, 0, 0, 0, 0, 0, 0, 0, 0, 0, 0, 0, 0, 0, 0, 0, 0, 0, 0, 0, 0, 0, 0, 0, 0, 0, 0, 0, 0, 0, 0, 0, 0, 0, 0, 0, 0, 0, 0, 0, 0, 0, 0, 0, 0, 0, 0, 0, 0, 0, 0, 0, 0, 0, 0, 0, 0, 0, 0, 0, 0, 0, 0, 0, 0, 0, 0, 0, 0, 0, 0, 0, 0, 0, 0, 0, 0, 0, 0, 0, 0, 0, 0, 0, 0, 0, 0, 0, 0, 0, 0, 0, 0, 0, 0, 0, 0, 0, 0, 0, 0, 0, 0, 2, 0, 0, 0, 0, 0, 0, 0, 0, 0, 0, 0, 0, 0, 0, 0, 0, 0, 0, 0, 0, 0, 0, 0, 0, 0, 0, 0, 0, 0, 0, 0, 0, 0, 0, 0, 0, 0, 0, 0, 0, 0, 0, 0, 0, 0, 0, 0, 0, 0, 0, 0, 0, 0, 0, 0, 0, 0, 0, 0, 0, 0, 0, 0, 0, 0, 0, 0, 0, 0, 0, 0, 0, 0, 0, 0, 0, 0, 0, 0, 0, 0, 0, 0, 0, 0, 0, 0, 0, 0, 0, 0, 0, 0, 0, 0, 0, 0, 0, 0, 0, 0, 0, 0, 0, 0, 0, 0, 0, 0, 0, 0, 0, 0, 0, 0, 0, 0, 0, 0, 0, 0, 0, 0, 0, 0, 0, 0, 0, 0, 0, 0, 0, 0, 0, 0, 0, 0, 0, 0, 0, 0, 0, 0, 0, 0, 0, 0, 0, 0, 0, 0, 0, 0, 0, 0, 0, 0, 0, 0, 0, 0, 0, 0, 0, 0, 0, 0, 0, 0, 0, 0, 0, 0, 0, 0, 0, 0, 0, 0, 0, 0, 0, 0, 0, 0, 0, 0, 0, 0, 0, 0, 0, 0, 0, 0, 0, 0, 0, 0, 0, 0, 0, 0, 0, 0, 0, 0, 0, 0, 0, 0, 0, 0, 0, 0, 0, 0, 0, 0, 0, 0, 0, 0, 0, 0, 0, 0, 0, 0, 0, 0, 0, 0, 0, 0, 0, 0, 0, 0, 0, 0, 0, 0, 0, 0, 0, 0, 0, 0, 0, 0, 0, 0, 0, 0, 0, 0, 0, 0, 0, 0, 0, 0, 0, 0, 0, 0, 0, 0, 0, 0, 0, 0, 0, 0, 0, 0, 0, 0, 0, 0, 0, 0, 0, 0, 0, 0, 0, 0, 0, 0, 0, 0, 0, 0, 0, 0, 0, 0, 0, 0, 0, 0, 0, 0, 0, 0, 0, 0, 0, 0, 0, 0, 0, 0, 0, 0, 0, 0, 0, 0, 0, 0, 0, 0, 0, 0, 0, 0, 0, 0, 0, 0, 0, 0, 0, 0, 0, 0, 0, 0, 0, 0, 0, 0, 0, 0, 0, 0, 0, 0, 0, 0, 0, 0, 0, 0, 0, 0, 0, 0, 0, 0, 0, 0, 0, 0, 0, 0, 0, 0, 0, 0, 0, 0, 0, 0, 0, 0, 0, 0, 0, 0, 0, 0, 0, 0, 0, 0, 0, 0, 0, 0, 0, 0, 0, 0, 0, 0, 0, 0, 0, 0, 0, 0, 0, 0, 0, 0, 0, 0, 0, 0, 0, 0, 0, 0, 0, 0, 0, 0, 0, 0, 0, 0, 0, 0, 0, 0, 0, 0, 0, 0, 0, 0, 0, 0, 0, 0, 0, 0, 0, 0, 0, 0, 0, 0, 0, 0, 0, 0, 0, 0, 0, 0, 0, 0, 0, 0, 0, 0, 0, 0, 0, 0, 0, 0, 0, 0, 0, 0, 0, 0, 0, 0, 0, 0, 0, 0, 0, 0, 0, 0, 0, 0, 0, 0, 0, 0, 0, 0, 0, 0, 0, 0, 0, 0, 0, 0, 0, 0, 0, 0, 0, 0, 0, 0, 0, 0, 0, 0, 0, 0, 0, 0, 0, 0, 0, 0, 0, 0, 0, 0, 0, 0, 0, 0, 0, 0, 0, 0, 0, 0, 0, 0, 0, 0, 0, 0, 0, 0, 0, 0, 0, 0, 0, 0, 0, 0, 0, 0, 0, 0, 0, 0, 0, 0, 0, 0, 0, 0, 0, 0, 0, 0, 0, 0, 0, 0, 0, 0, 0, 0, 0, 0, 0, 0, 0, 0, 0, 0, 0, 0, 0, 0, 0, 0, 0, 0, 0, 0, 0, 0, 0, 0, 0, 0, 0, 0, 0, 0, 0, 0, 0, 0, 0, 0, 0, 0, 0, 0, 0, 0, 0, 0, 0, 0, 0, 0, 0, 0, 0, 0, 0, 0, 0, 0, 0, 0, 0, 0, 0, 0, 0, 0, 0, 0, 0, 0, 0, 0, 0, 0, 0, 0, 0, 0, 0, 0, 0, 0, 0, 0, 0, 0, 0, 0, 0, 0, 0, 0, 0, 0, 0, 0, 0, 0, 0, 0, 0, 0, 0, 0, 0, 0, 0, 0, 0, 0, 0, 0, 0, 0, 0, 0, 0, 0, 0, 0, 0, 1, 0, 0, 0, 0, 0, 0, 0, 0, 0, 0, 0, 0, 0, 0, 0, 0, 0, 0, 0, 0, 0, 0, 0, 0, 0, 0, 0, 0, 0, 0, 0, 0, 0, 0, 0, 0, 0, 0, 0, 0, 0, 0, 0, 0, 0, 0, 0, 0, 0, 0, 0, 0, 0, 0, 0, 0, 0, 0, 0, 0, 0, 0, 0, 0, 0, 0, 0, 0, 0, 0, 0, 0, 0, 0, 0, 0, 0, 0, 0, 0, 0, 0, 0, 0, 0, 0, 0, 0, 0, 0, 0, 0, 0, 0, 0, 0, 0, 0, 0, 0, 0, 0, 0, 0, 0, 0, 0, 1, 0, 0, 0, 0, 0, 0, 0, 0, 0, 0, 0, 0, 0, 0, 0, 0, 0, 0, 0, 0, 0, 0, 0, 0, 0, 0, 0, 0, 0, 0, 0, 0, 0, 0, 0, 0, 0, 0, 0, 0, 0, 0, 0, 0, 0, 0, 0, 0, 0, 0, 0, 0, 0, 0, 0, 0, 0, 0, 0, 0, 0, 0, 0, 0, 0, 0, 0, 0, 0, 0, 0, 0, 0, 0, 0, 0, 0, 0, 0, 0, 0, 0, 0, 0, 0, 0, 0, 0, 0, 0, 0, 0, 0, 0, 0, 0, 0, 0, 0, 0, 0, 0, 0, 0, 0, 0, 0, 0, 0, 0, 0, 0, 0, 0, 0, 0, 0, 0, 0, 0, 0, 0, 0, 0, 0, 0, 0, 0, 0, 0, 0, 0, 0, 0, 0, 0, 0, 0, 0, 0, 0, 0, 0, 0, 0, 0, 0, 0, 0, 0, 0, 0, 0, 0, 0, 0, 0, 0, 0, 0, 0, 0, 0, 0, 0, 0, 0, 0, 0, 0, 0, 0, 0, 0, 0, 0, 0, 0, 0, 0, 0, 0, 0, 0, 0, 0, 0, 0, 0, 0, 0, 0, 0, 0, 0, 0, 0, 0, 0, 0, 0, 0, 0, 0, 0, 0, 0, 0, 0, 0, 0, 0, 0, 0, 0, 0, 0, 0, 0, 0, 0, 0, 0, 0, 0, 0, 0, 0, 0, 0, 0, 0, 0, 0, 0, 0, 0, 0, 0, 0, 0, 0, 0, 0, 0, 0, 0, 0, 0, 0, 0, 0, 0, 0, 0, 0, 0, 0, 0, 0, 0, 0, 0, 0, 0, 0, 0, 0, 0, 0, 0, 0, 0, 0, 0, 0, 0, 0, 0, 0, 0, 0, 0, 0, 0, 0, 0, 0, 0, 0, 0, 0, 0, 0, 0, 0, 0, 0, 0, 0, 0, 0, 0, 0, 0, 0, 0, 0, 0, 0, 0, 0, 0, 0, 0, 0, 0, 0, 0, 0, 0, 0, 0, 0, 0, 0, 0, 0, 0, 0, 0, 0, 0, 0, 0, 0, 0, 0, 0, 0, 0, 0, 0, 0, 0, 0, 0, 0, 0, 0, 0, 0, 0, 0, 0, 0, 0, 0, 0, 0, 0, 0, 0, 0, 0, 0, 0, 0, 0, 0, 0, 0, 0, 0, 0, 0, 0, 0, 0, 0, 0, 0, 0, 0, 0, 0, 0, 0, 0, 0, 0, 0, 0, 0, 0, 0, 0, 0, 0, 0, 0, 0, 0, 0, 0, 0, 0, 0, 0, 0, 0, 0, 0, 0, 0, 0, 0, 0, 0, 0, 0, 0, 0, 0, 0, 0, 0, 0, 0, 0, 0, 0, 0, 0, 0, 0, 0, 0, 0, 0, 0, 0, 0, 0, 0, 0, 0, 0, 0, 0, 0, 0, 0, 0, 0, 0, 0, 0, 0, 0, 0, 0, 0, 2, 0, 1, 0], type: <class 'list'>, valid types: <class 'bytes'>, <class 'bytearray'>, file-like object"
     ]
    }
   ],
   "source": [
    "response = runtime.invoke_endpoint(EndpointName = xgb_predictor.endpoint, # The name of the endpoint we created\n",
    "                                       ContentType = 'text/csv',                     # The data format that is expected\n",
    "                                       Body = test_bow)"
   ]
  },
  {
   "cell_type": "markdown",
   "metadata": {},
   "source": [
    "So why did we get an error?\n",
    "\n",
    "Because we tried to send the endpoint a list of integers but it expected us to send data of type `text/csv`. So, we need to convert it."
   ]
  },
  {
   "cell_type": "code",
   "execution_count": 46,
   "metadata": {},
   "outputs": [],
   "source": [
    "response = runtime.invoke_endpoint(EndpointName = xgb_predictor.endpoint, # The name of the endpoint we created\n",
    "                                       ContentType = 'text/csv',                     # The data format that is expected\n",
    "                                       Body = ','.join([str(val) for val in test_bow]).encode('utf-8'))"
   ]
  },
  {
   "cell_type": "code",
   "execution_count": 47,
   "metadata": {},
   "outputs": [
    {
     "name": "stdout",
     "output_type": "stream",
     "text": [
      "{'ResponseMetadata': {'RequestId': '00613d08-f8c6-4076-ac79-e52c34b062b6', 'HTTPStatusCode': 200, 'HTTPHeaders': {'x-amzn-requestid': '00613d08-f8c6-4076-ac79-e52c34b062b6', 'x-amzn-invoked-production-variant': 'AllTraffic', 'date': 'Thu, 25 Mar 2021 15:54:40 GMT', 'content-type': 'text/csv; charset=utf-8', 'content-length': '19'}, 'RetryAttempts': 0}, 'ContentType': 'text/csv; charset=utf-8', 'InvokedProductionVariant': 'AllTraffic', 'Body': <botocore.response.StreamingBody object at 0x7ff666ae2860>}\n"
     ]
    }
   ],
   "source": [
    "print(response)"
   ]
  },
  {
   "cell_type": "markdown",
   "metadata": {},
   "source": [
    "As we can see, the response from our model is a somewhat complicated looking dict that contains a bunch of information. The bit that we are most interested in is `'Body'` object which is a streaming object that we need to `read` in order to make use of."
   ]
  },
  {
   "cell_type": "code",
   "execution_count": 48,
   "metadata": {},
   "outputs": [
    {
     "name": "stdout",
     "output_type": "stream",
     "text": [
      "0.43396392464637756\n"
     ]
    }
   ],
   "source": [
    "response = response['Body'].read().decode('utf-8')\n",
    "print(response)"
   ]
  },
  {
   "cell_type": "markdown",
   "metadata": {},
   "source": [
    "Now that we know how to process the incoming user data we can start setting up the infrastructure to make our simple web app work. To do this we will make use of two different services. Amazon's Lambda and API Gateway services.\n",
    "\n",
    "Lambda is a service which allows someone to write some relatively simple code and have it executed whenever a chosen trigger occurs. For example, you may want to update a database whenever new data is uploaded to a folder stored on S3.\n",
    "\n",
    "API Gateway is a service that allows you to create HTTP endpoints (url addresses) which are connected to other AWS services. One of the benefits to this is that you get to decide what credentials, if any, are required to access these endpoints.\n",
    "\n",
    "In our case we are going to set up an HTTP endpoint through API Gateway which is open to the public. Then, whenever anyone sends data to our public endpoint we will trigger a Lambda function which will send the input (in our case a review) to our model's endpoint and then return the result."
   ]
  },
  {
   "cell_type": "markdown",
   "metadata": {},
   "source": [
    "### Setting up a Lambda function\n",
    "\n",
    "The first thing we are going to do is set up a Lambda function. This Lambda function will be executed whenever our public API has data sent to it. When it is executed it will receive the data, perform any sort of processing that is required, send the data (the review) to the SageMaker endpoint we've created and then return the result.\n",
    "\n",
    "#### Part A: Create an IAM Role for the Lambda function\n",
    "\n",
    "Since we want the Lambda function to call a SageMaker endpoint, we need to make sure that it has permission to do so. To do this, we will construct a role that we can later give the Lambda function.\n",
    "\n",
    "Using the AWS Console, navigate to the **IAM** page and click on **Roles**. Then, click on **Create role**. Make sure that the **AWS service** is the type of trusted entity selected and choose **Lambda** as the service that will use this role, then click **Next: Permissions**.\n",
    "\n",
    "In the search box type `sagemaker` and select the check box next to the **AmazonSageMakerFullAccess** policy. Then, click on **Next: Review**.\n",
    "\n",
    "Lastly, give this role a name. Make sure you use a name that you will remember later on, for example `LambdaSageMakerRole`. Then, click on **Create role**."
   ]
  },
  {
   "cell_type": "markdown",
   "metadata": {},
   "source": [
    "#### Part B: Create a Lambda function\n",
    "\n",
    "Now it is time to actually create the Lambda function. Remember from earlier that in order to process the user provided input and send it to our endpoint we need to gather two pieces of information:\n",
    "\n",
    " - The name of the endpoint, and\n",
    " - the vocabulary object.\n",
    "\n",
    "We will copy these pieces of information to our Lambda function after we create it.\n",
    "\n",
    "To start, using the AWS Console, navigate to the AWS Lambda page and click on **Create a function**. When you get to the next page, make sure that **Author from scratch** is selected. Now, name your Lambda function, using a name that you will remember later on, for example `sentiment_analysis_xgboost_func`. Make sure that the **Python 3.6** runtime is selected and then choose the role that you created in the previous part. Then, click on **Create Function**.\n",
    "\n",
    "On the next page you will see some information about the Lambda function you've just created. If you scroll down you should see an editor in which you can write the code that will be executed when your Lambda function is triggered. Collecting the code we wrote above to process a single review and adding it to the provided example `lambda_handler` we arrive at the following.\n",
    "\n",
    "```python\n",
    "# We need to use the low-level library to interact with SageMaker since the SageMaker API\n",
    "# is not available natively through Lambda.\n",
    "import boto3\n",
    "\n",
    "# And we need the regular expression library to do some of the data processing\n",
    "import re\n",
    "\n",
    "REPLACE_NO_SPACE = re.compile(\"(\\.)|(\\;)|(\\:)|(\\!)|(\\')|(\\?)|(\\,)|(\\\")|(\\()|(\\))|(\\[)|(\\])\")\n",
    "REPLACE_WITH_SPACE = re.compile(\"(<br\\s*/><br\\s*/>)|(\\-)|(\\/)\")\n",
    "\n",
    "def review_to_words(review):\n",
    "    words = REPLACE_NO_SPACE.sub(\"\", review.lower())\n",
    "    words = REPLACE_WITH_SPACE.sub(\" \", words)\n",
    "    return words\n",
    "    \n",
    "def bow_encoding(words, vocabulary):\n",
    "    bow = [0] * len(vocabulary) # Start by setting the count for each word in the vocabulary to zero.\n",
    "    for word in words.split():  # For each word in the string\n",
    "        if word in vocabulary:  # If the word is one that occurs in the vocabulary, increase its count.\n",
    "            bow[vocabulary[word]] += 1\n",
    "    return bow\n",
    "\n",
    "\n",
    "def lambda_handler(event, context):\n",
    "    \n",
    "    vocab = \"*** ACTUAL VOCABULARY GOES HERE ***\"\n",
    "    \n",
    "    words = review_to_words(event['body'])\n",
    "    bow = bow_encoding(words, vocab)\n",
    "\n",
    "    # The SageMaker runtime is what allows us to invoke the endpoint that we've created.\n",
    "    runtime = boto3.Session().client('sagemaker-runtime')\n",
    "\n",
    "    # Now we use the SageMaker runtime to invoke our endpoint, sending the review we were given\n",
    "    response = runtime.invoke_endpoint(EndpointName = '***ENDPOINT NAME HERE***',# The name of the endpoint we created\n",
    "                                       ContentType = 'text/csv',                 # The data format that is expected\n",
    "                                       Body = ','.join([str(val) for val in bow]).encode('utf-8')) # The actual review\n",
    "\n",
    "    # The response is an HTTP response whose body contains the result of our inference\n",
    "    result = response['Body'].read().decode('utf-8')\n",
    "    \n",
    "    # Round the result so that our web app only gets '1' or '0' as a response.\n",
    "    result = round(float(result))\n",
    "\n",
    "    return {\n",
    "        'statusCode' : 200,\n",
    "        'headers' : { 'Content-Type' : 'text/plain', 'Access-Control-Allow-Origin' : '*' },\n",
    "        'body' : str(result)\n",
    "    }\n",
    "```"
   ]
  },
  {
   "cell_type": "markdown",
   "metadata": {},
   "source": [
    "Once you have copy and pasted the code above into the Lambda code editor, replace the `**ENDPOINT NAME HERE**` portion with the name of the endpoint that we deployed earlier. You can determine the name of the endpoint using the code cell below."
   ]
  },
  {
   "cell_type": "code",
   "execution_count": 49,
   "metadata": {},
   "outputs": [
    {
     "data": {
      "text/plain": [
       "'xgboost-2021-03-25-14-57-51-272'"
      ]
     },
     "execution_count": 49,
     "metadata": {},
     "output_type": "execute_result"
    }
   ],
   "source": [
    "xgb_predictor.endpoint"
   ]
  },
  {
   "cell_type": "markdown",
   "metadata": {},
   "source": [
    "In addition, you will need to copy the vocabulary dict to the appropriate place in the code at the beginning of the `lambda_handler` method. The cell below prints out the vocabulary dict in a way that is easy to copy and paste."
   ]
  },
  {
   "cell_type": "code",
   "execution_count": 50,
   "metadata": {},
   "outputs": [
    {
     "name": "stdout",
     "output_type": "stream",
     "text": [
      "{'gerard': 1895, 'is': 2360, 'absolutely': 72, 'perfect': 3224, 'in': 2257, 'this': 4457, 'movie': 2926, 'funny': 1852, 'tender': 4401, 'brave': 567, 'and': 226, 'gives': 1914, 'superior': 4300, 'to': 4507, 'which': 4867, 'even': 1533, 'masterpiece': 2759, 'as': 311, 'much': 2934, 'by': 642, 'the': 4426, 'other': 3135, 'actors': 104, 'story': 4207, 'or': 3124, 'never': 3001, 'boring': 543, 'always': 203, 'creating': 1039, 'new': 3003, 'emotions': 1461, 'for': 1784, 'me': 2778, 'best': 469, 'french': 1830, 'of': 3083, 'all': 187, 'time': 4495, 'dont': 1324, 'bother': 548, 'trying': 4601, 'watch': 4811, 'terrible': 4407, 'mini': 2854, 'series': 3890, 'it': 2366, 'six': 4010, 'hour': 2176, 'bore': 540, 'an': 223, 'unbelievable': 4634, 'love': 2669, 'between': 475, 'three': 4469, 'people': 3221, 'who': 4871, 'have': 2052, 'no': 3020, 'chemistry': 782, 'each': 1395, 'there': 4438, 'heat': 2067, 'real': 3547, 'passion': 3205, 'romance': 3732, 'dry': 1377, 'drawn': 1351, 'out': 3141, 'uninspired': 4657, 'they': 4442, 'come': 886, 'doesnt': 1309, 'meet': 2793, 'expected': 1577, 'level': 2584, 'technical': 4381, 'take': 4349, 'those': 4460, 'hours': 2177, 'your': 4991, 'life': 2592, 'use': 4692, 'them': 4432, 'something': 4066, 'more': 2904, 'worthwhile': 4955, 'saving': 3797, 'grace': 1950, 'surely': 4309, 'one': 3107, 'leading': 2547, 'how': 2181, 'ruin': 3750, 'adequate': 120, 'film': 1716, 'final': 1722, 'few': 1700, 'minutes': 2859, 'award': 366, 'naturally': 2974, 'if': 2222, 'you': 4986, 'mix': 2876, 'village': 4743, 'largely': 2518, 'retired': 3664, 'ladies': 2506, 'with': 4911, 'liberal': 2588, 'certain': 737, 'amount': 219, 'will': 4886, 'however': 2183, 'last': 2521, 'seven': 3903, 'into': 2332, 'totally': 4532, 'ludicrous': 2685, 'not': 3040, 'being': 448, 'particularly': 3195, 'shame': 3918, 'because': 432, 'comedy': 890, 'has': 2043, 'potential': 3355, 'be': 418, 'every': 1539, 'bit': 488, 'good': 1937, 'ned': 2986, 'also': 199, 'portrayed': 3342, 'small': 4033, 'its': 2370, 'themselves': 4435, 'from': 1840, 'situation': 4008, 'protagonist': 3441, 'middle': 2833, 'aged': 149, 'recently': 3567, 'whose': 4877, 'husbands': 2205, 'bad': 382, 'forced': 1787, 'her': 2085, 'way': 4820, 'money': 2888, 'helped': 2080, 'matthew': 2772, 'she': 3923, 'turns': 4609, 'unfortunately': 4654, 'leads': 2548, 'local': 2634, 'police': 3322, 'drug': 1373, 'whom': 4875, 'turn': 4605, 'up': 4683, 'at': 331, 'relationship': 3597, 'well': 4843, 'brenda': 575, 'gets': 1900, 'viewer': 4738, 'emotionally': 1460, 'involved': 2346, 'character': 758, 'can': 665, 'really': 3556, 'feel': 1684, 'what': 4858, 'going': 1931, 'through': 4477, 'casting': 711, 'minor': 2857, 'roles': 3727, 'excellent': 1555, 'some': 4061, 'are': 285, 'rather': 3528, 'eccentric': 1414, 'transformation': 4560, 'lord': 2652, 'romantic': 3733, 'interest': 2323, 'highly': 2105, 'implausible': 2245, 'does': 1308, 'fit': 1740, 'tone': 4517, 'such': 4268, 'revolution': 3680, 'world': 4946, 'growing': 1983, 'sadly': 3769, 'gentle': 1890, 'humour': 2194, 'slapstick': 4019, 'ends': 1474, 'fake': 1635, 'proves': 3447, 'that': 4424, 'waters': 4817, 'intention': 2319, 'changing': 752, 'his': 2118, 'ways': 4822, 'old': 3100, 'age': 148, 'lot': 2661, 'things': 4451, 'changed': 750, 'since': 3990, 'started': 4157, 'making': 2718, 'films': 1721, '1960s': 15, 'but': 636, '40': 48, 'years': 4979, 'later': 2525, 'he': 2056, 'still': 4188, 'doing': 1312, 'wants': 4791, 'do': 1302, 'over': 3148, 'budget': 610, 'most': 2909, 'recent': 3566, 'productions': 3420, 'was': 4805, 'amazed': 208, 'see': 3855, 'trailer': 4554, 'park': 3190, 'touch': 4533, 'edward': 1426, 'plays': 3301, 'kid': 2464, 'obsessed': 3069, 'photography': 3260, 'lives': 2628, 'quite': 3495, 'friends': 1837, 'family': 1645, 'attention': 345, 'york': 4985, 'art': 304, 'agent': 150, 'watchable': 4812, 'taylor': 4372, 'changes': 751, 'worst': 4952, 'once': 3106, 'again': 146, 'makes': 2716, 'fun': 1848, 'fame': 1642, 'among': 217, 'big': 478, 'laughs': 2534, 'here': 2086, 'lines': 2612, 'consistently': 954, 'clever': 841, 'very': 4723, 'movies': 2927, 'funniest': 1851, 'shows': 3960, 'ever': 1538, 'seen': 3865, 'must': 2950, 'anyone': 259, '16': 8, 'show': 3953, 'had': 2003, 'my': 2951, 'boys': 559, 'laughing': 2533, 'loud': 2664, 'beginning': 443, 'know': 2489, 'everything': 1544, 'on': 3105, 'true': 4596, 'presented': 3376, 'left': 2561, 'little': 2624, 'doubt': 1332, 'mr': 2929, 'only': 3110, 'information': 2288, 'lucky': 2683, 'college': 875, 'kids': 2467, 'were': 4848, 'decides': 1150, 'format': 1799, 'rent': 3626, 'building': 615, 'size': 4012, 'hold': 2129, 'want': 4788, 'agree': 155, 'idea': 2213, 'hbo': 2055, 'would': 4957, 'amazing': 209, 'following': 1774, 'imagine': 2238, 'pulling': 3463, 'back': 378, 'mask': 2752, 'finding': 1727, 'barbara': 397, 'thats': 4425, 'happens': 2029, 'opening': 3114, 'showed': 3956, 'promise': 3430, 'soon': 4074, 'drops': 1372, 'thriller': 4472, 'imaginative': 2237, 'reason': 3557, 'made': 2697, 'becomes': 434, 'clear': 839, 'fill': 1714, 'their': 4431, 'female': 1693, 'viewing': 4740, 'market': 2740, 'yet': 4984, 'another': 250, 're': 3535, 'understood': 4647, 'boy': 557, 'meets': 2795, 'innocent': 2294, 'beauty': 430, 'than': 4420, 'waste': 4808, 'any': 256, 'original': 3129, 'premise': 3370, 'filmmakers': 1720, 'went': 4847, 'straight': 4210, 'shot': 3949, 'said': 3774, 'follows': 1775, 'string': 4227, 'heavily': 2069, 'clichéd': 845, 'scenes': 3811, 'pseudo': 3454, 'philosophical': 3253, 'poetic': 3313, 'round': 3742, 'qualities': 3483, 'hero': 2088, 'should': 3951, 'when': 4862, 'told': 4513, 'heavy': 2070, 'writing': 4971, 'difficult': 1249, 'believe': 454, 'care': 684, 'work': 4940, 'needs': 2990, 'subtlety': 4261, 'style': 4249, 'utterly': 4702, 'modern': 2882, 'day': 1129, 'phantom': 3251, 'opera': 3116, 'just': 2437, 'weak': 4824, 'silly': 3976, 'woman': 4921, 'loose': 2650, 'man': 2721, 'after': 143, 'meeting': 2794, 'seems': 3864, 'dangerous': 1110, 'performances': 3229, 'might': 2835, 'saved': 3795, 'been': 438, 'lead': 2545, 'looking': 2648, 'sexy': 3911, 'matter': 2769, 'ridiculous': 3693, 'poor': 3328, 'scott': 3824, 'appears': 278, 'part': 3193, 'brought': 600, 'andrew': 228, 'lee': 2559, 'young': 4989, 'photographer': 3259, 'brother': 598, 'better': 472, 'sister': 4001, 'kept': 2456, 'instead': 2307, 'secret': 3849, 'blows': 517, 'sorry': 4076, 'did': 1241, 'spoiler': 4123, 'summer': 4291, 'scream': 3826, 'played': 3297, 'several': 3905, 'spring': 4134, 'break': 569, 'trip': 4588, 'group': 1980, 'fancy': 1649, 'house': 2178, 'tries': 4585, 'enjoy': 1484, 'vacation': 4704, 'then': 4436, 'deaths': 1142, 'begin': 442, 'first': 1736, 'murdered': 2940, 'sad': 3767, 'trite': 4589, 'climax': 849, 'predictable': 3367, 'results': 3662, 'note': 3044, 'mans': 2730, 'looks': 2649, 'like': 2599, 'acts': 107, 'could': 1007, 'pass': 3201, 'maybe': 2776, 'cast': 710, 'decent': 1147, 'cinematography': 820, 'fair': 1630, 'acting': 99, 'make': 2713, 'dialog': 1232, 'so': 4046, 'appearance': 274, 'perfectly': 3226, 'happy': 2032, 'watching': 4815, 'dean': 1139, 'jones': 2418, 'away': 369, 'wanted': 4789, 'entertained': 1498, 'eat': 1411, 'overly': 3155, 'popcorn': 3331, 'now': 3054, 'expectations': 1576, 'riveting': 3708, 'delightful': 1168, 'whenever': 4863, 'im': 2232, 'sort': 4077, 'major': 2711, 'complex': 923, 'plot': 3309, 'twists': 4619, 'fully': 1847, 'loaded': 2632, 'great': 1964, 'la': 2500, 'screen': 3829, 'places': 3284, 'jamie': 2379, 'curtis': 1087, 'thought': 4462, 'cant': 671, 'say': 3799, 'terribly': 4408, 'impressed': 2251, 'around': 297, 'aside': 315, 'constantly': 958, 'hair': 2005, 'color': 877, 'didnt': 1242, 'ring': 3698, 'next': 3007, 'door': 1328, 'spent': 4108, 'lifetime': 2594, 'hanging': 2023, 'road': 3709, 'need': 2987, 'speed': 4103, 'wasnt': 4807, 'perhaps': 3235, 'elsewhere': 1449, 'looked': 2647, 'older': 3101, 'seemed': 3862, 'party': 3200, 'place': 3282, 'spend': 4105, 'off': 3084, 'set': 3898, 'couldnt': 1008, 'justin': 2440, 'long': 2644, 'appeared': 276, 'engaged': 1480, 'matt': 2768, 'top': 4525, 'evil': 1548, 'guy': 2000, 'murphy': 2944, 'loved': 2670, 'material': 2766, 'disney': 1289, 'car': 680, 'worn': 4948, 'loyal': 2679, 'feature': 1678, 'channel': 753, 'thoughts': 4464, 'driver': 1366, 'whatever': 4859, 'we': 4823, 'knew': 2486, 'end': 1468, 'wish': 4904, 'ended': 1470, 'someone': 4064, 'less': 2575, 'maggie': 2702, 'head': 2057, 'hurts': 2203, 'lesson': 2577, 'viewers': 4739, 'home': 2142, 'least': 2554, 'clearly': 840, 'asking': 318, 'too': 4522, 'why': 4878, 'goes': 1930, 'same': 3778, 'computer': 927, 'wore': 4939, 'shoes': 3941, 'comes': 891, 'sure': 4308, 'rest': 3657, 'suspense': 4330, 'window': 4894, 'rex': 3683, 'think': 4452, 'buddy': 609, 'cop': 991, 'goldberg': 1933, 'dinosaur': 1255, 'costume': 1005, 'mostly': 2910, 'futuristic': 1857, 'batman': 413, 'forever': 1792, 'direction': 1261, 'weird': 4841, 'designs': 1204, 'tale': 4353, 'lame': 2510, 'whether': 4866, 'horrible': 2163, 'future': 1856, 'dinosaurs': 1256, 'technology': 4385, 'talk': 4358, 'walk': 4775, 'humans': 2190, 'detective': 1220, 'taken': 4350, 'seriously': 3892, 'hes': 2093, 'given': 1913, 'case': 707, 'duo': 1386, 'solve': 4060, 'murder': 2939, 'audience': 352, 'stay': 4166, 'awake': 365, 'enough': 1491, 'piece': 3272, 'starts': 4159, 'picture': 3269, 'normal': 3033, 'unbearable': 4633, 'listen': 2619, 'along': 195, 'comedian': 887, 'famous': 1647, 'accents': 79, 'truly': 4597, 'awful': 372, 'him': 2110, 'says': 3801, 'butt': 638, 'wow': 4962, 'line': 2610, 'caliber': 649, 'annoying': 249, 'everyone': 1542, 'hoping': 2160, 'bite': 489, 'entire': 1502, 'length': 2569, 'action': 100, 'occur': 3076, 'humor': 2192, 'non': 3027, 'characters': 760, 'try': 4600, 'faced': 1617, 'theyre': 4445, 'violent': 4748, 'stated': 4161, 'earlier': 1399, 'bunch': 623, 'jokes': 2415, 'nothing': 3047, 'works': 4945, 'having': 2054, 'human': 2188, 'pretty': 3384, 'else': 1448, 'huge': 2185, 'rip': 3700, 'roger': 3724, 'rabbit': 3498, 'cartoons': 705, 'exact': 1550, 'killed': 2469, 'guys': 2001, 'christopher': 811, 'lloyd': 2630, 'sounds': 4084, 'act': 97, 'club': 863, 'scene': 3809, 'where': 4864, 'jessica': 2398, 'walks': 4780, 'down': 1335, 'stage': 4139, 'overall': 3150, 'vhs': 4725, 'rating': 3529, '90': 60, 'pg': 3250, 'mild': 2839, 'violence': 4747, 'language': 2516, 'crude': 1069, 'id': 2212, 'progress': 3425, 'consider': 949, 'both': 547, 'anderson': 227, 'danny': 1112, 'interested': 2324, 'dan': 1102, 'reed': 3580, 'problem': 3408, 'lies': 2591, 'fact': 1621, 'seem': 3861, 'understand': 4643, 'genre': 1888, 'falling': 1639, 'fails': 1628, 'impress': 2250, 'drama': 1346, 'horror': 2168, 'elements': 1443, 'focusing': 1769, 'jack': 2373, 'master': 2757, 'none': 3028, 'revenge': 3675, 'simple': 3983, 'couple': 1016, 'go': 1924, 'get': 1899, 'formula': 1802, 'many': 2732, 'directors': 1266, 'handled': 2019, 'deeper': 1155, 'showing': 3958, 'side': 3965, 'mental': 2808, 'state': 4160, 'detail': 1217, 'wrong': 4973, 'key': 2458, 'missing': 2869, 'type': 4621, 'theres': 4440, 'generally': 1881, 'kind': 2476, 'warning': 4800, 'happen': 2026, 'element': 1442, 'adds': 119, 'tension': 4404, 'simply': 3986, 'interesting': 2325, 'stiff': 4187, 'competition': 918, 'issue': 2364, 'directing': 1260, 'abilities': 64, 'term': 4405, 'stick': 4185, 'hell': 2077, 'quality': 3484, 'hands': 2020, 'special': 4097, 'effects': 1431, 'especially': 1520, 'laughable': 2530, 'used': 4693, 'overacting': 3149, 'foster': 1809, 'richard': 3686, 'joseph': 2419, 'paul': 3214, 'julie': 2428, 'spoilers': 4124, 'charm': 767, 'found': 1811, 'two': 4620, 'mysterious': 2955, 'psychic': 3456, 'sense': 3877, 'die': 1243, 'second': 3846, 'finds': 1728, 'combination': 883, 'western': 4853, 'obviously': 3072, 'stone': 4197, 'able': 66, 'pain': 3170, 'shoots': 3944, 'though': 4461, 'falls': 1640, 'short': 3946, 'except': 1556, 'brutal': 603, 'self': 3869, 'dig': 1250, 'amusing': 221, 'stylish': 4251, 'done': 1322, 'knowing': 2490, 'substance': 4258, 'music': 2946, 'fan': 1648, 'documentary': 1307, 'brian': 576, 'brilliant': 583, 'contrast': 975, 'band': 391, 'success': 4265, 'ability': 65, 'genius': 1887, 'singer': 3993, 'own': 3158, 'drugs': 1374, 'alcohol': 176, 'footage': 1782, 'swear': 4334, 'incredibly': 2270, 'written': 4972, 'scripted': 3835, 'compelling': 916, 'watched': 4813, 'city': 825, 'cable': 644, 'tv': 4610, 'network': 3000, 'without': 4913, 'enjoyable': 1485, 'experiences': 1582, 'san': 3780, 'francisco': 1819, 'bay': 416, 'area': 286, 'artists': 309, 'creative': 1041, 'talent': 4354, 'responsible': 3656, 'addition': 118, 'known': 2492, 'listed': 2618, 'includes': 2263, 'segments': 3868, 'segment': 3867, 'about': 67, 'animation': 242, 'studios': 4241, 'hope': 2155, 'released': 3603, 'dvd': 1391, 'collection': 874, 'cinema': 816, 'history': 2121, 'remotely': 3623, 'create': 1036, 'disappointed': 1273, 'may': 2775, 'liked': 2600, 'am': 204, 'afraid': 140, 'shots': 3950, 'wonder': 4926, 'actor': 103, 'fallen': 1638, 'asleep': 320, 'gone': 1935, 'large': 2517, 'find': 1726, 'shocking': 3940, 'nor': 3032, 'disturbing': 1300, 'reviewers': 3678, 'pointless': 3318, 'give': 1912, 'star': 4150, 'fairly': 1631, 'recommend': 3571, 'teaching': 4377, 'listening': 2620, 'piano': 3264, 'appeal': 271, 'prepared': 3371, 'sexual': 3908, 'wake': 4774, 'taste': 4369, 'mouth': 2920, 'recommended': 3572, 'entertainment': 1500, 'body': 527, 'mind': 2849, 'war': 4792, 'plausible': 3295, 'read': 3543, 'minds': 2852, 'often': 3095, 'books': 536, 'rarely': 3524, 'quiet': 3492, 'front': 1841, 'terms': 4406, 'leaving': 2557, 'impression': 2252, 'school': 3813, 'copy': 994, 'hard': 2033, 'takes': 4351, '1950s': 14, 'according': 88, 'dead': 1132, 'called': 652, 'zombies': 4998, 'living': 2629, 'company': 910, 'developed': 1223, 'put': 3480, 'neck': 2985, 'mom': 2885, 'helen': 2075, 'carrie': 697, 'anne': 246, 'dad': 1095, 'bill': 481, 'baker': 385, 'son': 4070, 'ray': 3533, 'hire': 2116, 'zombie': 4997, 'block': 508, 'already': 197, 'tim': 4494, 'names': 2963, 'billy': 482, 'hates': 2048, 'control': 977, 'stand': 4143, 'named': 2961, 'single': 3996, 'episodes': 1508, 'favorite': 1671, 'sends': 3876, 'help': 2079, 'before': 440, 'satire': 3788, 'douglas': 1334, 'bright': 581, 'colorful': 878, 'dark': 1115, 'secrets': 3852, 'apart': 264, 'wear': 4830, 'clothes': 860, 'dress': 1357, 'settings': 3901, 'cars': 702, 'colors': 879, 'script': 3834, 'look': 2646, 'pulls': 3464, 'right': 3696, 'target': 4366, 'job': 2405, 'playing': 3300, 'worth': 4953, 'isnt': 2362, 'everybody': 1540, 'course': 1019, 'lost': 2660, 'gore': 1941, 'tame': 4363, 'southern': 4088, 'below': 462, 'average': 362, 'christian': 808, 'certainly': 738, 'arent': 288, 'makers': 2715, 'under': 4639, 'honestly': 2147, 'loves': 2674, 'joy': 2422, 'typically': 4624, 'low': 2676, 'mediocre': 2791, 'editing': 1421, 'atrocious': 335, 'slightly': 4029, 'above': 68, 'leaves': 2556, 'desired': 1206, 'keep': 2449, 'youve': 4995, 'got': 1944, 'christians': 809, 'inside': 2297, 'somewhere': 4069, 'suggest': 4280, 'lewis': 2586, 'inspiration': 2300, 'william': 4887, 'powell': 3358, '1933': 12, 'starring': 4154, 'mary': 2751, 'ralph': 3510, 'morgan': 2905, 'dog': 1310, 'scottish': 3825, 'captain': 674, 'serves': 3895, 'background': 380, 'locked': 2637, 'room': 3735, 'mystery': 2956, 'suspects': 4328, 'complicated': 925, 'camera': 659, 'michael': 2829, 'supporting': 4304, 'brings': 587, 'notch': 3043, 'lots': 2662, 'including': 2264, 'hyde': 2206, 'white': 4870, 'james': 2378, 'alan': 171, 'warren': 4801, 'others': 3136, 'five': 1743, 'times': 4497, 'role': 3726, 'serious': 3891, 'thin': 4449, '12': 3, 'career': 686, '20': 29, 'remarkable': 3613, 'presence': 3373, 'lived': 2626, 'nearly': 2981, 'available': 361, 'today': 4508, 'miss': 2866, 'experience': 1580, 'experienced': 1581, 'turkey': 4604, 'strange': 4211, 'while': 4868, 'director': 1264, 'promising': 3433, 'industry': 2280, 'talented': 4355, 'actress': 105, 'play': 3296, 'number': 3060, 'theatrical': 4430, 'doctor': 1304, 'rare': 3523, 'completely': 922, 'reminds': 3620, '30s': 44, '40s': 49, 'follow': 1772, 'judging': 2425, 'full': 1846, 'werent': 4849, 'satisfy': 3790, 'typical': 4623, 'thanks': 4423, 'sacrifice': 3766, 'unfortunate': 4653, 'em': 1452, 'harry': 2039, 'eaten': 1412, 'jeffrey': 2391, 'ms': 2931, 'hadnt': 2004, 'list': 2617, 'onto': 3111, 'believable': 453, 'anyway': 261, 'bucks': 606, 'dr': 1340, 'total': 4531, 'yes': 4982, 'survivor': 4324, 'realizing': 3555, 'pathetic': 3210, 'actually': 109, 'antics': 255, 'alex': 179, 'giving': 1915, 'men': 2805, 'name': 2960, 'cheated': 775, 'choice': 797, 'opportunity': 3121, 'ryan': 3765, 'voice': 4761, 'ive': 2372, 'heard': 2062, 'television': 4394, 'definitely': 1162, 'girl': 1909, 'media': 2789, 'havent': 2053, 'run': 3755, 'point': 3316, 'reality': 3551, 'treat': 4572, 'entertaining': 1499, 'trash': 4565, 'view': 4736, 'laugh': 2529, 'tired': 4501, 'reasons': 3560, 'tell': 4395, 'amy': 222, 'class': 833, 'commented': 900, 'tried': 4584, 'aka': 168, 'bar': 396, 'happening': 2028, 'hey': 2095, 'getting': 1901, 'ideal': 2214, 'partner': 3198, 'girls': 1911, 'clue': 864, 'exist': 1569, 'figures': 1713, 'year': 4978, 'junior': 2435, 'alike': 185, 'gradually': 1952, 'grew': 1972, 'realistic': 3550, 'otherwise': 3137, 'stereotypes': 4179, 'society': 4050, 'these': 4441, 'types': 4622, 'stop': 4201, 'dating': 1120, 'country': 1014, 'mile': 2842, 'blind': 506, 'date': 1118, 'couples': 1017, 'night': 3013, 'itself': 2371, 'homeless': 2143, 'spoof': 4127, '2004': 34, 'remake': 3612, 'dawn': 1127, 'episode': 1507, 'coming': 896, 'south': 4087, 'cannot': 670, 'figure': 1711, 'change': 749, 'parents': 3188, 'came': 656, 'rid': 3690, 'moments': 2887, 'singing': 3995, 'version': 4720, 'song': 4071, 'california': 650, '10': 0, 'rented': 3628, 'friend': 1835, 'normally': 3034, 'cover': 1022, 'expecting': 1578, 'although': 201, 'prefer': 3368, 'dull': 1384, 'richards': 3687, 'pleasure': 3306, 'eye': 1611, 'four': 1812, 'us': 4690, 'free': 1827, 'judge': 2424, 'yourself': 4993, 'lovely': 2671, 'spirit': 4113, 'actual': 108, 'inspired': 2301, 'elizabeth': 1445, 'write': 4967, 'novel': 3052, 'stale': 4141, 'repeated': 3631, 'viewings': 4741, 'lawrence': 2539, 'richardson': 3688, 'walker': 4778, 'joan': 2404, 'born': 544, 'parts': 3199, 'april': 284, 'bored': 541, 'henry': 2084, 'barry': 401, 'fred': 1825, 'emily': 1456, 'hill': 2108, 'receive': 3563, 'advance': 127, 'traveling': 4568, 'become': 433, 'exciting': 1563, 'relationships': 3598, 'exotic': 1574, 'betty': 474, 'lonely': 2643, 'remain': 3609, 'arguably': 289, 'alfred': 181, 'hitchcock': 2123, 'titled': 4505, 'rich': 3685, 'homage': 2141, 'king': 2479, 'crowd': 1067, 'highlight': 2103, 'chinese': 796, 'cat': 713, 'dialogue': 1234, 'behavior': 446, 'youd': 4987, 'david': 1124, 'development': 1225, 'suffering': 4277, 'particular': 3194, 'entertain': 1497, 'gave': 1875, 'far': 1653, 'portrayal': 3341, 'lets': 2580, 'producers': 3416, 'standards': 4145, 'escapes': 1519, 'delivery': 1173, 'hit': 2122, 'university': 4667, 'across': 96, 'likable': 2598, 'current': 1084, 'political': 3324, 'obnoxious': 3067, 'sets': 3899, 'call': 651, 'rebel': 3561, 'different': 1248, 'movements': 2924, 'touches': 4535, 'narrative': 2966, 'technically': 4382, 'speaking': 4095, 'production': 3419, 'strictly': 4223, 'amateurish': 207, 'audio': 354, 'sometimes': 4067, 'hear': 2061, 'speak': 4094, 'questions': 3489, 'allowed': 190, 'reactions': 3542, 'quick': 3490, 'wife': 4884, 'apparently': 270, 'pride': 3391, 'youre': 4992, 'probably': 3407, 'checking': 778, 'cd': 728, 'generous': 1886, 'mood': 2898, 'person': 3238, 'produce': 3413, 'wasted': 4809, 'concept': 930, 'worked': 4941, 'embarrassed': 1453, 'ashamed': 312, 'gay': 1876, 'personally': 3243, 'rights': 3697, 'please': 3304, 'compelled': 915, 'similar': 3978, 'per': 3223, 'pay': 3216, 'sex': 3907, 'hollywood': 2137, 'blockbuster': 509, 'cheap': 774, 'thrills': 4475, 'either': 1438, 'late': 2523, 'station': 4164, 'wanting': 4790, 'sunday': 4293, 'afternoon': 144, 'despite': 1211, 'cliché': 844, 'sub': 4252, 'par': 3184, 'desire': 1205, 'pretend': 3381, 'player': 3298, 'worse': 4951, 'theatre': 4429, 'movement': 2923, 'broadway': 592, 'genuinely': 1892, 'deeply': 1156, 'personal': 3240, 'morality': 2903, 'relevant': 3604, 'marriage': 2743, 'our': 3139, 'social': 4049, 'therefore': 4439, 'removed': 3624, 'hate': 2046, 'surface': 4310, 'tells': 4397, 'pig': 3274, 'animals': 240, 'bigger': 479, 'america': 212, 'won': 4925, 'international': 2326, 'europe': 1529, 'influenced': 2287, 'almost': 193, 'luckily': 2682, 'originally': 3131, 'conceived': 929, 'tom': 4514, 'directed': 1259, 'jesus': 2399, 'christ': 807, 'mainstream': 2709, 'easy': 1410, 'studio': 4240, 'unsettling': 4679, 'glorious': 1921, 'emotional': 1459, 'storytelling': 4209, 'youll': 4988, 'forget': 1793, 'unfunny': 4655, 'peter': 3247, 'sellers': 3872, 'pity': 3281, 'deserves': 1201, 'mst3k': 2932, 'treatment': 4574, 'ancient': 225, 'fantasy': 1652, 'featuring': 1681, 'twin': 4615, 'brothers': 599, 'hot': 2174, 'water': 4816, 'mad': 2696, 'book': 535, 'classic': 835, 'territory': 4411, 'funnier': 1850, 'hopefully': 2157, 'holiday': 2134, 'embarrassment': 1455, 'clichés': 846, 'ideas': 2215, 'uses': 4697, 'actresses': 106, 'develop': 1222, 'rubbish': 3748, 'ten': 4399, 'text': 4419, 'comment': 898, 'manager': 2724, 'example': 1553, 'sloppy': 4030, 'miserable': 2863, 'complain': 919, 'missed': 2867, 'beyond': 476, 'beautiful': 428, 'loss': 2659, 'thousands': 4466, 'stands': 4147, 'supposed': 4306, 'account': 89, 'happened': 2027, 'attempted': 341, 'cynical': 1093, '90s': 61, 'comments': 901, 'board': 522, 'planet': 3289, 'majority': 2712, 'okay': 3099, 'rock': 3720, 'remember': 3616, 'biggest': 480, '17': 9, '18': 10, 'thing': 4450, 'ok': 3098, '2nd': 41, 'walked': 4776, 'feeling': 1685, 'truck': 4595, 'attacked': 338, 'rocket': 3721, 'attached': 336, 'intelligence': 2313, 'bugs': 613, 'shooting': 3943, 'carrying': 701, 'whats': 4860, 'manage': 2722, '15': 7, 'fire': 1734, 'cut': 1089, 'finish': 1732, 'ran': 3513, 'stopped': 4202, 'filmed': 1717, 'took': 4523, 'tight': 4492, 'involving': 2349, 'ad': 110, 'max': 2774, 'minute': 2858, 'mall': 2720, 'assault': 324, 'fellow': 1691, 'pace': 3161, 'ie': 2221, 'flicks': 1755, 'title': 4504, 'ford': 1789, 'gary': 1873, 'throughout': 4478, 'convey': 982, 'imdb': 2240, 'writer': 4968, 'wrote': 4974, 'massacre': 2754, 'island': 2361, 'classics': 837, 'ones': 3108, 'jonathan': 2417, 'pictures': 3270, '70s': 56, 'exploitation': 1592, 'offering': 3089, 'step': 4175, 'forward': 1808, 'citizen': 824, 'kane': 2442, 'comic': 893, 'driven': 1365, 'video': 4733, 'overlooked': 3154, 'reminded': 3619, 'sit': 4003, 'albert': 174, 'stuff': 4243, 'anything': 260, 'child': 789, 'halfway': 2008, 'wrap': 4963, 'harris': 2038, 'walken': 4777, 'thinking': 4453, 'bet': 470, 'entirely': 1503, 'frank': 1821, 'bird': 484, 'ireland': 2352, 'continues': 971, 'immediately': 2242, 'saw': 3798, 'slasher': 4020, 'unlike': 4670, 'concerned': 932, 'eerie': 1427, 'hated': 2047, 'reference': 3582, 'rules': 3754, 'blend': 504, '80s': 59, 'madness': 2698, 'flick': 1754, 'guess': 1989, '2001': 31, 'finally': 1724, 'fans': 1650, 'move': 2921, 'grows': 1985, 'shown': 3959, 'whole': 4873, 'screaming': 3827, 'yelling': 4980, 'repeatedly': 3632, 'lady': 2507, 'poorly': 3329, 'horribly': 2164, 'acted': 98, 'thrown': 4481, 'ranks': 3519, 'statement': 4162, 'suppose': 4305, 'whos': 4876, 'felt': 1692, 'disappointment': 1275, 'extremely': 1610, 'partly': 3197, 'paltrow': 3178, 'confused': 941, 'face': 1616, 'sees': 3866, 'church': 813, 'basically': 407, 'fast': 1661, 'trust': 4598, 'paced': 3162, 'competent': 917, 'rush': 3759, 'scenery': 3810, 'neither': 2996, 'moved': 2922, 'asked': 317, 'kelly': 2452, 'hints': 2113, 'range': 3516, 'present': 3374, 'price': 3389, 'received': 3564, 'buck': 605, 'remembered': 3617, 'ann': 244, 'andy': 230, 'greedy': 1969, 'high': 2100, 'luck': 2681, 'moving': 2928, 'childhood': 790, 'touching': 4536, 'enjoyed': 1486, 'sequel': 3885, 'indeed': 2271, 'considering': 952, 'appear': 273, 'chance': 747, 'consequences': 947, 'johnny': 2410, 'witty': 4917, 'parody': 3192, 'gangster': 1868, 'outstanding': 3147, 'mob': 2879, 'period': 3236, 'admittedly': 123, 'position': 3345, 'easier': 1405, 'achieve': 92, 'main': 2707, 'jane': 2380, 'mafia': 2700, 'male': 2719, 'eighties': 1437, 'courage': 1018, 'live': 2625, 'admire': 121, 'african': 142, 'american': 213, 'bottom': 551, 'stunning': 4244, 'twice': 4613, 'holds': 2131, 'daughters': 1122, 'cried': 1054, 'tonight': 4519, 'shop': 3945, 'telling': 4396, 'nature': 2975, 'fox': 1814, 'bear': 420, 'children': 792, 'important': 2247, 'thumbs': 4485, 'cross': 1066, 'eventually': 1537, 'amongst': 218, 'devoted': 1231, 'lesbian': 2573, 'leader': 2546, 'van': 4713, 'adapted': 114, 'robbins': 3712, 'primary': 3394, 'map': 2733, 'goal': 1925, 'notorious': 3051, 'box': 555, 'office': 3091, 'flop': 1760, 'ignored': 2225, 'search': 3841, 'directorial': 1265, 'alongside': 196, 'ride': 3692, 'performance': 3228, 'sir': 4000, 'strong': 4229, 'member': 2800, 'affair': 135, 'until': 4680, 'met': 2822, 'husband': 2204, 'odd': 3080, 'fascinating': 1658, 'himself': 2111, 'fell': 1690, 'space': 4090, 'painful': 3171, 'frankly': 1823, 'dated': 1119, 'practically': 3362, 'impossible': 2249, 'pre': 3365, 'code': 869, 'days': 1130, 'common': 906, 'plus': 3311, 'accept': 80, 'suspect': 4327, 'subject': 4253, 'utter': 4701, 'sound': 4081, 'century': 736, 'nice': 3008, 'aspect': 321, 'wears': 4832, 'early': 1400, 'dressed': 1358, 'gotta': 1946, 'obscure': 3068, 'fitting': 1742, 'past': 3207, 'civil': 826, 'moon': 2900, 'landing': 2512, 'titanic': 4503, 'formulaic': 1803, 'soap': 4047, 'failed': 1626, 'grade': 1951, 'ill': 2228, 'prove': 3445, 'topic': 4526, 'yeah': 4977, 'insight': 2298, 'diane': 1238, 'lane': 2515, 'running': 3756, 'abuse': 74, 'let': 2579, 'worthless': 4954, 'raise': 3507, 'means': 2783, 'portrays': 3344, 'fights': 1710, 'win': 4892, 'prize': 3405, 'popular': 3333, 'draw': 1349, 'ago': 154, 'ticket': 4487, 'quickly': 3491, 'turned': 4606, 'bob': 524, 'enters': 1496, 'chances': 748, 'fight': 1707, 'knows': 2493, 'beat': 423, 'result': 3660, 'asks': 319, 'slowly': 4032, 'ready': 3546, 'start': 4156, 'behind': 447, 'married': 2744, 'occurs': 3078, 'kill': 2468, 'rise': 3702, 'rage': 3505, 'against': 147, 'tune': 4602, 'silent': 3975, 'somewhat': 4068, 'carl': 692, 'standard': 4144, 'boxing': 556, 'ending': 1471, 'ian': 2209, 'hunter': 2199, 'seeing': 3857, 'punch': 3466, 'emotion': 1458, 'bare': 398, 'unpleasant': 4674, 'sitting': 4007, 'returned': 3666, 'conclusion': 936, 'using': 4698, 'mirror': 2861, 'paid': 3169, 'half': 2007, 'heck': 2071, 'powerful': 3360, 'merit': 2816, 'struggle': 4234, 'china': 795, 'slave': 4022, 'stars': 4155, 'talking': 4360, 'land': 2511, 'property': 3438, 'extras': 1608, 'built': 618, 'risk': 3704, 'academy': 77, 'builds': 617, 'heart': 2064, 'hand': 2015, 'culture': 1079, 'visually': 4758, 'pleased': 3305, 'pacing': 3163, 'angles': 237, 'etc': 1527, 'kinda': 2477, 'bland': 500, 'sucked': 4270, 'crap': 1031, 'religion': 3607, 'science': 3816, 'creates': 1038, 'monster': 2892, 'weapon': 4828, 'kills': 2474, 'souls': 4080, 'power': 3359, 'destroy': 1213, 'monsters': 2893, 'bring': 585, 'ass': 323, 'cgi': 740, 'created': 1037, 'message': 2819, 'save': 3794, 'ask': 316, 'barely': 399, 'possible': 3350, 'visuals': 4759, 'suck': 4269, 'disbelief': 1277, 'sign': 3970, 'scientist': 3818, 'machine': 2693, 'capable': 672, 'intelligent': 2314, 'realizes': 3554, 'fault': 1668, 'earth': 1403, 'manages': 2725, 'survive': 4321, 'walking': 4779, 'scientists': 3819, 'soul': 4079, 'device': 1227, 'nearby': 2980, 'picks': 3268, 'captured': 677, 'surviving': 4323, 'robot': 3717, 'rescue': 3643, 'succeed': 4262, 'hole': 2132, 'fits': 1741, 'process': 3412, 'release': 3602, 'returning': 3667, 'split': 4120, 'expect': 1575, 'nine': 3017, 'intellectual': 2312, 'reasonable': 3558, 'order': 3126, 'wait': 4770, 'insane': 2296, 'steps': 4177, 'double': 1331, 'operation': 3117, 'believed': 455, 'obsession': 3070, 'inner': 2292, 'game': 1864, 'close': 853, 'ultimate': 4627, 'danger': 1109, 'problems': 3409, 'mother': 2911, 'father': 1666, 'feelings': 1686, 'hang': 2022, 'woods': 4935, 'divorce': 1301, 'included': 2262, 'maker': 2714, 'chose': 804, 'combine': 884, 'confusing': 942, 'unnecessary': 4672, 'flashbacks': 1747, 'events': 1536, 'understanding': 4645, 'victims': 4730, 'whilst': 4869, 'health': 2060, 'appreciate': 279, 'build': 614, 'fear': 1676, 'forty': 1807, 'steven': 4182, 'victim': 4729, 'killing': 2472, 'effect': 1428, 'explain': 1586, 'assume': 328, 'wearing': 4831, 'flashback': 1746, 'towards': 4540, 'clues': 865, 'motivations': 2915, 'depth': 1190, 'plain': 3286, 'crimes': 1056, 'committed': 905, 'loosely': 2651, 'based': 404, 'issues': 2365, 'descent': 1193, 'carry': 700, 'needed': 2988, 'mean': 2779, 'instance': 2304, 'facts': 1624, 'lack': 2502, 'knowledge': 2491, 'energy': 1478, 'greatest': 1966, 'sports': 4130, 'wonderful': 4928, 'introduced': 2337, 'respect': 3652, 'smith': 4038, 'test': 4416, 'ward': 4793, 'john': 2409, 'sullivan': 4288, 'staged': 4140, 'effective': 1429, 'card': 681, 'virginia': 4750, 'mid': 2832, 'alone': 194, 'celluloid': 731, 'awesome': 371, 'offer': 3087, 'discussion': 1284, 'contrary': 974, 'offers': 3090, 'thus': 4486, 'mechanical': 2788, 'reminiscent': 3621, 'hollywoods': 2138, 'abraham': 69, 'natural': 2973, 'complete': 921, 'factor': 1622, 'bizarre': 492, 'akshay': 169, 'behave': 445, 'fashion': 1659, 'pretending': 3382, 'hundreds': 2196, 'easily': 1406, 'flesh': 1753, 'initial': 2290, 'demented': 1176, 'extent': 1605, 'sadistic': 3768, 'senseless': 3878, 'covered': 1023, 'super': 4295, 'football': 1783, 'whatsoever': 4861, 'difference': 1246, 'usually': 4700, 'aint': 163, 'words': 4938, 'describe': 1194, 'during': 1387, 'needless': 2989, 'dozen': 1338, 'beer': 439, 'seat': 3845, 'insult': 2309, 'plan': 3287, 'buying': 641, 'renting': 3629, 'throw': 4479, 'bin': 483, 'credits': 1050, 'attempt': 340, 'basic': 406, 'details': 1219, 'basis': 408, 'oh': 3096, 'hotel': 2175, 'east': 1407, 'speech': 4102, 'styles': 4250, 'stories': 4205, 'distinct': 1296, 'ripped': 3701, 'hong': 2149, 'kong': 2494, 'folks': 1771, 'humorous': 2193, 'threw': 4470, 'opportunities': 3120, 'west': 4852, 'jerk': 2395, 'equally': 1510, 'hunters': 2200, 'disappointing': 1274, 'distant': 1295, 'generic': 1885, 'force': 1786, 'clumsy': 866, 'placed': 3283, 'ps': 3453, 'hopes': 2159, 'stupid': 4247, 'killers': 2471, 'stays': 4169, 'alive': 186, 'wannabe': 4787, 'hip': 2114, 'aware': 368, 'sick': 3963, 'cause': 723, 'blood': 512, 'literally': 2622, 'hook': 2152, 'terrorist': 4413, 'base': 402, 'introduction': 2339, 'russell': 3761, 'third': 4455, 'supernatural': 4302, 'thrillers': 4473, 'artistic': 308, 'nobody': 3022, 'musical': 2947, 'songs': 4072, 'italian': 2367, 'describes': 1196, 'perfection': 3225, 'sudden': 4272, 'sings': 3997, 'fall': 1637, 'jerry': 2396, 'eyes': 1613, 'open': 3112, 'mixed': 2877, 'together': 4511, 'somehow': 4063, 'contains': 964, 'co': 867, 'charming': 768, 'burns': 628, 'allen': 188, 'usual': 4699, 'misses': 2868, 'points': 3319, 'stops': 4203, 'bits': 490, 'feels': 1687, 'robert': 3713, 'appreciated': 280, 'river': 3707, 'runs': 3757, 'displays': 1293, 'visual': 4757, 'rocky': 3723, 'mountains': 2918, 'montana': 2895, 'landscape': 2513, 'thomas': 4458, 'word': 4937, 'author': 359, 'norman': 3035, 'kiss': 2483, 'methods': 2825, 'education': 1424, 'include': 2261, 'fly': 1763, 'bible': 477, 'sons': 4073, 'craig': 1030, 'brad': 560, 'pitt': 3280, 'reflect': 3584, 'encounter': 1466, 'teenage': 4389, 'tie': 4488, 'women': 4923, 'outside': 3146, 'produced': 3414, 'spoken': 4126, 'unforgettable': 4652, 'setting': 3900, 'equal': 1509, 'center': 732, 'holy': 2140, 'god': 1926, 'mighty': 2836, 'green': 1971, 'horse': 2170, 'alien': 183, 'cg': 739, 'general': 1880, 'kevin': 2457, 'began': 441, 'shocked': 3939, 'direct': 1258, 'values': 4710, 'videos': 4734, 'turning': 4608, 'decade': 1144, 'helping': 2081, 'stinks': 4192, 'religious': 3608, 'dimensional': 1253, 'idiots': 2220, 'everywhere': 1545, 'shoot': 3942, 'wives': 4918, 'minded': 2850, 'learn': 2550, 'lie': 2590, 'glad': 1916, 'honest': 2146, 'sides': 3967, '100': 1, 'rated': 3527, 'positive': 3346, 'ed': 1415, 'wood': 4933, 'oscar': 3133, 'comparison': 914, 'ghost': 1902, 'smiling': 4037, 'watches': 4814, 'mess': 2818, 'managed': 2723, 'dvds': 1392, 'meaning': 2780, 'lawyer': 2541, 'wouldnt': 4958, 'laughter': 2535, 'musicals': 2948, 'sing': 3992, 'dance': 1103, 'anthony': 253, 'toward': 4539, 'drunk': 1375, 'unexpected': 4650, 'catchy': 717, 'cheese': 780, 'escape': 1517, 'rubber': 3747, 'shark': 3921, 'likely': 2601, 'count': 1010, 'pan': 3180, 'leg': 2562, 'fed': 1682, 'jungle': 2434, 'shakespeare': 3915, 'excuse': 1564, 'teen': 4388, 'usa': 4691, '50s': 52, '60s': 54, 'favourite': 1673, 'marty': 2749, 'slap': 4018, 'lasted': 2522, 'wishing': 4907, 'flow': 1762, 'painfully': 3172, 'season': 3843, 'project': 3427, 'myself': 2953, 'jeff': 2390, 'experiments': 1584, 'putting': 3482, 'apparent': 269, 'keeps': 2451, 'lab': 2501, 'forbidden': 1785, 'enter': 1494, 'trouble': 4592, 'suit': 4284, 'trek': 4578, 'martin': 2748, 'voices': 4763, 'german': 1896, 'tons': 4520, 'symbolism': 4341, 'friday': 1834, 'score': 3822, 'manner': 2729, 'performed': 3230, 'bold': 528, 'controversial': 978, 'prior': 3400, 'hitler': 2124, 'anti': 254, 'grand': 1953, 'possibly': 3351, 'aspects': 322, 'gender': 1878, 'quest': 3486, 'sinister': 3998, 'mistress': 2874, '20th': 38, 'nude': 3058, 'corrupt': 1001, 'eve': 1532, 'beautifully': 429, 'ultimately': 4628, 'european': 1530, 'lovers': 2673, 'focused': 1767, 'intense': 2316, 'lacks': 2505, 'greater': 1965, 'todays': 4509, 'voiced': 4762, 'dramatic': 1348, 'un': 4630, 'wounded': 4961, 'kings': 2481, 'darkness': 1117, 'light': 2595, 'ron': 3734, 'president': 3378, 'virus': 4752, 'stuck': 4237, 'bank': 394, 'government': 1948, 'agents': 151, 'led': 2558, 'mildly': 2840, 'wolf': 4920, 'died': 1244, 'sympathy': 4343, 'previous': 3387, 'hidden': 2096, 'animated': 241, 'compared': 912, 'graphics': 1959, 'blowing': 515, 'object': 3066, 'frame': 1815, 'lovable': 2668, 'blue': 518, 'rocks': 3722, 'creators': 1044, 'effort': 1432, 'product': 3418, 'theyve': 4446, 'magnificent': 2705, 'candy': 668, 'manhattan': 2726, 'near': 2979, 'hall': 2009, 'mayor': 2777, 'doors': 1329, 'al': 170, 'boss': 546, 'choices': 798, 'fantastic': 1651, 'nyc': 3065, 'reading': 3544, 'reviews': 3679, 'review': 3676, 'horrific': 2166, 'scary': 3807, 'slightest': 4028, 'exception': 1557, 'attempts': 343, 'jump': 2429, 'calling': 653, 'pushing': 3479, 'spoiled': 4122, 'visits': 4756, 'drawing': 1350, 'visit': 4755, 'add': 115, 'lively': 2627, 'features': 1680, 'due': 1382, 'nightmare': 3014, 'elm': 1447, 'street': 4216, 'beach': 419, 'birthday': 487, '1999': 27, 'twelve': 4611, 'ultra': 4629, 'wondering': 4930, 'macy': 2695, 'existence': 1571, 'remains': 3611, 'mine': 2853, 'fond': 1776, 'memories': 2803, 'cult': 1077, 'executed': 1565, 'million': 2847, 'design': 1202, 'superhero': 4299, 'villain': 4744, 'frankenstein': 1822, 'resident': 3647, 'commercial': 902, 'kidnapped': 2466, 'ben': 463, 'stiller': 4189, 'beats': 426, 'hank': 2024, 'british': 589, 'throws': 4482, 'invisible': 2344, 'mitchell': 2875, 'wes': 4851, 'cuts': 1091, 'guns': 1998, 'kidding': 2465, 'lena': 2568, 'edited': 1420, 'bride': 577, 'crazy': 1035, 'weapons': 4829, 'winner': 4897, 'physical': 3262, 'lacking': 2504, 'closed': 854, 'downright': 1337, 'critics': 1064, 'audiences': 353, 'planned': 3290, 'comics': 895, 'sell': 3871, 'month': 2896, 'weekend': 4838, 'oddly': 3081, 'dick': 1239, 'iron': 2354, 'giant': 1905, 'forgotten': 1797, 'fired': 1735, 'producer': 3415, 'dragon': 1344, 'surprised': 4313, '3d': 46, 'damn': 1100, 'battle': 414, 'trailers': 4555, 'hype': 2207, 'longer': 2645, 'battles': 415, 'theaters': 4428, 'clean': 838, 'excited': 1561, 'sent': 3880, 'weeks': 4839, 'causes': 725, 'wont': 4932, 'frightening': 1839, 'realism': 3549, 'essential': 1522, 'allowing': 191, 'lose': 2654, 'provoking': 3452, 'solid': 4057, 'wwii': 4975, 'propaganda': 3435, 'pieces': 3273, 'flynn': 1765, 'spite': 4117, 'adventures': 131, 'don': 1320, 'proved': 3446, 'vehicle': 4718, 'sword': 4340, 'wandering': 4785, 'england': 1482, 'kim': 2475, 'france': 1816, 'italy': 2368, 'albeit': 173, 'universal': 4665, 'warner': 4799, 'shadow': 3912, 'former': 1800, 'red': 3576, 'headed': 2058, 'field': 1704, 'deep': 1154, 'treated': 4573, 'larger': 2519, 'attacks': 339, 'black': 493, 'constant': 957, 'channels': 754, 'cringe': 1059, 'generation': 1883, 'supposedly': 4307, 'believing': 457, 'trilogy': 4586, 'finest': 1730, 'nowadays': 3055, 'indian': 2274, 'princess': 3397, 'alice': 182, 'strike': 4224, 'awfully': 373, 'heights': 2073, 'sea': 3838, 'mention': 2810, 'reasonably': 3559, 'engaging': 1481, 'franchise': 1817, 'dust': 1388, 'titles': 4506, 'gem': 1877, 'golden': 1934, 'de': 1131, 'donald': 1321, 'value': 4709, 'strikes': 4225, 'lay': 2542, 'mentioned': 2811, 'unoriginal': 4673, 'sci': 3815, 'fi': 1701, 'weve': 4856, 'hundred': 2195, 'unknown': 4668, 'surprise': 4312, 'deliver': 1169, 'ho': 2127, 'scripts': 3836, 'slow': 4031, 'subplot': 4255, 'sequences': 3888, 'stereotypical': 4180, 'splendid': 4119, 'innovative': 2295, 'stargate': 4151, 'talents': 4356, 'hits': 2125, 'contrived': 976, 'borrowed': 545, 'howard': 2182, 'contact': 961, 'mission': 2870, 'mars': 2746, 'share': 3920, 'connection': 946, 'exactly': 1551, 'admit': 122, 'surprises': 4314, 'karloff': 2445, 'successfully': 4267, 'africa': 141, 'lugosi': 2686, 'form': 1798, 'discovers': 1281, 'fiction': 1702, 'post': 3352, 'ii': 2226, 'era': 1513, 'standing': 4146, 'flash': 1745, 'gordon': 1940, 'machines': 2694, 'public': 3460, 'unaware': 4632, 'working': 4944, 'generations': 1884, 'gotten': 1947, 'calls': 654, 'capital': 673, 'letters': 2582, 'conversation': 980, 'puts': 3481, 'depressed': 1187, 'inept': 2281, 'attractive': 351, 'mate': 2765, '80': 58, 'adaptation': 113, 'timothy': 4499, 'dalton': 1098, 'rochester': 3719, 'eyre': 1614, 'teacher': 4375, 'offered': 3088, 'mansion': 2731, 'respected': 3653, 'owner': 3159, 'months': 2897, 'situations': 4009, 'waiting': 4772, 'discovered': 1280, 'locations': 2636, 'gorgeous': 1942, 'costumes': 1006, 'chilling': 794, 'lying': 2690, 'terror': 4412, 'feet': 1688, 'holding': 2130, 'latest': 2526, 'bed': 436, 'suddenly': 4273, 'floor': 1759, 'unseen': 4678, 'realise': 3548, 'anybody': 257, 'redeeming': 3577, 'catherine': 719, 'beneath': 464, 'claire': 831, 'suggested': 4281, 'spell': 4104, 'boyfriend': 558, 'girlfriend': 1910, 'finished': 1733, 'picked': 3266, 'previously': 3388, 'viewed': 4737, 'avoid': 363, 'stress': 4220, 'shock': 3938, 'independent': 2272, 'nail': 2957, 'dealing': 1136, 'taking': 4352, 'busy': 635, 'unlikely': 4671, 'bond': 532, 'attitude': 346, 'overcome': 3151, 'death': 1141, 'meanwhile': 2785, 'event': 1535, 'survived': 4322, 'filming': 1718, 'cheesy': 781, 'pays': 3218, 'necessary': 2984, 'helps': 2082, 'balance': 387, 'doom': 1326, 'learning': 2552, 'deals': 1137, 'comparing': 913, 'groups': 1981, 'victoria': 4732, 'marie': 2737, '14': 6, 'herself': 2092, 'brutally': 604, 'props': 3439, 'shes': 3930, 'angel': 231, 'simplicity': 3984, 'lowest': 2678, 'captures': 678, 'mill': 2845, 'comedic': 888, 'intended': 2315, 'wing': 4896, 'national': 2970, 'forgot': 1796, 'beatty': 427, 'thirty': 4456, 'burt': 629, 'reynolds': 3684, 'hence': 2083, 'mario': 2738, 'brady': 561, 'theater': 4427, 'shell': 3927, 'crafted': 1029, 'suffice': 4279, 'blame': 499, 'witness': 4914, 'adult': 125, 'absolute': 71, 'cox': 1026, 'birds': 485, 'rate': 3526, 'moral': 2902, 'raised': 3508, 'profound': 3423, 'attempting': 342, 'imagined': 2239, 'saturday': 3792, 'pop': 3330, 'sexually': 3910, 'mountain': 2917, 'lake': 2509, 'trial': 4580, 'delivers': 1172, 'skin': 4015, 'question': 3487, 'failing': 1627, 'unpredictable': 4675, 'jon': 2416, 'voight': 4764, 'gifted': 1907, 'midnight': 2834, 'cowboy': 1025, 'underrated': 4642, 'pearl': 3220, 'determined': 1221, 'guarantee': 1987, 'tense': 4403, 'beings': 449, 'wonderfully': 4929, 'winning': 4898, 'store': 4204, 'quirky': 3493, 'explored': 1595, 'centered': 733, 'fail': 1625, 'sympathetic': 4342, 'accident': 84, 'critical': 1062, 'meant': 2784, 'user': 4696, 'calm': 655, 'storm': 4206, 'realize': 3552, 'friendship': 1838, 'showcase': 3954, 'commit': 904, 'lyrics': 2692, 'reach': 3536, 'response': 3654, 'upon': 4684, 'realized': 3553, 'pick': 3265, 'cameo': 657, 'suicide': 4283, 'breath': 573, 'dialogs': 1233, 'storyline': 4208, 'atmosphere': 333, 'landscapes': 2514, 'magical': 2704, 'burton': 630, 'displayed': 1292, 'dennis': 1179, '25': 40, 'reduced': 3579, 'strongly': 4231, 'urge': 4689, 'further': 1853, 'sequels': 3886, 'entry': 1504, 'eddie': 1416, 'george': 1893, 'miller': 2846, 'provides': 3450, 'causing': 726, 'wide': 4880, 'subjects': 4254, 'hysterical': 2208, 'decide': 1148, 'leave': 2555, 'system': 4345, 'repeat': 3630, '35': 45, 'cinematic': 818, 'brilliance': 582, 'sum': 4289, 'hooked': 2153, 'doo': 1325, 'soundtrack': 4085, 'laid': 2508, 'rain': 3506, 'flat': 1748, 'soft': 4051, 'comfortable': 892, 'blob': 507, 'steve': 4181, 'queen': 3485, 'cops': 993, 'dogs': 1311, 'heaven': 2068, 'charlie': 765, 'crush': 1072, 'cartoon': 704, 'crime': 1055, 'row': 3744, 'disturbed': 1299, 'themes': 4434, 'prison': 3401, 'crocodile': 1065, 'scare': 3803, 'poignant': 3315, 'tough': 4537, 'check': 777, 'navy': 2976, 'learned': 2551, 'cuba': 1075, 'jr': 2423, 'niro': 3019, 'food': 1778, 'filmmaker': 1719, 'resulting': 3661, 'pretentious': 3383, 'cool': 989, 'sequence': 3887, 'opinions': 3119, 'deserved': 1200, 'pure': 3471, 'garbage': 1870, 'drop': 1369, 'glass': 1917, 'heston': 2094, 'promised': 3431, 'christmas': 810, 'duke': 1383, 'law': 2538, 'jackson': 2375, 'defend': 1158, 'projects': 3428, 'terrifying': 4410, 'awe': 370, 'inspiring': 2302, 'command': 897, 'relief': 3605, 'english': 1483, 'blond': 510, 'north': 3036, 'sat': 3786, 'scared': 3805, 'fetched': 1698, 'creep': 1051, 'proceeds': 3411, 'legs': 2566, 'scares': 3806, 'saying': 3800, 'depressing': 1188, 'necessarily': 2983, 'willing': 4889, 'plenty': 3307, 'warn': 4797, '1930s': 11, 'disease': 1285, 'negative': 2991, 'misery': 2865, 'exceptionally': 1559, 'asian': 314, 'paying': 3217, 'obvious': 3071, 'shirley': 3936, 'parent': 3187, 'successful': 4266, 'cute': 1090, 'cold': 872, 'hearts': 2066, 'endings': 1472, 'category': 718, 'awkward': 374, 'impressive': 2253, 'cooper': 990, 'loving': 2675, 'con': 928, 'daughter': 1121, 'temple': 4398, 'criminal': 1057, 'desperate': 1208, 'provide': 3448, 'returns': 3668, 'felix': 1689, 'revealed': 3671, 'artist': 307, 'steal': 4170, 'unusual': 4681, 'sunshine': 4294, 'dancing': 1107, 'memorable': 2802, 'unrealistic': 4677, 'blonde': 511, 'radio': 3504, 'clip': 851, 'cook': 988, 'thief': 4448, 'lover': 2672, 'content': 966, 'stomach': 4196, 'pushed': 3478, 'intriguing': 2335, 'nonetheless': 3029, 'brazil': 568, 'unless': 4669, 'routine': 3743, 'mainly': 2708, 'occurred': 3077, 'trap': 4563, 'seasons': 3844, 'passing': 3204, 'nowhere': 3056, 'younger': 4990, 'ignore': 2224, 'adults': 126, 'unintentional': 4658, 'rural': 3758, 'explained': 1587, 'wooden': 4934, 'adding': 117, 'commentary': 899, '3000': 43, 'host': 2173, 'naive': 2958, 'lisa': 2616, 'sleazy': 4023, 'suspenseful': 4331, 'devoid': 1230, 'excitement': 1562, 'whereas': 4865, 'masterful': 2758, 'firstly': 1737, 'saga': 3773, 'shallow': 3917, 'superficial': 4298, 'authentic': 358, 'marks': 2742, 'hoped': 2156, 'iii': 2227, 'match': 2762, 'lengthy': 2570, 'tales': 4357, 'adam': 111, 'sandler': 3781, 'ball': 388, 'sucks': 4271, 'worthy': 4956, 'recall': 3562, 'tremendous': 4579, 'giallo': 1904, 'pool': 3327, 'vice': 4727, 'mrs': 2930, 'followed': 1773, 'handsome': 2021, 'dude': 1381, 'portray': 3340, 'unhappy': 4656, '1972': 18, 'location': 2635, 'concerns': 934, 'journalist': 2420, 'murders': 2943, 'plane': 3288, 'crash': 1033, 'widow': 4883, 'figured': 1712, 'highlights': 2104, 'mouse': 2919, 'killer': 2470, 'fine': 1729, 'outfit': 3144, 'comedies': 889, 'hilarious': 2106, 'finale': 1723, 'peoples': 3222, 'depicting': 1184, 'foot': 1781, 'stupidity': 4248, 'keeping': 2450, 'fresh': 1833, 'caught': 722, 'section': 3853, 'image': 2233, 'draws': 1352, 'semi': 3874, 'satisfied': 3789, 'creepy': 1052, 'halloween': 2010, 'holes': 2133, 'trick': 4582, 'identify': 2216, 'stranger': 4213, 'teach': 4374, 'strangers': 4214, 'huh': 2187, 'tad': 4347, 'pull': 3461, 'dying': 1393, 'dollars': 1315, 'critic': 1061, 'accurate': 90, 'shines': 3932, 'demons': 1178, 'favor': 1670, 'regret': 3591, 'personality': 3242, 'proper': 3436, 'kurt': 2499, 'spy': 4135, 'nick': 3012, 'pleasant': 3302, 'relatively': 3600, 'intrigue': 2333, 'focus': 1766, 'messages': 2820, 'americans': 214, 'germans': 1897, 'carries': 699, 'weight': 4840, 'service': 3896, 'narration': 2965, 'campbell': 663, 'hide': 2097, 'conflict': 939, 'presentation': 3375, 'offensive': 3086, 'cultural': 1078, 'variety': 4714, 'historical': 2119, 'faith': 1633, 'humanity': 2189, 'held': 2074, 'darker': 1116, 'parallel': 3185, 'peters': 3248, 'guilt': 1994, 'chris': 806, 'study': 4242, 'execution': 1566, 'properly': 3437, 'miserably': 2864, 'muslim': 2949, 'community': 908, 'till': 4493, 'regarding': 3589, 'within': 4912, 'established': 1524, 'enjoying': 1487, 'neil': 2995, 'simon': 3982, 'sam': 3777, 'exposure': 1599, 'whale': 4857, 'album': 175, 'bought': 552, 'notes': 3046, 'canadian': 667, 'numerous': 3062, '1996': 26, 'vision': 4754, 'nicely': 3009, 'isolated': 2363, 'considered': 951, 'melodrama': 2797, 'oil': 3097, 'texas': 4418, 'alcoholic': 177, 'extreme': 1609, 'dorothy': 1330, 'via': 4726, 'lust': 2689, 'hudson': 2184, 'bacall': 377, 'camp': 662, 'jobs': 2406, 'wicked': 4879, 'montage': 2894, 'daddy': 1096, 'shouldnt': 3952, 'motion': 2913, 'grey': 1973, 'credit': 1049, 'thinks': 4454, 'baby': 376, 'germany': 1898, 'womens': 4924, 'trashy': 4566, 'source': 4086, 'became': 431, 'masterpieces': 2760, 'lighting': 2596, 'shadows': 3913, 'anywhere': 263, 'australian': 357, 'buy': 640, 'bound': 553, 'ages': 152, 'teenager': 4390, 'sally': 3776, 'mindless': 2851, 'polished': 3323, 'limits': 2607, 'showdown': 3955, 'baseball': 403, 'johnson': 2411, 'jay': 2386, 'sidekick': 3966, 'davis': 1126, 'tear': 4379, 'angels': 234, 'seeking': 3859, 'identity': 2217, 'glover': 1923, 'frustrated': 1842, 'relation': 3595, 'wishes': 4906, 'odds': 3082, 'magic': 2703, 'wells': 4845, 'screenplay': 3831, 'justice': 2438, 'finger': 1731, 'dear': 1140, 'nominated': 3025, 'mel': 2796, 'clark': 832, 'tony': 4521, 'members': 2801, 'dubbed': 1379, 'equivalent': 1512, 'diamond': 1236, 'rough': 3741, 'edge': 1418, 'peace': 3219, 'debut': 1143, 'adventure': 130, 'timeless': 4496, 'exploration': 1593, 'kitchen': 2485, 'thru': 4483, 'amitabh': 216, 'gonna': 1936, '60': 53, '30': 42, 'sole': 4055, 'discovery': 1282, 'pair': 3176, 'undoubtedly': 4648, 'lincoln': 2608, 'wind': 4893, 'wizard': 4919, 'oz': 3160, 'washington': 4806, 'continued': 970, 'ahead': 159, 'legendary': 2565, 'russian': 3762, 'reputation': 3640, 'mgm': 2828, 'references': 3583, 'prisoner': 3402, 'theme': 4433, 'superb': 4296, 'practice': 3363, 'highest': 2102, 'tears': 4380, 'accused': 91, 'court': 1020, 'attorney': 348, 'demands': 1175, 'letting': 2583, 'warming': 4795, 'fonda': 1777, 'characterization': 759, 'overwhelming': 3157, 'definite': 1161, 'bell': 458, 'pants': 3182, 'argue': 290, 'clown': 862, 'reads': 3545, 'literature': 2623, 'reviewer': 3677, 'lesser': 2576, 'politics': 3326, 'eg': 1434, 'threat': 4467, 'aging': 153, 'conservative': 948, 'carol': 693, 'sight': 3969, 'pink': 3277, 'eyed': 1612, 'creature': 1045, 'rat': 3525, 'bat': 410, 'spider': 4109, 'influence': 2286, 'angry': 238, 'sixties': 4011, 'argument': 291, 'floating': 1758, 'ruins': 3752, 'blade': 495, 'fighting': 1709, 'featured': 1679, 'threatening': 4468, 'hasnt': 2044, 'intent': 2318, 'multi': 2935, 'castle': 712, 'depression': 1189, 'tracy': 4546, 'truth': 4599, 'priest': 3392, 'square': 4136, 'facing': 1620, 'settle': 3902, 'extra': 1606, 'catholic': 720, 'walter': 4784, 'arthur': 305, 'grim': 1974, 'fare': 1655, 'carpenter': 694, 'vampires': 4712, 'vs': 4767, 'military': 2844, 'vampire': 4711, 'outer': 3143, 'pile': 3275, 'air': 164, 'starred': 4153, 'uwe': 4703, 'boll': 529, 'summary': 4290, 'reporter': 3636, 'description': 1197, 'somebody': 4062, 'higher': 2101, 'regard': 3588, 'acceptable': 81, 'heres': 2087, 'explosion': 1596, 'program': 3424, 'godfather': 1927, 'elaborate': 1439, 'scheme': 3812, 'afterwards': 145, 'confidence': 938, 'students': 4239, 'kick': 2460, 'festival': 1697, 'wave': 4818, 'reaction': 3541, 'drunken': 1376, 'student': 4238, 'anime': 243, 'sky': 4017, 'opened': 3113, 'seconds': 3848, 'rolling': 3730, 'bullet': 620, 'occasional': 3074, 'backgrounds': 381, 'heroine': 2091, 'swedish': 4335, 'brief': 579, 'motivation': 2914, 'ease': 1404, 'solo': 4058, 'worry': 4950, 'smart': 4035, '13': 4, 'craven': 1034, 'rachel': 3500, 'wedding': 4836, 'begins': 444, 'twist': 4617, 'flight': 1757, 'airplane': 166, 'steals': 4172, 'opinion': 3118, 'quotes': 3497, 'brain': 562, 'fever': 1699, 'blow': 514, 'moment': 2886, 'improve': 2254, 'flawless': 1751, 'states': 4163, 'olivier': 3103, 'described': 1195, 'soldiers': 4054, 'japan': 2381, 'tragedy': 4551, 'worlds': 4947, 'hatred': 2049, 'greed': 1968, 'wallace': 4782, 'chief': 788, 'pilot': 3276, 'tall': 4362, 'frequent': 1831, 'believes': 456, 'centers': 734, 'doctors': 1305, 'join': 2412, 'officer': 3092, 'flying': 1764, 'corny': 997, 'march': 2734, 'cash': 709, 'faults': 1669, 'suitable': 4285, 'dumb': 1385, 'principal': 3398, 'appropriate': 283, 'react': 3540, 'scientific': 3817, 'exercise': 1568, 'corner': 996, 'team': 4378, 'deadly': 1133, 'enemy': 1477, 'ya': 4976, 'plastic': 3294, 'access': 83, 'rooms': 3736, 'zone': 4999, 'abandoned': 62, 'holly': 2136, 'week': 4837, 'sold': 4052, 'patrick': 3213, 'desperately': 1209, 'journey': 2421, 'reunion': 3669, 'millions': 2848, 'interviews': 2330, 'sitcom': 4004, 'regular': 3592, 'purpose': 3474, 'clips': 852, 'dreadful': 1353, 'aired': 165, 'emma': 1457, 'sweet': 4336, 'marvelous': 2750, 'rick': 3689, 'morris': 2908, 'hardly': 2036, 'shy': 3962, 'gory': 1943, 'embarrassing': 1454, 'business': 633, 'merely': 2815, 'push': 3477, 'freddy': 1826, 'numbers': 3061, 'train': 4556, 'uncle': 4636, 'jazz': 2387, 'professional': 3421, 'players': 3299, 'besides': 468, 'teeth': 4393, 'secondly': 3847, 'powers': 3361, 'shape': 3919, 'fourth': 1813, 'deal': 1135, 'crappy': 1032, 'badly': 383, 'whoever': 4872, 'subsequent': 4257, 'relations': 3596, 'honesty': 2148, 'welcome': 4842, 'glimpse': 1919, 'inevitable': 2282, 'destruction': 1216, 'innocence': 2293, 'traditional': 4550, 'suggests': 4282, 'possibility': 3349, 'eastern': 1408, 'flaws': 1752, 'wendy': 4846, 'method': 2824, 'bothered': 549, 'mentioning': 2812, 'talked': 4359, 'cake': 648, 'exists': 1573, 'rising': 3703, 'rose': 3739, 'sun': 4292, 'versions': 4721, 'eight': 1436, 'heroic': 2090, 'stole': 4194, 'stealing': 4171, 'spread': 4133, 'teachers': 4376, 'possessed': 3347, 'warriors': 4803, 'understandable': 4644, 'destroying': 1215, 'priceless': 3390, 'resort': 3650, 'research': 3644, 'thoroughly': 4459, 'stereotype': 4178, 'absurd': 73, 'overdone': 3152, 'gun': 1996, 'status': 4165, 'drive': 1363, 'impact': 2244, 'scale': 3802, 'handed': 2016, 'alas': 172, 'resist': 3648, 'mike': 2838, 'nelson': 2997, 'creatures': 1046, 'aliens': 184, 'pitch': 3279, 'random': 3514, 'hurt': 2202, 'randomly': 3515, 'empty': 1465, 'burn': 625, 'involve': 2345, 'illogical': 2231, 'contain': 962, 'explaining': 1588, 'provided': 3449, 'advise': 134, 'grab': 1949, 'rental': 3627, 'cost': 1003, 'stephen': 4176, 'associated': 327, 'plots': 3310, 'represents': 3639, 'youth': 4994, 'humble': 2191, 'efforts': 1433, 'makeup': 2717, 'gratuitous': 1961, 'inappropriate': 2259, 'crack': 1027, 'gothic': 1945, 'smoke': 4039, 'tiny': 4500, 'league': 2549, 'faces': 1618, 'curse': 1086, 'crying': 1074, 'silence': 3974, 'cannibal': 669, 'fish': 1738, 'areas': 287, 'inducing': 2279, 'performers': 3232, 'aforementioned': 139, 'surrounded': 4318, 'depiction': 1185, 'edgar': 1417, 'involves': 2348, 'wealthy': 4827, 'countryside': 1015, 'challenging': 744, 'spending': 4106, 'infamous': 2284, 'receives': 3565, 'newspaper': 3006, 'interview': 2329, 'ghosts': 1903, 'dreams': 1355, 'learns': 2553, 'deceased': 1146, 'trapped': 4564, 'proud': 3444, 'web': 4833, 'handful': 2017, 'arms': 294, 'circumstances': 822, 'lit': 2621, 'definition': 1163, 'balls': 390, 'games': 1865, 'burning': 627, 'nazi': 2977, 'ground': 1979, 'families': 1644, 'flaw': 1749, 'dynamic': 1394, 'false': 1641, 'phony': 3256, 'orange': 3125, 'mentally': 2809, 'poverty': 3357, 'logic': 2638, 'drags': 1345, 'wasting': 4810, 'precious': 3366, 'moronic': 2907, 'lousy': 2667, 'stolen': 4195, 'uninteresting': 4660, 'reaches': 3538, 'tedious': 4387, 'generated': 1882, 'digital': 1251, 'idiotic': 2219, 'redemption': 3578, 'costs': 1004, 'selling': 3873, 'blair': 497, 'broke': 593, 'recognized': 3570, 'rape': 3521, 'naked': 2959, 'becoming': 435, 'dare': 1113, 'racism': 3502, 'purple': 3473, 'familys': 1646, 'depicted': 1183, 'prince': 3396, 'relate': 3593, 'teens': 4392, 'meaningful': 2781, 'skill': 4013, 'avoided': 364, 'hilariously': 2107, 'serial': 3889, 'gift': 1906, 'del': 1165, 'boot': 538, 'tend': 4400, 'distracting': 1297, 'messed': 2821, 'noise': 3024, 'tortured': 4530, 'spain': 4091, 'virgin': 4749, 'drinking': 1362, 'directly': 1263, 'attack': 337, 'eating': 1413, 'drink': 1361, 'closer': 856, 'burned': 626, 'various': 4715, 'outcome': 3142, 'spanish': 4092, 'universe': 4666, '1970s': 17, 'painting': 3175, 'unique': 4662, 'imagery': 2234, 'cell': 730, 'superbly': 4297, 'facial': 1619, 'subtle': 4260, 'transition': 4561, 'greatly': 1967, 'anymore': 258, 'terrific': 4409, 'decided': 1149, 'joke': 2414, 'sheriff': 3929, 'occasionally': 3075, 'elegant': 1441, 'gruesome': 1986, 'twenty': 4612, 'raped': 3522, 'nightmares': 3015, 'werewolf': 4850, 'hospital': 2172, 'relatives': 3601, 'absence': 70, 'continuity': 972, 'irritating': 2359, 'forgettable': 1794, 'purchased': 3470, 'online': 3109, 'beloved': 461, 'editor': 1423, 'villains': 4745, 'guest': 1992, 'notable': 3041, 'goofy': 1939, 'installment': 2303, '50': 51, 'psychological': 3458, 'chicago': 785, 'record': 3573, 'native': 2972, 'familiar': 1643, 'cruise': 1071, 'mass': 2753, 'witch': 4909, 'murderous': 2942, 'workers': 4943, 'return': 3665, 'officers': 3093, 'choose': 799, 'weakest': 4825, 'dealt': 1138, 'context': 968, 'endless': 1473, '2005': 35, 'mere': 2814, 'throwing': 4480, 'copies': 992, 'captivating': 675, 'ruby': 3749, 'earl': 1398, 'race': 3499, 'track': 4544, 'twins': 4616, 'sappy': 3784, 'goodness': 1938, 'psycho': 3457, 'shower': 3957, 'witnesses': 4916, 'blown': 516, 'despair': 1207, 'grave': 1962, 'nonsense': 3030, 'catches': 715, 'improved': 2255, 'filled': 1715, 'wondered': 4927, 'vast': 4716, 'philosophy': 3254, 'cats': 721, 'dies': 1245, 'related': 3594, 'discover': 1279, 'ocean': 3079, 'added': 116, 'teenagers': 4391, 'ingredients': 2289, 'reel': 3581, 'mundane': 2938, 'striking': 4226, 'resemblance': 3645, 'levels': 2585, 'amateur': 206, 'mistakes': 2873, 'touched': 4534, 'laura': 2536, 'homer': 2144, 'throat': 4476, 'shed': 3924, 'lion': 2614, 'attraction': 350, 'roy': 3745, 'celebrity': 729, 'cameos': 658, 'wonders': 4931, 'responsibility': 3655, 'cry': 1073, 'dreary': 1356, 'catching': 716, 'favorites': 1672, 'professor': 3422, 'recognize': 3569, 'crew': 1053, 'june': 2433, 'pregnant': 3369, 'haunted': 2050, 'wise': 4903, 'saves': 3796, 'nose': 3037, 'veteran': 4724, 'melodramatic': 2798, 'nudity': 3059, 'fictional': 1703, 'surprising': 4315, 'legal': 2563, 'illegal': 2229, 'racial': 3501, 'laws': 2540, 'extraordinary': 1607, 'writers': 4969, 'incredible': 2269, 'stellar': 4174, 'improvement': 2256, 'convinced': 984, '1980': 20, 'page': 3167, 'splatter': 4118, 'fifteen': 1706, 'likewise': 2603, 'suffer': 4275, 'reveals': 3673, 'helicopter': 2076, 'army': 295, 'terrorists': 4414, 'sorts': 4078, 'disaster': 1276, 'survivors': 4325, 'instantly': 2306, 'hardcore': 2034, 'dentist': 1180, 'bettie': 473, 'disappoint': 1272, 'colour': 880, 'gang': 1867, 'developing': 1224, 'photos': 3261, 'friendly': 1836, 'porn': 3336, 'environment': 1505, 'existed': 1570, 'producing': 3417, 'harsh': 2040, 'enjoys': 1489, 'tied': 4489, 'belief': 451, 'modesty': 2883, 'beliefs': 452, 'hills': 2109, 'memory': 2804, 'desert': 1198, 'heroes': 2089, 'stan': 4142, 'cave': 727, 'maintain': 2710, 'retarded': 3663, 'toilet': 4512, 'carradine': 695, 'sheer': 3925, 'korean': 2495, 'forces': 1788, 'household': 2179, 'sleeping': 4025, 'screenwriter': 3833, 'briefly': 580, 'brains': 563, 'travel': 4567, 'fairy': 1632, 'desperation': 1210, 'hiding': 2099, 'designed': 1203, 'rob': 3710, 'expressions': 1603, 'zero': 4996, '75': 57, 'earned': 1401, 'rambo': 3511, 'painted': 3174, 'stock': 4193, '1980s': 21, 'ship': 3934, 'pokemon': 3320, 'aimed': 162, 'fields': 1705, 'guard': 1988, 'intensity': 2317, 'deserve': 1199, 'gas': 1874, 'hopeless': 2158, 'soldier': 4053, 'margaret': 2735, 'jenny': 2393, 'cousin': 1021, 'anger': 235, 'wished': 4905, 'internet': 2327, 'horrifying': 2167, 'vietnam': 4735, 'decision': 1151, 'versus': 4722, 'psychiatrist': 3455, 'drivel': 1364, 'dream': 1354, 'convincing': 985, 'snake': 4042, 'shut': 3961, 'similarities': 3979, 'atmospheric': 334, 'thrill': 4471, 'vincent': 4746, 'strength': 4219, 'pet': 3246, 'farm': 1656, 'detailed': 1218, 'thick': 4447, 'photo': 3257, 'existent': 1572, 'legend': 2564, 'effectively': 1430, 'hop': 2154, 'chick': 786, 'carried': 698, 'destroyed': 1214, 'notion': 3050, '2000': 30, 'opposed': 3122, 'fate': 1665, 'tragic': 4552, 'likes': 2602, 'joe': 2407, 'scope': 3821, 'emphasis': 1463, 'dubbing': 1380, 'ex': 1549, 'matthau': 2771, 'liners': 2611, 'flies': 1756, 'nurse': 3063, 'cliff': 847, 'charles': 764, 'sisters': 4002, 'bruce': 602, 'daily': 1097, 'importantly': 2248, 'examples': 1554, 'site': 4005, 'nuclear': 3057, 'plans': 3292, 'ruined': 3751, 'arrived': 301, 'cia': 814, 'send': 3875, 'ninja': 3018, 'suits': 4287, 'snow': 4045, 'choreographed': 801, 'martial': 2747, 'arts': 310, 'combat': 882, 'bang': 393, 'instant': 2305, 'amounts': 220, 'sentimental': 3882, 'denzel': 1181, 'quit': 3494, 'answers': 252, 'bottle': 550, 'opens': 3115, 'mexico': 2827, 'assigned': 325, 'fears': 1677, 'safety': 3772, 'charge': 761, 'initially': 2291, 'seeks': 3860, 'raw': 3532, 'purposes': 3475, 'border': 539, 'intimate': 2331, 'chaos': 755, 'mickey': 2831, 'sadness': 3770, 'thank': 4421, 'countries': 1013, 'correct': 1000, 'starting': 4158, 'disc': 1278, 'massive': 2756, 'chapter': 757, 'topless': 4527, 'central': 735, 'confusion': 943, 'harvey': 2042, 'matters': 2770, 'che': 773, 'narrator': 2967, 'defined': 1160, 'discuss': 1283, 'depicts': 1186, 'timing': 4498, 'greek': 1970, 'chorus': 803, 'amazingly': 210, 'commercials': 903, 'mtv': 2933, 'laughed': 2532, 'theory': 4437, 'boom': 537, 'waves': 4819, 'specifically': 4100, 'surprisingly': 4316, 'explanation': 1590, 'hideous': 2098, 'fay': 1674, 'assistant': 326, 'requires': 3642, 'inspector': 2299, 'aunt': 355, 'elderly': 1440, 'dracula': 1341, 'carter': 703, 'paris': 3189, 'happiness': 2031, 'gene': 1879, 'leslie': 2574, 'hearted': 2065, 'rolled': 3729, 'table': 4346, 'iraq': 2351, 'bush': 632, '2006': 36, 'stretch': 4221, 'robbery': 3711, 'load': 2631, 'logical': 2639, 'answer': 251, 'resources': 3651, 'seemingly': 3863, 'doomed': 1327, 'convince': 983, 'dramas': 1347, 'spot': 4131, 'plight': 3308, 'miles': 2843, 'hamilton': 2012, 'interpretation': 2328, 'dedicated': 1153, 'passionate': 3206, 'town': 4541, 'slight': 4027, 'latter': 2528, 'conventional': 979, '13th': 5, 'lucas': 2680, 'wars': 4804, 'travesty': 4570, 'consistent': 953, 'planning': 3291, 'prequel': 3372, 'loses': 2657, 'everyones': 1543, 'bears': 421, 'doll': 1313, 'fighter': 1708, 'jumping': 2431, 'specific': 4099, 'climactic': 848, 'mistake': 2871, 'luke': 2687, 'screams': 3828, 'robinson': 3716, 'pulled': 3462, 'monkey': 2890, 'streisand': 4218, 'dragged': 1343, 'tribute': 4581, 'smile': 4036, 'craft': 1028, 'danes': 1108, 'exceptional': 1558, 'anyways': 262, 'mexican': 2826, 'switch': 4339, 'moore': 2901, 'spirits': 4115, 'dropped': 1370, 'talks': 4361, 'bodies': 526, 'nasty': 2968, 'shirt': 3937, 'nervous': 2999, 'separate': 3883, 'prime': 3395, 'torture': 4529, 'lights': 2597, 'skills': 4014, 'schools': 3814, 'moves': 2925, 'bo': 521, 'morning': 2906, 'understated': 4646, 'et': 1526, 'core': 995, 'ah': 158, 'tunes': 4603, 'surrounding': 4319, 'wild': 4885, 'vote': 4766, 'grow': 1982, 'brooks': 596, 'persona': 3239, 'packed': 3166, 'tarzan': 4367, 'ape': 266, 'caused': 724, '70': 55, 'matrix': 2767, 'rings': 3699, 'achieved': 93, 'icon': 2211, 'noble': 3021, 'savage': 3793, 'hed': 2072, 'agreed': 156, 'allow': 189, 'spectacular': 4101, 'delivered': 1170, 'department': 1182, 'freedom': 1828, 'swim': 4337, 'shortly': 3947, 'fortune': 1806, 'breasts': 572, 'official': 3094, 'pursuit': 3476, 'erotic': 1515, 'condition': 937, 'physically': 3263, 'triumph': 4590, 'eager': 1396, 'fix': 1744, 'advice': 133, 'comical': 894, 'concerning': 933, 'angela': 232, 'pamela': 3179, 'unintentionally': 4659, 'stinker': 4191, 'graphic': 1958, 'sexuality': 3909, 'lucy': 2684, 'empire': 1464, 'judy': 2426, 'daniel': 1111, 'charismatic': 763, 'accent': 78, 'thankfully': 4422, 'suited': 4286, 'structure': 4233, 'sticks': 4186, 'creator': 1043, 'replaced': 3634, 'apartment': 265, 'incident': 2260, 'noticed': 3049, 'differences': 1247, 'factory': 1623, 'approach': 282, 'portrait': 3339, 'errors': 1516, 'explains': 1589, 'suffers': 4278, 'credible': 1048, 'mail': 2706, 'unwatchable': 4682, 'smoking': 4040, 'apes': 267, 'credibility': 1047, 'cardboard': 682, 'neighborhood': 2993, 'taxi': 4371, 'scores': 3823, 'punk': 3468, 'forest': 1791, 'orson': 3132, 'welles': 4844, 'closing': 859, 'succeeds': 4264, 'heads': 2059, 'solely': 4056, 'poster': 3353, 'tag': 4348, 'pie': 3271, 'remarkably': 3614, 'lynch': 2691, 'menacing': 2807, 'eva': 1531, 'disappear': 1270, 'covers': 1024, 'dinner': 1254, 'gold': 1932, 'benefit': 465, 'snl': 4044, 'pleasantly': 3303, 'ignorant': 2223, 'fool': 1779, 'falk': 1636, 'gag': 1861, 'gags': 1862, 'drag': 1342, 'sincere': 3991, 'hunt': 2198, 'expression': 1602, 'expensive': 1579, 'integrity': 2311, 'faithful': 1634, 'rendition': 3625, 'signed': 3971, 'animal': 239, 'primarily': 3393, 'unable': 4631, 'images': 2235, 'grant': 1956, 'extended': 1604, 'considerable': 950, 'distance': 1294, 'useful': 4694, 'forth': 1804, 'wed': 4835, 'relies': 3606, 'tooth': 4524, 'virtually': 4751, 'streets': 4217, 'pal': 3177, 'incompetent': 2266, 'notice': 3048, 'technique': 4383, 'toy': 4542, 'bargain': 400, 'tree': 4576, 'grandmother': 1955, 'nevertheless': 3002, 'fatal': 1664, 'americas': 215, 'meat': 2787, 'cutting': 1092, 'documentaries': 1306, 'thrilling': 4474, 'contained': 963, 'fathers': 1667, 'bullets': 621, 'overrated': 3156, 'model': 2880, 'spare': 4093, 'appearing': 277, 'arrival': 299, 'granted': 1957, 'warned': 4798, 'beaten': 424, 'path': 3209, 'irish': 2353, 'ginger': 1908, 'slaughter': 4021, 'torn': 4528, 'downhill': 1336, 'knife': 2487, 'bloody': 513, 'troubled': 4593, 'news': 3005, 'uk': 4626, 'jim': 2402, 'hanks': 2025, 'handle': 2018, 'root': 3737, 'murderer': 2941, 'killings': 2473, 'tiresome': 4502, 'sleep': 4024, 'sutherland': 4333, 'cheating': 776, 'pot': 3354, 'dolls': 1316, 'jean': 2389, 'simmons': 3981, 'brando': 566, 'damon': 1101, 'sinatra': 3989, 'sue': 4274, 'boat': 523, 'leonard': 2572, 'kinds': 2478, 'curious': 1083, 'writes': 4970, 'farce': 1654, 'private': 3404, 'harder': 2035, 'clothing': 861, 'chest': 784, 'fulci': 1845, 'appealing': 272, 'donna': 1323, '1984': 23, 'wit': 4908, 'significant': 3972, 'louis': 2665, 'safe': 3771, 'wilson': 4891, 'breathtaking': 574, 'wet': 4855, 'ice': 2210, 'brilliantly': 584, 'caine': 647, 'nancy': 2964, 'struck': 4232, 'stronger': 4230, 'stewart': 4184, 'wins': 4899, 'namely': 2962, 'shelley': 3928, 'winters': 4901, 'miscast': 2862, 'bonus': 534, 'japanese': 2382, 'wacky': 4769, 'swimming': 4338, 'dirty': 1268, 'disgusting': 1286, 'females': 1694, 'foul': 1810, 'clint': 850, 'eastwood': 1409, 'satisfying': 3791, 'button': 639, 'sidney': 3968, 'fabulous': 1615, 'consists': 955, 'degree': 1164, 'jumps': 2432, 'support': 4303, 'thousand': 4465, 'lazy': 2543, 'challenge': 743, 'unbelievably': 4635, 'demon': 1177, 'kicking': 2462, 'companion': 909, 'feminist': 1695, 'sounded': 4082, 'convoluted': 987, 'basement': 405, 'houses': 2180, 'evening': 1534, 'museum': 2945, 'bath': 411, 'suffered': 4276, 'enterprise': 1495, 'perspective': 3245, 'ballet': 389, 'explosions': 1597, 'jet': 2400, 'li': 2587, 'jackie': 2374, 'chan': 746, 'hung': 2197, 'elvis': 1451, 'couldve': 1009, 'screening': 3830, 'santa': 3783, 'magazine': 2701, 'roll': 3728, 'refreshing': 3586, 'opposite': 3123, 'carefully': 689, 'wall': 4781, '24': 39, 'cruel': 1070, 'decades': 1145, 'guide': 1993, 'banned': 395, 'ridden': 3691, 'daring': 1114, 'homosexual': 2145, 'nazis': 2978, 'print': 3399, 'neo': 2998, 'le': 2544, 'everyday': 1541, 'develops': 1226, 'essence': 1521, 'fascinated': 1657, 'breaking': 570, 'honor': 2150, 'succeeded': 4263, 'connected': 945, 'training': 4558, 'punishment': 3467, 'beating': 425, 'useless': 4695, 'investigation': 2343, 'blew': 505, 'remind': 3618, 'justify': 2439, 'woody': 4936, 'continue': 969, 'picking': 3267, 'annie': 247, 'hugh': 2186, 'brosnan': 597, 'tradition': 4549, 'cary': 706, 'shine': 3931, 'chase': 769, 'glenn': 1918, 'expert': 1585, 'bomb': 531, 'victor': 4731, 'laurel': 2537, 'hardy': 2037, 'offended': 3085, 'introduce': 2336, 'shelf': 3926, 'menace': 2806, 'hood': 2151, 'originality': 3130, 'tour': 4538, 'fortunately': 1805, 'catch': 714, 'cagney': 646, 'display': 1291, 'dancer': 1104, 'dances': 1106, 'domestic': 1318, 'pages': 3168, 'wayne': 4821, 'surreal': 4317, 'hired': 2117, 'australia': 356, 'proof': 3434, 'thugs': 4484, 'madonna': 2699, 'strip': 4228, 'revealing': 3672, 'occasion': 3073, 'bedroom': 437, 'london': 2641, 'rushed': 3760, 'jason': 2383, 'forgive': 1795, 'breaks': 571, 'epic': 1506, 'neighbors': 2994, 'secretly': 3851, 'marry': 2745, 'dancers': 1105, 'advantage': 129, 'reached': 3537, 'vegas': 4717, 'beast': 422, 'ratings': 3530, 'popularity': 3334, 'awards': 367, 'lips': 2615, 'spike': 4111, 'pack': 3165, 'searching': 3842, 'frustration': 1843, 'presents': 3377, 'ensemble': 1492, 'losers': 2656, 'racist': 3503, 'st': 4137, 'andrews': 229, 'illness': 2230, 'patients': 3212, 'sounding': 4083, 'hint': 2112, 'philip': 3252, 'losing': 2658, 'tongue': 4518, 'revelation': 3674, 'brand': 565, 'advanced': 128, 'sean': 3840, 'explicit': 1591, 'mothers': 2912, 'ellen': 1446, 'mistaken': 2872, 'bobby': 525, 'choreography': 802, 'foreign': 1790, 'population': 3335, 'cleverly': 842, 'performing': 3233, 'protagonists': 3442, 'drew': 1360, 'riding': 3695, 'arrive': 300, 'increasingly': 2268, 'survival': 4320, 'attitudes': 347, 'wouldve': 4959, 'backdrop': 379, 'presumably': 3380, 'motives': 2916, 'glory': 1922, 'lower': 2677, 'affect': 136, 'linda': 2609, 'theyll': 4444, 'appreciation': 281, 'rats': 3531, 'gritty': 1977, 'revolutionary': 3681, 'bone': 533, 'persons': 3244, 'focuses': 1768, 'link': 2613, 'notably': 3042, 'grasp': 1960, 'global': 1920, 'financial': 1725, 'chess': 783, 'claims': 830, 'historically': 2120, 'grandfather': 1954, 'jewish': 2401, 'appalling': 268, 'keaton': 2448, 'skip': 4016, 'jimmy': 2403, 'medical': 2790, 'astaire': 330, 'stevens': 4183, 'upper': 4685, 'secretary': 3850, 'pointed': 3317, 'trees': 4577, 'gadget': 1860, 'spin': 4112, 'wound': 4960, 'freeman': 1829, 'theyd': 4443, 'stanley': 4148, 'stanwyck': 4149, 'capture': 676, 'valley': 4707, 'equipment': 1511, 'underground': 4640, 'activities': 102, 'pulp': 3465, 'similarly': 3980, 'miike': 2837, 'bitter': 491, 'selfish': 3870, 'flawed': 1750, 'chooses': 800, 'maria': 2736, 'genuine': 1891, 'unconvincing': 4638, 'complexity': 924, 'ruth': 3763, 'phone': 3255, 'angle': 236, 'intrigued': 2334, 'personalities': 3241, 'sentence': 3881, 'raymond': 3534, 'arrogant': 303, 'anna': 245, 'caring': 691, 'eric': 1514, 'spooky': 4128, 'instinct': 2308, 'edition': 1422, 'performer': 3231, 'allows': 192, 'tap': 4364, 'ugly': 4625, 'passed': 3202, 'manipulative': 2727, 'westerns': 4854, 'indians': 2275, 'corruption': 1002, 'library': 2589, 'sake': 3775, 'staying': 4168, 'stayed': 4167, 'omen': 3104, 'represent': 3637, 'driving': 1368, 'leo': 2571, 'hamlet': 2013, 'minimal': 2855, 'mark': 2739, 'exaggerated': 1552, 'dropping': 1371, 'kudos': 2497, 'recognition': 3568, 'neat': 2982, 'witnessed': 4915, 'essentially': 1523, 'estate': 1525, '2003': 33, 'widely': 4881, 'failure': 1629, 'invasion': 2340, 'praise': 3364, 'sensitive': 3879, 'dressing': 1359, 'chasing': 772, 'basketball': 409, 'rule': 3753, 'cared': 685, 'raising': 3509, 'struggling': 4236, 'brooklyn': 595, 'interaction': 2322, 'loser': 2655, 'ordinary': 3128, 'destiny': 1212, 'unreal': 4676, 'purely': 3472, 'tomatoes': 4515, 'minimum': 2856, 'compare': 911, 'measure': 2786, 'paint': 3173, 'junk': 2436, 'taught': 4370, 'incoherent': 2265, 'franco': 1820, 'gross': 1978, 'devil': 1228, 'moody': 2899, 'insulting': 2310, 'sarah': 3785, 'guilty': 1995, 'rogers': 3725, 'silver': 3977, 'stilted': 4190, 'smaller': 4034, 'robots': 3718, 'miracle': 2860, 'signs': 3973, 'metal': 2823, 'serve': 3893, 'prostitute': 3440, 'cage': 645, 'actions': 101, 'dawson': 1128, 'bag': 384, 'kate': 2446, 'ruthless': 3764, 'directs': 1267, 'slick': 4026, 'adorable': 124, 'psychotic': 3459, 'butler': 637, 'williams': 4888, 'frequently': 1832, 'empathy': 1462, 'dire': 1257, 'merits': 2817, 'cinderella': 815, 'imagination': 2236, 'cares': 690, 'holmes': 2139, 'aids': 161, 'vicious': 4728, 'los': 2653, 'arrested': 298, 'regardless': 3590, 'serving': 3897, '11': 2, 'tape': 4365, 'scenario': 3808, 'lessons': 2578, 'wreck': 4965, 'hippie': 2115, 'treasure': 4571, 'blah': 496, 'contemporary': 965, 'latin': 2527, 'arrives': 302, 'gods': 1928, 'vaguely': 4706, 'claim': 828, 'meaningless': 2782, 'masters': 2761, 'analysis': 224, 'criticism': 1063, 'spielberg': 4110, 'columbo': 881, 'rank': 3518, 'dollar': 1314, 'hart': 2041, 'spends': 4107, 'singers': 3994, 'cure': 1081, 'kung': 2498, 'fu': 1844, 'limited': 2606, 'conflicts': 940, 'worker': 4942, 'guessing': 1991, 'gandhi': 1866, 'chaplin': 756, 'individual': 2277, 'canada': 666, 'cabin': 643, 'remote': 3622, 'britain': 588, 'royal': 3746, 'claimed': 829, 'affected': 137, 'birth': 486, 'spoke': 4125, 'accepted': 82, 'chosen': 805, 'deliberately': 1166, 'sophisticated': 4075, 'molly': 2884, 'photographed': 3258, 'closely': 855, 'warmth': 4796, 'curiosity': 1082, 'boredom': 542, '1973': 19, 'garden': 1872, 'enemies': 1476, 'defeat': 1157, '1990': 24, 'seagal': 3839, 'dozens': 1339, 'dub': 1378, 'coach': 868, 'nicholas': 3010, 'abusive': 75, 'turner': 4607, 'required': 3641, 'chicks': 787, 'conversations': 981, 'alexander': 180, 'stones': 4198, 'roman': 3731, 'polanski': 3321, 'altogether': 202, 'views': 4742, 'ought': 3138, 'horrendous': 2162, 'suspend': 4329, 'express': 1600, 'hunting': 2201, 'von': 4765, 'relative': 3599, 'ups': 4686, 'knock': 2488, 'blatant': 502, 'stunt': 4245, 'oscars': 3134, 'speaks': 4096, 'parties': 3196, 'accidentally': 85, 'complaint': 920, 'jumped': 2430, 'disagree': 1269, 'surfing': 4311, 'jaws': 2385, 'loads': 2633, 'fisher': 1739, 'derek': 1192, 'appearances': 275, 'disjointed': 1287, 'served': 3894, 'artificial': 306, 'gangsters': 1869, 'criminals': 1058, 'sits': 4006, 'furthermore': 1854, 'gain': 1863, 'nostalgic': 3039, 'report': 3635, 'union': 4661, 'joined': 2413, 'bands': 392, 'exposed': 1598, 'travels': 4569, 'hat': 2045, 'excessive': 1560, 'buffs': 612, 'creation': 1040, 'edie': 1419, 'walls': 4783, 'tea': 4373, 'chases': 771, 'inventive': 2341, 'shorts': 3948, 'contract': 973, 'irony': 2357, 'connect': 944, 'guts': 1999, 'lees': 2560, 'julia': 2427, 'gripping': 1976, 'mature': 2773, 'experiment': 1583, 'indie': 2276, 'solution': 4059, 'vulnerable': 4768, 'noir': 3023, 'escaped': 1518, 'explore': 1594, 'classes': 834, 'louise': 2666, 'enormous': 1490, 'achievement': 94, 'charlotte': 766, 'restaurant': 3658, 'united': 4664, 'strangely': 4212, 'kennedy': 2454, 'masses': 2755, 'bollywood': 530, 'careful': 688, 'vengeance': 4719, 'trail': 4553, 'wealth': 4826, 'coffee': 870, 'shake': 3914, 'trade': 4547, 'mann': 2728, 'disneys': 1290, 'kingdom': 2480, 'staring': 4152, 'passes': 3203, 'security': 3854, 'cameras': 660, 'neighbor': 2992, 'composed': 926, 'cube': 1076, 'feed': 1683, 'panic': 3181, 'bumbling': 622, 'ritter': 3705, 'endearing': 1469, 'genres': 1889, 'warm': 4794, 'distribution': 1298, 'doc': 1303, 'subtitles': 4259, 'closet': 858, 'medium': 2792, 'bbc': 417, 'afford': 138, 'inferior': 2285, 'ironic': 2355, 'cheek': 779, 'ken': 2453, 'bleak': 503, 'subplots': 4256, 'dickens': 1240, 'diana': 1237, 'involvement': 2347, 'oliver': 3102, 'delivering': 1171, 'horrors': 2169, 'multiple': 2936, 'laughably': 2531, 'jennifer': 2392, 'scooby': 3820, 'vague': 4705, 'constructed': 959, 'forms': 1801, 'cole': 873, 'someones': 4065, 'communist': 907, 'cases': 708, 'india': 2273, 'newly': 3004, 'trained': 4557, 'executive': 1567, 'perry': 3237, 'upset': 4687, 'hal': 2006, 'parker': 3191, 'bull': 619, 'plant': 3293, 'bud': 607, 'roots': 3738, 'urban': 4688, 'branagh': 564, 'robin': 3715, 'models': 2881, 'ego': 1435, 'dialogues': 1235, 'lifestyle': 2593, 'restored': 3659, 'translation': 4562, 'soviet': 4089, 'wholly': 4874, 'civilization': 827, 'brown': 601, 'hoffman': 2128, 'broken': 594, 'hearing': 2063, 'melting': 2799, 'cup': 1080, 'paper': 3183, 'drives': 1367, 'attend': 344, 'ironically': 2356, 'countless': 1012, 'inane': 2258, 'tommy': 4516, 'spoil': 4121, 'bakshi': 386, 'species': 4098, 'enjoyment': 1488, 'revolves': 3682, 'fx': 1858, 'mixture': 2878, 'nostalgia': 3038, 'bus': 631, 'deaf': 1134, 'hitting': 2126, 'fat': 1663, 'winter': 4900, 'lacked': 2503, 'jealous': 2388, 'dislike': 1288, 'accompanied': 86, 'smooth': 4041, 'sink': 3999, 'karen': 2444, 'cities': 823, 'buddies': 608, 'ships': 3935, 'winds': 4895, 'dutch': 1389, '45': 50, 'yesterday': 4983, 'blacks': 494, 'samurai': 3779, 'bridge': 578, 'waitress': 4773, 'closest': 857, 'spirited': 4114, 'corporate': 998, 'crisis': 1060, 'valuable': 4708, 'happily': 2030, 'remarks': 3615, 'seek': 3858, 'superman': 4301, 'broadcast': 591, 'counter': 1011, 'purchase': 3469, 'idiot': 2218, 'fbi': 1675, 'mysteries': 2954, 'pops': 3332, 'paulie': 3215, 'ambitious': 211, 'intentions': 2321, 'itll': 2369, 'gray': 1963, 'championship': 745, 'remaining': 3610, 'kirk': 2482, 'cameron': 661, 'bathroom': 412, 'florida': 1761, 'encounters': 1467, 'uneven': 4649, 'intentionally': 2320, 'shining': 3933, 'davies': 1125, 'ted': 4386, 'folk': 1770, 'noted': 3045, 'michelle': 2830, 'willis': 4890, 'freak': 1824, 'seventies': 3904, 'authority': 360, 'sharp': 3922, 'rotten': 3740, 'kubrick': 2496, 'pro': 3406, '1968': 16, 'corpse': 999, 'importance': 2246, 'currently': 1085, 'dolph': 1317, 'dave': 1123, 'convincingly': 986, 'horrid': 2165, 'transfer': 4559, 'twisted': 4618, 'kenneth': 2455, 'campy': 664, 'arnold': 296, 'hopper': 2161, 'cinematographer': 819, 'creativity': 1042, 'horses': 2171, 'petty': 3249, 'reflection': 3585, 'expressed': 1601, 'concern': 931, 'combined': 885, 'conspiracy': 956, 'elephant': 1444, 'preview': 3386, 'disappeared': 1271, 'simpson': 3987, 'uncomfortable': 4637, 'ear': 1397, 'guessed': 1990, 'berlin': 467, 'proceedings': 3410, 'coherent': 871, 'shall': 3916, 'chain': 741, 'bringing': 586, 'construction': 960, 'ashley': 313, 'resembles': 3646, 'lol': 2640, 'scarecrow': 3804, 'annoyed': 248, 'struggles': 4235, 'fest': 1696, 'represented': 3638, 'novels': 3053, 'delight': 1167, 'questionable': 3488, 'jaw': 2384, 'chair': 742, 'larry': 2520, 'recorded': 3574, 'stunts': 4246, 'yellow': 4981, 'acid': 95, 'cards': 683, 'press': 3379, 'susan': 4326, 'nicholson': 3011, 'haunting': 2051, 'plague': 3285, 'juvenile': 2441, 'visible': 4753, 'hammer': 2014, 'lately': 2524, 'thoughtful': 4463, 'attracted': 349, 'jake': 2377, 'charisma': 762, 'testament': 4417, 'promises': 3432, 'wrestling': 4966, 'worried': 4949, 'buildings': 616, 'joey': 2408, 'reveal': 3670, 'outrageous': 3145, 'cinemas': 817, 'wanna': 4786, 'carrey': 696, 'hello': 2078, 'grown': 1984, 'prevent': 3385, 'progresses': 3426, 'terry': 4415, 'belong': 459, 'portraying': 3343, 'satan': 3787, 'buried': 624, 'liking': 2604, 'nations': 2971, 'careers': 687, 'rival': 3706, 'classical': 836, 'lily': 2605, 'godzilla': 1929, 'toys': 4543, 'rap': 3520, 'hollow': 2135, 'defense': 1159, 'chased': 770, 'possibilities': 3348, 'blake': 498, 'gabriel': 1859, 'da': 1094, 'staff': 4138, 'orders': 3127, 'twilight': 4614, 'trio': 4587, 'tracks': 4545, 'sandra': 3782, 'sneak': 4043, 'ha': 2002, 'armed': 293, 'kicks': 2463, 'endure': 1475, 'childrens': 793, 'stood': 4199, 'duty': 1390, 'contest': 967, 'angeles': 233, 'agrees': 157, 'performs': 3234, 'providing': 3451, 'fooled': 1780, 'concert': 935, 'rangers': 3517, 'doubts': 1333, 'pacino': 3164, 'cusack': 1088, 'tends': 4402, 'cliche': 843, 'jeremy': 2394, 'ensues': 1493, 'recording': 3575, 'steel': 4173, 'adams': 112, 'broad': 590, 'jail': 2376, 'prisoners': 3403, 'babe': 375, 'refuses': 3587, 'mildred': 2841, 'ridiculously': 3694, 'jesse': 2397, 'blunt': 520, '2002': 32, 'september': 3884, 'gundam': 1997, 'individuals': 2278, 'ourselves': 3140, 'stretched': 4222, 'mentions': 2813, 'abysmal': 76, 'porno': 3337, 'devils': 1229, 'aid': 160, 'educational': 1425, 'overlook': 3153, 'arm': 292, 'belongs': 460, 'childish': 791, 'portion': 3338, 'todd': 4510, 'bette': 471, 'pat': 3208, 'bela': 450, 'widmark': 4882, 'womans': 4922, 'engage': 1479, 'enthusiasm': 1501, 'quote': 3496, 'directions': 1262, 'patient': 3211, 'blank': 501, 'trademark': 4548, 'evidence': 1546, 'protect': 3443, 'unfolds': 4651, 'suspicious': 4332, 'francis': 1818, '1st': 28, 'wrapped': 4964, 'techniques': 4384, '2007': 37, '1940s': 13, 'nomination': 3026, 'alright': 198, 'atlantis': 332, 'troubles': 4594, 'website': 4834, 'task': 4368, 'fury': 1855, 'spots': 4132, 'damage': 1099, 'monkeys': 2891, 'severe': 3906, 'underlying': 4641, 'resolution': 3649, 'airport': 167, 'nonsensical': 3031, 'colonel': 876, 'repetitive': 3633, 'amanda': 205, 'synopsis': 4344, 'politically': 3325, 'screens': 3832, 'perform': 3227, 'lumet': 2688, 'tiger': 4491, 'matches': 2764, 'warrior': 4802, 'blues': 519, 'roberts': 3714, 'inevitably': 2283, 'kicked': 2461, 'bergman': 466, 'georges': 1894, 'troops': 4591, 'evident': 1547, 'elvira': 1450, 'lou': 2663, 'paranoia': 3186, 'witches': 4910, 'sport': 4129, 'marketing': 2741, 'decisions': 1152, 'potentially': 3356, 'assumed': 329, 'sin': 3988, 'dignity': 1252, 'waited': 4771, 'mummy': 2937, 'monk': 2889, 'ears': 1402, 'sid': 3964, 'tricks': 4583, 'funeral': 1849, 'kapoor': 2443, 'ham': 2011, 'spiritual': 4116, 'immensely': 2243, 'wisdom': 4902, '1990s': 25, 'irrelevant': 2358, 'nuts': 3064, 'abc': 63, 'ties': 4490, 'introduces': 2338, 'myers': 2952, 'poem': 3312, 'investigate': 2342, 'bourne': 554, 'reaching': 3539, 'domino': 1319, 'simplistic': 3985, 'kissing': 2484, 'nights': 3016, 'seed': 3856, 'ramones': 3512, 'fashioned': 1660, 'capturing': 679, 'treats': 4575, 'matched': 2763, 'buff': 611, 'accomplished': 87, 'circle': 821, 'pit': 3278, 'chuck': 812, 'alternate': 200, 'lone': 2642, 'nation': 2969, 'vivid': 4760, 'lemmon': 2567, 'garbo': 1871, 'kay': 2447, 'streep': 4215, 'imitation': 2241, 'unit': 4663, 'soccer': 4048, '3rd': 47, '1983': 22, 'advertising': 132, 'prom': 3429, 'demand': 1174, 'stooges': 4200, 'letter': 2581, 'businessman': 634, 'alert': 178, 'iran': 2350, 'scrooge': 3837, 'ethan': 1528, 'crucial': 1068, 'grinch': 1975, 'incomprehensible': 2267, 'der': 1191, 'faster': 1662, 'poetry': 3314, 'khan': 2459}\n"
     ]
    }
   ],
   "source": [
    "print(str(vocabulary))"
   ]
  },
  {
   "cell_type": "markdown",
   "metadata": {},
   "source": [
    "Once you have added the endpoint name to the Lambda function, click on **Save**. Your Lambda function is now up and running. Next we need to create a way for our web app to execute the Lambda function."
   ]
  },
  {
   "cell_type": "markdown",
   "metadata": {},
   "source": [
    "### Setting up API Gateway\n",
    "\n",
    "Now that our Lambda function is set up, it is time to create a new API using API Gateway that will trigger the Lambda function we have just created.\n",
    "\n",
    "Using AWS Console, navigate to **Amazon API Gateway** and then click on **Get started**.\n",
    "\n",
    "On the next page, make sure that **New API** is selected and give the new api a name, for example, `sentiment_analysis_web_app`. Then, click on **Create API**.\n",
    "\n",
    "Now we have created an API, however it doesn't currently do anything. What we want it to do is to trigger the Lambda function that we created earlier.\n",
    "\n",
    "Select the **Actions** dropdown menu and click **Create Method**. A new blank method will be created, select its dropdown menu and select **POST**, then click on the check mark beside it.\n",
    "\n",
    "For the integration point, make sure that **Lambda Function** is selected and click on the **Use Lambda Proxy integration**. This option makes sure that the data that is sent to the API is then sent directly to the Lambda function with no processing. It also means that the return value must be a proper response object as it will also not be processed by API Gateway.\n",
    "\n",
    "Type the name of the Lambda function you created earlier into the **Lambda Function** text entry box and then click on **Save**. Click on **OK** in the pop-up box that then appears, giving permission to API Gateway to invoke the Lambda function you created.\n",
    "\n",
    "The last step in creating the API Gateway is to select the **Actions** dropdown and click on **Deploy API**. You will need to create a new Deployment stage and name it anything you like, for example `prod`.\n",
    "\n",
    "You have now successfully set up a public API to access your SageMaker model. Make sure to copy or write down the URL provided to invoke your newly created public API as this will be needed in the next step. This URL can be found at the top of the page, highlighted in blue next to the text **Invoke URL**."
   ]
  },
  {
   "cell_type": "markdown",
   "metadata": {},
   "source": [
    "## Step 7: Deploying our web app\n",
    "\n",
    "Now that we have a publicly available API, we can start using it in a web app. For our purposes, we have provided a simple static html file which can make use of the public api you created earlier.\n",
    "\n",
    "In the `website` folder there should be a file called `index.html`. Download the file to your computer and open that file up in a text editor of your choice. There should be a line which contains **\\*\\*REPLACE WITH PUBLIC API URL\\*\\***. Replace this string with the url that you wrote down in the last step and then save the file.\n",
    "\n",
    "Now, if you open `index.html` on your local computer, your browser will behave as a local web server and you can use the provided site to interact with your SageMaker model.\n",
    "\n",
    "If you'd like to go further, you can host this html file anywhere you'd like, for example using github or hosting a static site on Amazon's S3. Once you have done this you can share the link with anyone you'd like and have them play with it too!\n",
    "\n",
    "> **Important Note** In order for the web app to communicate with the SageMaker endpoint, the endpoint has to actually be deployed and running. This means that you are paying for it. Make sure that the endpoint is running when you want to use the web app but that you shut it down when you don't need it, otherwise you will end up with a surprisingly large AWS bill."
   ]
  },
  {
   "cell_type": "markdown",
   "metadata": {},
   "source": [
    "### Delete the endpoint\n",
    "\n",
    "Remember to always shut down your endpoint if you are no longer using it. You are charged for the length of time that the endpoint is running so if you forget and leave it on you could end up with an unexpectedly large bill."
   ]
  },
  {
   "cell_type": "code",
   "execution_count": 52,
   "metadata": {},
   "outputs": [],
   "source": [
    "xgb_predictor.delete_endpoint()"
   ]
  },
  {
   "cell_type": "markdown",
   "metadata": {},
   "source": [
    "## Optional: Clean up\n",
    "\n",
    "The default notebook instance on SageMaker doesn't have a lot of excess disk space available. As you continue to complete and execute notebooks you will eventually fill up this disk space, leading to errors which can be difficult to diagnose. Once you are completely finished using a notebook it is a good idea to remove the files that you created along the way. Of course, you can do this from the terminal or from the notebook hub if you would like. The cell below contains some commands to clean up the created files from within the notebook."
   ]
  },
  {
   "cell_type": "code",
   "execution_count": 54,
   "metadata": {},
   "outputs": [
    {
     "name": "stdout",
     "output_type": "stream",
     "text": [
      "rm: cannot remove ‘../data/sentiment_web_app/*’: No such file or directory\n",
      "rmdir: failed to remove ‘../data/sentiment_web_app’: No such file or directory\n",
      "rm: cannot remove ‘../cache/sentiment_web_app/*’: No such file or directory\n",
      "rmdir: failed to remove ‘../cache/sentiment_web_app’: No such file or directory\n"
     ]
    }
   ],
   "source": [
    "# First we will remove all of the files contained in the data_dir directory\n",
    "!rm $data_dir/*\n",
    "\n",
    "# And then we delete the directory itself\n",
    "!rmdir $data_dir\n",
    "\n",
    "# Similarly we remove the files in the cache_dir directory and the directory itself\n",
    "!rm $cache_dir/*\n",
    "!rmdir $cache_dir"
   ]
  },
  {
   "cell_type": "code",
   "execution_count": null,
   "metadata": {},
   "outputs": [],
   "source": []
  }
 ],
 "metadata": {
  "kernelspec": {
   "display_name": "conda_python3",
   "language": "python",
   "name": "conda_python3"
  },
  "language_info": {
   "codemirror_mode": {
    "name": "ipython",
    "version": 3
   },
   "file_extension": ".py",
   "mimetype": "text/x-python",
   "name": "python",
   "nbconvert_exporter": "python",
   "pygments_lexer": "ipython3",
   "version": "3.6.13"
  }
 },
 "nbformat": 4,
 "nbformat_minor": 2
}
